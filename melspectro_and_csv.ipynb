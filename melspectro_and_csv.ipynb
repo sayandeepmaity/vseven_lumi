{
  "nbformat": 4,
  "nbformat_minor": 0,
  "metadata": {
    "colab": {
      "provenance": [],
      "authorship_tag": "ABX9TyOOsUh+IR9b9tj8YUBg7gsk",
      "include_colab_link": true
    },
    "kernelspec": {
      "name": "python3",
      "display_name": "Python 3"
    },
    "language_info": {
      "name": "python"
    }
  },
  "cells": [
    {
      "cell_type": "markdown",
      "metadata": {
        "id": "view-in-github",
        "colab_type": "text"
      },
      "source": [
        "<a href=\"https://colab.research.google.com/github/sayandeepmaity/vseven_lumi/blob/main/melspectro_and_csv.ipynb\" target=\"_parent\"><img src=\"https://colab.research.google.com/assets/colab-badge.svg\" alt=\"Open In Colab\"/></a>"
      ]
    },
    {
      "cell_type": "code",
      "execution_count": 1,
      "metadata": {
        "colab": {
          "base_uri": "https://localhost:8080/"
        },
        "id": "ARwqxQy_FEZv",
        "outputId": "4e000913-0ef8-49ef-a8f7-ec442f24ca88"
      },
      "outputs": [
        {
          "output_type": "stream",
          "name": "stdout",
          "text": [
            "Mounted at /content/drive\n"
          ]
        }
      ],
      "source": [
        "from google.colab import drive\n",
        "drive.mount('/content/drive')\n"
      ]
    },
    {
      "cell_type": "code",
      "source": [
        "# Traverse the dataset\n",
        "for root, dirs, files in os.walk(dataset_path):\n",
        "    for file in tqdm(files):\n",
        "        if file.endswith(\".wav\"):\n",
        "            file_path = os.path.join(root, file)  # ✅ Define early\n",
        "\n",
        "            # Extract labels from the folder structure\n",
        "            parts = root.split(os.sep)\n",
        "            if len(parts) >= 5:\n",
        "                gun_type = parts[-4]\n",
        "                distance = parts[-3]\n",
        "                position = parts[-2]\n",
        "                mic = parts[-1]\n",
        "\n",
        "                # Simulated delay values for each microphone\n",
        "                mic_delays = {\"mic1\": 0.0, \"mic2\": 0.3, \"mic3\": 0.6, \"mic4\": 0.9}\n",
        "                mic_delay = mic_delays.get(mic, 0.0)\n",
        "\n",
        "                x, y_coord, z, _ = position.split('_')\n",
        "                x, y_coord, z = int(x), int(y_coord), int(z)\n",
        "            else:\n",
        "                continue\n",
        "\n",
        "            # Prepare image path to check if already processed\n",
        "            relative_path = os.path.relpath(root, dataset_path)\n",
        "            image_save_dir = os.path.join(image_output_dir, relative_path)\n",
        "            os.makedirs(image_save_dir, exist_ok=True)\n",
        "\n",
        "            image_filename = f\"{gun_type}_{distance}_{position}_{mic}_{file.replace('.wav', '')}.png\"\n",
        "            image_path = os.path.join(image_save_dir, image_filename)\n",
        "\n",
        "            if os.path.exists(image_path):\n",
        "                print(f\"Skipping already processed: {file_path}\")\n",
        "                continue\n",
        "\n",
        "            try:\n",
        "                y, sr = librosa.load(file_path, sr=None)\n",
        "                features = extract_features(y, sr)\n",
        "                features += [gun_type, distance, x, y_coord, z, mic, mic_delay]\n",
        "                features_list.append(features)\n",
        "                labels_list.append([gun_type, distance, x, y_coord, z, mic, mic_delay])\n",
        "\n",
        "                S = librosa.feature.melspectrogram(y=y, sr=sr)\n",
        "                S_dB = librosa.power_to_db(S, ref=np.max)\n",
        "\n",
        "                plt.figure(figsize=(4, 4))\n",
        "                librosa.display.specshow(S_dB, sr=sr, x_axis='time', y_axis='mel')\n",
        "                plt.axis('off')\n",
        "                plt.tight_layout()\n",
        "                plt.savefig(image_path, bbox_inches='tight', pad_inches=0)\n",
        "                plt.close()\n",
        "\n",
        "            except Exception as e:\n",
        "                print(f\"Error processing {file_path}: {e}\")\n"
      ],
      "metadata": {
        "colab": {
          "base_uri": "https://localhost:8080/"
        },
        "id": "Nz-hcHLDKYRV",
        "outputId": "ffb658c1-8a6f-4a5c-e6c6-28b09323597c"
      },
      "execution_count": 2,
      "outputs": [
        {
          "output_type": "stream",
          "name": "stderr",
          "text": [
            "0it [00:00, ?it/s]\n",
            "0it [00:00, ?it/s]\n",
            "0it [00:00, ?it/s]\n",
            "0it [00:00, ?it/s]\n",
            "100%|██████████| 19/19 [00:00<00:00, 640.70it/s]\n"
          ]
        },
        {
          "output_type": "stream",
          "name": "stdout",
          "text": [
            "Skipping already processed: /content/drive/MyDrive/sevenlumi_data/luminator_dataset_augmented/m24/600m/0_0_1_600m/mic1/5.wav\n",
            "Skipping already processed: /content/drive/MyDrive/sevenlumi_data/luminator_dataset_augmented/m24/600m/0_0_1_600m/mic1/1.wav\n",
            "Skipping already processed: /content/drive/MyDrive/sevenlumi_data/luminator_dataset_augmented/m24/600m/0_0_1_600m/mic1/4.wav\n",
            "Skipping already processed: /content/drive/MyDrive/sevenlumi_data/luminator_dataset_augmented/m24/600m/0_0_1_600m/mic1/2.wav\n",
            "Skipping already processed: /content/drive/MyDrive/sevenlumi_data/luminator_dataset_augmented/m24/600m/0_0_1_600m/mic1/6.wav\n",
            "Skipping already processed: /content/drive/MyDrive/sevenlumi_data/luminator_dataset_augmented/m24/600m/0_0_1_600m/mic1/3.wav\n",
            "Skipping already processed: /content/drive/MyDrive/sevenlumi_data/luminator_dataset_augmented/m24/600m/0_0_1_600m/mic1/7.wav\n",
            "Skipping already processed: /content/drive/MyDrive/sevenlumi_data/luminator_dataset_augmented/m24/600m/0_0_1_600m/mic1/11.wav\n",
            "Skipping already processed: /content/drive/MyDrive/sevenlumi_data/luminator_dataset_augmented/m24/600m/0_0_1_600m/mic1/16.wav\n",
            "Skipping already processed: /content/drive/MyDrive/sevenlumi_data/luminator_dataset_augmented/m24/600m/0_0_1_600m/mic1/8.wav\n",
            "Skipping already processed: /content/drive/MyDrive/sevenlumi_data/luminator_dataset_augmented/m24/600m/0_0_1_600m/mic1/13.wav\n",
            "Skipping already processed: /content/drive/MyDrive/sevenlumi_data/luminator_dataset_augmented/m24/600m/0_0_1_600m/mic1/19.wav\n",
            "Skipping already processed: /content/drive/MyDrive/sevenlumi_data/luminator_dataset_augmented/m24/600m/0_0_1_600m/mic1/18.wav\n",
            "Skipping already processed: /content/drive/MyDrive/sevenlumi_data/luminator_dataset_augmented/m24/600m/0_0_1_600m/mic1/10.wav\n",
            "Skipping already processed: /content/drive/MyDrive/sevenlumi_data/luminator_dataset_augmented/m24/600m/0_0_1_600m/mic1/14.wav\n",
            "Skipping already processed: /content/drive/MyDrive/sevenlumi_data/luminator_dataset_augmented/m24/600m/0_0_1_600m/mic1/17.wav\n",
            "Skipping already processed: /content/drive/MyDrive/sevenlumi_data/luminator_dataset_augmented/m24/600m/0_0_1_600m/mic1/12.wav\n",
            "Skipping already processed: /content/drive/MyDrive/sevenlumi_data/luminator_dataset_augmented/m24/600m/0_0_1_600m/mic1/15.wav\n",
            "Skipping already processed: /content/drive/MyDrive/sevenlumi_data/luminator_dataset_augmented/m24/600m/0_0_1_600m/mic1/9.wav\n"
          ]
        },
        {
          "output_type": "stream",
          "name": "stderr",
          "text": [
            "100%|██████████| 19/19 [00:00<00:00, 719.03it/s]\n"
          ]
        },
        {
          "output_type": "stream",
          "name": "stdout",
          "text": [
            "Skipping already processed: /content/drive/MyDrive/sevenlumi_data/luminator_dataset_augmented/m24/600m/0_0_1_600m/mic2/5.wav\n",
            "Skipping already processed: /content/drive/MyDrive/sevenlumi_data/luminator_dataset_augmented/m24/600m/0_0_1_600m/mic2/1.wav\n",
            "Skipping already processed: /content/drive/MyDrive/sevenlumi_data/luminator_dataset_augmented/m24/600m/0_0_1_600m/mic2/4.wav\n",
            "Skipping already processed: /content/drive/MyDrive/sevenlumi_data/luminator_dataset_augmented/m24/600m/0_0_1_600m/mic2/2.wav\n",
            "Skipping already processed: /content/drive/MyDrive/sevenlumi_data/luminator_dataset_augmented/m24/600m/0_0_1_600m/mic2/6.wav\n",
            "Skipping already processed: /content/drive/MyDrive/sevenlumi_data/luminator_dataset_augmented/m24/600m/0_0_1_600m/mic2/3.wav\n",
            "Skipping already processed: /content/drive/MyDrive/sevenlumi_data/luminator_dataset_augmented/m24/600m/0_0_1_600m/mic2/7.wav\n",
            "Skipping already processed: /content/drive/MyDrive/sevenlumi_data/luminator_dataset_augmented/m24/600m/0_0_1_600m/mic2/11.wav\n",
            "Skipping already processed: /content/drive/MyDrive/sevenlumi_data/luminator_dataset_augmented/m24/600m/0_0_1_600m/mic2/16.wav\n",
            "Skipping already processed: /content/drive/MyDrive/sevenlumi_data/luminator_dataset_augmented/m24/600m/0_0_1_600m/mic2/8.wav\n",
            "Skipping already processed: /content/drive/MyDrive/sevenlumi_data/luminator_dataset_augmented/m24/600m/0_0_1_600m/mic2/13.wav\n",
            "Skipping already processed: /content/drive/MyDrive/sevenlumi_data/luminator_dataset_augmented/m24/600m/0_0_1_600m/mic2/19.wav\n",
            "Skipping already processed: /content/drive/MyDrive/sevenlumi_data/luminator_dataset_augmented/m24/600m/0_0_1_600m/mic2/18.wav\n",
            "Skipping already processed: /content/drive/MyDrive/sevenlumi_data/luminator_dataset_augmented/m24/600m/0_0_1_600m/mic2/10.wav\n",
            "Skipping already processed: /content/drive/MyDrive/sevenlumi_data/luminator_dataset_augmented/m24/600m/0_0_1_600m/mic2/14.wav\n",
            "Skipping already processed: /content/drive/MyDrive/sevenlumi_data/luminator_dataset_augmented/m24/600m/0_0_1_600m/mic2/17.wav\n",
            "Skipping already processed: /content/drive/MyDrive/sevenlumi_data/luminator_dataset_augmented/m24/600m/0_0_1_600m/mic2/12.wav\n",
            "Skipping already processed: /content/drive/MyDrive/sevenlumi_data/luminator_dataset_augmented/m24/600m/0_0_1_600m/mic2/15.wav\n",
            "Skipping already processed: /content/drive/MyDrive/sevenlumi_data/luminator_dataset_augmented/m24/600m/0_0_1_600m/mic2/9.wav\n"
          ]
        },
        {
          "output_type": "stream",
          "name": "stderr",
          "text": [
            "100%|██████████| 19/19 [00:00<00:00, 763.27it/s]\n"
          ]
        },
        {
          "output_type": "stream",
          "name": "stdout",
          "text": [
            "Skipping already processed: /content/drive/MyDrive/sevenlumi_data/luminator_dataset_augmented/m24/600m/0_0_1_600m/mic3/5.wav\n",
            "Skipping already processed: /content/drive/MyDrive/sevenlumi_data/luminator_dataset_augmented/m24/600m/0_0_1_600m/mic3/1.wav\n",
            "Skipping already processed: /content/drive/MyDrive/sevenlumi_data/luminator_dataset_augmented/m24/600m/0_0_1_600m/mic3/4.wav\n",
            "Skipping already processed: /content/drive/MyDrive/sevenlumi_data/luminator_dataset_augmented/m24/600m/0_0_1_600m/mic3/2.wav\n",
            "Skipping already processed: /content/drive/MyDrive/sevenlumi_data/luminator_dataset_augmented/m24/600m/0_0_1_600m/mic3/6.wav\n",
            "Skipping already processed: /content/drive/MyDrive/sevenlumi_data/luminator_dataset_augmented/m24/600m/0_0_1_600m/mic3/3.wav\n",
            "Skipping already processed: /content/drive/MyDrive/sevenlumi_data/luminator_dataset_augmented/m24/600m/0_0_1_600m/mic3/7.wav\n",
            "Skipping already processed: /content/drive/MyDrive/sevenlumi_data/luminator_dataset_augmented/m24/600m/0_0_1_600m/mic3/11.wav\n",
            "Skipping already processed: /content/drive/MyDrive/sevenlumi_data/luminator_dataset_augmented/m24/600m/0_0_1_600m/mic3/16.wav\n",
            "Skipping already processed: /content/drive/MyDrive/sevenlumi_data/luminator_dataset_augmented/m24/600m/0_0_1_600m/mic3/8.wav\n",
            "Skipping already processed: /content/drive/MyDrive/sevenlumi_data/luminator_dataset_augmented/m24/600m/0_0_1_600m/mic3/13.wav\n",
            "Skipping already processed: /content/drive/MyDrive/sevenlumi_data/luminator_dataset_augmented/m24/600m/0_0_1_600m/mic3/19.wav\n",
            "Skipping already processed: /content/drive/MyDrive/sevenlumi_data/luminator_dataset_augmented/m24/600m/0_0_1_600m/mic3/18.wav\n",
            "Skipping already processed: /content/drive/MyDrive/sevenlumi_data/luminator_dataset_augmented/m24/600m/0_0_1_600m/mic3/10.wav\n",
            "Skipping already processed: /content/drive/MyDrive/sevenlumi_data/luminator_dataset_augmented/m24/600m/0_0_1_600m/mic3/14.wav\n",
            "Skipping already processed: /content/drive/MyDrive/sevenlumi_data/luminator_dataset_augmented/m24/600m/0_0_1_600m/mic3/17.wav\n",
            "Skipping already processed: /content/drive/MyDrive/sevenlumi_data/luminator_dataset_augmented/m24/600m/0_0_1_600m/mic3/12.wav\n",
            "Skipping already processed: /content/drive/MyDrive/sevenlumi_data/luminator_dataset_augmented/m24/600m/0_0_1_600m/mic3/15.wav\n",
            "Skipping already processed: /content/drive/MyDrive/sevenlumi_data/luminator_dataset_augmented/m24/600m/0_0_1_600m/mic3/9.wav\n"
          ]
        },
        {
          "output_type": "stream",
          "name": "stderr",
          "text": [
            "100%|██████████| 19/19 [00:00<00:00, 884.82it/s]\n"
          ]
        },
        {
          "output_type": "stream",
          "name": "stdout",
          "text": [
            "Skipping already processed: /content/drive/MyDrive/sevenlumi_data/luminator_dataset_augmented/m24/600m/0_0_1_600m/mic4/5.wav\n",
            "Skipping already processed: /content/drive/MyDrive/sevenlumi_data/luminator_dataset_augmented/m24/600m/0_0_1_600m/mic4/1.wav\n",
            "Skipping already processed: /content/drive/MyDrive/sevenlumi_data/luminator_dataset_augmented/m24/600m/0_0_1_600m/mic4/4.wav\n",
            "Skipping already processed: /content/drive/MyDrive/sevenlumi_data/luminator_dataset_augmented/m24/600m/0_0_1_600m/mic4/2.wav\n",
            "Skipping already processed: /content/drive/MyDrive/sevenlumi_data/luminator_dataset_augmented/m24/600m/0_0_1_600m/mic4/6.wav\n",
            "Skipping already processed: /content/drive/MyDrive/sevenlumi_data/luminator_dataset_augmented/m24/600m/0_0_1_600m/mic4/3.wav\n",
            "Skipping already processed: /content/drive/MyDrive/sevenlumi_data/luminator_dataset_augmented/m24/600m/0_0_1_600m/mic4/7.wav\n",
            "Skipping already processed: /content/drive/MyDrive/sevenlumi_data/luminator_dataset_augmented/m24/600m/0_0_1_600m/mic4/11.wav\n",
            "Skipping already processed: /content/drive/MyDrive/sevenlumi_data/luminator_dataset_augmented/m24/600m/0_0_1_600m/mic4/16.wav\n",
            "Skipping already processed: /content/drive/MyDrive/sevenlumi_data/luminator_dataset_augmented/m24/600m/0_0_1_600m/mic4/8.wav\n",
            "Skipping already processed: /content/drive/MyDrive/sevenlumi_data/luminator_dataset_augmented/m24/600m/0_0_1_600m/mic4/13.wav\n",
            "Skipping already processed: /content/drive/MyDrive/sevenlumi_data/luminator_dataset_augmented/m24/600m/0_0_1_600m/mic4/19.wav\n",
            "Skipping already processed: /content/drive/MyDrive/sevenlumi_data/luminator_dataset_augmented/m24/600m/0_0_1_600m/mic4/18.wav\n",
            "Skipping already processed: /content/drive/MyDrive/sevenlumi_data/luminator_dataset_augmented/m24/600m/0_0_1_600m/mic4/10.wav\n",
            "Skipping already processed: /content/drive/MyDrive/sevenlumi_data/luminator_dataset_augmented/m24/600m/0_0_1_600m/mic4/14.wav\n",
            "Skipping already processed: /content/drive/MyDrive/sevenlumi_data/luminator_dataset_augmented/m24/600m/0_0_1_600m/mic4/17.wav\n",
            "Skipping already processed: /content/drive/MyDrive/sevenlumi_data/luminator_dataset_augmented/m24/600m/0_0_1_600m/mic4/12.wav\n",
            "Skipping already processed: /content/drive/MyDrive/sevenlumi_data/luminator_dataset_augmented/m24/600m/0_0_1_600m/mic4/15.wav\n",
            "Skipping already processed: /content/drive/MyDrive/sevenlumi_data/luminator_dataset_augmented/m24/600m/0_0_1_600m/mic4/9.wav\n"
          ]
        },
        {
          "output_type": "stream",
          "name": "stderr",
          "text": [
            "0it [00:00, ?it/s]\n",
            "100%|██████████| 25/25 [00:00<00:00, 1127.91it/s]\n"
          ]
        },
        {
          "output_type": "stream",
          "name": "stdout",
          "text": [
            "Skipping already processed: /content/drive/MyDrive/sevenlumi_data/luminator_dataset_augmented/m24/600m/1_0_0_600m/mic1/4.wav\n",
            "Skipping already processed: /content/drive/MyDrive/sevenlumi_data/luminator_dataset_augmented/m24/600m/1_0_0_600m/mic1/1.wav\n",
            "Skipping already processed: /content/drive/MyDrive/sevenlumi_data/luminator_dataset_augmented/m24/600m/1_0_0_600m/mic1/3.wav\n",
            "Skipping already processed: /content/drive/MyDrive/sevenlumi_data/luminator_dataset_augmented/m24/600m/1_0_0_600m/mic1/2.wav\n",
            "Skipping already processed: /content/drive/MyDrive/sevenlumi_data/luminator_dataset_augmented/m24/600m/1_0_0_600m/mic1/23.wav\n",
            "Skipping already processed: /content/drive/MyDrive/sevenlumi_data/luminator_dataset_augmented/m24/600m/1_0_0_600m/mic1/20.wav\n",
            "Skipping already processed: /content/drive/MyDrive/sevenlumi_data/luminator_dataset_augmented/m24/600m/1_0_0_600m/mic1/17.wav\n",
            "Skipping already processed: /content/drive/MyDrive/sevenlumi_data/luminator_dataset_augmented/m24/600m/1_0_0_600m/mic1/22.wav\n",
            "Skipping already processed: /content/drive/MyDrive/sevenlumi_data/luminator_dataset_augmented/m24/600m/1_0_0_600m/mic1/8.wav\n",
            "Skipping already processed: /content/drive/MyDrive/sevenlumi_data/luminator_dataset_augmented/m24/600m/1_0_0_600m/mic1/7.wav\n",
            "Skipping already processed: /content/drive/MyDrive/sevenlumi_data/luminator_dataset_augmented/m24/600m/1_0_0_600m/mic1/5.wav\n",
            "Skipping already processed: /content/drive/MyDrive/sevenlumi_data/luminator_dataset_augmented/m24/600m/1_0_0_600m/mic1/13.wav\n",
            "Skipping already processed: /content/drive/MyDrive/sevenlumi_data/luminator_dataset_augmented/m24/600m/1_0_0_600m/mic1/10.wav\n",
            "Skipping already processed: /content/drive/MyDrive/sevenlumi_data/luminator_dataset_augmented/m24/600m/1_0_0_600m/mic1/25.wav\n",
            "Skipping already processed: /content/drive/MyDrive/sevenlumi_data/luminator_dataset_augmented/m24/600m/1_0_0_600m/mic1/6.wav\n",
            "Skipping already processed: /content/drive/MyDrive/sevenlumi_data/luminator_dataset_augmented/m24/600m/1_0_0_600m/mic1/9.wav\n",
            "Skipping already processed: /content/drive/MyDrive/sevenlumi_data/luminator_dataset_augmented/m24/600m/1_0_0_600m/mic1/14.wav\n",
            "Skipping already processed: /content/drive/MyDrive/sevenlumi_data/luminator_dataset_augmented/m24/600m/1_0_0_600m/mic1/18.wav\n",
            "Skipping already processed: /content/drive/MyDrive/sevenlumi_data/luminator_dataset_augmented/m24/600m/1_0_0_600m/mic1/21.wav\n",
            "Skipping already processed: /content/drive/MyDrive/sevenlumi_data/luminator_dataset_augmented/m24/600m/1_0_0_600m/mic1/15.wav\n",
            "Skipping already processed: /content/drive/MyDrive/sevenlumi_data/luminator_dataset_augmented/m24/600m/1_0_0_600m/mic1/16.wav\n",
            "Skipping already processed: /content/drive/MyDrive/sevenlumi_data/luminator_dataset_augmented/m24/600m/1_0_0_600m/mic1/11.wav\n",
            "Skipping already processed: /content/drive/MyDrive/sevenlumi_data/luminator_dataset_augmented/m24/600m/1_0_0_600m/mic1/19.wav\n",
            "Skipping already processed: /content/drive/MyDrive/sevenlumi_data/luminator_dataset_augmented/m24/600m/1_0_0_600m/mic1/24.wav\n",
            "Skipping already processed: /content/drive/MyDrive/sevenlumi_data/luminator_dataset_augmented/m24/600m/1_0_0_600m/mic1/12.wav\n"
          ]
        },
        {
          "output_type": "stream",
          "name": "stderr",
          "text": [
            "\r  0%|          | 0/25 [00:00<?, ?it/s]"
          ]
        },
        {
          "output_type": "stream",
          "name": "stdout",
          "text": [
            "Skipping already processed: /content/drive/MyDrive/sevenlumi_data/luminator_dataset_augmented/m24/600m/1_0_0_600m/mic2/4.wav\n",
            "Skipping already processed: /content/drive/MyDrive/sevenlumi_data/luminator_dataset_augmented/m24/600m/1_0_0_600m/mic2/1.wav\n",
            "Skipping already processed: /content/drive/MyDrive/sevenlumi_data/luminator_dataset_augmented/m24/600m/1_0_0_600m/mic2/3.wav\n",
            "Skipping already processed: /content/drive/MyDrive/sevenlumi_data/luminator_dataset_augmented/m24/600m/1_0_0_600m/mic2/2.wav\n",
            "Skipping already processed: /content/drive/MyDrive/sevenlumi_data/luminator_dataset_augmented/m24/600m/1_0_0_600m/mic2/23.wav\n",
            "Skipping already processed: /content/drive/MyDrive/sevenlumi_data/luminator_dataset_augmented/m24/600m/1_0_0_600m/mic2/20.wav\n",
            "Skipping already processed: /content/drive/MyDrive/sevenlumi_data/luminator_dataset_augmented/m24/600m/1_0_0_600m/mic2/17.wav\n",
            "Skipping already processed: /content/drive/MyDrive/sevenlumi_data/luminator_dataset_augmented/m24/600m/1_0_0_600m/mic2/22.wav\n",
            "Skipping already processed: /content/drive/MyDrive/sevenlumi_data/luminator_dataset_augmented/m24/600m/1_0_0_600m/mic2/8.wav\n",
            "Skipping already processed: /content/drive/MyDrive/sevenlumi_data/luminator_dataset_augmented/m24/600m/1_0_0_600m/mic2/7.wav\n",
            "Skipping already processed: /content/drive/MyDrive/sevenlumi_data/luminator_dataset_augmented/m24/600m/1_0_0_600m/mic2/5.wav\n",
            "Skipping already processed: /content/drive/MyDrive/sevenlumi_data/luminator_dataset_augmented/m24/600m/1_0_0_600m/mic2/13.wav\n",
            "Skipping already processed: /content/drive/MyDrive/sevenlumi_data/luminator_dataset_augmented/m24/600m/1_0_0_600m/mic2/10.wav\n",
            "Skipping already processed: /content/drive/MyDrive/sevenlumi_data/luminator_dataset_augmented/m24/600m/1_0_0_600m/mic2/25.wav\n"
          ]
        },
        {
          "output_type": "stream",
          "name": "stderr",
          "text": [
            "\r100%|██████████| 25/25 [00:00<00:00, 618.19it/s]\n"
          ]
        },
        {
          "output_type": "stream",
          "name": "stdout",
          "text": [
            "Skipping already processed: /content/drive/MyDrive/sevenlumi_data/luminator_dataset_augmented/m24/600m/1_0_0_600m/mic2/6.wav\n",
            "Skipping already processed: /content/drive/MyDrive/sevenlumi_data/luminator_dataset_augmented/m24/600m/1_0_0_600m/mic2/9.wav\n",
            "Skipping already processed: /content/drive/MyDrive/sevenlumi_data/luminator_dataset_augmented/m24/600m/1_0_0_600m/mic2/14.wav\n",
            "Skipping already processed: /content/drive/MyDrive/sevenlumi_data/luminator_dataset_augmented/m24/600m/1_0_0_600m/mic2/18.wav\n",
            "Skipping already processed: /content/drive/MyDrive/sevenlumi_data/luminator_dataset_augmented/m24/600m/1_0_0_600m/mic2/21.wav\n",
            "Skipping already processed: /content/drive/MyDrive/sevenlumi_data/luminator_dataset_augmented/m24/600m/1_0_0_600m/mic2/15.wav\n",
            "Skipping already processed: /content/drive/MyDrive/sevenlumi_data/luminator_dataset_augmented/m24/600m/1_0_0_600m/mic2/16.wav\n",
            "Skipping already processed: /content/drive/MyDrive/sevenlumi_data/luminator_dataset_augmented/m24/600m/1_0_0_600m/mic2/11.wav\n",
            "Skipping already processed: /content/drive/MyDrive/sevenlumi_data/luminator_dataset_augmented/m24/600m/1_0_0_600m/mic2/19.wav\n",
            "Skipping already processed: /content/drive/MyDrive/sevenlumi_data/luminator_dataset_augmented/m24/600m/1_0_0_600m/mic2/24.wav\n",
            "Skipping already processed: /content/drive/MyDrive/sevenlumi_data/luminator_dataset_augmented/m24/600m/1_0_0_600m/mic2/12.wav\n"
          ]
        },
        {
          "output_type": "stream",
          "name": "stderr",
          "text": [
            "\r  0%|          | 0/25 [00:00<?, ?it/s]"
          ]
        },
        {
          "output_type": "stream",
          "name": "stdout",
          "text": [
            "Skipping already processed: /content/drive/MyDrive/sevenlumi_data/luminator_dataset_augmented/m24/600m/1_0_0_600m/mic3/4.wav\n",
            "Skipping already processed: /content/drive/MyDrive/sevenlumi_data/luminator_dataset_augmented/m24/600m/1_0_0_600m/mic3/1.wav\n",
            "Skipping already processed: /content/drive/MyDrive/sevenlumi_data/luminator_dataset_augmented/m24/600m/1_0_0_600m/mic3/3.wav\n",
            "Skipping already processed: /content/drive/MyDrive/sevenlumi_data/luminator_dataset_augmented/m24/600m/1_0_0_600m/mic3/2.wav\n",
            "Skipping already processed: /content/drive/MyDrive/sevenlumi_data/luminator_dataset_augmented/m24/600m/1_0_0_600m/mic3/23.wav\n",
            "Skipping already processed: /content/drive/MyDrive/sevenlumi_data/luminator_dataset_augmented/m24/600m/1_0_0_600m/mic3/20.wav\n",
            "Skipping already processed: /content/drive/MyDrive/sevenlumi_data/luminator_dataset_augmented/m24/600m/1_0_0_600m/mic3/17.wav\n",
            "Skipping already processed: /content/drive/MyDrive/sevenlumi_data/luminator_dataset_augmented/m24/600m/1_0_0_600m/mic3/22.wav\n",
            "Skipping already processed: /content/drive/MyDrive/sevenlumi_data/luminator_dataset_augmented/m24/600m/1_0_0_600m/mic3/8.wav\n"
          ]
        },
        {
          "output_type": "stream",
          "name": "stderr",
          "text": [
            "\r100%|██████████| 25/25 [00:00<00:00, 648.67it/s]\n"
          ]
        },
        {
          "output_type": "stream",
          "name": "stdout",
          "text": [
            "Skipping already processed: /content/drive/MyDrive/sevenlumi_data/luminator_dataset_augmented/m24/600m/1_0_0_600m/mic3/7.wav\n",
            "Skipping already processed: /content/drive/MyDrive/sevenlumi_data/luminator_dataset_augmented/m24/600m/1_0_0_600m/mic3/5.wav\n",
            "Skipping already processed: /content/drive/MyDrive/sevenlumi_data/luminator_dataset_augmented/m24/600m/1_0_0_600m/mic3/13.wav\n",
            "Skipping already processed: /content/drive/MyDrive/sevenlumi_data/luminator_dataset_augmented/m24/600m/1_0_0_600m/mic3/10.wav\n",
            "Skipping already processed: /content/drive/MyDrive/sevenlumi_data/luminator_dataset_augmented/m24/600m/1_0_0_600m/mic3/25.wav\n",
            "Skipping already processed: /content/drive/MyDrive/sevenlumi_data/luminator_dataset_augmented/m24/600m/1_0_0_600m/mic3/6.wav\n",
            "Skipping already processed: /content/drive/MyDrive/sevenlumi_data/luminator_dataset_augmented/m24/600m/1_0_0_600m/mic3/9.wav\n",
            "Skipping already processed: /content/drive/MyDrive/sevenlumi_data/luminator_dataset_augmented/m24/600m/1_0_0_600m/mic3/14.wav\n",
            "Skipping already processed: /content/drive/MyDrive/sevenlumi_data/luminator_dataset_augmented/m24/600m/1_0_0_600m/mic3/18.wav\n",
            "Skipping already processed: /content/drive/MyDrive/sevenlumi_data/luminator_dataset_augmented/m24/600m/1_0_0_600m/mic3/21.wav\n",
            "Skipping already processed: /content/drive/MyDrive/sevenlumi_data/luminator_dataset_augmented/m24/600m/1_0_0_600m/mic3/15.wav\n",
            "Skipping already processed: /content/drive/MyDrive/sevenlumi_data/luminator_dataset_augmented/m24/600m/1_0_0_600m/mic3/16.wav\n",
            "Skipping already processed: /content/drive/MyDrive/sevenlumi_data/luminator_dataset_augmented/m24/600m/1_0_0_600m/mic3/11.wav\n",
            "Skipping already processed: /content/drive/MyDrive/sevenlumi_data/luminator_dataset_augmented/m24/600m/1_0_0_600m/mic3/19.wav\n",
            "Skipping already processed: /content/drive/MyDrive/sevenlumi_data/luminator_dataset_augmented/m24/600m/1_0_0_600m/mic3/24.wav\n",
            "Skipping already processed: /content/drive/MyDrive/sevenlumi_data/luminator_dataset_augmented/m24/600m/1_0_0_600m/mic3/12.wav\n"
          ]
        },
        {
          "output_type": "stream",
          "name": "stderr",
          "text": [
            "100%|██████████| 25/25 [00:00<00:00, 736.30it/s]"
          ]
        },
        {
          "output_type": "stream",
          "name": "stdout",
          "text": [
            "Skipping already processed: /content/drive/MyDrive/sevenlumi_data/luminator_dataset_augmented/m24/600m/1_0_0_600m/mic4/4.wav\n",
            "Skipping already processed: /content/drive/MyDrive/sevenlumi_data/luminator_dataset_augmented/m24/600m/1_0_0_600m/mic4/1.wav\n",
            "Skipping already processed: /content/drive/MyDrive/sevenlumi_data/luminator_dataset_augmented/m24/600m/1_0_0_600m/mic4/3.wav\n",
            "Skipping already processed: /content/drive/MyDrive/sevenlumi_data/luminator_dataset_augmented/m24/600m/1_0_0_600m/mic4/2.wav\n",
            "Skipping already processed: /content/drive/MyDrive/sevenlumi_data/luminator_dataset_augmented/m24/600m/1_0_0_600m/mic4/23.wav\n",
            "Skipping already processed: /content/drive/MyDrive/sevenlumi_data/luminator_dataset_augmented/m24/600m/1_0_0_600m/mic4/20.wav\n",
            "Skipping already processed: /content/drive/MyDrive/sevenlumi_data/luminator_dataset_augmented/m24/600m/1_0_0_600m/mic4/17.wav\n",
            "Skipping already processed: /content/drive/MyDrive/sevenlumi_data/luminator_dataset_augmented/m24/600m/1_0_0_600m/mic4/22.wav\n",
            "Skipping already processed: /content/drive/MyDrive/sevenlumi_data/luminator_dataset_augmented/m24/600m/1_0_0_600m/mic4/8.wav\n",
            "Skipping already processed: /content/drive/MyDrive/sevenlumi_data/luminator_dataset_augmented/m24/600m/1_0_0_600m/mic4/7.wav\n",
            "Skipping already processed: /content/drive/MyDrive/sevenlumi_data/luminator_dataset_augmented/m24/600m/1_0_0_600m/mic4/5.wav\n",
            "Skipping already processed: /content/drive/MyDrive/sevenlumi_data/luminator_dataset_augmented/m24/600m/1_0_0_600m/mic4/13.wav\n",
            "Skipping already processed: /content/drive/MyDrive/sevenlumi_data/luminator_dataset_augmented/m24/600m/1_0_0_600m/mic4/10.wav\n",
            "Skipping already processed: /content/drive/MyDrive/sevenlumi_data/luminator_dataset_augmented/m24/600m/1_0_0_600m/mic4/25.wav\n",
            "Skipping already processed: /content/drive/MyDrive/sevenlumi_data/luminator_dataset_augmented/m24/600m/1_0_0_600m/mic4/6.wav\n",
            "Skipping already processed: /content/drive/MyDrive/sevenlumi_data/luminator_dataset_augmented/m24/600m/1_0_0_600m/mic4/9.wav\n",
            "Skipping already processed: /content/drive/MyDrive/sevenlumi_data/luminator_dataset_augmented/m24/600m/1_0_0_600m/mic4/14.wav\n",
            "Skipping already processed: /content/drive/MyDrive/sevenlumi_data/luminator_dataset_augmented/m24/600m/1_0_0_600m/mic4/18.wav\n",
            "Skipping already processed: /content/drive/MyDrive/sevenlumi_data/luminator_dataset_augmented/m24/600m/1_0_0_600m/mic4/21.wav\n",
            "Skipping already processed: /content/drive/MyDrive/sevenlumi_data/luminator_dataset_augmented/m24/600m/1_0_0_600m/mic4/15.wav\n",
            "Skipping already processed: /content/drive/MyDrive/sevenlumi_data/luminator_dataset_augmented/m24/600m/1_0_0_600m/mic4/16.wav\n",
            "Skipping already processed: /content/drive/MyDrive/sevenlumi_data/luminator_dataset_augmented/m24/600m/1_0_0_600m/mic4/11.wav\n",
            "Skipping already processed: /content/drive/MyDrive/sevenlumi_data/luminator_dataset_augmented/m24/600m/1_0_0_600m/mic4/19.wav\n",
            "Skipping already processed: /content/drive/MyDrive/sevenlumi_data/luminator_dataset_augmented/m24/600m/1_0_0_600m/mic4/24.wav\n",
            "Skipping already processed: /content/drive/MyDrive/sevenlumi_data/luminator_dataset_augmented/m24/600m/1_0_0_600m/mic4/12.wav\n"
          ]
        },
        {
          "output_type": "stream",
          "name": "stderr",
          "text": [
            "\n",
            "0it [00:00, ?it/s]\n",
            "  0%|          | 0/18 [00:00<?, ?it/s]"
          ]
        },
        {
          "output_type": "stream",
          "name": "stdout",
          "text": [
            "Skipping already processed: /content/drive/MyDrive/sevenlumi_data/luminator_dataset_augmented/m24/600m/0_0_-1_600m/mic1/4.wav\n",
            "Skipping already processed: /content/drive/MyDrive/sevenlumi_data/luminator_dataset_augmented/m24/600m/0_0_-1_600m/mic1/2.wav\n",
            "Skipping already processed: /content/drive/MyDrive/sevenlumi_data/luminator_dataset_augmented/m24/600m/0_0_-1_600m/mic1/3.wav\n",
            "Skipping already processed: /content/drive/MyDrive/sevenlumi_data/luminator_dataset_augmented/m24/600m/0_0_-1_600m/mic1/1.wav\n",
            "Skipping already processed: /content/drive/MyDrive/sevenlumi_data/luminator_dataset_augmented/m24/600m/0_0_-1_600m/mic1/10.wav\n",
            "Skipping already processed: /content/drive/MyDrive/sevenlumi_data/luminator_dataset_augmented/m24/600m/0_0_-1_600m/mic1/15.wav\n",
            "Skipping already processed: /content/drive/MyDrive/sevenlumi_data/luminator_dataset_augmented/m24/600m/0_0_-1_600m/mic1/6.wav\n",
            "Skipping already processed: /content/drive/MyDrive/sevenlumi_data/luminator_dataset_augmented/m24/600m/0_0_-1_600m/mic1/14.wav\n",
            "Skipping already processed: /content/drive/MyDrive/sevenlumi_data/luminator_dataset_augmented/m24/600m/0_0_-1_600m/mic1/17.wav\n",
            "Skipping already processed: /content/drive/MyDrive/sevenlumi_data/luminator_dataset_augmented/m24/600m/0_0_-1_600m/mic1/7.wav\n",
            "Skipping already processed: /content/drive/MyDrive/sevenlumi_data/luminator_dataset_augmented/m24/600m/0_0_-1_600m/mic1/11.wav\n",
            "Skipping already processed: /content/drive/MyDrive/sevenlumi_data/luminator_dataset_augmented/m24/600m/0_0_-1_600m/mic1/8.wav\n",
            "Skipping already processed: /content/drive/MyDrive/sevenlumi_data/luminator_dataset_augmented/m24/600m/0_0_-1_600m/mic1/9.wav\n",
            "Skipping already processed: /content/drive/MyDrive/sevenlumi_data/luminator_dataset_augmented/m24/600m/0_0_-1_600m/mic1/16.wav\n",
            "Skipping already processed: /content/drive/MyDrive/sevenlumi_data/luminator_dataset_augmented/m24/600m/0_0_-1_600m/mic1/13.wav\n"
          ]
        },
        {
          "output_type": "stream",
          "name": "stderr",
          "text": [
            "\r100%|██████████| 18/18 [00:00<00:00, 740.64it/s]\n"
          ]
        },
        {
          "output_type": "stream",
          "name": "stdout",
          "text": [
            "Skipping already processed: /content/drive/MyDrive/sevenlumi_data/luminator_dataset_augmented/m24/600m/0_0_-1_600m/mic1/18.wav\n",
            "Skipping already processed: /content/drive/MyDrive/sevenlumi_data/luminator_dataset_augmented/m24/600m/0_0_-1_600m/mic1/12.wav\n",
            "Skipping already processed: /content/drive/MyDrive/sevenlumi_data/luminator_dataset_augmented/m24/600m/0_0_-1_600m/mic1/5.wav\n"
          ]
        },
        {
          "output_type": "stream",
          "name": "stderr",
          "text": [
            "\r  0%|          | 0/18 [00:00<?, ?it/s]"
          ]
        },
        {
          "output_type": "stream",
          "name": "stdout",
          "text": [
            "Skipping already processed: /content/drive/MyDrive/sevenlumi_data/luminator_dataset_augmented/m24/600m/0_0_-1_600m/mic2/4.wav\n",
            "Skipping already processed: /content/drive/MyDrive/sevenlumi_data/luminator_dataset_augmented/m24/600m/0_0_-1_600m/mic2/2.wav\n",
            "Skipping already processed: /content/drive/MyDrive/sevenlumi_data/luminator_dataset_augmented/m24/600m/0_0_-1_600m/mic2/3.wav\n",
            "Skipping already processed: /content/drive/MyDrive/sevenlumi_data/luminator_dataset_augmented/m24/600m/0_0_-1_600m/mic2/1.wav\n",
            "Skipping already processed: /content/drive/MyDrive/sevenlumi_data/luminator_dataset_augmented/m24/600m/0_0_-1_600m/mic2/10.wav\n",
            "Skipping already processed: /content/drive/MyDrive/sevenlumi_data/luminator_dataset_augmented/m24/600m/0_0_-1_600m/mic2/15.wav\n",
            "Skipping already processed: /content/drive/MyDrive/sevenlumi_data/luminator_dataset_augmented/m24/600m/0_0_-1_600m/mic2/6.wav\n",
            "Skipping already processed: /content/drive/MyDrive/sevenlumi_data/luminator_dataset_augmented/m24/600m/0_0_-1_600m/mic2/14.wav\n",
            "Skipping already processed: /content/drive/MyDrive/sevenlumi_data/luminator_dataset_augmented/m24/600m/0_0_-1_600m/mic2/17.wav\n",
            "Skipping already processed: /content/drive/MyDrive/sevenlumi_data/luminator_dataset_augmented/m24/600m/0_0_-1_600m/mic2/7.wav\n",
            "Skipping already processed: /content/drive/MyDrive/sevenlumi_data/luminator_dataset_augmented/m24/600m/0_0_-1_600m/mic2/11.wav\n",
            "Skipping already processed: /content/drive/MyDrive/sevenlumi_data/luminator_dataset_augmented/m24/600m/0_0_-1_600m/mic2/8.wav\n",
            "Skipping already processed: /content/drive/MyDrive/sevenlumi_data/luminator_dataset_augmented/m24/600m/0_0_-1_600m/mic2/9.wav\n"
          ]
        },
        {
          "output_type": "stream",
          "name": "stderr",
          "text": [
            "\r100%|██████████| 18/18 [00:00<00:00, 615.49it/s]\n"
          ]
        },
        {
          "output_type": "stream",
          "name": "stdout",
          "text": [
            "Skipping already processed: /content/drive/MyDrive/sevenlumi_data/luminator_dataset_augmented/m24/600m/0_0_-1_600m/mic2/16.wav\n",
            "Skipping already processed: /content/drive/MyDrive/sevenlumi_data/luminator_dataset_augmented/m24/600m/0_0_-1_600m/mic2/13.wav\n",
            "Skipping already processed: /content/drive/MyDrive/sevenlumi_data/luminator_dataset_augmented/m24/600m/0_0_-1_600m/mic2/18.wav\n",
            "Skipping already processed: /content/drive/MyDrive/sevenlumi_data/luminator_dataset_augmented/m24/600m/0_0_-1_600m/mic2/12.wav\n",
            "Skipping already processed: /content/drive/MyDrive/sevenlumi_data/luminator_dataset_augmented/m24/600m/0_0_-1_600m/mic2/5.wav\n"
          ]
        },
        {
          "output_type": "stream",
          "name": "stderr",
          "text": [
            "\r  0%|          | 0/18 [00:00<?, ?it/s]"
          ]
        },
        {
          "output_type": "stream",
          "name": "stdout",
          "text": [
            "Skipping already processed: /content/drive/MyDrive/sevenlumi_data/luminator_dataset_augmented/m24/600m/0_0_-1_600m/mic3/4.wav\n",
            "Skipping already processed: /content/drive/MyDrive/sevenlumi_data/luminator_dataset_augmented/m24/600m/0_0_-1_600m/mic3/2.wav\n",
            "Skipping already processed: /content/drive/MyDrive/sevenlumi_data/luminator_dataset_augmented/m24/600m/0_0_-1_600m/mic3/3.wav\n",
            "Skipping already processed: /content/drive/MyDrive/sevenlumi_data/luminator_dataset_augmented/m24/600m/0_0_-1_600m/mic3/1.wav\n",
            "Skipping already processed: /content/drive/MyDrive/sevenlumi_data/luminator_dataset_augmented/m24/600m/0_0_-1_600m/mic3/10.wav\n",
            "Skipping already processed: /content/drive/MyDrive/sevenlumi_data/luminator_dataset_augmented/m24/600m/0_0_-1_600m/mic3/15.wav\n",
            "Skipping already processed: /content/drive/MyDrive/sevenlumi_data/luminator_dataset_augmented/m24/600m/0_0_-1_600m/mic3/6.wav\n",
            "Skipping already processed: /content/drive/MyDrive/sevenlumi_data/luminator_dataset_augmented/m24/600m/0_0_-1_600m/mic3/14.wav\n",
            "Skipping already processed: /content/drive/MyDrive/sevenlumi_data/luminator_dataset_augmented/m24/600m/0_0_-1_600m/mic3/17.wav\n",
            "Skipping already processed: /content/drive/MyDrive/sevenlumi_data/luminator_dataset_augmented/m24/600m/0_0_-1_600m/mic3/7.wav\n",
            "Skipping already processed: /content/drive/MyDrive/sevenlumi_data/luminator_dataset_augmented/m24/600m/0_0_-1_600m/mic3/11.wav\n",
            "Skipping already processed: /content/drive/MyDrive/sevenlumi_data/luminator_dataset_augmented/m24/600m/0_0_-1_600m/mic3/8.wav\n",
            "Skipping already processed: /content/drive/MyDrive/sevenlumi_data/luminator_dataset_augmented/m24/600m/0_0_-1_600m/mic3/9.wav\n",
            "Skipping already processed: /content/drive/MyDrive/sevenlumi_data/luminator_dataset_augmented/m24/600m/0_0_-1_600m/mic3/16.wav\n",
            "Skipping already processed: /content/drive/MyDrive/sevenlumi_data/luminator_dataset_augmented/m24/600m/0_0_-1_600m/mic3/13.wav\n",
            "Skipping already processed: /content/drive/MyDrive/sevenlumi_data/luminator_dataset_augmented/m24/600m/0_0_-1_600m/mic3/18.wav\n",
            "Skipping already processed: /content/drive/MyDrive/sevenlumi_data/luminator_dataset_augmented/m24/600m/0_0_-1_600m/mic3/12.wav\n"
          ]
        },
        {
          "output_type": "stream",
          "name": "stderr",
          "text": [
            "\r100%|██████████| 18/18 [00:00<00:00, 718.62it/s]\n"
          ]
        },
        {
          "output_type": "stream",
          "name": "stdout",
          "text": [
            "Skipping already processed: /content/drive/MyDrive/sevenlumi_data/luminator_dataset_augmented/m24/600m/0_0_-1_600m/mic3/5.wav\n"
          ]
        },
        {
          "output_type": "stream",
          "name": "stderr",
          "text": [
            "100%|██████████| 18/18 [00:00<00:00, 654.46it/s]\n"
          ]
        },
        {
          "output_type": "stream",
          "name": "stdout",
          "text": [
            "Skipping already processed: /content/drive/MyDrive/sevenlumi_data/luminator_dataset_augmented/m24/600m/0_0_-1_600m/mic4/4.wav\n",
            "Skipping already processed: /content/drive/MyDrive/sevenlumi_data/luminator_dataset_augmented/m24/600m/0_0_-1_600m/mic4/2.wav\n",
            "Skipping already processed: /content/drive/MyDrive/sevenlumi_data/luminator_dataset_augmented/m24/600m/0_0_-1_600m/mic4/3.wav\n",
            "Skipping already processed: /content/drive/MyDrive/sevenlumi_data/luminator_dataset_augmented/m24/600m/0_0_-1_600m/mic4/1.wav\n",
            "Skipping already processed: /content/drive/MyDrive/sevenlumi_data/luminator_dataset_augmented/m24/600m/0_0_-1_600m/mic4/10.wav\n",
            "Skipping already processed: /content/drive/MyDrive/sevenlumi_data/luminator_dataset_augmented/m24/600m/0_0_-1_600m/mic4/15.wav\n",
            "Skipping already processed: /content/drive/MyDrive/sevenlumi_data/luminator_dataset_augmented/m24/600m/0_0_-1_600m/mic4/6.wav\n",
            "Skipping already processed: /content/drive/MyDrive/sevenlumi_data/luminator_dataset_augmented/m24/600m/0_0_-1_600m/mic4/14.wav\n",
            "Skipping already processed: /content/drive/MyDrive/sevenlumi_data/luminator_dataset_augmented/m24/600m/0_0_-1_600m/mic4/17.wav\n",
            "Skipping already processed: /content/drive/MyDrive/sevenlumi_data/luminator_dataset_augmented/m24/600m/0_0_-1_600m/mic4/7.wav\n",
            "Skipping already processed: /content/drive/MyDrive/sevenlumi_data/luminator_dataset_augmented/m24/600m/0_0_-1_600m/mic4/11.wav\n",
            "Skipping already processed: /content/drive/MyDrive/sevenlumi_data/luminator_dataset_augmented/m24/600m/0_0_-1_600m/mic4/8.wav\n",
            "Skipping already processed: /content/drive/MyDrive/sevenlumi_data/luminator_dataset_augmented/m24/600m/0_0_-1_600m/mic4/9.wav\n",
            "Skipping already processed: /content/drive/MyDrive/sevenlumi_data/luminator_dataset_augmented/m24/600m/0_0_-1_600m/mic4/16.wav\n",
            "Skipping already processed: /content/drive/MyDrive/sevenlumi_data/luminator_dataset_augmented/m24/600m/0_0_-1_600m/mic4/13.wav\n",
            "Skipping already processed: /content/drive/MyDrive/sevenlumi_data/luminator_dataset_augmented/m24/600m/0_0_-1_600m/mic4/18.wav\n",
            "Skipping already processed: /content/drive/MyDrive/sevenlumi_data/luminator_dataset_augmented/m24/600m/0_0_-1_600m/mic4/12.wav\n",
            "Skipping already processed: /content/drive/MyDrive/sevenlumi_data/luminator_dataset_augmented/m24/600m/0_0_-1_600m/mic4/5.wav\n"
          ]
        },
        {
          "output_type": "stream",
          "name": "stderr",
          "text": [
            "0it [00:00, ?it/s]\n",
            "100%|██████████| 25/25 [00:00<00:00, 719.85it/s]\n"
          ]
        },
        {
          "output_type": "stream",
          "name": "stdout",
          "text": [
            "Skipping already processed: /content/drive/MyDrive/sevenlumi_data/luminator_dataset_augmented/m24/600m/-1_0_0_600m/mic1/8.wav\n",
            "Skipping already processed: /content/drive/MyDrive/sevenlumi_data/luminator_dataset_augmented/m24/600m/-1_0_0_600m/mic1/3.wav\n",
            "Skipping already processed: /content/drive/MyDrive/sevenlumi_data/luminator_dataset_augmented/m24/600m/-1_0_0_600m/mic1/5.wav\n",
            "Skipping already processed: /content/drive/MyDrive/sevenlumi_data/luminator_dataset_augmented/m24/600m/-1_0_0_600m/mic1/1.wav\n",
            "Skipping already processed: /content/drive/MyDrive/sevenlumi_data/luminator_dataset_augmented/m24/600m/-1_0_0_600m/mic1/4.wav\n",
            "Skipping already processed: /content/drive/MyDrive/sevenlumi_data/luminator_dataset_augmented/m24/600m/-1_0_0_600m/mic1/7.wav\n",
            "Skipping already processed: /content/drive/MyDrive/sevenlumi_data/luminator_dataset_augmented/m24/600m/-1_0_0_600m/mic1/6.wav\n",
            "Skipping already processed: /content/drive/MyDrive/sevenlumi_data/luminator_dataset_augmented/m24/600m/-1_0_0_600m/mic1/2.wav\n",
            "Skipping already processed: /content/drive/MyDrive/sevenlumi_data/luminator_dataset_augmented/m24/600m/-1_0_0_600m/mic1/13.wav\n",
            "Skipping already processed: /content/drive/MyDrive/sevenlumi_data/luminator_dataset_augmented/m24/600m/-1_0_0_600m/mic1/19.wav\n",
            "Skipping already processed: /content/drive/MyDrive/sevenlumi_data/luminator_dataset_augmented/m24/600m/-1_0_0_600m/mic1/16.wav\n",
            "Skipping already processed: /content/drive/MyDrive/sevenlumi_data/luminator_dataset_augmented/m24/600m/-1_0_0_600m/mic1/9.wav\n",
            "Skipping already processed: /content/drive/MyDrive/sevenlumi_data/luminator_dataset_augmented/m24/600m/-1_0_0_600m/mic1/17.wav\n",
            "Skipping already processed: /content/drive/MyDrive/sevenlumi_data/luminator_dataset_augmented/m24/600m/-1_0_0_600m/mic1/22.wav\n",
            "Skipping already processed: /content/drive/MyDrive/sevenlumi_data/luminator_dataset_augmented/m24/600m/-1_0_0_600m/mic1/24.wav\n",
            "Skipping already processed: /content/drive/MyDrive/sevenlumi_data/luminator_dataset_augmented/m24/600m/-1_0_0_600m/mic1/15.wav\n",
            "Skipping already processed: /content/drive/MyDrive/sevenlumi_data/luminator_dataset_augmented/m24/600m/-1_0_0_600m/mic1/20.wav\n",
            "Skipping already processed: /content/drive/MyDrive/sevenlumi_data/luminator_dataset_augmented/m24/600m/-1_0_0_600m/mic1/10.wav\n",
            "Skipping already processed: /content/drive/MyDrive/sevenlumi_data/luminator_dataset_augmented/m24/600m/-1_0_0_600m/mic1/25.wav\n",
            "Skipping already processed: /content/drive/MyDrive/sevenlumi_data/luminator_dataset_augmented/m24/600m/-1_0_0_600m/mic1/23.wav\n",
            "Skipping already processed: /content/drive/MyDrive/sevenlumi_data/luminator_dataset_augmented/m24/600m/-1_0_0_600m/mic1/12.wav\n",
            "Skipping already processed: /content/drive/MyDrive/sevenlumi_data/luminator_dataset_augmented/m24/600m/-1_0_0_600m/mic1/18.wav\n",
            "Skipping already processed: /content/drive/MyDrive/sevenlumi_data/luminator_dataset_augmented/m24/600m/-1_0_0_600m/mic1/21.wav\n",
            "Skipping already processed: /content/drive/MyDrive/sevenlumi_data/luminator_dataset_augmented/m24/600m/-1_0_0_600m/mic1/14.wav\n",
            "Skipping already processed: /content/drive/MyDrive/sevenlumi_data/luminator_dataset_augmented/m24/600m/-1_0_0_600m/mic1/11.wav\n"
          ]
        },
        {
          "output_type": "stream",
          "name": "stderr",
          "text": [
            "\r  0%|          | 0/25 [00:00<?, ?it/s]"
          ]
        },
        {
          "output_type": "stream",
          "name": "stdout",
          "text": [
            "Skipping already processed: /content/drive/MyDrive/sevenlumi_data/luminator_dataset_augmented/m24/600m/-1_0_0_600m/mic2/8.wav\n",
            "Skipping already processed: /content/drive/MyDrive/sevenlumi_data/luminator_dataset_augmented/m24/600m/-1_0_0_600m/mic2/3.wav\n",
            "Skipping already processed: /content/drive/MyDrive/sevenlumi_data/luminator_dataset_augmented/m24/600m/-1_0_0_600m/mic2/5.wav\n",
            "Skipping already processed: /content/drive/MyDrive/sevenlumi_data/luminator_dataset_augmented/m24/600m/-1_0_0_600m/mic2/1.wav\n",
            "Skipping already processed: /content/drive/MyDrive/sevenlumi_data/luminator_dataset_augmented/m24/600m/-1_0_0_600m/mic2/4.wav\n",
            "Skipping already processed: /content/drive/MyDrive/sevenlumi_data/luminator_dataset_augmented/m24/600m/-1_0_0_600m/mic2/7.wav\n",
            "Skipping already processed: /content/drive/MyDrive/sevenlumi_data/luminator_dataset_augmented/m24/600m/-1_0_0_600m/mic2/6.wav\n",
            "Skipping already processed: /content/drive/MyDrive/sevenlumi_data/luminator_dataset_augmented/m24/600m/-1_0_0_600m/mic2/2.wav\n",
            "Skipping already processed: /content/drive/MyDrive/sevenlumi_data/luminator_dataset_augmented/m24/600m/-1_0_0_600m/mic2/13.wav\n",
            "Skipping already processed: /content/drive/MyDrive/sevenlumi_data/luminator_dataset_augmented/m24/600m/-1_0_0_600m/mic2/19.wav\n",
            "Skipping already processed: /content/drive/MyDrive/sevenlumi_data/luminator_dataset_augmented/m24/600m/-1_0_0_600m/mic2/16.wav\n",
            "Skipping already processed: /content/drive/MyDrive/sevenlumi_data/luminator_dataset_augmented/m24/600m/-1_0_0_600m/mic2/9.wav\n",
            "Skipping already processed: /content/drive/MyDrive/sevenlumi_data/luminator_dataset_augmented/m24/600m/-1_0_0_600m/mic2/17.wav\n",
            "Skipping already processed: /content/drive/MyDrive/sevenlumi_data/luminator_dataset_augmented/m24/600m/-1_0_0_600m/mic2/22.wav\n",
            "Skipping already processed: /content/drive/MyDrive/sevenlumi_data/luminator_dataset_augmented/m24/600m/-1_0_0_600m/mic2/24.wav\n",
            "Skipping already processed: /content/drive/MyDrive/sevenlumi_data/luminator_dataset_augmented/m24/600m/-1_0_0_600m/mic2/15.wav\n",
            "Skipping already processed: /content/drive/MyDrive/sevenlumi_data/luminator_dataset_augmented/m24/600m/-1_0_0_600m/mic2/20.wav\n",
            "Skipping already processed: /content/drive/MyDrive/sevenlumi_data/luminator_dataset_augmented/m24/600m/-1_0_0_600m/mic2/10.wav\n",
            "Skipping already processed: /content/drive/MyDrive/sevenlumi_data/luminator_dataset_augmented/m24/600m/-1_0_0_600m/mic2/25.wav\n",
            "Skipping already processed: /content/drive/MyDrive/sevenlumi_data/luminator_dataset_augmented/m24/600m/-1_0_0_600m/mic2/23.wav\n",
            "Skipping already processed: /content/drive/MyDrive/sevenlumi_data/luminator_dataset_augmented/m24/600m/-1_0_0_600m/mic2/12.wav\n"
          ]
        },
        {
          "output_type": "stream",
          "name": "stderr",
          "text": [
            "\r100%|██████████| 25/25 [00:00<00:00, 622.26it/s]\n"
          ]
        },
        {
          "output_type": "stream",
          "name": "stdout",
          "text": [
            "Skipping already processed: /content/drive/MyDrive/sevenlumi_data/luminator_dataset_augmented/m24/600m/-1_0_0_600m/mic2/18.wav\n",
            "Skipping already processed: /content/drive/MyDrive/sevenlumi_data/luminator_dataset_augmented/m24/600m/-1_0_0_600m/mic2/21.wav\n",
            "Skipping already processed: /content/drive/MyDrive/sevenlumi_data/luminator_dataset_augmented/m24/600m/-1_0_0_600m/mic2/14.wav\n",
            "Skipping already processed: /content/drive/MyDrive/sevenlumi_data/luminator_dataset_augmented/m24/600m/-1_0_0_600m/mic2/11.wav\n"
          ]
        },
        {
          "output_type": "stream",
          "name": "stderr",
          "text": [
            "\r  0%|          | 0/25 [00:00<?, ?it/s]"
          ]
        },
        {
          "output_type": "stream",
          "name": "stdout",
          "text": [
            "Skipping already processed: /content/drive/MyDrive/sevenlumi_data/luminator_dataset_augmented/m24/600m/-1_0_0_600m/mic3/8.wav\n",
            "Skipping already processed: /content/drive/MyDrive/sevenlumi_data/luminator_dataset_augmented/m24/600m/-1_0_0_600m/mic3/3.wav\n",
            "Skipping already processed: /content/drive/MyDrive/sevenlumi_data/luminator_dataset_augmented/m24/600m/-1_0_0_600m/mic3/5.wav\n",
            "Skipping already processed: /content/drive/MyDrive/sevenlumi_data/luminator_dataset_augmented/m24/600m/-1_0_0_600m/mic3/1.wav\n",
            "Skipping already processed: /content/drive/MyDrive/sevenlumi_data/luminator_dataset_augmented/m24/600m/-1_0_0_600m/mic3/4.wav\n",
            "Skipping already processed: /content/drive/MyDrive/sevenlumi_data/luminator_dataset_augmented/m24/600m/-1_0_0_600m/mic3/7.wav\n",
            "Skipping already processed: /content/drive/MyDrive/sevenlumi_data/luminator_dataset_augmented/m24/600m/-1_0_0_600m/mic3/6.wav\n",
            "Skipping already processed: /content/drive/MyDrive/sevenlumi_data/luminator_dataset_augmented/m24/600m/-1_0_0_600m/mic3/2.wav\n",
            "Skipping already processed: /content/drive/MyDrive/sevenlumi_data/luminator_dataset_augmented/m24/600m/-1_0_0_600m/mic3/13.wav\n",
            "Skipping already processed: /content/drive/MyDrive/sevenlumi_data/luminator_dataset_augmented/m24/600m/-1_0_0_600m/mic3/19.wav\n",
            "Skipping already processed: /content/drive/MyDrive/sevenlumi_data/luminator_dataset_augmented/m24/600m/-1_0_0_600m/mic3/16.wav\n",
            "Skipping already processed: /content/drive/MyDrive/sevenlumi_data/luminator_dataset_augmented/m24/600m/-1_0_0_600m/mic3/9.wav\n",
            "Skipping already processed: /content/drive/MyDrive/sevenlumi_data/luminator_dataset_augmented/m24/600m/-1_0_0_600m/mic3/17.wav\n",
            "Skipping already processed: /content/drive/MyDrive/sevenlumi_data/luminator_dataset_augmented/m24/600m/-1_0_0_600m/mic3/22.wav\n",
            "Skipping already processed: /content/drive/MyDrive/sevenlumi_data/luminator_dataset_augmented/m24/600m/-1_0_0_600m/mic3/24.wav\n",
            "Skipping already processed: /content/drive/MyDrive/sevenlumi_data/luminator_dataset_augmented/m24/600m/-1_0_0_600m/mic3/15.wav\n",
            "Skipping already processed: /content/drive/MyDrive/sevenlumi_data/luminator_dataset_augmented/m24/600m/-1_0_0_600m/mic3/20.wav\n",
            "Skipping already processed: /content/drive/MyDrive/sevenlumi_data/luminator_dataset_augmented/m24/600m/-1_0_0_600m/mic3/10.wav\n"
          ]
        },
        {
          "output_type": "stream",
          "name": "stderr",
          "text": [
            "\r100%|██████████| 25/25 [00:00<00:00, 829.09it/s]\n"
          ]
        },
        {
          "output_type": "stream",
          "name": "stdout",
          "text": [
            "Skipping already processed: /content/drive/MyDrive/sevenlumi_data/luminator_dataset_augmented/m24/600m/-1_0_0_600m/mic3/25.wav\n",
            "Skipping already processed: /content/drive/MyDrive/sevenlumi_data/luminator_dataset_augmented/m24/600m/-1_0_0_600m/mic3/23.wav\n",
            "Skipping already processed: /content/drive/MyDrive/sevenlumi_data/luminator_dataset_augmented/m24/600m/-1_0_0_600m/mic3/12.wav\n",
            "Skipping already processed: /content/drive/MyDrive/sevenlumi_data/luminator_dataset_augmented/m24/600m/-1_0_0_600m/mic3/18.wav\n",
            "Skipping already processed: /content/drive/MyDrive/sevenlumi_data/luminator_dataset_augmented/m24/600m/-1_0_0_600m/mic3/21.wav\n",
            "Skipping already processed: /content/drive/MyDrive/sevenlumi_data/luminator_dataset_augmented/m24/600m/-1_0_0_600m/mic3/14.wav\n",
            "Skipping already processed: /content/drive/MyDrive/sevenlumi_data/luminator_dataset_augmented/m24/600m/-1_0_0_600m/mic3/11.wav\n"
          ]
        },
        {
          "output_type": "stream",
          "name": "stderr",
          "text": [
            "\r  0%|          | 0/25 [00:00<?, ?it/s]"
          ]
        },
        {
          "output_type": "stream",
          "name": "stdout",
          "text": [
            "Skipping already processed: /content/drive/MyDrive/sevenlumi_data/luminator_dataset_augmented/m24/600m/-1_0_0_600m/mic4/8.wav\n",
            "Skipping already processed: /content/drive/MyDrive/sevenlumi_data/luminator_dataset_augmented/m24/600m/-1_0_0_600m/mic4/3.wav\n",
            "Skipping already processed: /content/drive/MyDrive/sevenlumi_data/luminator_dataset_augmented/m24/600m/-1_0_0_600m/mic4/5.wav\n",
            "Skipping already processed: /content/drive/MyDrive/sevenlumi_data/luminator_dataset_augmented/m24/600m/-1_0_0_600m/mic4/1.wav\n",
            "Skipping already processed: /content/drive/MyDrive/sevenlumi_data/luminator_dataset_augmented/m24/600m/-1_0_0_600m/mic4/4.wav\n",
            "Skipping already processed: /content/drive/MyDrive/sevenlumi_data/luminator_dataset_augmented/m24/600m/-1_0_0_600m/mic4/7.wav\n",
            "Skipping already processed: /content/drive/MyDrive/sevenlumi_data/luminator_dataset_augmented/m24/600m/-1_0_0_600m/mic4/6.wav\n",
            "Skipping already processed: /content/drive/MyDrive/sevenlumi_data/luminator_dataset_augmented/m24/600m/-1_0_0_600m/mic4/2.wav\n",
            "Skipping already processed: /content/drive/MyDrive/sevenlumi_data/luminator_dataset_augmented/m24/600m/-1_0_0_600m/mic4/13.wav\n",
            "Skipping already processed: /content/drive/MyDrive/sevenlumi_data/luminator_dataset_augmented/m24/600m/-1_0_0_600m/mic4/19.wav\n",
            "Skipping already processed: /content/drive/MyDrive/sevenlumi_data/luminator_dataset_augmented/m24/600m/-1_0_0_600m/mic4/16.wav\n",
            "Skipping already processed: /content/drive/MyDrive/sevenlumi_data/luminator_dataset_augmented/m24/600m/-1_0_0_600m/mic4/9.wav\n",
            "Skipping already processed: /content/drive/MyDrive/sevenlumi_data/luminator_dataset_augmented/m24/600m/-1_0_0_600m/mic4/17.wav\n"
          ]
        },
        {
          "output_type": "stream",
          "name": "stderr",
          "text": [
            "\r100%|██████████| 25/25 [00:00<00:00, 763.13it/s]\n"
          ]
        },
        {
          "output_type": "stream",
          "name": "stdout",
          "text": [
            "Skipping already processed: /content/drive/MyDrive/sevenlumi_data/luminator_dataset_augmented/m24/600m/-1_0_0_600m/mic4/22.wav\n",
            "Skipping already processed: /content/drive/MyDrive/sevenlumi_data/luminator_dataset_augmented/m24/600m/-1_0_0_600m/mic4/24.wav\n",
            "Skipping already processed: /content/drive/MyDrive/sevenlumi_data/luminator_dataset_augmented/m24/600m/-1_0_0_600m/mic4/15.wav\n",
            "Skipping already processed: /content/drive/MyDrive/sevenlumi_data/luminator_dataset_augmented/m24/600m/-1_0_0_600m/mic4/20.wav\n",
            "Skipping already processed: /content/drive/MyDrive/sevenlumi_data/luminator_dataset_augmented/m24/600m/-1_0_0_600m/mic4/10.wav\n",
            "Skipping already processed: /content/drive/MyDrive/sevenlumi_data/luminator_dataset_augmented/m24/600m/-1_0_0_600m/mic4/25.wav\n",
            "Skipping already processed: /content/drive/MyDrive/sevenlumi_data/luminator_dataset_augmented/m24/600m/-1_0_0_600m/mic4/23.wav\n",
            "Skipping already processed: /content/drive/MyDrive/sevenlumi_data/luminator_dataset_augmented/m24/600m/-1_0_0_600m/mic4/12.wav\n",
            "Skipping already processed: /content/drive/MyDrive/sevenlumi_data/luminator_dataset_augmented/m24/600m/-1_0_0_600m/mic4/18.wav\n",
            "Skipping already processed: /content/drive/MyDrive/sevenlumi_data/luminator_dataset_augmented/m24/600m/-1_0_0_600m/mic4/21.wav\n",
            "Skipping already processed: /content/drive/MyDrive/sevenlumi_data/luminator_dataset_augmented/m24/600m/-1_0_0_600m/mic4/14.wav\n",
            "Skipping already processed: /content/drive/MyDrive/sevenlumi_data/luminator_dataset_augmented/m24/600m/-1_0_0_600m/mic4/11.wav\n"
          ]
        },
        {
          "output_type": "stream",
          "name": "stderr",
          "text": [
            "0it [00:00, ?it/s]\n",
            "0it [00:00, ?it/s]\n",
            "  0%|          | 0/16 [00:00<?, ?it/s]"
          ]
        },
        {
          "output_type": "stream",
          "name": "stdout",
          "text": [
            "Skipping already processed: /content/drive/MyDrive/sevenlumi_data/luminator_dataset_augmented/m24/50m/1_0_0_50m/mic1/1.wav\n",
            "Skipping already processed: /content/drive/MyDrive/sevenlumi_data/luminator_dataset_augmented/m24/50m/1_0_0_50m/mic1/15.wav\n",
            "Skipping already processed: /content/drive/MyDrive/sevenlumi_data/luminator_dataset_augmented/m24/50m/1_0_0_50m/mic1/3.wav\n",
            "Skipping already processed: /content/drive/MyDrive/sevenlumi_data/luminator_dataset_augmented/m24/50m/1_0_0_50m/mic1/13.wav\n",
            "Skipping already processed: /content/drive/MyDrive/sevenlumi_data/luminator_dataset_augmented/m24/50m/1_0_0_50m/mic1/7.wav\n",
            "Skipping already processed: /content/drive/MyDrive/sevenlumi_data/luminator_dataset_augmented/m24/50m/1_0_0_50m/mic1/2.wav\n",
            "Skipping already processed: /content/drive/MyDrive/sevenlumi_data/luminator_dataset_augmented/m24/50m/1_0_0_50m/mic1/5.wav\n",
            "Skipping already processed: /content/drive/MyDrive/sevenlumi_data/luminator_dataset_augmented/m24/50m/1_0_0_50m/mic1/4.wav\n",
            "Skipping already processed: /content/drive/MyDrive/sevenlumi_data/luminator_dataset_augmented/m24/50m/1_0_0_50m/mic1/14.wav\n",
            "Skipping already processed: /content/drive/MyDrive/sevenlumi_data/luminator_dataset_augmented/m24/50m/1_0_0_50m/mic1/11.wav\n",
            "Skipping already processed: /content/drive/MyDrive/sevenlumi_data/luminator_dataset_augmented/m24/50m/1_0_0_50m/mic1/6.wav\n",
            "Skipping already processed: /content/drive/MyDrive/sevenlumi_data/luminator_dataset_augmented/m24/50m/1_0_0_50m/mic1/16.wav\n",
            "Skipping already processed: /content/drive/MyDrive/sevenlumi_data/luminator_dataset_augmented/m24/50m/1_0_0_50m/mic1/10.wav\n",
            "Skipping already processed: /content/drive/MyDrive/sevenlumi_data/luminator_dataset_augmented/m24/50m/1_0_0_50m/mic1/9.wav\n",
            "Skipping already processed: /content/drive/MyDrive/sevenlumi_data/luminator_dataset_augmented/m24/50m/1_0_0_50m/mic1/12.wav\n"
          ]
        },
        {
          "output_type": "stream",
          "name": "stderr",
          "text": [
            "\r100%|██████████| 16/16 [00:00<00:00, 1326.34it/s]\n"
          ]
        },
        {
          "output_type": "stream",
          "name": "stdout",
          "text": [
            "Skipping already processed: /content/drive/MyDrive/sevenlumi_data/luminator_dataset_augmented/m24/50m/1_0_0_50m/mic1/8.wav\n"
          ]
        },
        {
          "output_type": "stream",
          "name": "stderr",
          "text": [
            "100%|██████████| 16/16 [00:00<00:00, 696.06it/s]\n"
          ]
        },
        {
          "output_type": "stream",
          "name": "stdout",
          "text": [
            "Skipping already processed: /content/drive/MyDrive/sevenlumi_data/luminator_dataset_augmented/m24/50m/1_0_0_50m/mic2/1.wav\n",
            "Skipping already processed: /content/drive/MyDrive/sevenlumi_data/luminator_dataset_augmented/m24/50m/1_0_0_50m/mic2/15.wav\n",
            "Skipping already processed: /content/drive/MyDrive/sevenlumi_data/luminator_dataset_augmented/m24/50m/1_0_0_50m/mic2/3.wav\n",
            "Skipping already processed: /content/drive/MyDrive/sevenlumi_data/luminator_dataset_augmented/m24/50m/1_0_0_50m/mic2/13.wav\n",
            "Skipping already processed: /content/drive/MyDrive/sevenlumi_data/luminator_dataset_augmented/m24/50m/1_0_0_50m/mic2/7.wav\n",
            "Skipping already processed: /content/drive/MyDrive/sevenlumi_data/luminator_dataset_augmented/m24/50m/1_0_0_50m/mic2/2.wav\n",
            "Skipping already processed: /content/drive/MyDrive/sevenlumi_data/luminator_dataset_augmented/m24/50m/1_0_0_50m/mic2/5.wav\n",
            "Skipping already processed: /content/drive/MyDrive/sevenlumi_data/luminator_dataset_augmented/m24/50m/1_0_0_50m/mic2/4.wav\n",
            "Skipping already processed: /content/drive/MyDrive/sevenlumi_data/luminator_dataset_augmented/m24/50m/1_0_0_50m/mic2/14.wav\n",
            "Skipping already processed: /content/drive/MyDrive/sevenlumi_data/luminator_dataset_augmented/m24/50m/1_0_0_50m/mic2/11.wav\n",
            "Skipping already processed: /content/drive/MyDrive/sevenlumi_data/luminator_dataset_augmented/m24/50m/1_0_0_50m/mic2/6.wav\n",
            "Skipping already processed: /content/drive/MyDrive/sevenlumi_data/luminator_dataset_augmented/m24/50m/1_0_0_50m/mic2/16.wav\n",
            "Skipping already processed: /content/drive/MyDrive/sevenlumi_data/luminator_dataset_augmented/m24/50m/1_0_0_50m/mic2/10.wav\n",
            "Skipping already processed: /content/drive/MyDrive/sevenlumi_data/luminator_dataset_augmented/m24/50m/1_0_0_50m/mic2/9.wav\n",
            "Skipping already processed: /content/drive/MyDrive/sevenlumi_data/luminator_dataset_augmented/m24/50m/1_0_0_50m/mic2/12.wav\n",
            "Skipping already processed: /content/drive/MyDrive/sevenlumi_data/luminator_dataset_augmented/m24/50m/1_0_0_50m/mic2/8.wav\n"
          ]
        },
        {
          "output_type": "stream",
          "name": "stderr",
          "text": [
            "\r  0%|          | 0/16 [00:00<?, ?it/s]"
          ]
        },
        {
          "output_type": "stream",
          "name": "stdout",
          "text": [
            "Skipping already processed: /content/drive/MyDrive/sevenlumi_data/luminator_dataset_augmented/m24/50m/1_0_0_50m/mic3/1.wav\n",
            "Skipping already processed: /content/drive/MyDrive/sevenlumi_data/luminator_dataset_augmented/m24/50m/1_0_0_50m/mic3/15.wav\n",
            "Skipping already processed: /content/drive/MyDrive/sevenlumi_data/luminator_dataset_augmented/m24/50m/1_0_0_50m/mic3/3.wav\n",
            "Skipping already processed: /content/drive/MyDrive/sevenlumi_data/luminator_dataset_augmented/m24/50m/1_0_0_50m/mic3/13.wav\n"
          ]
        },
        {
          "output_type": "stream",
          "name": "stderr",
          "text": [
            "\r100%|██████████| 16/16 [00:00<00:00, 1018.14it/s]\n"
          ]
        },
        {
          "output_type": "stream",
          "name": "stdout",
          "text": [
            "Skipping already processed: /content/drive/MyDrive/sevenlumi_data/luminator_dataset_augmented/m24/50m/1_0_0_50m/mic3/7.wav\n",
            "Skipping already processed: /content/drive/MyDrive/sevenlumi_data/luminator_dataset_augmented/m24/50m/1_0_0_50m/mic3/2.wav\n",
            "Skipping already processed: /content/drive/MyDrive/sevenlumi_data/luminator_dataset_augmented/m24/50m/1_0_0_50m/mic3/5.wav\n",
            "Skipping already processed: /content/drive/MyDrive/sevenlumi_data/luminator_dataset_augmented/m24/50m/1_0_0_50m/mic3/4.wav\n",
            "Skipping already processed: /content/drive/MyDrive/sevenlumi_data/luminator_dataset_augmented/m24/50m/1_0_0_50m/mic3/14.wav\n",
            "Skipping already processed: /content/drive/MyDrive/sevenlumi_data/luminator_dataset_augmented/m24/50m/1_0_0_50m/mic3/11.wav\n",
            "Skipping already processed: /content/drive/MyDrive/sevenlumi_data/luminator_dataset_augmented/m24/50m/1_0_0_50m/mic3/6.wav\n",
            "Skipping already processed: /content/drive/MyDrive/sevenlumi_data/luminator_dataset_augmented/m24/50m/1_0_0_50m/mic3/16.wav\n",
            "Skipping already processed: /content/drive/MyDrive/sevenlumi_data/luminator_dataset_augmented/m24/50m/1_0_0_50m/mic3/10.wav\n",
            "Skipping already processed: /content/drive/MyDrive/sevenlumi_data/luminator_dataset_augmented/m24/50m/1_0_0_50m/mic3/9.wav\n",
            "Skipping already processed: /content/drive/MyDrive/sevenlumi_data/luminator_dataset_augmented/m24/50m/1_0_0_50m/mic3/12.wav\n",
            "Skipping already processed: /content/drive/MyDrive/sevenlumi_data/luminator_dataset_augmented/m24/50m/1_0_0_50m/mic3/8.wav\n"
          ]
        },
        {
          "output_type": "stream",
          "name": "stderr",
          "text": [
            "\r  0%|          | 0/16 [00:00<?, ?it/s]"
          ]
        },
        {
          "output_type": "stream",
          "name": "stdout",
          "text": [
            "Skipping already processed: /content/drive/MyDrive/sevenlumi_data/luminator_dataset_augmented/m24/50m/1_0_0_50m/mic4/1.wav\n",
            "Skipping already processed: /content/drive/MyDrive/sevenlumi_data/luminator_dataset_augmented/m24/50m/1_0_0_50m/mic4/15.wav\n",
            "Skipping already processed: /content/drive/MyDrive/sevenlumi_data/luminator_dataset_augmented/m24/50m/1_0_0_50m/mic4/3.wav\n",
            "Skipping already processed: /content/drive/MyDrive/sevenlumi_data/luminator_dataset_augmented/m24/50m/1_0_0_50m/mic4/13.wav\n",
            "Skipping already processed: /content/drive/MyDrive/sevenlumi_data/luminator_dataset_augmented/m24/50m/1_0_0_50m/mic4/7.wav\n",
            "Skipping already processed: /content/drive/MyDrive/sevenlumi_data/luminator_dataset_augmented/m24/50m/1_0_0_50m/mic4/2.wav\n",
            "Skipping already processed: /content/drive/MyDrive/sevenlumi_data/luminator_dataset_augmented/m24/50m/1_0_0_50m/mic4/5.wav\n",
            "Skipping already processed: /content/drive/MyDrive/sevenlumi_data/luminator_dataset_augmented/m24/50m/1_0_0_50m/mic4/4.wav\n",
            "Skipping already processed: /content/drive/MyDrive/sevenlumi_data/luminator_dataset_augmented/m24/50m/1_0_0_50m/mic4/14.wav\n",
            "Skipping already processed: /content/drive/MyDrive/sevenlumi_data/luminator_dataset_augmented/m24/50m/1_0_0_50m/mic4/11.wav\n",
            "Skipping already processed: /content/drive/MyDrive/sevenlumi_data/luminator_dataset_augmented/m24/50m/1_0_0_50m/mic4/6.wav\n",
            "Skipping already processed: /content/drive/MyDrive/sevenlumi_data/luminator_dataset_augmented/m24/50m/1_0_0_50m/mic4/16.wav\n",
            "Skipping already processed: /content/drive/MyDrive/sevenlumi_data/luminator_dataset_augmented/m24/50m/1_0_0_50m/mic4/10.wav\n",
            "Skipping already processed: /content/drive/MyDrive/sevenlumi_data/luminator_dataset_augmented/m24/50m/1_0_0_50m/mic4/9.wav\n"
          ]
        },
        {
          "output_type": "stream",
          "name": "stderr",
          "text": [
            "\r100%|██████████| 16/16 [00:00<00:00, 908.79it/s]\n"
          ]
        },
        {
          "output_type": "stream",
          "name": "stdout",
          "text": [
            "Skipping already processed: /content/drive/MyDrive/sevenlumi_data/luminator_dataset_augmented/m24/50m/1_0_0_50m/mic4/12.wav\n",
            "Skipping already processed: /content/drive/MyDrive/sevenlumi_data/luminator_dataset_augmented/m24/50m/1_0_0_50m/mic4/8.wav\n"
          ]
        },
        {
          "output_type": "stream",
          "name": "stderr",
          "text": [
            "0it [00:00, ?it/s]\n",
            "  0%|          | 0/14 [00:00<?, ?it/s]"
          ]
        },
        {
          "output_type": "stream",
          "name": "stdout",
          "text": [
            "Skipping already processed: /content/drive/MyDrive/sevenlumi_data/luminator_dataset_augmented/m24/50m/0_0_-1_50m/mic1/2.wav\n",
            "Skipping already processed: /content/drive/MyDrive/sevenlumi_data/luminator_dataset_augmented/m24/50m/0_0_-1_50m/mic1/1.wav\n",
            "Skipping already processed: /content/drive/MyDrive/sevenlumi_data/luminator_dataset_augmented/m24/50m/0_0_-1_50m/mic1/6.wav\n"
          ]
        },
        {
          "output_type": "stream",
          "name": "stderr",
          "text": [
            "\r100%|██████████| 14/14 [00:00<00:00, 932.81it/s]\n"
          ]
        },
        {
          "output_type": "stream",
          "name": "stdout",
          "text": [
            "Skipping already processed: /content/drive/MyDrive/sevenlumi_data/luminator_dataset_augmented/m24/50m/0_0_-1_50m/mic1/13.wav\n",
            "Skipping already processed: /content/drive/MyDrive/sevenlumi_data/luminator_dataset_augmented/m24/50m/0_0_-1_50m/mic1/7.wav\n",
            "Skipping already processed: /content/drive/MyDrive/sevenlumi_data/luminator_dataset_augmented/m24/50m/0_0_-1_50m/mic1/11.wav\n",
            "Skipping already processed: /content/drive/MyDrive/sevenlumi_data/luminator_dataset_augmented/m24/50m/0_0_-1_50m/mic1/3.wav\n",
            "Skipping already processed: /content/drive/MyDrive/sevenlumi_data/luminator_dataset_augmented/m24/50m/0_0_-1_50m/mic1/12.wav\n",
            "Skipping already processed: /content/drive/MyDrive/sevenlumi_data/luminator_dataset_augmented/m24/50m/0_0_-1_50m/mic1/14.wav\n",
            "Skipping already processed: /content/drive/MyDrive/sevenlumi_data/luminator_dataset_augmented/m24/50m/0_0_-1_50m/mic1/5.wav\n",
            "Skipping already processed: /content/drive/MyDrive/sevenlumi_data/luminator_dataset_augmented/m24/50m/0_0_-1_50m/mic1/4.wav\n",
            "Skipping already processed: /content/drive/MyDrive/sevenlumi_data/luminator_dataset_augmented/m24/50m/0_0_-1_50m/mic1/8.wav\n",
            "Skipping already processed: /content/drive/MyDrive/sevenlumi_data/luminator_dataset_augmented/m24/50m/0_0_-1_50m/mic1/9.wav\n",
            "Skipping already processed: /content/drive/MyDrive/sevenlumi_data/luminator_dataset_augmented/m24/50m/0_0_-1_50m/mic1/10.wav\n"
          ]
        },
        {
          "output_type": "stream",
          "name": "stderr",
          "text": [
            "\r  0%|          | 0/14 [00:00<?, ?it/s]"
          ]
        },
        {
          "output_type": "stream",
          "name": "stdout",
          "text": [
            "Skipping already processed: /content/drive/MyDrive/sevenlumi_data/luminator_dataset_augmented/m24/50m/0_0_-1_50m/mic2/2.wav\n",
            "Skipping already processed: /content/drive/MyDrive/sevenlumi_data/luminator_dataset_augmented/m24/50m/0_0_-1_50m/mic2/1.wav\n",
            "Skipping already processed: /content/drive/MyDrive/sevenlumi_data/luminator_dataset_augmented/m24/50m/0_0_-1_50m/mic2/6.wav\n",
            "Skipping already processed: /content/drive/MyDrive/sevenlumi_data/luminator_dataset_augmented/m24/50m/0_0_-1_50m/mic2/13.wav\n",
            "Skipping already processed: /content/drive/MyDrive/sevenlumi_data/luminator_dataset_augmented/m24/50m/0_0_-1_50m/mic2/7.wav\n",
            "Skipping already processed: /content/drive/MyDrive/sevenlumi_data/luminator_dataset_augmented/m24/50m/0_0_-1_50m/mic2/11.wav\n",
            "Skipping already processed: /content/drive/MyDrive/sevenlumi_data/luminator_dataset_augmented/m24/50m/0_0_-1_50m/mic2/3.wav\n"
          ]
        },
        {
          "output_type": "stream",
          "name": "stderr",
          "text": [
            "\r100%|██████████| 14/14 [00:00<00:00, 1036.84it/s]\n"
          ]
        },
        {
          "output_type": "stream",
          "name": "stdout",
          "text": [
            "Skipping already processed: /content/drive/MyDrive/sevenlumi_data/luminator_dataset_augmented/m24/50m/0_0_-1_50m/mic2/12.wav\n",
            "Skipping already processed: /content/drive/MyDrive/sevenlumi_data/luminator_dataset_augmented/m24/50m/0_0_-1_50m/mic2/14.wav\n",
            "Skipping already processed: /content/drive/MyDrive/sevenlumi_data/luminator_dataset_augmented/m24/50m/0_0_-1_50m/mic2/5.wav\n",
            "Skipping already processed: /content/drive/MyDrive/sevenlumi_data/luminator_dataset_augmented/m24/50m/0_0_-1_50m/mic2/4.wav\n",
            "Skipping already processed: /content/drive/MyDrive/sevenlumi_data/luminator_dataset_augmented/m24/50m/0_0_-1_50m/mic2/8.wav\n",
            "Skipping already processed: /content/drive/MyDrive/sevenlumi_data/luminator_dataset_augmented/m24/50m/0_0_-1_50m/mic2/9.wav\n",
            "Skipping already processed: /content/drive/MyDrive/sevenlumi_data/luminator_dataset_augmented/m24/50m/0_0_-1_50m/mic2/10.wav\n"
          ]
        },
        {
          "output_type": "stream",
          "name": "stderr",
          "text": [
            "\r  0%|          | 0/14 [00:00<?, ?it/s]"
          ]
        },
        {
          "output_type": "stream",
          "name": "stdout",
          "text": [
            "Skipping already processed: /content/drive/MyDrive/sevenlumi_data/luminator_dataset_augmented/m24/50m/0_0_-1_50m/mic3/2.wav\n",
            "Skipping already processed: /content/drive/MyDrive/sevenlumi_data/luminator_dataset_augmented/m24/50m/0_0_-1_50m/mic3/1.wav\n",
            "Skipping already processed: /content/drive/MyDrive/sevenlumi_data/luminator_dataset_augmented/m24/50m/0_0_-1_50m/mic3/6.wav\n",
            "Skipping already processed: /content/drive/MyDrive/sevenlumi_data/luminator_dataset_augmented/m24/50m/0_0_-1_50m/mic3/13.wav\n",
            "Skipping already processed: /content/drive/MyDrive/sevenlumi_data/luminator_dataset_augmented/m24/50m/0_0_-1_50m/mic3/7.wav\n",
            "Skipping already processed: /content/drive/MyDrive/sevenlumi_data/luminator_dataset_augmented/m24/50m/0_0_-1_50m/mic3/11.wav\n",
            "Skipping already processed: /content/drive/MyDrive/sevenlumi_data/luminator_dataset_augmented/m24/50m/0_0_-1_50m/mic3/3.wav\n",
            "Skipping already processed: /content/drive/MyDrive/sevenlumi_data/luminator_dataset_augmented/m24/50m/0_0_-1_50m/mic3/12.wav\n",
            "Skipping already processed: /content/drive/MyDrive/sevenlumi_data/luminator_dataset_augmented/m24/50m/0_0_-1_50m/mic3/14.wav\n",
            "Skipping already processed: /content/drive/MyDrive/sevenlumi_data/luminator_dataset_augmented/m24/50m/0_0_-1_50m/mic3/5.wav\n",
            "Skipping already processed: /content/drive/MyDrive/sevenlumi_data/luminator_dataset_augmented/m24/50m/0_0_-1_50m/mic3/4.wav\n",
            "Skipping already processed: /content/drive/MyDrive/sevenlumi_data/luminator_dataset_augmented/m24/50m/0_0_-1_50m/mic3/8.wav\n"
          ]
        },
        {
          "output_type": "stream",
          "name": "stderr",
          "text": [
            "\r100%|██████████| 14/14 [00:00<00:00, 1017.19it/s]\n"
          ]
        },
        {
          "output_type": "stream",
          "name": "stdout",
          "text": [
            "Skipping already processed: /content/drive/MyDrive/sevenlumi_data/luminator_dataset_augmented/m24/50m/0_0_-1_50m/mic3/9.wav\n",
            "Skipping already processed: /content/drive/MyDrive/sevenlumi_data/luminator_dataset_augmented/m24/50m/0_0_-1_50m/mic3/10.wav\n"
          ]
        },
        {
          "output_type": "stream",
          "name": "stderr",
          "text": [
            "\r  0%|          | 0/14 [00:00<?, ?it/s]"
          ]
        },
        {
          "output_type": "stream",
          "name": "stdout",
          "text": [
            "Skipping already processed: /content/drive/MyDrive/sevenlumi_data/luminator_dataset_augmented/m24/50m/0_0_-1_50m/mic4/2.wav\n",
            "Skipping already processed: /content/drive/MyDrive/sevenlumi_data/luminator_dataset_augmented/m24/50m/0_0_-1_50m/mic4/1.wav\n",
            "Skipping already processed: /content/drive/MyDrive/sevenlumi_data/luminator_dataset_augmented/m24/50m/0_0_-1_50m/mic4/6.wav\n",
            "Skipping already processed: /content/drive/MyDrive/sevenlumi_data/luminator_dataset_augmented/m24/50m/0_0_-1_50m/mic4/13.wav\n",
            "Skipping already processed: /content/drive/MyDrive/sevenlumi_data/luminator_dataset_augmented/m24/50m/0_0_-1_50m/mic4/7.wav\n",
            "Skipping already processed: /content/drive/MyDrive/sevenlumi_data/luminator_dataset_augmented/m24/50m/0_0_-1_50m/mic4/11.wav\n",
            "Skipping already processed: /content/drive/MyDrive/sevenlumi_data/luminator_dataset_augmented/m24/50m/0_0_-1_50m/mic4/3.wav\n",
            "Skipping already processed: /content/drive/MyDrive/sevenlumi_data/luminator_dataset_augmented/m24/50m/0_0_-1_50m/mic4/12.wav\n"
          ]
        },
        {
          "output_type": "stream",
          "name": "stderr",
          "text": [
            "\r100%|██████████| 14/14 [00:00<00:00, 885.35it/s]\n"
          ]
        },
        {
          "output_type": "stream",
          "name": "stdout",
          "text": [
            "Skipping already processed: /content/drive/MyDrive/sevenlumi_data/luminator_dataset_augmented/m24/50m/0_0_-1_50m/mic4/14.wav\n",
            "Skipping already processed: /content/drive/MyDrive/sevenlumi_data/luminator_dataset_augmented/m24/50m/0_0_-1_50m/mic4/5.wav\n",
            "Skipping already processed: /content/drive/MyDrive/sevenlumi_data/luminator_dataset_augmented/m24/50m/0_0_-1_50m/mic4/4.wav\n",
            "Skipping already processed: /content/drive/MyDrive/sevenlumi_data/luminator_dataset_augmented/m24/50m/0_0_-1_50m/mic4/8.wav\n",
            "Skipping already processed: /content/drive/MyDrive/sevenlumi_data/luminator_dataset_augmented/m24/50m/0_0_-1_50m/mic4/9.wav\n",
            "Skipping already processed: /content/drive/MyDrive/sevenlumi_data/luminator_dataset_augmented/m24/50m/0_0_-1_50m/mic4/10.wav\n"
          ]
        },
        {
          "output_type": "stream",
          "name": "stderr",
          "text": [
            "0it [00:00, ?it/s]\n",
            "100%|██████████| 10/10 [00:00<00:00, 1361.74it/s]"
          ]
        },
        {
          "output_type": "stream",
          "name": "stdout",
          "text": [
            "Skipping already processed: /content/drive/MyDrive/sevenlumi_data/luminator_dataset_augmented/m24/50m/0_0_1_50m/mic1/2.wav\n",
            "Skipping already processed: /content/drive/MyDrive/sevenlumi_data/luminator_dataset_augmented/m24/50m/0_0_1_50m/mic1/7.wav\n",
            "Skipping already processed: /content/drive/MyDrive/sevenlumi_data/luminator_dataset_augmented/m24/50m/0_0_1_50m/mic1/5.wav\n",
            "Skipping already processed: /content/drive/MyDrive/sevenlumi_data/luminator_dataset_augmented/m24/50m/0_0_1_50m/mic1/1.wav\n",
            "Skipping already processed: /content/drive/MyDrive/sevenlumi_data/luminator_dataset_augmented/m24/50m/0_0_1_50m/mic1/8.wav\n",
            "Skipping already processed: /content/drive/MyDrive/sevenlumi_data/luminator_dataset_augmented/m24/50m/0_0_1_50m/mic1/4.wav\n",
            "Skipping already processed: /content/drive/MyDrive/sevenlumi_data/luminator_dataset_augmented/m24/50m/0_0_1_50m/mic1/9.wav\n",
            "Skipping already processed: /content/drive/MyDrive/sevenlumi_data/luminator_dataset_augmented/m24/50m/0_0_1_50m/mic1/3.wav\n",
            "Skipping already processed: /content/drive/MyDrive/sevenlumi_data/luminator_dataset_augmented/m24/50m/0_0_1_50m/mic1/6.wav\n",
            "Skipping already processed: /content/drive/MyDrive/sevenlumi_data/luminator_dataset_augmented/m24/50m/0_0_1_50m/mic1/10.wav\n"
          ]
        },
        {
          "output_type": "stream",
          "name": "stderr",
          "text": [
            "\n",
            "  0%|          | 0/10 [00:00<?, ?it/s]"
          ]
        },
        {
          "output_type": "stream",
          "name": "stdout",
          "text": [
            "Skipping already processed: /content/drive/MyDrive/sevenlumi_data/luminator_dataset_augmented/m24/50m/0_0_1_50m/mic2/2.wav\n",
            "Skipping already processed: /content/drive/MyDrive/sevenlumi_data/luminator_dataset_augmented/m24/50m/0_0_1_50m/mic2/7.wav\n",
            "Skipping already processed: /content/drive/MyDrive/sevenlumi_data/luminator_dataset_augmented/m24/50m/0_0_1_50m/mic2/5.wav\n",
            "Skipping already processed: /content/drive/MyDrive/sevenlumi_data/luminator_dataset_augmented/m24/50m/0_0_1_50m/mic2/1.wav\n"
          ]
        },
        {
          "output_type": "stream",
          "name": "stderr",
          "text": [
            "\r100%|██████████| 10/10 [00:00<00:00, 831.02it/s]"
          ]
        },
        {
          "output_type": "stream",
          "name": "stdout",
          "text": [
            "Skipping already processed: /content/drive/MyDrive/sevenlumi_data/luminator_dataset_augmented/m24/50m/0_0_1_50m/mic2/8.wav\n",
            "Skipping already processed: /content/drive/MyDrive/sevenlumi_data/luminator_dataset_augmented/m24/50m/0_0_1_50m/mic2/4.wav\n",
            "Skipping already processed: /content/drive/MyDrive/sevenlumi_data/luminator_dataset_augmented/m24/50m/0_0_1_50m/mic2/9.wav\n",
            "Skipping already processed: /content/drive/MyDrive/sevenlumi_data/luminator_dataset_augmented/m24/50m/0_0_1_50m/mic2/3.wav\n",
            "Skipping already processed: /content/drive/MyDrive/sevenlumi_data/luminator_dataset_augmented/m24/50m/0_0_1_50m/mic2/6.wav\n",
            "Skipping already processed: /content/drive/MyDrive/sevenlumi_data/luminator_dataset_augmented/m24/50m/0_0_1_50m/mic2/10.wav\n"
          ]
        },
        {
          "output_type": "stream",
          "name": "stderr",
          "text": [
            "\n",
            "100%|██████████| 10/10 [00:00<00:00, 1188.46it/s]\n"
          ]
        },
        {
          "output_type": "stream",
          "name": "stdout",
          "text": [
            "Skipping already processed: /content/drive/MyDrive/sevenlumi_data/luminator_dataset_augmented/m24/50m/0_0_1_50m/mic3/2.wav\n",
            "Skipping already processed: /content/drive/MyDrive/sevenlumi_data/luminator_dataset_augmented/m24/50m/0_0_1_50m/mic3/7.wav\n",
            "Skipping already processed: /content/drive/MyDrive/sevenlumi_data/luminator_dataset_augmented/m24/50m/0_0_1_50m/mic3/5.wav\n",
            "Skipping already processed: /content/drive/MyDrive/sevenlumi_data/luminator_dataset_augmented/m24/50m/0_0_1_50m/mic3/1.wav\n",
            "Skipping already processed: /content/drive/MyDrive/sevenlumi_data/luminator_dataset_augmented/m24/50m/0_0_1_50m/mic3/8.wav\n",
            "Skipping already processed: /content/drive/MyDrive/sevenlumi_data/luminator_dataset_augmented/m24/50m/0_0_1_50m/mic3/4.wav\n",
            "Skipping already processed: /content/drive/MyDrive/sevenlumi_data/luminator_dataset_augmented/m24/50m/0_0_1_50m/mic3/9.wav\n",
            "Skipping already processed: /content/drive/MyDrive/sevenlumi_data/luminator_dataset_augmented/m24/50m/0_0_1_50m/mic3/3.wav\n",
            "Skipping already processed: /content/drive/MyDrive/sevenlumi_data/luminator_dataset_augmented/m24/50m/0_0_1_50m/mic3/6.wav\n",
            "Skipping already processed: /content/drive/MyDrive/sevenlumi_data/luminator_dataset_augmented/m24/50m/0_0_1_50m/mic3/10.wav\n"
          ]
        },
        {
          "output_type": "stream",
          "name": "stderr",
          "text": [
            "100%|██████████| 10/10 [00:00<00:00, 1466.33it/s]\n"
          ]
        },
        {
          "output_type": "stream",
          "name": "stdout",
          "text": [
            "Skipping already processed: /content/drive/MyDrive/sevenlumi_data/luminator_dataset_augmented/m24/50m/0_0_1_50m/mic4/2.wav\n",
            "Skipping already processed: /content/drive/MyDrive/sevenlumi_data/luminator_dataset_augmented/m24/50m/0_0_1_50m/mic4/7.wav\n",
            "Skipping already processed: /content/drive/MyDrive/sevenlumi_data/luminator_dataset_augmented/m24/50m/0_0_1_50m/mic4/5.wav\n",
            "Skipping already processed: /content/drive/MyDrive/sevenlumi_data/luminator_dataset_augmented/m24/50m/0_0_1_50m/mic4/1.wav\n",
            "Skipping already processed: /content/drive/MyDrive/sevenlumi_data/luminator_dataset_augmented/m24/50m/0_0_1_50m/mic4/8.wav\n",
            "Skipping already processed: /content/drive/MyDrive/sevenlumi_data/luminator_dataset_augmented/m24/50m/0_0_1_50m/mic4/4.wav\n",
            "Skipping already processed: /content/drive/MyDrive/sevenlumi_data/luminator_dataset_augmented/m24/50m/0_0_1_50m/mic4/9.wav\n",
            "Skipping already processed: /content/drive/MyDrive/sevenlumi_data/luminator_dataset_augmented/m24/50m/0_0_1_50m/mic4/3.wav\n",
            "Skipping already processed: /content/drive/MyDrive/sevenlumi_data/luminator_dataset_augmented/m24/50m/0_0_1_50m/mic4/6.wav\n",
            "Skipping already processed: /content/drive/MyDrive/sevenlumi_data/luminator_dataset_augmented/m24/50m/0_0_1_50m/mic4/10.wav\n"
          ]
        },
        {
          "output_type": "stream",
          "name": "stderr",
          "text": [
            "0it [00:00, ?it/s]\n",
            "  0%|          | 0/19 [00:00<?, ?it/s]"
          ]
        },
        {
          "output_type": "stream",
          "name": "stdout",
          "text": [
            "Skipping already processed: /content/drive/MyDrive/sevenlumi_data/luminator_dataset_augmented/m24/50m/-1_0_0_50m/mic1/8.wav\n"
          ]
        },
        {
          "output_type": "stream",
          "name": "stderr",
          "text": [
            "\r100%|██████████| 19/19 [00:00<00:00, 884.14it/s]"
          ]
        },
        {
          "output_type": "stream",
          "name": "stdout",
          "text": [
            "Skipping already processed: /content/drive/MyDrive/sevenlumi_data/luminator_dataset_augmented/m24/50m/-1_0_0_50m/mic1/11.wav\n",
            "Skipping already processed: /content/drive/MyDrive/sevenlumi_data/luminator_dataset_augmented/m24/50m/-1_0_0_50m/mic1/4.wav\n",
            "Skipping already processed: /content/drive/MyDrive/sevenlumi_data/luminator_dataset_augmented/m24/50m/-1_0_0_50m/mic1/18.wav\n",
            "Skipping already processed: /content/drive/MyDrive/sevenlumi_data/luminator_dataset_augmented/m24/50m/-1_0_0_50m/mic1/13.wav\n",
            "Skipping already processed: /content/drive/MyDrive/sevenlumi_data/luminator_dataset_augmented/m24/50m/-1_0_0_50m/mic1/6.wav\n",
            "Skipping already processed: /content/drive/MyDrive/sevenlumi_data/luminator_dataset_augmented/m24/50m/-1_0_0_50m/mic1/7.wav\n",
            "Skipping already processed: /content/drive/MyDrive/sevenlumi_data/luminator_dataset_augmented/m24/50m/-1_0_0_50m/mic1/10.wav\n",
            "Skipping already processed: /content/drive/MyDrive/sevenlumi_data/luminator_dataset_augmented/m24/50m/-1_0_0_50m/mic1/15.wav\n",
            "Skipping already processed: /content/drive/MyDrive/sevenlumi_data/luminator_dataset_augmented/m24/50m/-1_0_0_50m/mic1/3.wav\n",
            "Skipping already processed: /content/drive/MyDrive/sevenlumi_data/luminator_dataset_augmented/m24/50m/-1_0_0_50m/mic1/14.wav\n",
            "Skipping already processed: /content/drive/MyDrive/sevenlumi_data/luminator_dataset_augmented/m24/50m/-1_0_0_50m/mic1/5.wav\n",
            "Skipping already processed: /content/drive/MyDrive/sevenlumi_data/luminator_dataset_augmented/m24/50m/-1_0_0_50m/mic1/9.wav\n",
            "Skipping already processed: /content/drive/MyDrive/sevenlumi_data/luminator_dataset_augmented/m24/50m/-1_0_0_50m/mic1/2.wav\n",
            "Skipping already processed: /content/drive/MyDrive/sevenlumi_data/luminator_dataset_augmented/m24/50m/-1_0_0_50m/mic1/17.wav\n",
            "Skipping already processed: /content/drive/MyDrive/sevenlumi_data/luminator_dataset_augmented/m24/50m/-1_0_0_50m/mic1/19.wav\n",
            "Skipping already processed: /content/drive/MyDrive/sevenlumi_data/luminator_dataset_augmented/m24/50m/-1_0_0_50m/mic1/12.wav\n",
            "Skipping already processed: /content/drive/MyDrive/sevenlumi_data/luminator_dataset_augmented/m24/50m/-1_0_0_50m/mic1/1.wav\n",
            "Skipping already processed: /content/drive/MyDrive/sevenlumi_data/luminator_dataset_augmented/m24/50m/-1_0_0_50m/mic1/16.wav\n"
          ]
        },
        {
          "output_type": "stream",
          "name": "stderr",
          "text": [
            "\n",
            "  0%|          | 0/19 [00:00<?, ?it/s]"
          ]
        },
        {
          "output_type": "stream",
          "name": "stdout",
          "text": [
            "Skipping already processed: /content/drive/MyDrive/sevenlumi_data/luminator_dataset_augmented/m24/50m/-1_0_0_50m/mic2/8.wav\n",
            "Skipping already processed: /content/drive/MyDrive/sevenlumi_data/luminator_dataset_augmented/m24/50m/-1_0_0_50m/mic2/11.wav\n",
            "Skipping already processed: /content/drive/MyDrive/sevenlumi_data/luminator_dataset_augmented/m24/50m/-1_0_0_50m/mic2/4.wav\n",
            "Skipping already processed: /content/drive/MyDrive/sevenlumi_data/luminator_dataset_augmented/m24/50m/-1_0_0_50m/mic2/18.wav\n",
            "Skipping already processed: /content/drive/MyDrive/sevenlumi_data/luminator_dataset_augmented/m24/50m/-1_0_0_50m/mic2/13.wav\n",
            "Skipping already processed: /content/drive/MyDrive/sevenlumi_data/luminator_dataset_augmented/m24/50m/-1_0_0_50m/mic2/6.wav\n"
          ]
        },
        {
          "output_type": "stream",
          "name": "stderr",
          "text": [
            "\r100%|██████████| 19/19 [00:00<00:00, 1223.99it/s]\n"
          ]
        },
        {
          "output_type": "stream",
          "name": "stdout",
          "text": [
            "Skipping already processed: /content/drive/MyDrive/sevenlumi_data/luminator_dataset_augmented/m24/50m/-1_0_0_50m/mic2/7.wav\n",
            "Skipping already processed: /content/drive/MyDrive/sevenlumi_data/luminator_dataset_augmented/m24/50m/-1_0_0_50m/mic2/10.wav\n",
            "Skipping already processed: /content/drive/MyDrive/sevenlumi_data/luminator_dataset_augmented/m24/50m/-1_0_0_50m/mic2/15.wav\n",
            "Skipping already processed: /content/drive/MyDrive/sevenlumi_data/luminator_dataset_augmented/m24/50m/-1_0_0_50m/mic2/3.wav\n",
            "Skipping already processed: /content/drive/MyDrive/sevenlumi_data/luminator_dataset_augmented/m24/50m/-1_0_0_50m/mic2/14.wav\n",
            "Skipping already processed: /content/drive/MyDrive/sevenlumi_data/luminator_dataset_augmented/m24/50m/-1_0_0_50m/mic2/5.wav\n",
            "Skipping already processed: /content/drive/MyDrive/sevenlumi_data/luminator_dataset_augmented/m24/50m/-1_0_0_50m/mic2/9.wav\n",
            "Skipping already processed: /content/drive/MyDrive/sevenlumi_data/luminator_dataset_augmented/m24/50m/-1_0_0_50m/mic2/2.wav\n",
            "Skipping already processed: /content/drive/MyDrive/sevenlumi_data/luminator_dataset_augmented/m24/50m/-1_0_0_50m/mic2/17.wav\n",
            "Skipping already processed: /content/drive/MyDrive/sevenlumi_data/luminator_dataset_augmented/m24/50m/-1_0_0_50m/mic2/19.wav\n",
            "Skipping already processed: /content/drive/MyDrive/sevenlumi_data/luminator_dataset_augmented/m24/50m/-1_0_0_50m/mic2/12.wav\n",
            "Skipping already processed: /content/drive/MyDrive/sevenlumi_data/luminator_dataset_augmented/m24/50m/-1_0_0_50m/mic2/1.wav\n",
            "Skipping already processed: /content/drive/MyDrive/sevenlumi_data/luminator_dataset_augmented/m24/50m/-1_0_0_50m/mic2/16.wav\n"
          ]
        },
        {
          "output_type": "stream",
          "name": "stderr",
          "text": [
            "\r  0%|          | 0/19 [00:00<?, ?it/s]"
          ]
        },
        {
          "output_type": "stream",
          "name": "stdout",
          "text": [
            "Skipping already processed: /content/drive/MyDrive/sevenlumi_data/luminator_dataset_augmented/m24/50m/-1_0_0_50m/mic3/8.wav\n",
            "Skipping already processed: /content/drive/MyDrive/sevenlumi_data/luminator_dataset_augmented/m24/50m/-1_0_0_50m/mic3/11.wav\n",
            "Skipping already processed: /content/drive/MyDrive/sevenlumi_data/luminator_dataset_augmented/m24/50m/-1_0_0_50m/mic3/4.wav\n",
            "Skipping already processed: /content/drive/MyDrive/sevenlumi_data/luminator_dataset_augmented/m24/50m/-1_0_0_50m/mic3/18.wav\n",
            "Skipping already processed: /content/drive/MyDrive/sevenlumi_data/luminator_dataset_augmented/m24/50m/-1_0_0_50m/mic3/13.wav\n",
            "Skipping already processed: /content/drive/MyDrive/sevenlumi_data/luminator_dataset_augmented/m24/50m/-1_0_0_50m/mic3/6.wav\n",
            "Skipping already processed: /content/drive/MyDrive/sevenlumi_data/luminator_dataset_augmented/m24/50m/-1_0_0_50m/mic3/7.wav\n",
            "Skipping already processed: /content/drive/MyDrive/sevenlumi_data/luminator_dataset_augmented/m24/50m/-1_0_0_50m/mic3/10.wav\n",
            "Skipping already processed: /content/drive/MyDrive/sevenlumi_data/luminator_dataset_augmented/m24/50m/-1_0_0_50m/mic3/15.wav\n",
            "Skipping already processed: /content/drive/MyDrive/sevenlumi_data/luminator_dataset_augmented/m24/50m/-1_0_0_50m/mic3/3.wav\n",
            "Skipping already processed: /content/drive/MyDrive/sevenlumi_data/luminator_dataset_augmented/m24/50m/-1_0_0_50m/mic3/14.wav\n",
            "Skipping already processed: /content/drive/MyDrive/sevenlumi_data/luminator_dataset_augmented/m24/50m/-1_0_0_50m/mic3/5.wav\n",
            "Skipping already processed: /content/drive/MyDrive/sevenlumi_data/luminator_dataset_augmented/m24/50m/-1_0_0_50m/mic3/9.wav\n",
            "Skipping already processed: /content/drive/MyDrive/sevenlumi_data/luminator_dataset_augmented/m24/50m/-1_0_0_50m/mic3/2.wav\n",
            "Skipping already processed: /content/drive/MyDrive/sevenlumi_data/luminator_dataset_augmented/m24/50m/-1_0_0_50m/mic3/17.wav\n"
          ]
        },
        {
          "output_type": "stream",
          "name": "stderr",
          "text": [
            "\r100%|██████████| 19/19 [00:00<00:00, 861.57it/s]"
          ]
        },
        {
          "output_type": "stream",
          "name": "stdout",
          "text": [
            "Skipping already processed: /content/drive/MyDrive/sevenlumi_data/luminator_dataset_augmented/m24/50m/-1_0_0_50m/mic3/19.wav\n",
            "Skipping already processed: /content/drive/MyDrive/sevenlumi_data/luminator_dataset_augmented/m24/50m/-1_0_0_50m/mic3/12.wav\n",
            "Skipping already processed: /content/drive/MyDrive/sevenlumi_data/luminator_dataset_augmented/m24/50m/-1_0_0_50m/mic3/1.wav\n",
            "Skipping already processed: /content/drive/MyDrive/sevenlumi_data/luminator_dataset_augmented/m24/50m/-1_0_0_50m/mic3/16.wav\n"
          ]
        },
        {
          "output_type": "stream",
          "name": "stderr",
          "text": [
            "\n",
            "  0%|          | 0/19 [00:00<?, ?it/s]"
          ]
        },
        {
          "output_type": "stream",
          "name": "stdout",
          "text": [
            "Skipping already processed: /content/drive/MyDrive/sevenlumi_data/luminator_dataset_augmented/m24/50m/-1_0_0_50m/mic4/8.wav\n",
            "Skipping already processed: /content/drive/MyDrive/sevenlumi_data/luminator_dataset_augmented/m24/50m/-1_0_0_50m/mic4/11.wav\n",
            "Skipping already processed: /content/drive/MyDrive/sevenlumi_data/luminator_dataset_augmented/m24/50m/-1_0_0_50m/mic4/4.wav\n",
            "Skipping already processed: /content/drive/MyDrive/sevenlumi_data/luminator_dataset_augmented/m24/50m/-1_0_0_50m/mic4/18.wav\n",
            "Skipping already processed: /content/drive/MyDrive/sevenlumi_data/luminator_dataset_augmented/m24/50m/-1_0_0_50m/mic4/13.wav\n",
            "Skipping already processed: /content/drive/MyDrive/sevenlumi_data/luminator_dataset_augmented/m24/50m/-1_0_0_50m/mic4/6.wav\n",
            "Skipping already processed: /content/drive/MyDrive/sevenlumi_data/luminator_dataset_augmented/m24/50m/-1_0_0_50m/mic4/7.wav\n"
          ]
        },
        {
          "output_type": "stream",
          "name": "stderr",
          "text": [
            "\r100%|██████████| 19/19 [00:00<00:00, 1221.85it/s]"
          ]
        },
        {
          "output_type": "stream",
          "name": "stdout",
          "text": [
            "Skipping already processed: /content/drive/MyDrive/sevenlumi_data/luminator_dataset_augmented/m24/50m/-1_0_0_50m/mic4/10.wav\n",
            "Skipping already processed: /content/drive/MyDrive/sevenlumi_data/luminator_dataset_augmented/m24/50m/-1_0_0_50m/mic4/15.wav\n",
            "Skipping already processed: /content/drive/MyDrive/sevenlumi_data/luminator_dataset_augmented/m24/50m/-1_0_0_50m/mic4/3.wav\n",
            "Skipping already processed: /content/drive/MyDrive/sevenlumi_data/luminator_dataset_augmented/m24/50m/-1_0_0_50m/mic4/14.wav\n",
            "Skipping already processed: /content/drive/MyDrive/sevenlumi_data/luminator_dataset_augmented/m24/50m/-1_0_0_50m/mic4/5.wav\n",
            "Skipping already processed: /content/drive/MyDrive/sevenlumi_data/luminator_dataset_augmented/m24/50m/-1_0_0_50m/mic4/9.wav\n",
            "Skipping already processed: /content/drive/MyDrive/sevenlumi_data/luminator_dataset_augmented/m24/50m/-1_0_0_50m/mic4/2.wav\n",
            "Skipping already processed: /content/drive/MyDrive/sevenlumi_data/luminator_dataset_augmented/m24/50m/-1_0_0_50m/mic4/17.wav\n",
            "Skipping already processed: /content/drive/MyDrive/sevenlumi_data/luminator_dataset_augmented/m24/50m/-1_0_0_50m/mic4/19.wav\n",
            "Skipping already processed: /content/drive/MyDrive/sevenlumi_data/luminator_dataset_augmented/m24/50m/-1_0_0_50m/mic4/12.wav\n",
            "Skipping already processed: /content/drive/MyDrive/sevenlumi_data/luminator_dataset_augmented/m24/50m/-1_0_0_50m/mic4/1.wav\n",
            "Skipping already processed: /content/drive/MyDrive/sevenlumi_data/luminator_dataset_augmented/m24/50m/-1_0_0_50m/mic4/16.wav\n"
          ]
        },
        {
          "output_type": "stream",
          "name": "stderr",
          "text": [
            "\n",
            "0it [00:00, ?it/s]\n",
            "0it [00:00, ?it/s]\n",
            "100%|██████████| 24/24 [00:00<00:00, 1201.53it/s]\n"
          ]
        },
        {
          "output_type": "stream",
          "name": "stdout",
          "text": [
            "Skipping already processed: /content/drive/MyDrive/sevenlumi_data/luminator_dataset_augmented/m24/400m/1_0_0_400m/mic1/4.wav\n",
            "Skipping already processed: /content/drive/MyDrive/sevenlumi_data/luminator_dataset_augmented/m24/400m/1_0_0_400m/mic1/1.wav\n",
            "Skipping already processed: /content/drive/MyDrive/sevenlumi_data/luminator_dataset_augmented/m24/400m/1_0_0_400m/mic1/3.wav\n",
            "Skipping already processed: /content/drive/MyDrive/sevenlumi_data/luminator_dataset_augmented/m24/400m/1_0_0_400m/mic1/5.wav\n",
            "Skipping already processed: /content/drive/MyDrive/sevenlumi_data/luminator_dataset_augmented/m24/400m/1_0_0_400m/mic1/2.wav\n",
            "Skipping already processed: /content/drive/MyDrive/sevenlumi_data/luminator_dataset_augmented/m24/400m/1_0_0_400m/mic1/19.wav\n",
            "Skipping already processed: /content/drive/MyDrive/sevenlumi_data/luminator_dataset_augmented/m24/400m/1_0_0_400m/mic1/21.wav\n",
            "Skipping already processed: /content/drive/MyDrive/sevenlumi_data/luminator_dataset_augmented/m24/400m/1_0_0_400m/mic1/13.wav\n",
            "Skipping already processed: /content/drive/MyDrive/sevenlumi_data/luminator_dataset_augmented/m24/400m/1_0_0_400m/mic1/24.wav\n",
            "Skipping already processed: /content/drive/MyDrive/sevenlumi_data/luminator_dataset_augmented/m24/400m/1_0_0_400m/mic1/18.wav\n",
            "Skipping already processed: /content/drive/MyDrive/sevenlumi_data/luminator_dataset_augmented/m24/400m/1_0_0_400m/mic1/15.wav\n",
            "Skipping already processed: /content/drive/MyDrive/sevenlumi_data/luminator_dataset_augmented/m24/400m/1_0_0_400m/mic1/14.wav\n",
            "Skipping already processed: /content/drive/MyDrive/sevenlumi_data/luminator_dataset_augmented/m24/400m/1_0_0_400m/mic1/9.wav\n",
            "Skipping already processed: /content/drive/MyDrive/sevenlumi_data/luminator_dataset_augmented/m24/400m/1_0_0_400m/mic1/22.wav\n",
            "Skipping already processed: /content/drive/MyDrive/sevenlumi_data/luminator_dataset_augmented/m24/400m/1_0_0_400m/mic1/8.wav\n",
            "Skipping already processed: /content/drive/MyDrive/sevenlumi_data/luminator_dataset_augmented/m24/400m/1_0_0_400m/mic1/7.wav\n",
            "Skipping already processed: /content/drive/MyDrive/sevenlumi_data/luminator_dataset_augmented/m24/400m/1_0_0_400m/mic1/17.wav\n",
            "Skipping already processed: /content/drive/MyDrive/sevenlumi_data/luminator_dataset_augmented/m24/400m/1_0_0_400m/mic1/20.wav\n",
            "Skipping already processed: /content/drive/MyDrive/sevenlumi_data/luminator_dataset_augmented/m24/400m/1_0_0_400m/mic1/12.wav\n",
            "Skipping already processed: /content/drive/MyDrive/sevenlumi_data/luminator_dataset_augmented/m24/400m/1_0_0_400m/mic1/6.wav\n",
            "Skipping already processed: /content/drive/MyDrive/sevenlumi_data/luminator_dataset_augmented/m24/400m/1_0_0_400m/mic1/23.wav\n",
            "Skipping already processed: /content/drive/MyDrive/sevenlumi_data/luminator_dataset_augmented/m24/400m/1_0_0_400m/mic1/16.wav\n",
            "Skipping already processed: /content/drive/MyDrive/sevenlumi_data/luminator_dataset_augmented/m24/400m/1_0_0_400m/mic1/10.wav\n",
            "Skipping already processed: /content/drive/MyDrive/sevenlumi_data/luminator_dataset_augmented/m24/400m/1_0_0_400m/mic1/11.wav\n"
          ]
        },
        {
          "output_type": "stream",
          "name": "stderr",
          "text": [
            "\r  0%|          | 0/24 [00:00<?, ?it/s]"
          ]
        },
        {
          "output_type": "stream",
          "name": "stdout",
          "text": [
            "Skipping already processed: /content/drive/MyDrive/sevenlumi_data/luminator_dataset_augmented/m24/400m/1_0_0_400m/mic2/4.wav\n",
            "Skipping already processed: /content/drive/MyDrive/sevenlumi_data/luminator_dataset_augmented/m24/400m/1_0_0_400m/mic2/1.wav\n",
            "Skipping already processed: /content/drive/MyDrive/sevenlumi_data/luminator_dataset_augmented/m24/400m/1_0_0_400m/mic2/3.wav\n",
            "Skipping already processed: /content/drive/MyDrive/sevenlumi_data/luminator_dataset_augmented/m24/400m/1_0_0_400m/mic2/5.wav\n",
            "Skipping already processed: /content/drive/MyDrive/sevenlumi_data/luminator_dataset_augmented/m24/400m/1_0_0_400m/mic2/2.wav\n",
            "Skipping already processed: /content/drive/MyDrive/sevenlumi_data/luminator_dataset_augmented/m24/400m/1_0_0_400m/mic2/19.wav\n",
            "Skipping already processed: /content/drive/MyDrive/sevenlumi_data/luminator_dataset_augmented/m24/400m/1_0_0_400m/mic2/21.wav\n",
            "Skipping already processed: /content/drive/MyDrive/sevenlumi_data/luminator_dataset_augmented/m24/400m/1_0_0_400m/mic2/13.wav\n",
            "Skipping already processed: /content/drive/MyDrive/sevenlumi_data/luminator_dataset_augmented/m24/400m/1_0_0_400m/mic2/24.wav\n",
            "Skipping already processed: /content/drive/MyDrive/sevenlumi_data/luminator_dataset_augmented/m24/400m/1_0_0_400m/mic2/18.wav\n",
            "Skipping already processed: /content/drive/MyDrive/sevenlumi_data/luminator_dataset_augmented/m24/400m/1_0_0_400m/mic2/15.wav\n",
            "Skipping already processed: /content/drive/MyDrive/sevenlumi_data/luminator_dataset_augmented/m24/400m/1_0_0_400m/mic2/14.wav\n",
            "Skipping already processed: /content/drive/MyDrive/sevenlumi_data/luminator_dataset_augmented/m24/400m/1_0_0_400m/mic2/9.wav\n",
            "Skipping already processed: /content/drive/MyDrive/sevenlumi_data/luminator_dataset_augmented/m24/400m/1_0_0_400m/mic2/22.wav\n",
            "Skipping already processed: /content/drive/MyDrive/sevenlumi_data/luminator_dataset_augmented/m24/400m/1_0_0_400m/mic2/8.wav\n",
            "Skipping already processed: /content/drive/MyDrive/sevenlumi_data/luminator_dataset_augmented/m24/400m/1_0_0_400m/mic2/7.wav\n",
            "Skipping already processed: /content/drive/MyDrive/sevenlumi_data/luminator_dataset_augmented/m24/400m/1_0_0_400m/mic2/17.wav\n",
            "Skipping already processed: /content/drive/MyDrive/sevenlumi_data/luminator_dataset_augmented/m24/400m/1_0_0_400m/mic2/20.wav\n",
            "Skipping already processed: /content/drive/MyDrive/sevenlumi_data/luminator_dataset_augmented/m24/400m/1_0_0_400m/mic2/12.wav\n",
            "Skipping already processed: /content/drive/MyDrive/sevenlumi_data/luminator_dataset_augmented/m24/400m/1_0_0_400m/mic2/6.wav\n",
            "Skipping already processed: /content/drive/MyDrive/sevenlumi_data/luminator_dataset_augmented/m24/400m/1_0_0_400m/mic2/23.wav\n",
            "Skipping already processed: /content/drive/MyDrive/sevenlumi_data/luminator_dataset_augmented/m24/400m/1_0_0_400m/mic2/16.wav\n",
            "Skipping already processed: /content/drive/MyDrive/sevenlumi_data/luminator_dataset_augmented/m24/400m/1_0_0_400m/mic2/10.wav\n"
          ]
        },
        {
          "output_type": "stream",
          "name": "stderr",
          "text": [
            "\r100%|██████████| 24/24 [00:00<00:00, 812.62it/s]\n"
          ]
        },
        {
          "output_type": "stream",
          "name": "stdout",
          "text": [
            "Skipping already processed: /content/drive/MyDrive/sevenlumi_data/luminator_dataset_augmented/m24/400m/1_0_0_400m/mic2/11.wav\n"
          ]
        },
        {
          "output_type": "stream",
          "name": "stderr",
          "text": [
            "\r  0%|          | 0/24 [00:00<?, ?it/s]"
          ]
        },
        {
          "output_type": "stream",
          "name": "stdout",
          "text": [
            "Skipping already processed: /content/drive/MyDrive/sevenlumi_data/luminator_dataset_augmented/m24/400m/1_0_0_400m/mic3/4.wav\n",
            "Skipping already processed: /content/drive/MyDrive/sevenlumi_data/luminator_dataset_augmented/m24/400m/1_0_0_400m/mic3/1.wav\n",
            "Skipping already processed: /content/drive/MyDrive/sevenlumi_data/luminator_dataset_augmented/m24/400m/1_0_0_400m/mic3/3.wav\n",
            "Skipping already processed: /content/drive/MyDrive/sevenlumi_data/luminator_dataset_augmented/m24/400m/1_0_0_400m/mic3/5.wav\n",
            "Skipping already processed: /content/drive/MyDrive/sevenlumi_data/luminator_dataset_augmented/m24/400m/1_0_0_400m/mic3/2.wav\n",
            "Skipping already processed: /content/drive/MyDrive/sevenlumi_data/luminator_dataset_augmented/m24/400m/1_0_0_400m/mic3/19.wav\n",
            "Skipping already processed: /content/drive/MyDrive/sevenlumi_data/luminator_dataset_augmented/m24/400m/1_0_0_400m/mic3/21.wav\n",
            "Skipping already processed: /content/drive/MyDrive/sevenlumi_data/luminator_dataset_augmented/m24/400m/1_0_0_400m/mic3/13.wav\n",
            "Skipping already processed: /content/drive/MyDrive/sevenlumi_data/luminator_dataset_augmented/m24/400m/1_0_0_400m/mic3/24.wav\n",
            "Skipping already processed: /content/drive/MyDrive/sevenlumi_data/luminator_dataset_augmented/m24/400m/1_0_0_400m/mic3/18.wav\n",
            "Skipping already processed: /content/drive/MyDrive/sevenlumi_data/luminator_dataset_augmented/m24/400m/1_0_0_400m/mic3/15.wav\n",
            "Skipping already processed: /content/drive/MyDrive/sevenlumi_data/luminator_dataset_augmented/m24/400m/1_0_0_400m/mic3/14.wav\n",
            "Skipping already processed: /content/drive/MyDrive/sevenlumi_data/luminator_dataset_augmented/m24/400m/1_0_0_400m/mic3/9.wav\n",
            "Skipping already processed: /content/drive/MyDrive/sevenlumi_data/luminator_dataset_augmented/m24/400m/1_0_0_400m/mic3/22.wav\n",
            "Skipping already processed: /content/drive/MyDrive/sevenlumi_data/luminator_dataset_augmented/m24/400m/1_0_0_400m/mic3/8.wav\n",
            "Skipping already processed: /content/drive/MyDrive/sevenlumi_data/luminator_dataset_augmented/m24/400m/1_0_0_400m/mic3/7.wav\n",
            "Skipping already processed: /content/drive/MyDrive/sevenlumi_data/luminator_dataset_augmented/m24/400m/1_0_0_400m/mic3/17.wav\n",
            "Skipping already processed: /content/drive/MyDrive/sevenlumi_data/luminator_dataset_augmented/m24/400m/1_0_0_400m/mic3/20.wav\n",
            "Skipping already processed: /content/drive/MyDrive/sevenlumi_data/luminator_dataset_augmented/m24/400m/1_0_0_400m/mic3/12.wav\n",
            "Skipping already processed: /content/drive/MyDrive/sevenlumi_data/luminator_dataset_augmented/m24/400m/1_0_0_400m/mic3/6.wav\n",
            "Skipping already processed: /content/drive/MyDrive/sevenlumi_data/luminator_dataset_augmented/m24/400m/1_0_0_400m/mic3/23.wav\n"
          ]
        },
        {
          "output_type": "stream",
          "name": "stderr",
          "text": [
            "\r100%|██████████| 24/24 [00:00<00:00, 1024.82it/s]"
          ]
        },
        {
          "output_type": "stream",
          "name": "stdout",
          "text": [
            "Skipping already processed: /content/drive/MyDrive/sevenlumi_data/luminator_dataset_augmented/m24/400m/1_0_0_400m/mic3/16.wav\n",
            "Skipping already processed: /content/drive/MyDrive/sevenlumi_data/luminator_dataset_augmented/m24/400m/1_0_0_400m/mic3/10.wav\n",
            "Skipping already processed: /content/drive/MyDrive/sevenlumi_data/luminator_dataset_augmented/m24/400m/1_0_0_400m/mic3/11.wav\n"
          ]
        },
        {
          "output_type": "stream",
          "name": "stderr",
          "text": [
            "\n",
            "  0%|          | 0/24 [00:00<?, ?it/s]"
          ]
        },
        {
          "output_type": "stream",
          "name": "stdout",
          "text": [
            "Skipping already processed: /content/drive/MyDrive/sevenlumi_data/luminator_dataset_augmented/m24/400m/1_0_0_400m/mic4/4.wav\n",
            "Skipping already processed: /content/drive/MyDrive/sevenlumi_data/luminator_dataset_augmented/m24/400m/1_0_0_400m/mic4/1.wav\n",
            "Skipping already processed: /content/drive/MyDrive/sevenlumi_data/luminator_dataset_augmented/m24/400m/1_0_0_400m/mic4/3.wav\n",
            "Skipping already processed: /content/drive/MyDrive/sevenlumi_data/luminator_dataset_augmented/m24/400m/1_0_0_400m/mic4/5.wav\n",
            "Skipping already processed: /content/drive/MyDrive/sevenlumi_data/luminator_dataset_augmented/m24/400m/1_0_0_400m/mic4/2.wav\n",
            "Skipping already processed: /content/drive/MyDrive/sevenlumi_data/luminator_dataset_augmented/m24/400m/1_0_0_400m/mic4/19.wav\n",
            "Skipping already processed: /content/drive/MyDrive/sevenlumi_data/luminator_dataset_augmented/m24/400m/1_0_0_400m/mic4/21.wav\n",
            "Skipping already processed: /content/drive/MyDrive/sevenlumi_data/luminator_dataset_augmented/m24/400m/1_0_0_400m/mic4/13.wav\n",
            "Skipping already processed: /content/drive/MyDrive/sevenlumi_data/luminator_dataset_augmented/m24/400m/1_0_0_400m/mic4/24.wav\n",
            "Skipping already processed: /content/drive/MyDrive/sevenlumi_data/luminator_dataset_augmented/m24/400m/1_0_0_400m/mic4/18.wav\n",
            "Skipping already processed: /content/drive/MyDrive/sevenlumi_data/luminator_dataset_augmented/m24/400m/1_0_0_400m/mic4/15.wav\n",
            "Skipping already processed: /content/drive/MyDrive/sevenlumi_data/luminator_dataset_augmented/m24/400m/1_0_0_400m/mic4/14.wav\n",
            "Skipping already processed: /content/drive/MyDrive/sevenlumi_data/luminator_dataset_augmented/m24/400m/1_0_0_400m/mic4/9.wav\n",
            "Skipping already processed: /content/drive/MyDrive/sevenlumi_data/luminator_dataset_augmented/m24/400m/1_0_0_400m/mic4/22.wav\n",
            "Skipping already processed: /content/drive/MyDrive/sevenlumi_data/luminator_dataset_augmented/m24/400m/1_0_0_400m/mic4/8.wav\n",
            "Skipping already processed: /content/drive/MyDrive/sevenlumi_data/luminator_dataset_augmented/m24/400m/1_0_0_400m/mic4/7.wav\n",
            "Skipping already processed: /content/drive/MyDrive/sevenlumi_data/luminator_dataset_augmented/m24/400m/1_0_0_400m/mic4/17.wav\n",
            "Skipping already processed: /content/drive/MyDrive/sevenlumi_data/luminator_dataset_augmented/m24/400m/1_0_0_400m/mic4/20.wav\n",
            "Skipping already processed: /content/drive/MyDrive/sevenlumi_data/luminator_dataset_augmented/m24/400m/1_0_0_400m/mic4/12.wav\n",
            "Skipping already processed: /content/drive/MyDrive/sevenlumi_data/luminator_dataset_augmented/m24/400m/1_0_0_400m/mic4/6.wav\n"
          ]
        },
        {
          "output_type": "stream",
          "name": "stderr",
          "text": [
            "\r100%|██████████| 24/24 [00:00<00:00, 678.52it/s]\n"
          ]
        },
        {
          "output_type": "stream",
          "name": "stdout",
          "text": [
            "Skipping already processed: /content/drive/MyDrive/sevenlumi_data/luminator_dataset_augmented/m24/400m/1_0_0_400m/mic4/23.wav\n",
            "Skipping already processed: /content/drive/MyDrive/sevenlumi_data/luminator_dataset_augmented/m24/400m/1_0_0_400m/mic4/16.wav\n",
            "Skipping already processed: /content/drive/MyDrive/sevenlumi_data/luminator_dataset_augmented/m24/400m/1_0_0_400m/mic4/10.wav\n",
            "Skipping already processed: /content/drive/MyDrive/sevenlumi_data/luminator_dataset_augmented/m24/400m/1_0_0_400m/mic4/11.wav\n"
          ]
        },
        {
          "output_type": "stream",
          "name": "stderr",
          "text": [
            "0it [00:00, ?it/s]\n",
            "  0%|          | 0/19 [00:00<?, ?it/s]"
          ]
        },
        {
          "output_type": "stream",
          "name": "stdout",
          "text": [
            "Skipping already processed: /content/drive/MyDrive/sevenlumi_data/luminator_dataset_augmented/m24/400m/0_0_1_400m/mic1/3.wav\n",
            "Skipping already processed: /content/drive/MyDrive/sevenlumi_data/luminator_dataset_augmented/m24/400m/0_0_1_400m/mic1/4.wav\n",
            "Skipping already processed: /content/drive/MyDrive/sevenlumi_data/luminator_dataset_augmented/m24/400m/0_0_1_400m/mic1/1.wav\n",
            "Skipping already processed: /content/drive/MyDrive/sevenlumi_data/luminator_dataset_augmented/m24/400m/0_0_1_400m/mic1/5.wav\n",
            "Skipping already processed: /content/drive/MyDrive/sevenlumi_data/luminator_dataset_augmented/m24/400m/0_0_1_400m/mic1/2.wav\n",
            "Skipping already processed: /content/drive/MyDrive/sevenlumi_data/luminator_dataset_augmented/m24/400m/0_0_1_400m/mic1/6.wav\n",
            "Skipping already processed: /content/drive/MyDrive/sevenlumi_data/luminator_dataset_augmented/m24/400m/0_0_1_400m/mic1/18.wav\n",
            "Skipping already processed: /content/drive/MyDrive/sevenlumi_data/luminator_dataset_augmented/m24/400m/0_0_1_400m/mic1/8.wav\n",
            "Skipping already processed: /content/drive/MyDrive/sevenlumi_data/luminator_dataset_augmented/m24/400m/0_0_1_400m/mic1/9.wav\n",
            "Skipping already processed: /content/drive/MyDrive/sevenlumi_data/luminator_dataset_augmented/m24/400m/0_0_1_400m/mic1/15.wav\n"
          ]
        },
        {
          "output_type": "stream",
          "name": "stderr",
          "text": [
            "\r100%|██████████| 19/19 [00:00<00:00, 808.43it/s]"
          ]
        },
        {
          "output_type": "stream",
          "name": "stdout",
          "text": [
            "Skipping already processed: /content/drive/MyDrive/sevenlumi_data/luminator_dataset_augmented/m24/400m/0_0_1_400m/mic1/14.wav\n",
            "Skipping already processed: /content/drive/MyDrive/sevenlumi_data/luminator_dataset_augmented/m24/400m/0_0_1_400m/mic1/11.wav\n",
            "Skipping already processed: /content/drive/MyDrive/sevenlumi_data/luminator_dataset_augmented/m24/400m/0_0_1_400m/mic1/12.wav\n",
            "Skipping already processed: /content/drive/MyDrive/sevenlumi_data/luminator_dataset_augmented/m24/400m/0_0_1_400m/mic1/17.wav\n",
            "Skipping already processed: /content/drive/MyDrive/sevenlumi_data/luminator_dataset_augmented/m24/400m/0_0_1_400m/mic1/16.wav\n",
            "Skipping already processed: /content/drive/MyDrive/sevenlumi_data/luminator_dataset_augmented/m24/400m/0_0_1_400m/mic1/13.wav\n",
            "Skipping already processed: /content/drive/MyDrive/sevenlumi_data/luminator_dataset_augmented/m24/400m/0_0_1_400m/mic1/19.wav\n",
            "Skipping already processed: /content/drive/MyDrive/sevenlumi_data/luminator_dataset_augmented/m24/400m/0_0_1_400m/mic1/7.wav\n",
            "Skipping already processed: /content/drive/MyDrive/sevenlumi_data/luminator_dataset_augmented/m24/400m/0_0_1_400m/mic1/10.wav\n"
          ]
        },
        {
          "output_type": "stream",
          "name": "stderr",
          "text": [
            "\n",
            "100%|██████████| 19/19 [00:00<00:00, 1119.99it/s]\n"
          ]
        },
        {
          "output_type": "stream",
          "name": "stdout",
          "text": [
            "Skipping already processed: /content/drive/MyDrive/sevenlumi_data/luminator_dataset_augmented/m24/400m/0_0_1_400m/mic2/3.wav\n",
            "Skipping already processed: /content/drive/MyDrive/sevenlumi_data/luminator_dataset_augmented/m24/400m/0_0_1_400m/mic2/4.wav\n",
            "Skipping already processed: /content/drive/MyDrive/sevenlumi_data/luminator_dataset_augmented/m24/400m/0_0_1_400m/mic2/1.wav\n",
            "Skipping already processed: /content/drive/MyDrive/sevenlumi_data/luminator_dataset_augmented/m24/400m/0_0_1_400m/mic2/5.wav\n",
            "Skipping already processed: /content/drive/MyDrive/sevenlumi_data/luminator_dataset_augmented/m24/400m/0_0_1_400m/mic2/2.wav\n",
            "Skipping already processed: /content/drive/MyDrive/sevenlumi_data/luminator_dataset_augmented/m24/400m/0_0_1_400m/mic2/6.wav\n",
            "Skipping already processed: /content/drive/MyDrive/sevenlumi_data/luminator_dataset_augmented/m24/400m/0_0_1_400m/mic2/18.wav\n",
            "Skipping already processed: /content/drive/MyDrive/sevenlumi_data/luminator_dataset_augmented/m24/400m/0_0_1_400m/mic2/8.wav\n",
            "Skipping already processed: /content/drive/MyDrive/sevenlumi_data/luminator_dataset_augmented/m24/400m/0_0_1_400m/mic2/9.wav\n",
            "Skipping already processed: /content/drive/MyDrive/sevenlumi_data/luminator_dataset_augmented/m24/400m/0_0_1_400m/mic2/15.wav\n",
            "Skipping already processed: /content/drive/MyDrive/sevenlumi_data/luminator_dataset_augmented/m24/400m/0_0_1_400m/mic2/14.wav\n",
            "Skipping already processed: /content/drive/MyDrive/sevenlumi_data/luminator_dataset_augmented/m24/400m/0_0_1_400m/mic2/11.wav\n",
            "Skipping already processed: /content/drive/MyDrive/sevenlumi_data/luminator_dataset_augmented/m24/400m/0_0_1_400m/mic2/12.wav\n",
            "Skipping already processed: /content/drive/MyDrive/sevenlumi_data/luminator_dataset_augmented/m24/400m/0_0_1_400m/mic2/17.wav\n",
            "Skipping already processed: /content/drive/MyDrive/sevenlumi_data/luminator_dataset_augmented/m24/400m/0_0_1_400m/mic2/16.wav\n",
            "Skipping already processed: /content/drive/MyDrive/sevenlumi_data/luminator_dataset_augmented/m24/400m/0_0_1_400m/mic2/13.wav\n",
            "Skipping already processed: /content/drive/MyDrive/sevenlumi_data/luminator_dataset_augmented/m24/400m/0_0_1_400m/mic2/19.wav\n",
            "Skipping already processed: /content/drive/MyDrive/sevenlumi_data/luminator_dataset_augmented/m24/400m/0_0_1_400m/mic2/7.wav\n",
            "Skipping already processed: /content/drive/MyDrive/sevenlumi_data/luminator_dataset_augmented/m24/400m/0_0_1_400m/mic2/10.wav\n"
          ]
        },
        {
          "output_type": "stream",
          "name": "stderr",
          "text": [
            "\r  0%|          | 0/19 [00:00<?, ?it/s]"
          ]
        },
        {
          "output_type": "stream",
          "name": "stdout",
          "text": [
            "Skipping already processed: /content/drive/MyDrive/sevenlumi_data/luminator_dataset_augmented/m24/400m/0_0_1_400m/mic3/3.wav\n",
            "Skipping already processed: /content/drive/MyDrive/sevenlumi_data/luminator_dataset_augmented/m24/400m/0_0_1_400m/mic3/4.wav\n",
            "Skipping already processed: /content/drive/MyDrive/sevenlumi_data/luminator_dataset_augmented/m24/400m/0_0_1_400m/mic3/1.wav\n",
            "Skipping already processed: /content/drive/MyDrive/sevenlumi_data/luminator_dataset_augmented/m24/400m/0_0_1_400m/mic3/5.wav\n"
          ]
        },
        {
          "output_type": "stream",
          "name": "stderr",
          "text": [
            "\r100%|██████████| 19/19 [00:00<00:00, 887.86it/s]\n"
          ]
        },
        {
          "output_type": "stream",
          "name": "stdout",
          "text": [
            "Skipping already processed: /content/drive/MyDrive/sevenlumi_data/luminator_dataset_augmented/m24/400m/0_0_1_400m/mic3/2.wav\n",
            "Skipping already processed: /content/drive/MyDrive/sevenlumi_data/luminator_dataset_augmented/m24/400m/0_0_1_400m/mic3/6.wav\n",
            "Skipping already processed: /content/drive/MyDrive/sevenlumi_data/luminator_dataset_augmented/m24/400m/0_0_1_400m/mic3/18.wav\n",
            "Skipping already processed: /content/drive/MyDrive/sevenlumi_data/luminator_dataset_augmented/m24/400m/0_0_1_400m/mic3/8.wav\n",
            "Skipping already processed: /content/drive/MyDrive/sevenlumi_data/luminator_dataset_augmented/m24/400m/0_0_1_400m/mic3/9.wav\n",
            "Skipping already processed: /content/drive/MyDrive/sevenlumi_data/luminator_dataset_augmented/m24/400m/0_0_1_400m/mic3/15.wav\n",
            "Skipping already processed: /content/drive/MyDrive/sevenlumi_data/luminator_dataset_augmented/m24/400m/0_0_1_400m/mic3/14.wav\n",
            "Skipping already processed: /content/drive/MyDrive/sevenlumi_data/luminator_dataset_augmented/m24/400m/0_0_1_400m/mic3/11.wav\n",
            "Skipping already processed: /content/drive/MyDrive/sevenlumi_data/luminator_dataset_augmented/m24/400m/0_0_1_400m/mic3/12.wav\n",
            "Skipping already processed: /content/drive/MyDrive/sevenlumi_data/luminator_dataset_augmented/m24/400m/0_0_1_400m/mic3/17.wav\n",
            "Skipping already processed: /content/drive/MyDrive/sevenlumi_data/luminator_dataset_augmented/m24/400m/0_0_1_400m/mic3/16.wav\n",
            "Skipping already processed: /content/drive/MyDrive/sevenlumi_data/luminator_dataset_augmented/m24/400m/0_0_1_400m/mic3/13.wav\n",
            "Skipping already processed: /content/drive/MyDrive/sevenlumi_data/luminator_dataset_augmented/m24/400m/0_0_1_400m/mic3/19.wav\n",
            "Skipping already processed: /content/drive/MyDrive/sevenlumi_data/luminator_dataset_augmented/m24/400m/0_0_1_400m/mic3/7.wav\n",
            "Skipping already processed: /content/drive/MyDrive/sevenlumi_data/luminator_dataset_augmented/m24/400m/0_0_1_400m/mic3/10.wav\n"
          ]
        },
        {
          "output_type": "stream",
          "name": "stderr",
          "text": [
            "\r  0%|          | 0/19 [00:00<?, ?it/s]"
          ]
        },
        {
          "output_type": "stream",
          "name": "stdout",
          "text": [
            "Skipping already processed: /content/drive/MyDrive/sevenlumi_data/luminator_dataset_augmented/m24/400m/0_0_1_400m/mic4/3.wav\n",
            "Skipping already processed: /content/drive/MyDrive/sevenlumi_data/luminator_dataset_augmented/m24/400m/0_0_1_400m/mic4/4.wav\n",
            "Skipping already processed: /content/drive/MyDrive/sevenlumi_data/luminator_dataset_augmented/m24/400m/0_0_1_400m/mic4/1.wav\n",
            "Skipping already processed: /content/drive/MyDrive/sevenlumi_data/luminator_dataset_augmented/m24/400m/0_0_1_400m/mic4/5.wav\n",
            "Skipping already processed: /content/drive/MyDrive/sevenlumi_data/luminator_dataset_augmented/m24/400m/0_0_1_400m/mic4/2.wav\n"
          ]
        },
        {
          "output_type": "stream",
          "name": "stderr",
          "text": [
            "\r100%|██████████| 19/19 [00:00<00:00, 1197.58it/s]"
          ]
        },
        {
          "output_type": "stream",
          "name": "stdout",
          "text": [
            "Skipping already processed: /content/drive/MyDrive/sevenlumi_data/luminator_dataset_augmented/m24/400m/0_0_1_400m/mic4/6.wav\n",
            "Skipping already processed: /content/drive/MyDrive/sevenlumi_data/luminator_dataset_augmented/m24/400m/0_0_1_400m/mic4/18.wav\n",
            "Skipping already processed: /content/drive/MyDrive/sevenlumi_data/luminator_dataset_augmented/m24/400m/0_0_1_400m/mic4/8.wav\n",
            "Skipping already processed: /content/drive/MyDrive/sevenlumi_data/luminator_dataset_augmented/m24/400m/0_0_1_400m/mic4/9.wav\n",
            "Skipping already processed: /content/drive/MyDrive/sevenlumi_data/luminator_dataset_augmented/m24/400m/0_0_1_400m/mic4/15.wav\n",
            "Skipping already processed: /content/drive/MyDrive/sevenlumi_data/luminator_dataset_augmented/m24/400m/0_0_1_400m/mic4/14.wav\n",
            "Skipping already processed: /content/drive/MyDrive/sevenlumi_data/luminator_dataset_augmented/m24/400m/0_0_1_400m/mic4/11.wav\n",
            "Skipping already processed: /content/drive/MyDrive/sevenlumi_data/luminator_dataset_augmented/m24/400m/0_0_1_400m/mic4/12.wav\n",
            "Skipping already processed: /content/drive/MyDrive/sevenlumi_data/luminator_dataset_augmented/m24/400m/0_0_1_400m/mic4/17.wav\n",
            "Skipping already processed: /content/drive/MyDrive/sevenlumi_data/luminator_dataset_augmented/m24/400m/0_0_1_400m/mic4/16.wav\n",
            "Skipping already processed: /content/drive/MyDrive/sevenlumi_data/luminator_dataset_augmented/m24/400m/0_0_1_400m/mic4/13.wav\n",
            "Skipping already processed: /content/drive/MyDrive/sevenlumi_data/luminator_dataset_augmented/m24/400m/0_0_1_400m/mic4/19.wav\n",
            "Skipping already processed: /content/drive/MyDrive/sevenlumi_data/luminator_dataset_augmented/m24/400m/0_0_1_400m/mic4/7.wav\n",
            "Skipping already processed: /content/drive/MyDrive/sevenlumi_data/luminator_dataset_augmented/m24/400m/0_0_1_400m/mic4/10.wav\n"
          ]
        },
        {
          "output_type": "stream",
          "name": "stderr",
          "text": [
            "\n",
            "0it [00:00, ?it/s]\n",
            "  0%|          | 0/27 [00:00<?, ?it/s]"
          ]
        },
        {
          "output_type": "stream",
          "name": "stdout",
          "text": [
            "Skipping already processed: /content/drive/MyDrive/sevenlumi_data/luminator_dataset_augmented/m24/400m/-1_0_0_400m/mic1/5.wav\n",
            "Skipping already processed: /content/drive/MyDrive/sevenlumi_data/luminator_dataset_augmented/m24/400m/-1_0_0_400m/mic1/3 (1).wav\n",
            "Skipping already processed: /content/drive/MyDrive/sevenlumi_data/luminator_dataset_augmented/m24/400m/-1_0_0_400m/mic1/8.wav\n",
            "Skipping already processed: /content/drive/MyDrive/sevenlumi_data/luminator_dataset_augmented/m24/400m/-1_0_0_400m/mic1/3.wav\n",
            "Skipping already processed: /content/drive/MyDrive/sevenlumi_data/luminator_dataset_augmented/m24/400m/-1_0_0_400m/mic1/4.wav\n",
            "Skipping already processed: /content/drive/MyDrive/sevenlumi_data/luminator_dataset_augmented/m24/400m/-1_0_0_400m/mic1/6.wav\n",
            "Skipping already processed: /content/drive/MyDrive/sevenlumi_data/luminator_dataset_augmented/m24/400m/-1_0_0_400m/mic1/7.wav\n",
            "Skipping already processed: /content/drive/MyDrive/sevenlumi_data/luminator_dataset_augmented/m24/400m/-1_0_0_400m/mic1/2.wav\n",
            "Skipping already processed: /content/drive/MyDrive/sevenlumi_data/luminator_dataset_augmented/m24/400m/-1_0_0_400m/mic1/1.wav\n",
            "Skipping already processed: /content/drive/MyDrive/sevenlumi_data/luminator_dataset_augmented/m24/400m/-1_0_0_400m/mic1/20.wav\n",
            "Skipping already processed: /content/drive/MyDrive/sevenlumi_data/luminator_dataset_augmented/m24/400m/-1_0_0_400m/mic1/22.wav\n",
            "Skipping already processed: /content/drive/MyDrive/sevenlumi_data/luminator_dataset_augmented/m24/400m/-1_0_0_400m/mic1/25.wav\n",
            "Skipping already processed: /content/drive/MyDrive/sevenlumi_data/luminator_dataset_augmented/m24/400m/-1_0_0_400m/mic1/24 (1).wav\n",
            "Skipping already processed: /content/drive/MyDrive/sevenlumi_data/luminator_dataset_augmented/m24/400m/-1_0_0_400m/mic1/18.wav\n",
            "Skipping already processed: /content/drive/MyDrive/sevenlumi_data/luminator_dataset_augmented/m24/400m/-1_0_0_400m/mic1/10.wav\n"
          ]
        },
        {
          "output_type": "stream",
          "name": "stderr",
          "text": [
            "\r100%|██████████| 27/27 [00:00<00:00, 1007.04it/s]\n"
          ]
        },
        {
          "output_type": "stream",
          "name": "stdout",
          "text": [
            "Skipping already processed: /content/drive/MyDrive/sevenlumi_data/luminator_dataset_augmented/m24/400m/-1_0_0_400m/mic1/14.wav\n",
            "Skipping already processed: /content/drive/MyDrive/sevenlumi_data/luminator_dataset_augmented/m24/400m/-1_0_0_400m/mic1/12.wav\n",
            "Skipping already processed: /content/drive/MyDrive/sevenlumi_data/luminator_dataset_augmented/m24/400m/-1_0_0_400m/mic1/11.wav\n",
            "Skipping already processed: /content/drive/MyDrive/sevenlumi_data/luminator_dataset_augmented/m24/400m/-1_0_0_400m/mic1/15.wav\n",
            "Skipping already processed: /content/drive/MyDrive/sevenlumi_data/luminator_dataset_augmented/m24/400m/-1_0_0_400m/mic1/21.wav\n",
            "Skipping already processed: /content/drive/MyDrive/sevenlumi_data/luminator_dataset_augmented/m24/400m/-1_0_0_400m/mic1/23.wav\n",
            "Skipping already processed: /content/drive/MyDrive/sevenlumi_data/luminator_dataset_augmented/m24/400m/-1_0_0_400m/mic1/17.wav\n",
            "Skipping already processed: /content/drive/MyDrive/sevenlumi_data/luminator_dataset_augmented/m24/400m/-1_0_0_400m/mic1/16.wav\n",
            "Skipping already processed: /content/drive/MyDrive/sevenlumi_data/luminator_dataset_augmented/m24/400m/-1_0_0_400m/mic1/24.wav\n",
            "Skipping already processed: /content/drive/MyDrive/sevenlumi_data/luminator_dataset_augmented/m24/400m/-1_0_0_400m/mic1/19.wav\n",
            "Skipping already processed: /content/drive/MyDrive/sevenlumi_data/luminator_dataset_augmented/m24/400m/-1_0_0_400m/mic1/9.wav\n",
            "Skipping already processed: /content/drive/MyDrive/sevenlumi_data/luminator_dataset_augmented/m24/400m/-1_0_0_400m/mic1/13.wav\n"
          ]
        },
        {
          "output_type": "stream",
          "name": "stderr",
          "text": [
            "\r  0%|          | 0/27 [00:00<?, ?it/s]"
          ]
        },
        {
          "output_type": "stream",
          "name": "stdout",
          "text": [
            "Skipping already processed: /content/drive/MyDrive/sevenlumi_data/luminator_dataset_augmented/m24/400m/-1_0_0_400m/mic2/5.wav\n",
            "Skipping already processed: /content/drive/MyDrive/sevenlumi_data/luminator_dataset_augmented/m24/400m/-1_0_0_400m/mic2/3 (1).wav\n",
            "Skipping already processed: /content/drive/MyDrive/sevenlumi_data/luminator_dataset_augmented/m24/400m/-1_0_0_400m/mic2/8.wav\n",
            "Skipping already processed: /content/drive/MyDrive/sevenlumi_data/luminator_dataset_augmented/m24/400m/-1_0_0_400m/mic2/3.wav\n",
            "Skipping already processed: /content/drive/MyDrive/sevenlumi_data/luminator_dataset_augmented/m24/400m/-1_0_0_400m/mic2/4.wav\n",
            "Skipping already processed: /content/drive/MyDrive/sevenlumi_data/luminator_dataset_augmented/m24/400m/-1_0_0_400m/mic2/6.wav\n",
            "Skipping already processed: /content/drive/MyDrive/sevenlumi_data/luminator_dataset_augmented/m24/400m/-1_0_0_400m/mic2/7.wav\n"
          ]
        },
        {
          "output_type": "stream",
          "name": "stderr",
          "text": [
            "\r100%|██████████| 27/27 [00:00<00:00, 1122.73it/s]\n"
          ]
        },
        {
          "output_type": "stream",
          "name": "stdout",
          "text": [
            "Skipping already processed: /content/drive/MyDrive/sevenlumi_data/luminator_dataset_augmented/m24/400m/-1_0_0_400m/mic2/2.wav\n",
            "Skipping already processed: /content/drive/MyDrive/sevenlumi_data/luminator_dataset_augmented/m24/400m/-1_0_0_400m/mic2/1.wav\n",
            "Skipping already processed: /content/drive/MyDrive/sevenlumi_data/luminator_dataset_augmented/m24/400m/-1_0_0_400m/mic2/20.wav\n",
            "Skipping already processed: /content/drive/MyDrive/sevenlumi_data/luminator_dataset_augmented/m24/400m/-1_0_0_400m/mic2/22.wav\n",
            "Skipping already processed: /content/drive/MyDrive/sevenlumi_data/luminator_dataset_augmented/m24/400m/-1_0_0_400m/mic2/25.wav\n",
            "Skipping already processed: /content/drive/MyDrive/sevenlumi_data/luminator_dataset_augmented/m24/400m/-1_0_0_400m/mic2/24 (1).wav\n",
            "Skipping already processed: /content/drive/MyDrive/sevenlumi_data/luminator_dataset_augmented/m24/400m/-1_0_0_400m/mic2/18.wav\n",
            "Skipping already processed: /content/drive/MyDrive/sevenlumi_data/luminator_dataset_augmented/m24/400m/-1_0_0_400m/mic2/10.wav\n",
            "Skipping already processed: /content/drive/MyDrive/sevenlumi_data/luminator_dataset_augmented/m24/400m/-1_0_0_400m/mic2/14.wav\n",
            "Skipping already processed: /content/drive/MyDrive/sevenlumi_data/luminator_dataset_augmented/m24/400m/-1_0_0_400m/mic2/12.wav\n",
            "Skipping already processed: /content/drive/MyDrive/sevenlumi_data/luminator_dataset_augmented/m24/400m/-1_0_0_400m/mic2/11.wav\n",
            "Skipping already processed: /content/drive/MyDrive/sevenlumi_data/luminator_dataset_augmented/m24/400m/-1_0_0_400m/mic2/15.wav\n",
            "Skipping already processed: /content/drive/MyDrive/sevenlumi_data/luminator_dataset_augmented/m24/400m/-1_0_0_400m/mic2/21.wav\n",
            "Skipping already processed: /content/drive/MyDrive/sevenlumi_data/luminator_dataset_augmented/m24/400m/-1_0_0_400m/mic2/23.wav\n",
            "Skipping already processed: /content/drive/MyDrive/sevenlumi_data/luminator_dataset_augmented/m24/400m/-1_0_0_400m/mic2/17.wav\n",
            "Skipping already processed: /content/drive/MyDrive/sevenlumi_data/luminator_dataset_augmented/m24/400m/-1_0_0_400m/mic2/16.wav\n",
            "Skipping already processed: /content/drive/MyDrive/sevenlumi_data/luminator_dataset_augmented/m24/400m/-1_0_0_400m/mic2/24.wav\n",
            "Skipping already processed: /content/drive/MyDrive/sevenlumi_data/luminator_dataset_augmented/m24/400m/-1_0_0_400m/mic2/19.wav\n",
            "Skipping already processed: /content/drive/MyDrive/sevenlumi_data/luminator_dataset_augmented/m24/400m/-1_0_0_400m/mic2/9.wav\n",
            "Skipping already processed: /content/drive/MyDrive/sevenlumi_data/luminator_dataset_augmented/m24/400m/-1_0_0_400m/mic2/13.wav\n"
          ]
        },
        {
          "output_type": "stream",
          "name": "stderr",
          "text": [
            "\r  0%|          | 0/27 [00:00<?, ?it/s]"
          ]
        },
        {
          "output_type": "stream",
          "name": "stdout",
          "text": [
            "Skipping already processed: /content/drive/MyDrive/sevenlumi_data/luminator_dataset_augmented/m24/400m/-1_0_0_400m/mic3/5.wav\n",
            "Skipping already processed: /content/drive/MyDrive/sevenlumi_data/luminator_dataset_augmented/m24/400m/-1_0_0_400m/mic3/3 (1).wav\n",
            "Skipping already processed: /content/drive/MyDrive/sevenlumi_data/luminator_dataset_augmented/m24/400m/-1_0_0_400m/mic3/8.wav\n",
            "Skipping already processed: /content/drive/MyDrive/sevenlumi_data/luminator_dataset_augmented/m24/400m/-1_0_0_400m/mic3/3.wav\n",
            "Skipping already processed: /content/drive/MyDrive/sevenlumi_data/luminator_dataset_augmented/m24/400m/-1_0_0_400m/mic3/4.wav\n"
          ]
        },
        {
          "output_type": "stream",
          "name": "stderr",
          "text": [
            "\r100%|██████████| 27/27 [00:00<00:00, 1041.52it/s]"
          ]
        },
        {
          "output_type": "stream",
          "name": "stdout",
          "text": [
            "Skipping already processed: /content/drive/MyDrive/sevenlumi_data/luminator_dataset_augmented/m24/400m/-1_0_0_400m/mic3/6.wav\n",
            "Skipping already processed: /content/drive/MyDrive/sevenlumi_data/luminator_dataset_augmented/m24/400m/-1_0_0_400m/mic3/7.wav\n",
            "Skipping already processed: /content/drive/MyDrive/sevenlumi_data/luminator_dataset_augmented/m24/400m/-1_0_0_400m/mic3/2.wav\n",
            "Skipping already processed: /content/drive/MyDrive/sevenlumi_data/luminator_dataset_augmented/m24/400m/-1_0_0_400m/mic3/1.wav\n",
            "Skipping already processed: /content/drive/MyDrive/sevenlumi_data/luminator_dataset_augmented/m24/400m/-1_0_0_400m/mic3/20.wav\n",
            "Skipping already processed: /content/drive/MyDrive/sevenlumi_data/luminator_dataset_augmented/m24/400m/-1_0_0_400m/mic3/22.wav\n",
            "Skipping already processed: /content/drive/MyDrive/sevenlumi_data/luminator_dataset_augmented/m24/400m/-1_0_0_400m/mic3/25.wav\n",
            "Skipping already processed: /content/drive/MyDrive/sevenlumi_data/luminator_dataset_augmented/m24/400m/-1_0_0_400m/mic3/24 (1).wav\n",
            "Skipping already processed: /content/drive/MyDrive/sevenlumi_data/luminator_dataset_augmented/m24/400m/-1_0_0_400m/mic3/18.wav\n",
            "Skipping already processed: /content/drive/MyDrive/sevenlumi_data/luminator_dataset_augmented/m24/400m/-1_0_0_400m/mic3/10.wav\n",
            "Skipping already processed: /content/drive/MyDrive/sevenlumi_data/luminator_dataset_augmented/m24/400m/-1_0_0_400m/mic3/14.wav\n",
            "Skipping already processed: /content/drive/MyDrive/sevenlumi_data/luminator_dataset_augmented/m24/400m/-1_0_0_400m/mic3/12.wav\n",
            "Skipping already processed: /content/drive/MyDrive/sevenlumi_data/luminator_dataset_augmented/m24/400m/-1_0_0_400m/mic3/11.wav\n",
            "Skipping already processed: /content/drive/MyDrive/sevenlumi_data/luminator_dataset_augmented/m24/400m/-1_0_0_400m/mic3/15.wav\n",
            "Skipping already processed: /content/drive/MyDrive/sevenlumi_data/luminator_dataset_augmented/m24/400m/-1_0_0_400m/mic3/21.wav\n",
            "Skipping already processed: /content/drive/MyDrive/sevenlumi_data/luminator_dataset_augmented/m24/400m/-1_0_0_400m/mic3/23.wav\n",
            "Skipping already processed: /content/drive/MyDrive/sevenlumi_data/luminator_dataset_augmented/m24/400m/-1_0_0_400m/mic3/17.wav\n",
            "Skipping already processed: /content/drive/MyDrive/sevenlumi_data/luminator_dataset_augmented/m24/400m/-1_0_0_400m/mic3/16.wav\n",
            "Skipping already processed: /content/drive/MyDrive/sevenlumi_data/luminator_dataset_augmented/m24/400m/-1_0_0_400m/mic3/24.wav\n",
            "Skipping already processed: /content/drive/MyDrive/sevenlumi_data/luminator_dataset_augmented/m24/400m/-1_0_0_400m/mic3/19.wav\n",
            "Skipping already processed: /content/drive/MyDrive/sevenlumi_data/luminator_dataset_augmented/m24/400m/-1_0_0_400m/mic3/9.wav\n",
            "Skipping already processed: /content/drive/MyDrive/sevenlumi_data/luminator_dataset_augmented/m24/400m/-1_0_0_400m/mic3/13.wav\n"
          ]
        },
        {
          "output_type": "stream",
          "name": "stderr",
          "text": [
            "\n",
            "  0%|          | 0/27 [00:00<?, ?it/s]"
          ]
        },
        {
          "output_type": "stream",
          "name": "stdout",
          "text": [
            "Skipping already processed: /content/drive/MyDrive/sevenlumi_data/luminator_dataset_augmented/m24/400m/-1_0_0_400m/mic4/5.wav\n",
            "Skipping already processed: /content/drive/MyDrive/sevenlumi_data/luminator_dataset_augmented/m24/400m/-1_0_0_400m/mic4/3 (1).wav\n",
            "Skipping already processed: /content/drive/MyDrive/sevenlumi_data/luminator_dataset_augmented/m24/400m/-1_0_0_400m/mic4/8.wav\n",
            "Skipping already processed: /content/drive/MyDrive/sevenlumi_data/luminator_dataset_augmented/m24/400m/-1_0_0_400m/mic4/3.wav\n",
            "Skipping already processed: /content/drive/MyDrive/sevenlumi_data/luminator_dataset_augmented/m24/400m/-1_0_0_400m/mic4/4.wav\n",
            "Skipping already processed: /content/drive/MyDrive/sevenlumi_data/luminator_dataset_augmented/m24/400m/-1_0_0_400m/mic4/6.wav\n",
            "Skipping already processed: /content/drive/MyDrive/sevenlumi_data/luminator_dataset_augmented/m24/400m/-1_0_0_400m/mic4/7.wav\n",
            "Skipping already processed: /content/drive/MyDrive/sevenlumi_data/luminator_dataset_augmented/m24/400m/-1_0_0_400m/mic4/2.wav\n",
            "Skipping already processed: /content/drive/MyDrive/sevenlumi_data/luminator_dataset_augmented/m24/400m/-1_0_0_400m/mic4/1.wav\n",
            "Skipping already processed: /content/drive/MyDrive/sevenlumi_data/luminator_dataset_augmented/m24/400m/-1_0_0_400m/mic4/20.wav\n",
            "Skipping already processed: /content/drive/MyDrive/sevenlumi_data/luminator_dataset_augmented/m24/400m/-1_0_0_400m/mic4/22.wav\n",
            "Skipping already processed: /content/drive/MyDrive/sevenlumi_data/luminator_dataset_augmented/m24/400m/-1_0_0_400m/mic4/25.wav\n",
            "Skipping already processed: /content/drive/MyDrive/sevenlumi_data/luminator_dataset_augmented/m24/400m/-1_0_0_400m/mic4/24 (1).wav\n",
            "Skipping already processed: /content/drive/MyDrive/sevenlumi_data/luminator_dataset_augmented/m24/400m/-1_0_0_400m/mic4/18.wav\n",
            "Skipping already processed: /content/drive/MyDrive/sevenlumi_data/luminator_dataset_augmented/m24/400m/-1_0_0_400m/mic4/10.wav\n",
            "Skipping already processed: /content/drive/MyDrive/sevenlumi_data/luminator_dataset_augmented/m24/400m/-1_0_0_400m/mic4/14.wav\n",
            "Skipping already processed: /content/drive/MyDrive/sevenlumi_data/luminator_dataset_augmented/m24/400m/-1_0_0_400m/mic4/12.wav\n",
            "Skipping already processed: /content/drive/MyDrive/sevenlumi_data/luminator_dataset_augmented/m24/400m/-1_0_0_400m/mic4/11.wav\n",
            "Skipping already processed: /content/drive/MyDrive/sevenlumi_data/luminator_dataset_augmented/m24/400m/-1_0_0_400m/mic4/15.wav\n",
            "Skipping already processed: /content/drive/MyDrive/sevenlumi_data/luminator_dataset_augmented/m24/400m/-1_0_0_400m/mic4/21.wav\n",
            "Skipping already processed: /content/drive/MyDrive/sevenlumi_data/luminator_dataset_augmented/m24/400m/-1_0_0_400m/mic4/23.wav\n",
            "Skipping already processed: /content/drive/MyDrive/sevenlumi_data/luminator_dataset_augmented/m24/400m/-1_0_0_400m/mic4/17.wav\n",
            "Skipping already processed: /content/drive/MyDrive/sevenlumi_data/luminator_dataset_augmented/m24/400m/-1_0_0_400m/mic4/16.wav\n",
            "Skipping already processed: /content/drive/MyDrive/sevenlumi_data/luminator_dataset_augmented/m24/400m/-1_0_0_400m/mic4/24.wav\n",
            "Skipping already processed: /content/drive/MyDrive/sevenlumi_data/luminator_dataset_augmented/m24/400m/-1_0_0_400m/mic4/19.wav\n",
            "Skipping already processed: /content/drive/MyDrive/sevenlumi_data/luminator_dataset_augmented/m24/400m/-1_0_0_400m/mic4/9.wav\n"
          ]
        },
        {
          "output_type": "stream",
          "name": "stderr",
          "text": [
            "\r100%|██████████| 27/27 [00:00<00:00, 1023.18it/s]\n"
          ]
        },
        {
          "output_type": "stream",
          "name": "stdout",
          "text": [
            "Skipping already processed: /content/drive/MyDrive/sevenlumi_data/luminator_dataset_augmented/m24/400m/-1_0_0_400m/mic4/13.wav\n"
          ]
        },
        {
          "output_type": "stream",
          "name": "stderr",
          "text": [
            "0it [00:00, ?it/s]\n",
            "  0%|          | 0/20 [00:00<?, ?it/s]"
          ]
        },
        {
          "output_type": "stream",
          "name": "stdout",
          "text": [
            "Skipping already processed: /content/drive/MyDrive/sevenlumi_data/luminator_dataset_augmented/m24/400m/0_0_-1_400m/mic1/3.wav\n",
            "Skipping already processed: /content/drive/MyDrive/sevenlumi_data/luminator_dataset_augmented/m24/400m/0_0_-1_400m/mic1/2.wav\n",
            "Skipping already processed: /content/drive/MyDrive/sevenlumi_data/luminator_dataset_augmented/m24/400m/0_0_-1_400m/mic1/5.wav\n"
          ]
        },
        {
          "output_type": "stream",
          "name": "stderr",
          "text": [
            "\r100%|██████████| 20/20 [00:00<00:00, 733.58it/s]\n"
          ]
        },
        {
          "output_type": "stream",
          "name": "stdout",
          "text": [
            "Skipping already processed: /content/drive/MyDrive/sevenlumi_data/luminator_dataset_augmented/m24/400m/0_0_-1_400m/mic1/4.wav\n",
            "Skipping already processed: /content/drive/MyDrive/sevenlumi_data/luminator_dataset_augmented/m24/400m/0_0_-1_400m/mic1/1.wav\n",
            "Skipping already processed: /content/drive/MyDrive/sevenlumi_data/luminator_dataset_augmented/m24/400m/0_0_-1_400m/mic1/18.wav\n",
            "Skipping already processed: /content/drive/MyDrive/sevenlumi_data/luminator_dataset_augmented/m24/400m/0_0_-1_400m/mic1/9.wav\n",
            "Skipping already processed: /content/drive/MyDrive/sevenlumi_data/luminator_dataset_augmented/m24/400m/0_0_-1_400m/mic1/8.wav\n",
            "Skipping already processed: /content/drive/MyDrive/sevenlumi_data/luminator_dataset_augmented/m24/400m/0_0_-1_400m/mic1/17.wav\n",
            "Skipping already processed: /content/drive/MyDrive/sevenlumi_data/luminator_dataset_augmented/m24/400m/0_0_-1_400m/mic1/16.wav\n",
            "Skipping already processed: /content/drive/MyDrive/sevenlumi_data/luminator_dataset_augmented/m24/400m/0_0_-1_400m/mic1/10.wav\n",
            "Skipping already processed: /content/drive/MyDrive/sevenlumi_data/luminator_dataset_augmented/m24/400m/0_0_-1_400m/mic1/6.wav\n",
            "Skipping already processed: /content/drive/MyDrive/sevenlumi_data/luminator_dataset_augmented/m24/400m/0_0_-1_400m/mic1/14.wav\n",
            "Skipping already processed: /content/drive/MyDrive/sevenlumi_data/luminator_dataset_augmented/m24/400m/0_0_-1_400m/mic1/15.wav\n",
            "Skipping already processed: /content/drive/MyDrive/sevenlumi_data/luminator_dataset_augmented/m24/400m/0_0_-1_400m/mic1/11.wav\n",
            "Skipping already processed: /content/drive/MyDrive/sevenlumi_data/luminator_dataset_augmented/m24/400m/0_0_-1_400m/mic1/13.wav\n",
            "Skipping already processed: /content/drive/MyDrive/sevenlumi_data/luminator_dataset_augmented/m24/400m/0_0_-1_400m/mic1/7.wav\n",
            "Skipping already processed: /content/drive/MyDrive/sevenlumi_data/luminator_dataset_augmented/m24/400m/0_0_-1_400m/mic1/19.wav\n",
            "Skipping already processed: /content/drive/MyDrive/sevenlumi_data/luminator_dataset_augmented/m24/400m/0_0_-1_400m/mic1/12.wav\n",
            "Skipping already processed: /content/drive/MyDrive/sevenlumi_data/luminator_dataset_augmented/m24/400m/0_0_-1_400m/mic1/20.wav\n"
          ]
        },
        {
          "output_type": "stream",
          "name": "stderr",
          "text": [
            "\r  0%|          | 0/20 [00:00<?, ?it/s]"
          ]
        },
        {
          "output_type": "stream",
          "name": "stdout",
          "text": [
            "Skipping already processed: /content/drive/MyDrive/sevenlumi_data/luminator_dataset_augmented/m24/400m/0_0_-1_400m/mic2/3.wav"
          ]
        },
        {
          "output_type": "stream",
          "name": "stderr",
          "text": [
            "\r100%|██████████| 20/20 [00:00<00:00, 904.60it/s]\n"
          ]
        },
        {
          "output_type": "stream",
          "name": "stdout",
          "text": [
            "\n",
            "Skipping already processed: /content/drive/MyDrive/sevenlumi_data/luminator_dataset_augmented/m24/400m/0_0_-1_400m/mic2/2.wav\n",
            "Skipping already processed: /content/drive/MyDrive/sevenlumi_data/luminator_dataset_augmented/m24/400m/0_0_-1_400m/mic2/5.wav\n",
            "Skipping already processed: /content/drive/MyDrive/sevenlumi_data/luminator_dataset_augmented/m24/400m/0_0_-1_400m/mic2/4.wav\n",
            "Skipping already processed: /content/drive/MyDrive/sevenlumi_data/luminator_dataset_augmented/m24/400m/0_0_-1_400m/mic2/1.wav\n",
            "Skipping already processed: /content/drive/MyDrive/sevenlumi_data/luminator_dataset_augmented/m24/400m/0_0_-1_400m/mic2/18.wav\n",
            "Skipping already processed: /content/drive/MyDrive/sevenlumi_data/luminator_dataset_augmented/m24/400m/0_0_-1_400m/mic2/9.wav\n",
            "Skipping already processed: /content/drive/MyDrive/sevenlumi_data/luminator_dataset_augmented/m24/400m/0_0_-1_400m/mic2/8.wav\n",
            "Skipping already processed: /content/drive/MyDrive/sevenlumi_data/luminator_dataset_augmented/m24/400m/0_0_-1_400m/mic2/17.wav\n",
            "Skipping already processed: /content/drive/MyDrive/sevenlumi_data/luminator_dataset_augmented/m24/400m/0_0_-1_400m/mic2/16.wav\n",
            "Skipping already processed: /content/drive/MyDrive/sevenlumi_data/luminator_dataset_augmented/m24/400m/0_0_-1_400m/mic2/10.wav\n",
            "Skipping already processed: /content/drive/MyDrive/sevenlumi_data/luminator_dataset_augmented/m24/400m/0_0_-1_400m/mic2/6.wav\n",
            "Skipping already processed: /content/drive/MyDrive/sevenlumi_data/luminator_dataset_augmented/m24/400m/0_0_-1_400m/mic2/14.wav\n",
            "Skipping already processed: /content/drive/MyDrive/sevenlumi_data/luminator_dataset_augmented/m24/400m/0_0_-1_400m/mic2/15.wav\n",
            "Skipping already processed: /content/drive/MyDrive/sevenlumi_data/luminator_dataset_augmented/m24/400m/0_0_-1_400m/mic2/11.wav\n",
            "Skipping already processed: /content/drive/MyDrive/sevenlumi_data/luminator_dataset_augmented/m24/400m/0_0_-1_400m/mic2/13.wav\n",
            "Skipping already processed: /content/drive/MyDrive/sevenlumi_data/luminator_dataset_augmented/m24/400m/0_0_-1_400m/mic2/7.wav\n",
            "Skipping already processed: /content/drive/MyDrive/sevenlumi_data/luminator_dataset_augmented/m24/400m/0_0_-1_400m/mic2/19.wav\n",
            "Skipping already processed: /content/drive/MyDrive/sevenlumi_data/luminator_dataset_augmented/m24/400m/0_0_-1_400m/mic2/12.wav\n",
            "Skipping already processed: /content/drive/MyDrive/sevenlumi_data/luminator_dataset_augmented/m24/400m/0_0_-1_400m/mic2/20.wav\n"
          ]
        },
        {
          "output_type": "stream",
          "name": "stderr",
          "text": [
            "\r  0%|          | 0/20 [00:00<?, ?it/s]"
          ]
        },
        {
          "output_type": "stream",
          "name": "stdout",
          "text": [
            "Skipping already processed: /content/drive/MyDrive/sevenlumi_data/luminator_dataset_augmented/m24/400m/0_0_-1_400m/mic3/3.wav\n",
            "Skipping already processed: /content/drive/MyDrive/sevenlumi_data/luminator_dataset_augmented/m24/400m/0_0_-1_400m/mic3/2.wav\n",
            "Skipping already processed: /content/drive/MyDrive/sevenlumi_data/luminator_dataset_augmented/m24/400m/0_0_-1_400m/mic3/5.wav\n",
            "Skipping already processed: /content/drive/MyDrive/sevenlumi_data/luminator_dataset_augmented/m24/400m/0_0_-1_400m/mic3/4.wav\n",
            "Skipping already processed: /content/drive/MyDrive/sevenlumi_data/luminator_dataset_augmented/m24/400m/0_0_-1_400m/mic3/1.wav\n",
            "Skipping already processed: /content/drive/MyDrive/sevenlumi_data/luminator_dataset_augmented/m24/400m/0_0_-1_400m/mic3/18.wav\n",
            "Skipping already processed: /content/drive/MyDrive/sevenlumi_data/luminator_dataset_augmented/m24/400m/0_0_-1_400m/mic3/9.wav\n",
            "Skipping already processed: /content/drive/MyDrive/sevenlumi_data/luminator_dataset_augmented/m24/400m/0_0_-1_400m/mic3/8.wav\n",
            "Skipping already processed: /content/drive/MyDrive/sevenlumi_data/luminator_dataset_augmented/m24/400m/0_0_-1_400m/mic3/17.wav\n"
          ]
        },
        {
          "output_type": "stream",
          "name": "stderr",
          "text": [
            "\r100%|██████████| 20/20 [00:00<00:00, 881.13it/s]\n"
          ]
        },
        {
          "output_type": "stream",
          "name": "stdout",
          "text": [
            "Skipping already processed: /content/drive/MyDrive/sevenlumi_data/luminator_dataset_augmented/m24/400m/0_0_-1_400m/mic3/16.wav\n",
            "Skipping already processed: /content/drive/MyDrive/sevenlumi_data/luminator_dataset_augmented/m24/400m/0_0_-1_400m/mic3/10.wav\n",
            "Skipping already processed: /content/drive/MyDrive/sevenlumi_data/luminator_dataset_augmented/m24/400m/0_0_-1_400m/mic3/6.wav\n",
            "Skipping already processed: /content/drive/MyDrive/sevenlumi_data/luminator_dataset_augmented/m24/400m/0_0_-1_400m/mic3/14.wav\n",
            "Skipping already processed: /content/drive/MyDrive/sevenlumi_data/luminator_dataset_augmented/m24/400m/0_0_-1_400m/mic3/15.wav\n",
            "Skipping already processed: /content/drive/MyDrive/sevenlumi_data/luminator_dataset_augmented/m24/400m/0_0_-1_400m/mic3/11.wav\n",
            "Skipping already processed: /content/drive/MyDrive/sevenlumi_data/luminator_dataset_augmented/m24/400m/0_0_-1_400m/mic3/13.wav\n",
            "Skipping already processed: /content/drive/MyDrive/sevenlumi_data/luminator_dataset_augmented/m24/400m/0_0_-1_400m/mic3/7.wav\n",
            "Skipping already processed: /content/drive/MyDrive/sevenlumi_data/luminator_dataset_augmented/m24/400m/0_0_-1_400m/mic3/19.wav\n",
            "Skipping already processed: /content/drive/MyDrive/sevenlumi_data/luminator_dataset_augmented/m24/400m/0_0_-1_400m/mic3/12.wav\n",
            "Skipping already processed: /content/drive/MyDrive/sevenlumi_data/luminator_dataset_augmented/m24/400m/0_0_-1_400m/mic3/20.wav\n"
          ]
        },
        {
          "output_type": "stream",
          "name": "stderr",
          "text": [
            "\r  0%|          | 0/20 [00:00<?, ?it/s]"
          ]
        },
        {
          "output_type": "stream",
          "name": "stdout",
          "text": [
            "Skipping already processed: /content/drive/MyDrive/sevenlumi_data/luminator_dataset_augmented/m24/400m/0_0_-1_400m/mic4/3.wav\n",
            "Skipping already processed: /content/drive/MyDrive/sevenlumi_data/luminator_dataset_augmented/m24/400m/0_0_-1_400m/mic4/2.wav\n",
            "Skipping already processed: /content/drive/MyDrive/sevenlumi_data/luminator_dataset_augmented/m24/400m/0_0_-1_400m/mic4/5.wav\n",
            "Skipping already processed: /content/drive/MyDrive/sevenlumi_data/luminator_dataset_augmented/m24/400m/0_0_-1_400m/mic4/4.wav\n",
            "Skipping already processed: /content/drive/MyDrive/sevenlumi_data/luminator_dataset_augmented/m24/400m/0_0_-1_400m/mic4/1.wav\n",
            "Skipping already processed: /content/drive/MyDrive/sevenlumi_data/luminator_dataset_augmented/m24/400m/0_0_-1_400m/mic4/18.wav\n",
            "Skipping already processed: /content/drive/MyDrive/sevenlumi_data/luminator_dataset_augmented/m24/400m/0_0_-1_400m/mic4/9.wav\n",
            "Skipping already processed: /content/drive/MyDrive/sevenlumi_data/luminator_dataset_augmented/m24/400m/0_0_-1_400m/mic4/8.wav\n"
          ]
        },
        {
          "output_type": "stream",
          "name": "stderr",
          "text": [
            "\r100%|██████████| 20/20 [00:00<00:00, 1031.21it/s]\n"
          ]
        },
        {
          "output_type": "stream",
          "name": "stdout",
          "text": [
            "Skipping already processed: /content/drive/MyDrive/sevenlumi_data/luminator_dataset_augmented/m24/400m/0_0_-1_400m/mic4/17.wav\n",
            "Skipping already processed: /content/drive/MyDrive/sevenlumi_data/luminator_dataset_augmented/m24/400m/0_0_-1_400m/mic4/16.wav\n",
            "Skipping already processed: /content/drive/MyDrive/sevenlumi_data/luminator_dataset_augmented/m24/400m/0_0_-1_400m/mic4/10.wav\n",
            "Skipping already processed: /content/drive/MyDrive/sevenlumi_data/luminator_dataset_augmented/m24/400m/0_0_-1_400m/mic4/6.wav\n",
            "Skipping already processed: /content/drive/MyDrive/sevenlumi_data/luminator_dataset_augmented/m24/400m/0_0_-1_400m/mic4/14.wav\n",
            "Skipping already processed: /content/drive/MyDrive/sevenlumi_data/luminator_dataset_augmented/m24/400m/0_0_-1_400m/mic4/15.wav\n",
            "Skipping already processed: /content/drive/MyDrive/sevenlumi_data/luminator_dataset_augmented/m24/400m/0_0_-1_400m/mic4/11.wav\n",
            "Skipping already processed: /content/drive/MyDrive/sevenlumi_data/luminator_dataset_augmented/m24/400m/0_0_-1_400m/mic4/13.wav\n",
            "Skipping already processed: /content/drive/MyDrive/sevenlumi_data/luminator_dataset_augmented/m24/400m/0_0_-1_400m/mic4/7.wav\n",
            "Skipping already processed: /content/drive/MyDrive/sevenlumi_data/luminator_dataset_augmented/m24/400m/0_0_-1_400m/mic4/19.wav\n",
            "Skipping already processed: /content/drive/MyDrive/sevenlumi_data/luminator_dataset_augmented/m24/400m/0_0_-1_400m/mic4/12.wav\n",
            "Skipping already processed: /content/drive/MyDrive/sevenlumi_data/luminator_dataset_augmented/m24/400m/0_0_-1_400m/mic4/20.wav\n"
          ]
        },
        {
          "output_type": "stream",
          "name": "stderr",
          "text": [
            "0it [00:00, ?it/s]\n",
            "0it [00:00, ?it/s]\n",
            "100%|██████████| 10/10 [00:00<00:00, 962.26it/s]\n"
          ]
        },
        {
          "output_type": "stream",
          "name": "stdout",
          "text": [
            "Skipping already processed: /content/drive/MyDrive/sevenlumi_data/luminator_dataset_augmented/m24/200m/0_0_-1_200m/mic1/2.wav\n",
            "Skipping already processed: /content/drive/MyDrive/sevenlumi_data/luminator_dataset_augmented/m24/200m/0_0_-1_200m/mic1/4.wav\n",
            "Skipping already processed: /content/drive/MyDrive/sevenlumi_data/luminator_dataset_augmented/m24/200m/0_0_-1_200m/mic1/7.wav\n",
            "Skipping already processed: /content/drive/MyDrive/sevenlumi_data/luminator_dataset_augmented/m24/200m/0_0_-1_200m/mic1/3.wav\n",
            "Skipping already processed: /content/drive/MyDrive/sevenlumi_data/luminator_dataset_augmented/m24/200m/0_0_-1_200m/mic1/9.wav\n",
            "Skipping already processed: /content/drive/MyDrive/sevenlumi_data/luminator_dataset_augmented/m24/200m/0_0_-1_200m/mic1/5.wav\n",
            "Skipping already processed: /content/drive/MyDrive/sevenlumi_data/luminator_dataset_augmented/m24/200m/0_0_-1_200m/mic1/10.wav\n",
            "Skipping already processed: /content/drive/MyDrive/sevenlumi_data/luminator_dataset_augmented/m24/200m/0_0_-1_200m/mic1/8.wav\n",
            "Skipping already processed: /content/drive/MyDrive/sevenlumi_data/luminator_dataset_augmented/m24/200m/0_0_-1_200m/mic1/1.wav\n",
            "Skipping already processed: /content/drive/MyDrive/sevenlumi_data/luminator_dataset_augmented/m24/200m/0_0_-1_200m/mic1/6.wav\n"
          ]
        },
        {
          "output_type": "stream",
          "name": "stderr",
          "text": [
            "100%|██████████| 10/10 [00:00<00:00, 1044.32it/s]\n"
          ]
        },
        {
          "output_type": "stream",
          "name": "stdout",
          "text": [
            "Skipping already processed: /content/drive/MyDrive/sevenlumi_data/luminator_dataset_augmented/m24/200m/0_0_-1_200m/mic2/2.wav\n",
            "Skipping already processed: /content/drive/MyDrive/sevenlumi_data/luminator_dataset_augmented/m24/200m/0_0_-1_200m/mic2/4.wav\n",
            "Skipping already processed: /content/drive/MyDrive/sevenlumi_data/luminator_dataset_augmented/m24/200m/0_0_-1_200m/mic2/7.wav\n",
            "Skipping already processed: /content/drive/MyDrive/sevenlumi_data/luminator_dataset_augmented/m24/200m/0_0_-1_200m/mic2/3.wav\n",
            "Skipping already processed: /content/drive/MyDrive/sevenlumi_data/luminator_dataset_augmented/m24/200m/0_0_-1_200m/mic2/9.wav\n",
            "Skipping already processed: /content/drive/MyDrive/sevenlumi_data/luminator_dataset_augmented/m24/200m/0_0_-1_200m/mic2/5.wav\n",
            "Skipping already processed: /content/drive/MyDrive/sevenlumi_data/luminator_dataset_augmented/m24/200m/0_0_-1_200m/mic2/10.wav\n",
            "Skipping already processed: /content/drive/MyDrive/sevenlumi_data/luminator_dataset_augmented/m24/200m/0_0_-1_200m/mic2/8.wav\n",
            "Skipping already processed: /content/drive/MyDrive/sevenlumi_data/luminator_dataset_augmented/m24/200m/0_0_-1_200m/mic2/1.wav\n",
            "Skipping already processed: /content/drive/MyDrive/sevenlumi_data/luminator_dataset_augmented/m24/200m/0_0_-1_200m/mic2/6.wav\n"
          ]
        },
        {
          "output_type": "stream",
          "name": "stderr",
          "text": [
            "\r  0%|          | 0/10 [00:00<?, ?it/s]"
          ]
        },
        {
          "output_type": "stream",
          "name": "stdout",
          "text": [
            "Skipping already processed: /content/drive/MyDrive/sevenlumi_data/luminator_dataset_augmented/m24/200m/0_0_-1_200m/mic3/2.wav\n",
            "Skipping already processed: /content/drive/MyDrive/sevenlumi_data/luminator_dataset_augmented/m24/200m/0_0_-1_200m/mic3/4.wav\n",
            "Skipping already processed: /content/drive/MyDrive/sevenlumi_data/luminator_dataset_augmented/m24/200m/0_0_-1_200m/mic3/7.wav\n"
          ]
        },
        {
          "output_type": "stream",
          "name": "stderr",
          "text": [
            "\r100%|██████████| 10/10 [00:00<00:00, 1022.88it/s]\n"
          ]
        },
        {
          "output_type": "stream",
          "name": "stdout",
          "text": [
            "Skipping already processed: /content/drive/MyDrive/sevenlumi_data/luminator_dataset_augmented/m24/200m/0_0_-1_200m/mic3/3.wav\n",
            "Skipping already processed: /content/drive/MyDrive/sevenlumi_data/luminator_dataset_augmented/m24/200m/0_0_-1_200m/mic3/9.wav\n",
            "Skipping already processed: /content/drive/MyDrive/sevenlumi_data/luminator_dataset_augmented/m24/200m/0_0_-1_200m/mic3/5.wav\n",
            "Skipping already processed: /content/drive/MyDrive/sevenlumi_data/luminator_dataset_augmented/m24/200m/0_0_-1_200m/mic3/10.wav\n",
            "Skipping already processed: /content/drive/MyDrive/sevenlumi_data/luminator_dataset_augmented/m24/200m/0_0_-1_200m/mic3/8.wav\n",
            "Skipping already processed: /content/drive/MyDrive/sevenlumi_data/luminator_dataset_augmented/m24/200m/0_0_-1_200m/mic3/1.wav\n",
            "Skipping already processed: /content/drive/MyDrive/sevenlumi_data/luminator_dataset_augmented/m24/200m/0_0_-1_200m/mic3/6.wav\n"
          ]
        },
        {
          "output_type": "stream",
          "name": "stderr",
          "text": [
            "\r  0%|          | 0/10 [00:00<?, ?it/s]"
          ]
        },
        {
          "output_type": "stream",
          "name": "stdout",
          "text": [
            "Skipping already processed: /content/drive/MyDrive/sevenlumi_data/luminator_dataset_augmented/m24/200m/0_0_-1_200m/mic4/2.wav\n",
            "Skipping already processed: /content/drive/MyDrive/sevenlumi_data/luminator_dataset_augmented/m24/200m/0_0_-1_200m/mic4/4.wav\n",
            "Skipping already processed: /content/drive/MyDrive/sevenlumi_data/luminator_dataset_augmented/m24/200m/0_0_-1_200m/mic4/7.wav\n",
            "Skipping already processed: /content/drive/MyDrive/sevenlumi_data/luminator_dataset_augmented/m24/200m/0_0_-1_200m/mic4/3.wav\n",
            "Skipping already processed: /content/drive/MyDrive/sevenlumi_data/luminator_dataset_augmented/m24/200m/0_0_-1_200m/mic4/9.wav\n",
            "Skipping already processed: /content/drive/MyDrive/sevenlumi_data/luminator_dataset_augmented/m24/200m/0_0_-1_200m/mic4/5.wav\n",
            "Skipping already processed: /content/drive/MyDrive/sevenlumi_data/luminator_dataset_augmented/m24/200m/0_0_-1_200m/mic4/10.wav\n",
            "Skipping already processed: /content/drive/MyDrive/sevenlumi_data/luminator_dataset_augmented/m24/200m/0_0_-1_200m/mic4/8.wav\n"
          ]
        },
        {
          "output_type": "stream",
          "name": "stderr",
          "text": [
            "\r100%|██████████| 10/10 [00:00<00:00, 935.98it/s]\n"
          ]
        },
        {
          "output_type": "stream",
          "name": "stdout",
          "text": [
            "Skipping already processed: /content/drive/MyDrive/sevenlumi_data/luminator_dataset_augmented/m24/200m/0_0_-1_200m/mic4/1.wav\n",
            "Skipping already processed: /content/drive/MyDrive/sevenlumi_data/luminator_dataset_augmented/m24/200m/0_0_-1_200m/mic4/6.wav\n"
          ]
        },
        {
          "output_type": "stream",
          "name": "stderr",
          "text": [
            "0it [00:00, ?it/s]\n",
            "  0%|          | 0/15 [00:00<?, ?it/s]"
          ]
        },
        {
          "output_type": "stream",
          "name": "stdout",
          "text": [
            "Skipping already processed: /content/drive/MyDrive/sevenlumi_data/luminator_dataset_augmented/m24/200m/1_0_0_200m/mic1/2.wav\n",
            "Skipping already processed: /content/drive/MyDrive/sevenlumi_data/luminator_dataset_augmented/m24/200m/1_0_0_200m/mic1/8.wav\n",
            "Skipping already processed: /content/drive/MyDrive/sevenlumi_data/luminator_dataset_augmented/m24/200m/1_0_0_200m/mic1/12.wav\n",
            "Skipping already processed: /content/drive/MyDrive/sevenlumi_data/luminator_dataset_augmented/m24/200m/1_0_0_200m/mic1/6.wav\n",
            "Skipping already processed: /content/drive/MyDrive/sevenlumi_data/luminator_dataset_augmented/m24/200m/1_0_0_200m/mic1/11.wav\n",
            "Skipping already processed: /content/drive/MyDrive/sevenlumi_data/luminator_dataset_augmented/m24/200m/1_0_0_200m/mic1/7.wav\n",
            "Skipping already processed: /content/drive/MyDrive/sevenlumi_data/luminator_dataset_augmented/m24/200m/1_0_0_200m/mic1/1.wav\n",
            "Skipping already processed: /content/drive/MyDrive/sevenlumi_data/luminator_dataset_augmented/m24/200m/1_0_0_200m/mic1/4.wav\n",
            "Skipping already processed: /content/drive/MyDrive/sevenlumi_data/luminator_dataset_augmented/m24/200m/1_0_0_200m/mic1/13.wav\n",
            "Skipping already processed: /content/drive/MyDrive/sevenlumi_data/luminator_dataset_augmented/m24/200m/1_0_0_200m/mic1/14.wav\n",
            "Skipping already processed: /content/drive/MyDrive/sevenlumi_data/luminator_dataset_augmented/m24/200m/1_0_0_200m/mic1/9.wav\n"
          ]
        },
        {
          "output_type": "stream",
          "name": "stderr",
          "text": [
            "\r100%|██████████| 15/15 [00:00<00:00, 716.65it/s]\n"
          ]
        },
        {
          "output_type": "stream",
          "name": "stdout",
          "text": [
            "Skipping already processed: /content/drive/MyDrive/sevenlumi_data/luminator_dataset_augmented/m24/200m/1_0_0_200m/mic1/5.wav\n",
            "Skipping already processed: /content/drive/MyDrive/sevenlumi_data/luminator_dataset_augmented/m24/200m/1_0_0_200m/mic1/3.wav\n",
            "Skipping already processed: /content/drive/MyDrive/sevenlumi_data/luminator_dataset_augmented/m24/200m/1_0_0_200m/mic1/15.wav\n",
            "Skipping already processed: /content/drive/MyDrive/sevenlumi_data/luminator_dataset_augmented/m24/200m/1_0_0_200m/mic1/10.wav\n"
          ]
        },
        {
          "output_type": "stream",
          "name": "stderr",
          "text": [
            "\r  0%|          | 0/15 [00:00<?, ?it/s]"
          ]
        },
        {
          "output_type": "stream",
          "name": "stdout",
          "text": [
            "Skipping already processed: /content/drive/MyDrive/sevenlumi_data/luminator_dataset_augmented/m24/200m/1_0_0_200m/mic2/2.wav\n",
            "Skipping already processed: /content/drive/MyDrive/sevenlumi_data/luminator_dataset_augmented/m24/200m/1_0_0_200m/mic2/8.wav\n",
            "Skipping already processed: /content/drive/MyDrive/sevenlumi_data/luminator_dataset_augmented/m24/200m/1_0_0_200m/mic2/12.wav\n",
            "Skipping already processed: /content/drive/MyDrive/sevenlumi_data/luminator_dataset_augmented/m24/200m/1_0_0_200m/mic2/6.wav\n",
            "Skipping already processed: /content/drive/MyDrive/sevenlumi_data/luminator_dataset_augmented/m24/200m/1_0_0_200m/mic2/11.wav\n",
            "Skipping already processed: /content/drive/MyDrive/sevenlumi_data/luminator_dataset_augmented/m24/200m/1_0_0_200m/mic2/7.wav\n",
            "Skipping already processed: /content/drive/MyDrive/sevenlumi_data/luminator_dataset_augmented/m24/200m/1_0_0_200m/mic2/1.wav\n",
            "Skipping already processed: /content/drive/MyDrive/sevenlumi_data/luminator_dataset_augmented/m24/200m/1_0_0_200m/mic2/4.wav\n",
            "Skipping already processed: /content/drive/MyDrive/sevenlumi_data/luminator_dataset_augmented/m24/200m/1_0_0_200m/mic2/13.wav\n",
            "Skipping already processed: /content/drive/MyDrive/sevenlumi_data/luminator_dataset_augmented/m24/200m/1_0_0_200m/mic2/14.wav\n",
            "Skipping already processed: /content/drive/MyDrive/sevenlumi_data/luminator_dataset_augmented/m24/200m/1_0_0_200m/mic2/9.wav\n",
            "Skipping already processed: /content/drive/MyDrive/sevenlumi_data/luminator_dataset_augmented/m24/200m/1_0_0_200m/mic2/5.wav\n",
            "Skipping already processed: /content/drive/MyDrive/sevenlumi_data/luminator_dataset_augmented/m24/200m/1_0_0_200m/mic2/3.wav\n",
            "Skipping already processed: /content/drive/MyDrive/sevenlumi_data/luminator_dataset_augmented/m24/200m/1_0_0_200m/mic2/15.wav\n"
          ]
        },
        {
          "output_type": "stream",
          "name": "stderr",
          "text": [
            "\r100%|██████████| 15/15 [00:00<00:00, 847.43it/s]\n"
          ]
        },
        {
          "output_type": "stream",
          "name": "stdout",
          "text": [
            "Skipping already processed: /content/drive/MyDrive/sevenlumi_data/luminator_dataset_augmented/m24/200m/1_0_0_200m/mic2/10.wav\n"
          ]
        },
        {
          "output_type": "stream",
          "name": "stderr",
          "text": [
            "100%|██████████| 15/15 [00:00<00:00, 870.36it/s]"
          ]
        },
        {
          "output_type": "stream",
          "name": "stdout",
          "text": [
            "Skipping already processed: /content/drive/MyDrive/sevenlumi_data/luminator_dataset_augmented/m24/200m/1_0_0_200m/mic3/2.wav\n",
            "Skipping already processed: /content/drive/MyDrive/sevenlumi_data/luminator_dataset_augmented/m24/200m/1_0_0_200m/mic3/8.wav\n",
            "Skipping already processed: /content/drive/MyDrive/sevenlumi_data/luminator_dataset_augmented/m24/200m/1_0_0_200m/mic3/12.wav\n",
            "Skipping already processed: /content/drive/MyDrive/sevenlumi_data/luminator_dataset_augmented/m24/200m/1_0_0_200m/mic3/6.wav\n",
            "Skipping already processed: /content/drive/MyDrive/sevenlumi_data/luminator_dataset_augmented/m24/200m/1_0_0_200m/mic3/11.wav\n",
            "Skipping already processed: /content/drive/MyDrive/sevenlumi_data/luminator_dataset_augmented/m24/200m/1_0_0_200m/mic3/7.wav\n",
            "Skipping already processed: /content/drive/MyDrive/sevenlumi_data/luminator_dataset_augmented/m24/200m/1_0_0_200m/mic3/1.wav\n",
            "Skipping already processed: /content/drive/MyDrive/sevenlumi_data/luminator_dataset_augmented/m24/200m/1_0_0_200m/mic3/4.wav\n",
            "Skipping already processed: /content/drive/MyDrive/sevenlumi_data/luminator_dataset_augmented/m24/200m/1_0_0_200m/mic3/13.wav\n",
            "Skipping already processed: /content/drive/MyDrive/sevenlumi_data/luminator_dataset_augmented/m24/200m/1_0_0_200m/mic3/14.wav\n",
            "Skipping already processed: /content/drive/MyDrive/sevenlumi_data/luminator_dataset_augmented/m24/200m/1_0_0_200m/mic3/9.wav\n",
            "Skipping already processed: /content/drive/MyDrive/sevenlumi_data/luminator_dataset_augmented/m24/200m/1_0_0_200m/mic3/5.wav\n",
            "Skipping already processed: /content/drive/MyDrive/sevenlumi_data/luminator_dataset_augmented/m24/200m/1_0_0_200m/mic3/3.wav\n",
            "Skipping already processed: /content/drive/MyDrive/sevenlumi_data/luminator_dataset_augmented/m24/200m/1_0_0_200m/mic3/15.wav\n",
            "Skipping already processed: /content/drive/MyDrive/sevenlumi_data/luminator_dataset_augmented/m24/200m/1_0_0_200m/mic3/10.wav\n"
          ]
        },
        {
          "output_type": "stream",
          "name": "stderr",
          "text": [
            "\n",
            "  0%|          | 0/15 [00:00<?, ?it/s]"
          ]
        },
        {
          "output_type": "stream",
          "name": "stdout",
          "text": [
            "Skipping already processed: /content/drive/MyDrive/sevenlumi_data/luminator_dataset_augmented/m24/200m/1_0_0_200m/mic4/2.wav\n",
            "Skipping already processed: /content/drive/MyDrive/sevenlumi_data/luminator_dataset_augmented/m24/200m/1_0_0_200m/mic4/8.wav\n",
            "Skipping already processed: /content/drive/MyDrive/sevenlumi_data/luminator_dataset_augmented/m24/200m/1_0_0_200m/mic4/12.wav\n",
            "Skipping already processed: /content/drive/MyDrive/sevenlumi_data/luminator_dataset_augmented/m24/200m/1_0_0_200m/mic4/6.wav\n",
            "Skipping already processed: /content/drive/MyDrive/sevenlumi_data/luminator_dataset_augmented/m24/200m/1_0_0_200m/mic4/11.wav\n",
            "Skipping already processed: /content/drive/MyDrive/sevenlumi_data/luminator_dataset_augmented/m24/200m/1_0_0_200m/mic4/7.wav\n",
            "Skipping already processed: /content/drive/MyDrive/sevenlumi_data/luminator_dataset_augmented/m24/200m/1_0_0_200m/mic4/1.wav\n",
            "Skipping already processed: /content/drive/MyDrive/sevenlumi_data/luminator_dataset_augmented/m24/200m/1_0_0_200m/mic4/4.wav\n"
          ]
        },
        {
          "output_type": "stream",
          "name": "stderr",
          "text": [
            "\r100%|██████████| 15/15 [00:00<00:00, 848.76it/s]\n"
          ]
        },
        {
          "output_type": "stream",
          "name": "stdout",
          "text": [
            "Skipping already processed: /content/drive/MyDrive/sevenlumi_data/luminator_dataset_augmented/m24/200m/1_0_0_200m/mic4/13.wav\n",
            "Skipping already processed: /content/drive/MyDrive/sevenlumi_data/luminator_dataset_augmented/m24/200m/1_0_0_200m/mic4/14.wav\n",
            "Skipping already processed: /content/drive/MyDrive/sevenlumi_data/luminator_dataset_augmented/m24/200m/1_0_0_200m/mic4/9.wav\n",
            "Skipping already processed: /content/drive/MyDrive/sevenlumi_data/luminator_dataset_augmented/m24/200m/1_0_0_200m/mic4/5.wav\n",
            "Skipping already processed: /content/drive/MyDrive/sevenlumi_data/luminator_dataset_augmented/m24/200m/1_0_0_200m/mic4/3.wav\n",
            "Skipping already processed: /content/drive/MyDrive/sevenlumi_data/luminator_dataset_augmented/m24/200m/1_0_0_200m/mic4/15.wav\n",
            "Skipping already processed: /content/drive/MyDrive/sevenlumi_data/luminator_dataset_augmented/m24/200m/1_0_0_200m/mic4/10.wav\n"
          ]
        },
        {
          "output_type": "stream",
          "name": "stderr",
          "text": [
            "0it [00:00, ?it/s]\n",
            "  0%|          | 0/18 [00:00<?, ?it/s]"
          ]
        },
        {
          "output_type": "stream",
          "name": "stdout",
          "text": [
            "Skipping already processed: /content/drive/MyDrive/sevenlumi_data/luminator_dataset_augmented/m24/200m/0_0_1_200m/mic1/3.wav\n"
          ]
        },
        {
          "output_type": "stream",
          "name": "stderr",
          "text": [
            "\r100%|██████████| 18/18 [00:00<00:00, 745.84it/s]\n"
          ]
        },
        {
          "output_type": "stream",
          "name": "stdout",
          "text": [
            "Skipping already processed: /content/drive/MyDrive/sevenlumi_data/luminator_dataset_augmented/m24/200m/0_0_1_200m/mic1/6.wav\n",
            "Skipping already processed: /content/drive/MyDrive/sevenlumi_data/luminator_dataset_augmented/m24/200m/0_0_1_200m/mic1/4.wav\n",
            "Skipping already processed: /content/drive/MyDrive/sevenlumi_data/luminator_dataset_augmented/m24/200m/0_0_1_200m/mic1/7.wav\n",
            "Skipping already processed: /content/drive/MyDrive/sevenlumi_data/luminator_dataset_augmented/m24/200m/0_0_1_200m/mic1/2.wav\n",
            "Skipping already processed: /content/drive/MyDrive/sevenlumi_data/luminator_dataset_augmented/m24/200m/0_0_1_200m/mic1/1.wav\n",
            "Skipping already processed: /content/drive/MyDrive/sevenlumi_data/luminator_dataset_augmented/m24/200m/0_0_1_200m/mic1/5.wav\n",
            "Skipping already processed: /content/drive/MyDrive/sevenlumi_data/luminator_dataset_augmented/m24/200m/0_0_1_200m/mic1/8.wav\n",
            "Skipping already processed: /content/drive/MyDrive/sevenlumi_data/luminator_dataset_augmented/m24/200m/0_0_1_200m/mic1/9.wav\n",
            "Skipping already processed: /content/drive/MyDrive/sevenlumi_data/luminator_dataset_augmented/m24/200m/0_0_1_200m/mic1/18.wav\n",
            "Skipping already processed: /content/drive/MyDrive/sevenlumi_data/luminator_dataset_augmented/m24/200m/0_0_1_200m/mic1/16.wav\n",
            "Skipping already processed: /content/drive/MyDrive/sevenlumi_data/luminator_dataset_augmented/m24/200m/0_0_1_200m/mic1/17.wav\n",
            "Skipping already processed: /content/drive/MyDrive/sevenlumi_data/luminator_dataset_augmented/m24/200m/0_0_1_200m/mic1/14.wav\n",
            "Skipping already processed: /content/drive/MyDrive/sevenlumi_data/luminator_dataset_augmented/m24/200m/0_0_1_200m/mic1/12.wav\n",
            "Skipping already processed: /content/drive/MyDrive/sevenlumi_data/luminator_dataset_augmented/m24/200m/0_0_1_200m/mic1/15.wav\n",
            "Skipping already processed: /content/drive/MyDrive/sevenlumi_data/luminator_dataset_augmented/m24/200m/0_0_1_200m/mic1/10.wav\n",
            "Skipping already processed: /content/drive/MyDrive/sevenlumi_data/luminator_dataset_augmented/m24/200m/0_0_1_200m/mic1/13.wav\n",
            "Skipping already processed: /content/drive/MyDrive/sevenlumi_data/luminator_dataset_augmented/m24/200m/0_0_1_200m/mic1/11.wav\n"
          ]
        },
        {
          "output_type": "stream",
          "name": "stderr",
          "text": [
            "\r  0%|          | 0/18 [00:00<?, ?it/s]"
          ]
        },
        {
          "output_type": "stream",
          "name": "stdout",
          "text": [
            "Skipping already processed: /content/drive/MyDrive/sevenlumi_data/luminator_dataset_augmented/m24/200m/0_0_1_200m/mic2/3.wav\n",
            "Skipping already processed: /content/drive/MyDrive/sevenlumi_data/luminator_dataset_augmented/m24/200m/0_0_1_200m/mic2/6.wav\n",
            "Skipping already processed: /content/drive/MyDrive/sevenlumi_data/luminator_dataset_augmented/m24/200m/0_0_1_200m/mic2/4.wav\n",
            "Skipping already processed: /content/drive/MyDrive/sevenlumi_data/luminator_dataset_augmented/m24/200m/0_0_1_200m/mic2/7.wav\n",
            "Skipping already processed: /content/drive/MyDrive/sevenlumi_data/luminator_dataset_augmented/m24/200m/0_0_1_200m/mic2/2.wav\n",
            "Skipping already processed: /content/drive/MyDrive/sevenlumi_data/luminator_dataset_augmented/m24/200m/0_0_1_200m/mic2/1.wav\n",
            "Skipping already processed: /content/drive/MyDrive/sevenlumi_data/luminator_dataset_augmented/m24/200m/0_0_1_200m/mic2/5.wav\n",
            "Skipping already processed: /content/drive/MyDrive/sevenlumi_data/luminator_dataset_augmented/m24/200m/0_0_1_200m/mic2/8.wav\n",
            "Skipping already processed: /content/drive/MyDrive/sevenlumi_data/luminator_dataset_augmented/m24/200m/0_0_1_200m/mic2/9.wav\n",
            "Skipping already processed: /content/drive/MyDrive/sevenlumi_data/luminator_dataset_augmented/m24/200m/0_0_1_200m/mic2/18.wav\n",
            "Skipping already processed: /content/drive/MyDrive/sevenlumi_data/luminator_dataset_augmented/m24/200m/0_0_1_200m/mic2/16.wav\n",
            "Skipping already processed: /content/drive/MyDrive/sevenlumi_data/luminator_dataset_augmented/m24/200m/0_0_1_200m/mic2/17.wav\n",
            "Skipping already processed: /content/drive/MyDrive/sevenlumi_data/luminator_dataset_augmented/m24/200m/0_0_1_200m/mic2/14.wav\n"
          ]
        },
        {
          "output_type": "stream",
          "name": "stderr",
          "text": [
            "\r100%|██████████| 18/18 [00:00<00:00, 425.77it/s]\n"
          ]
        },
        {
          "output_type": "stream",
          "name": "stdout",
          "text": [
            "Skipping already processed: /content/drive/MyDrive/sevenlumi_data/luminator_dataset_augmented/m24/200m/0_0_1_200m/mic2/12.wav\n",
            "Skipping already processed: /content/drive/MyDrive/sevenlumi_data/luminator_dataset_augmented/m24/200m/0_0_1_200m/mic2/15.wav\n",
            "Skipping already processed: /content/drive/MyDrive/sevenlumi_data/luminator_dataset_augmented/m24/200m/0_0_1_200m/mic2/10.wav\n",
            "Skipping already processed: /content/drive/MyDrive/sevenlumi_data/luminator_dataset_augmented/m24/200m/0_0_1_200m/mic2/13.wav\n",
            "Skipping already processed: /content/drive/MyDrive/sevenlumi_data/luminator_dataset_augmented/m24/200m/0_0_1_200m/mic2/11.wav\n"
          ]
        },
        {
          "output_type": "stream",
          "name": "stderr",
          "text": [
            "\r  0%|          | 0/18 [00:00<?, ?it/s]"
          ]
        },
        {
          "output_type": "stream",
          "name": "stdout",
          "text": [
            "Skipping already processed: /content/drive/MyDrive/sevenlumi_data/luminator_dataset_augmented/m24/200m/0_0_1_200m/mic3/3.wav\n",
            "Skipping already processed: /content/drive/MyDrive/sevenlumi_data/luminator_dataset_augmented/m24/200m/0_0_1_200m/mic3/6.wav\n",
            "Skipping already processed: /content/drive/MyDrive/sevenlumi_data/luminator_dataset_augmented/m24/200m/0_0_1_200m/mic3/4.wav\n",
            "Skipping already processed: /content/drive/MyDrive/sevenlumi_data/luminator_dataset_augmented/m24/200m/0_0_1_200m/mic3/7.wav\n",
            "Skipping already processed: /content/drive/MyDrive/sevenlumi_data/luminator_dataset_augmented/m24/200m/0_0_1_200m/mic3/2.wav\n",
            "Skipping already processed: /content/drive/MyDrive/sevenlumi_data/luminator_dataset_augmented/m24/200m/0_0_1_200m/mic3/1.wav\n",
            "Skipping already processed: /content/drive/MyDrive/sevenlumi_data/luminator_dataset_augmented/m24/200m/0_0_1_200m/mic3/5.wav\n",
            "Skipping already processed: /content/drive/MyDrive/sevenlumi_data/luminator_dataset_augmented/m24/200m/0_0_1_200m/mic3/8.wav\n",
            "Skipping already processed: /content/drive/MyDrive/sevenlumi_data/luminator_dataset_augmented/m24/200m/0_0_1_200m/mic3/9.wav\n",
            "Skipping already processed: /content/drive/MyDrive/sevenlumi_data/luminator_dataset_augmented/m24/200m/0_0_1_200m/mic3/18.wav\n",
            "Skipping already processed: /content/drive/MyDrive/sevenlumi_data/luminator_dataset_augmented/m24/200m/0_0_1_200m/mic3/16.wav\n",
            "Skipping already processed: /content/drive/MyDrive/sevenlumi_data/luminator_dataset_augmented/m24/200m/0_0_1_200m/mic3/17.wav\n",
            "Skipping already processed: /content/drive/MyDrive/sevenlumi_data/luminator_dataset_augmented/m24/200m/0_0_1_200m/mic3/14.wav\n",
            "Skipping already processed: /content/drive/MyDrive/sevenlumi_data/luminator_dataset_augmented/m24/200m/0_0_1_200m/mic3/12.wav\n",
            "Skipping already processed: /content/drive/MyDrive/sevenlumi_data/luminator_dataset_augmented/m24/200m/0_0_1_200m/mic3/15.wav\n",
            "Skipping already processed: /content/drive/MyDrive/sevenlumi_data/luminator_dataset_augmented/m24/200m/0_0_1_200m/mic3/10.wav\n"
          ]
        },
        {
          "output_type": "stream",
          "name": "stderr",
          "text": [
            "\r100%|██████████| 18/18 [00:00<00:00, 705.19it/s]\n"
          ]
        },
        {
          "output_type": "stream",
          "name": "stdout",
          "text": [
            "Skipping already processed: /content/drive/MyDrive/sevenlumi_data/luminator_dataset_augmented/m24/200m/0_0_1_200m/mic3/13.wav\n",
            "Skipping already processed: /content/drive/MyDrive/sevenlumi_data/luminator_dataset_augmented/m24/200m/0_0_1_200m/mic3/11.wav\n"
          ]
        },
        {
          "output_type": "stream",
          "name": "stderr",
          "text": [
            "\r  0%|          | 0/18 [00:00<?, ?it/s]"
          ]
        },
        {
          "output_type": "stream",
          "name": "stdout",
          "text": [
            "Skipping already processed: /content/drive/MyDrive/sevenlumi_data/luminator_dataset_augmented/m24/200m/0_0_1_200m/mic4/3.wav\n",
            "Skipping already processed: /content/drive/MyDrive/sevenlumi_data/luminator_dataset_augmented/m24/200m/0_0_1_200m/mic4/6.wav\n",
            "Skipping already processed: /content/drive/MyDrive/sevenlumi_data/luminator_dataset_augmented/m24/200m/0_0_1_200m/mic4/4.wav\n",
            "Skipping already processed: /content/drive/MyDrive/sevenlumi_data/luminator_dataset_augmented/m24/200m/0_0_1_200m/mic4/7.wav\n",
            "Skipping already processed: /content/drive/MyDrive/sevenlumi_data/luminator_dataset_augmented/m24/200m/0_0_1_200m/mic4/2.wav\n",
            "Skipping already processed: /content/drive/MyDrive/sevenlumi_data/luminator_dataset_augmented/m24/200m/0_0_1_200m/mic4/1.wav\n",
            "Skipping already processed: /content/drive/MyDrive/sevenlumi_data/luminator_dataset_augmented/m24/200m/0_0_1_200m/mic4/5.wav\n",
            "Skipping already processed: /content/drive/MyDrive/sevenlumi_data/luminator_dataset_augmented/m24/200m/0_0_1_200m/mic4/8.wav\n",
            "Skipping already processed: /content/drive/MyDrive/sevenlumi_data/luminator_dataset_augmented/m24/200m/0_0_1_200m/mic4/9.wav\n",
            "Skipping already processed: /content/drive/MyDrive/sevenlumi_data/luminator_dataset_augmented/m24/200m/0_0_1_200m/mic4/18.wav\n",
            "Skipping already processed: /content/drive/MyDrive/sevenlumi_data/luminator_dataset_augmented/m24/200m/0_0_1_200m/mic4/16.wav\n",
            "Skipping already processed: /content/drive/MyDrive/sevenlumi_data/luminator_dataset_augmented/m24/200m/0_0_1_200m/mic4/17.wav\n",
            "Skipping already processed: /content/drive/MyDrive/sevenlumi_data/luminator_dataset_augmented/m24/200m/0_0_1_200m/mic4/14.wav\n"
          ]
        },
        {
          "output_type": "stream",
          "name": "stderr",
          "text": [
            "\r100%|██████████| 18/18 [00:00<00:00, 1089.74it/s]\n"
          ]
        },
        {
          "output_type": "stream",
          "name": "stdout",
          "text": [
            "Skipping already processed: /content/drive/MyDrive/sevenlumi_data/luminator_dataset_augmented/m24/200m/0_0_1_200m/mic4/12.wav\n",
            "Skipping already processed: /content/drive/MyDrive/sevenlumi_data/luminator_dataset_augmented/m24/200m/0_0_1_200m/mic4/15.wav\n",
            "Skipping already processed: /content/drive/MyDrive/sevenlumi_data/luminator_dataset_augmented/m24/200m/0_0_1_200m/mic4/10.wav\n",
            "Skipping already processed: /content/drive/MyDrive/sevenlumi_data/luminator_dataset_augmented/m24/200m/0_0_1_200m/mic4/13.wav\n",
            "Skipping already processed: /content/drive/MyDrive/sevenlumi_data/luminator_dataset_augmented/m24/200m/0_0_1_200m/mic4/11.wav\n"
          ]
        },
        {
          "output_type": "stream",
          "name": "stderr",
          "text": [
            "0it [00:00, ?it/s]\n",
            "  0%|          | 0/12 [00:00<?, ?it/s]"
          ]
        },
        {
          "output_type": "stream",
          "name": "stdout",
          "text": [
            "Skipping already processed: /content/drive/MyDrive/sevenlumi_data/luminator_dataset_augmented/m24/200m/-1_0_0_200m/mic1/4.wav\n",
            "Skipping already processed: /content/drive/MyDrive/sevenlumi_data/luminator_dataset_augmented/m24/200m/-1_0_0_200m/mic1/5.wav\n",
            "Skipping already processed: /content/drive/MyDrive/sevenlumi_data/luminator_dataset_augmented/m24/200m/-1_0_0_200m/mic1/6.wav\n",
            "Skipping already processed: /content/drive/MyDrive/sevenlumi_data/luminator_dataset_augmented/m24/200m/-1_0_0_200m/mic1/10.wav\n",
            "Skipping already processed: /content/drive/MyDrive/sevenlumi_data/luminator_dataset_augmented/m24/200m/-1_0_0_200m/mic1/3.wav\n",
            "Skipping already processed: /content/drive/MyDrive/sevenlumi_data/luminator_dataset_augmented/m24/200m/-1_0_0_200m/mic1/8.wav\n",
            "Skipping already processed: /content/drive/MyDrive/sevenlumi_data/luminator_dataset_augmented/m24/200m/-1_0_0_200m/mic1/7.wav\n",
            "Skipping already processed: /content/drive/MyDrive/sevenlumi_data/luminator_dataset_augmented/m24/200m/-1_0_0_200m/mic1/9.wav\n",
            "Skipping already processed: /content/drive/MyDrive/sevenlumi_data/luminator_dataset_augmented/m24/200m/-1_0_0_200m/mic1/1.wav\n"
          ]
        },
        {
          "output_type": "stream",
          "name": "stderr",
          "text": [
            "\r100%|██████████| 12/12 [00:00<00:00, 916.40it/s]\n"
          ]
        },
        {
          "output_type": "stream",
          "name": "stdout",
          "text": [
            "Skipping already processed: /content/drive/MyDrive/sevenlumi_data/luminator_dataset_augmented/m24/200m/-1_0_0_200m/mic1/11.wav\n",
            "Skipping already processed: /content/drive/MyDrive/sevenlumi_data/luminator_dataset_augmented/m24/200m/-1_0_0_200m/mic1/2.wav\n",
            "Skipping already processed: /content/drive/MyDrive/sevenlumi_data/luminator_dataset_augmented/m24/200m/-1_0_0_200m/mic1/12.wav\n"
          ]
        },
        {
          "output_type": "stream",
          "name": "stderr",
          "text": [
            "100%|██████████| 12/12 [00:00<00:00, 1109.87it/s]\n"
          ]
        },
        {
          "output_type": "stream",
          "name": "stdout",
          "text": [
            "Skipping already processed: /content/drive/MyDrive/sevenlumi_data/luminator_dataset_augmented/m24/200m/-1_0_0_200m/mic2/4.wav\n",
            "Skipping already processed: /content/drive/MyDrive/sevenlumi_data/luminator_dataset_augmented/m24/200m/-1_0_0_200m/mic2/5.wav\n",
            "Skipping already processed: /content/drive/MyDrive/sevenlumi_data/luminator_dataset_augmented/m24/200m/-1_0_0_200m/mic2/6.wav\n",
            "Skipping already processed: /content/drive/MyDrive/sevenlumi_data/luminator_dataset_augmented/m24/200m/-1_0_0_200m/mic2/10.wav\n",
            "Skipping already processed: /content/drive/MyDrive/sevenlumi_data/luminator_dataset_augmented/m24/200m/-1_0_0_200m/mic2/3.wav\n",
            "Skipping already processed: /content/drive/MyDrive/sevenlumi_data/luminator_dataset_augmented/m24/200m/-1_0_0_200m/mic2/8.wav\n",
            "Skipping already processed: /content/drive/MyDrive/sevenlumi_data/luminator_dataset_augmented/m24/200m/-1_0_0_200m/mic2/7.wav\n",
            "Skipping already processed: /content/drive/MyDrive/sevenlumi_data/luminator_dataset_augmented/m24/200m/-1_0_0_200m/mic2/9.wav\n",
            "Skipping already processed: /content/drive/MyDrive/sevenlumi_data/luminator_dataset_augmented/m24/200m/-1_0_0_200m/mic2/1.wav\n",
            "Skipping already processed: /content/drive/MyDrive/sevenlumi_data/luminator_dataset_augmented/m24/200m/-1_0_0_200m/mic2/11.wav\n",
            "Skipping already processed: /content/drive/MyDrive/sevenlumi_data/luminator_dataset_augmented/m24/200m/-1_0_0_200m/mic2/2.wav\n",
            "Skipping already processed: /content/drive/MyDrive/sevenlumi_data/luminator_dataset_augmented/m24/200m/-1_0_0_200m/mic2/12.wav\n"
          ]
        },
        {
          "output_type": "stream",
          "name": "stderr",
          "text": [
            "\r  0%|          | 0/12 [00:00<?, ?it/s]"
          ]
        },
        {
          "output_type": "stream",
          "name": "stdout",
          "text": [
            "Skipping already processed: /content/drive/MyDrive/sevenlumi_data/luminator_dataset_augmented/m24/200m/-1_0_0_200m/mic3/4.wav\n",
            "Skipping already processed: /content/drive/MyDrive/sevenlumi_data/luminator_dataset_augmented/m24/200m/-1_0_0_200m/mic3/5.wav\n",
            "Skipping already processed: /content/drive/MyDrive/sevenlumi_data/luminator_dataset_augmented/m24/200m/-1_0_0_200m/mic3/6.wav\n",
            "Skipping already processed: /content/drive/MyDrive/sevenlumi_data/luminator_dataset_augmented/m24/200m/-1_0_0_200m/mic3/10.wav\n",
            "Skipping already processed: /content/drive/MyDrive/sevenlumi_data/luminator_dataset_augmented/m24/200m/-1_0_0_200m/mic3/3.wav\n",
            "Skipping already processed: /content/drive/MyDrive/sevenlumi_data/luminator_dataset_augmented/m24/200m/-1_0_0_200m/mic3/8.wav\n",
            "Skipping already processed: /content/drive/MyDrive/sevenlumi_data/luminator_dataset_augmented/m24/200m/-1_0_0_200m/mic3/7.wav\n",
            "Skipping already processed: /content/drive/MyDrive/sevenlumi_data/luminator_dataset_augmented/m24/200m/-1_0_0_200m/mic3/9.wav\n",
            "Skipping already processed: /content/drive/MyDrive/sevenlumi_data/luminator_dataset_augmented/m24/200m/-1_0_0_200m/mic3/1.wav\n",
            "Skipping already processed: /content/drive/MyDrive/sevenlumi_data/luminator_dataset_augmented/m24/200m/-1_0_0_200m/mic3/11.wav\n",
            "Skipping already processed: /content/drive/MyDrive/sevenlumi_data/luminator_dataset_augmented/m24/200m/-1_0_0_200m/mic3/2.wav\n"
          ]
        },
        {
          "output_type": "stream",
          "name": "stderr",
          "text": [
            "\r100%|██████████| 12/12 [00:00<00:00, 978.28it/s]\n"
          ]
        },
        {
          "output_type": "stream",
          "name": "stdout",
          "text": [
            "Skipping already processed: /content/drive/MyDrive/sevenlumi_data/luminator_dataset_augmented/m24/200m/-1_0_0_200m/mic3/12.wav\n"
          ]
        },
        {
          "output_type": "stream",
          "name": "stderr",
          "text": [
            "100%|██████████| 12/12 [00:00<00:00, 1311.64it/s]\n"
          ]
        },
        {
          "output_type": "stream",
          "name": "stdout",
          "text": [
            "Skipping already processed: /content/drive/MyDrive/sevenlumi_data/luminator_dataset_augmented/m24/200m/-1_0_0_200m/mic4/4.wav\n",
            "Skipping already processed: /content/drive/MyDrive/sevenlumi_data/luminator_dataset_augmented/m24/200m/-1_0_0_200m/mic4/5.wav\n",
            "Skipping already processed: /content/drive/MyDrive/sevenlumi_data/luminator_dataset_augmented/m24/200m/-1_0_0_200m/mic4/6.wav\n",
            "Skipping already processed: /content/drive/MyDrive/sevenlumi_data/luminator_dataset_augmented/m24/200m/-1_0_0_200m/mic4/10.wav\n",
            "Skipping already processed: /content/drive/MyDrive/sevenlumi_data/luminator_dataset_augmented/m24/200m/-1_0_0_200m/mic4/3.wav\n",
            "Skipping already processed: /content/drive/MyDrive/sevenlumi_data/luminator_dataset_augmented/m24/200m/-1_0_0_200m/mic4/8.wav\n",
            "Skipping already processed: /content/drive/MyDrive/sevenlumi_data/luminator_dataset_augmented/m24/200m/-1_0_0_200m/mic4/7.wav\n",
            "Skipping already processed: /content/drive/MyDrive/sevenlumi_data/luminator_dataset_augmented/m24/200m/-1_0_0_200m/mic4/9.wav\n",
            "Skipping already processed: /content/drive/MyDrive/sevenlumi_data/luminator_dataset_augmented/m24/200m/-1_0_0_200m/mic4/1.wav\n",
            "Skipping already processed: /content/drive/MyDrive/sevenlumi_data/luminator_dataset_augmented/m24/200m/-1_0_0_200m/mic4/11.wav\n",
            "Skipping already processed: /content/drive/MyDrive/sevenlumi_data/luminator_dataset_augmented/m24/200m/-1_0_0_200m/mic4/2.wav\n",
            "Skipping already processed: /content/drive/MyDrive/sevenlumi_data/luminator_dataset_augmented/m24/200m/-1_0_0_200m/mic4/12.wav\n"
          ]
        },
        {
          "output_type": "stream",
          "name": "stderr",
          "text": [
            "0it [00:00, ?it/s]\n",
            "0it [00:00, ?it/s]\n",
            "100%|██████████| 12/12 [00:00<00:00, 955.79it/s]\n"
          ]
        },
        {
          "output_type": "stream",
          "name": "stdout",
          "text": [
            "Skipping already processed: /content/drive/MyDrive/sevenlumi_data/luminator_dataset_augmented/m24/100m/1_0_0_100m/mic1/4.wav\n",
            "Skipping already processed: /content/drive/MyDrive/sevenlumi_data/luminator_dataset_augmented/m24/100m/1_0_0_100m/mic1/8.wav\n",
            "Skipping already processed: /content/drive/MyDrive/sevenlumi_data/luminator_dataset_augmented/m24/100m/1_0_0_100m/mic1/2.wav\n",
            "Skipping already processed: /content/drive/MyDrive/sevenlumi_data/luminator_dataset_augmented/m24/100m/1_0_0_100m/mic1/7.wav\n",
            "Skipping already processed: /content/drive/MyDrive/sevenlumi_data/luminator_dataset_augmented/m24/100m/1_0_0_100m/mic1/9.wav\n",
            "Skipping already processed: /content/drive/MyDrive/sevenlumi_data/luminator_dataset_augmented/m24/100m/1_0_0_100m/mic1/3.wav\n",
            "Skipping already processed: /content/drive/MyDrive/sevenlumi_data/luminator_dataset_augmented/m24/100m/1_0_0_100m/mic1/1.wav\n",
            "Skipping already processed: /content/drive/MyDrive/sevenlumi_data/luminator_dataset_augmented/m24/100m/1_0_0_100m/mic1/5.wav\n",
            "Skipping already processed: /content/drive/MyDrive/sevenlumi_data/luminator_dataset_augmented/m24/100m/1_0_0_100m/mic1/6.wav\n",
            "Skipping already processed: /content/drive/MyDrive/sevenlumi_data/luminator_dataset_augmented/m24/100m/1_0_0_100m/mic1/10.wav\n",
            "Skipping already processed: /content/drive/MyDrive/sevenlumi_data/luminator_dataset_augmented/m24/100m/1_0_0_100m/mic1/11.wav\n",
            "Skipping already processed: /content/drive/MyDrive/sevenlumi_data/luminator_dataset_augmented/m24/100m/1_0_0_100m/mic1/12.wav\n"
          ]
        },
        {
          "output_type": "stream",
          "name": "stderr",
          "text": [
            "\r  0%|          | 0/12 [00:00<?, ?it/s]"
          ]
        },
        {
          "output_type": "stream",
          "name": "stdout",
          "text": [
            "Skipping already processed: /content/drive/MyDrive/sevenlumi_data/luminator_dataset_augmented/m24/100m/1_0_0_100m/mic2/4.wav\n",
            "Skipping already processed: /content/drive/MyDrive/sevenlumi_data/luminator_dataset_augmented/m24/100m/1_0_0_100m/mic2/8.wav\n",
            "Skipping already processed: /content/drive/MyDrive/sevenlumi_data/luminator_dataset_augmented/m24/100m/1_0_0_100m/mic2/2.wav\n",
            "Skipping already processed: /content/drive/MyDrive/sevenlumi_data/luminator_dataset_augmented/m24/100m/1_0_0_100m/mic2/7.wav\n"
          ]
        },
        {
          "output_type": "stream",
          "name": "stderr",
          "text": [
            "\r100%|██████████| 12/12 [00:00<00:00, 946.81it/s]"
          ]
        },
        {
          "output_type": "stream",
          "name": "stdout",
          "text": [
            "Skipping already processed: /content/drive/MyDrive/sevenlumi_data/luminator_dataset_augmented/m24/100m/1_0_0_100m/mic2/9.wav\n",
            "Skipping already processed: /content/drive/MyDrive/sevenlumi_data/luminator_dataset_augmented/m24/100m/1_0_0_100m/mic2/3.wav\n",
            "Skipping already processed: /content/drive/MyDrive/sevenlumi_data/luminator_dataset_augmented/m24/100m/1_0_0_100m/mic2/1.wav\n",
            "Skipping already processed: /content/drive/MyDrive/sevenlumi_data/luminator_dataset_augmented/m24/100m/1_0_0_100m/mic2/5.wav\n",
            "Skipping already processed: /content/drive/MyDrive/sevenlumi_data/luminator_dataset_augmented/m24/100m/1_0_0_100m/mic2/6.wav\n",
            "Skipping already processed: /content/drive/MyDrive/sevenlumi_data/luminator_dataset_augmented/m24/100m/1_0_0_100m/mic2/10.wav\n",
            "Skipping already processed: /content/drive/MyDrive/sevenlumi_data/luminator_dataset_augmented/m24/100m/1_0_0_100m/mic2/11.wav\n",
            "Skipping already processed: /content/drive/MyDrive/sevenlumi_data/luminator_dataset_augmented/m24/100m/1_0_0_100m/mic2/12.wav\n"
          ]
        },
        {
          "output_type": "stream",
          "name": "stderr",
          "text": [
            "\n",
            "  0%|          | 0/12 [00:00<?, ?it/s]"
          ]
        },
        {
          "output_type": "stream",
          "name": "stdout",
          "text": [
            "Skipping already processed: /content/drive/MyDrive/sevenlumi_data/luminator_dataset_augmented/m24/100m/1_0_0_100m/mic3/4.wav\n",
            "Skipping already processed: /content/drive/MyDrive/sevenlumi_data/luminator_dataset_augmented/m24/100m/1_0_0_100m/mic3/8.wav\n",
            "Skipping already processed: /content/drive/MyDrive/sevenlumi_data/luminator_dataset_augmented/m24/100m/1_0_0_100m/mic3/2.wav\n",
            "Skipping already processed: /content/drive/MyDrive/sevenlumi_data/luminator_dataset_augmented/m24/100m/1_0_0_100m/mic3/7.wav\n",
            "Skipping already processed: /content/drive/MyDrive/sevenlumi_data/luminator_dataset_augmented/m24/100m/1_0_0_100m/mic3/9.wav\n",
            "Skipping already processed: /content/drive/MyDrive/sevenlumi_data/luminator_dataset_augmented/m24/100m/1_0_0_100m/mic3/3.wav\n",
            "Skipping already processed: /content/drive/MyDrive/sevenlumi_data/luminator_dataset_augmented/m24/100m/1_0_0_100m/mic3/1.wav\n"
          ]
        },
        {
          "output_type": "stream",
          "name": "stderr",
          "text": [
            "\r100%|██████████| 12/12 [00:00<00:00, 728.21it/s]\n"
          ]
        },
        {
          "output_type": "stream",
          "name": "stdout",
          "text": [
            "Skipping already processed: /content/drive/MyDrive/sevenlumi_data/luminator_dataset_augmented/m24/100m/1_0_0_100m/mic3/5.wav\n",
            "Skipping already processed: /content/drive/MyDrive/sevenlumi_data/luminator_dataset_augmented/m24/100m/1_0_0_100m/mic3/6.wav\n",
            "Skipping already processed: /content/drive/MyDrive/sevenlumi_data/luminator_dataset_augmented/m24/100m/1_0_0_100m/mic3/10.wav\n",
            "Skipping already processed: /content/drive/MyDrive/sevenlumi_data/luminator_dataset_augmented/m24/100m/1_0_0_100m/mic3/11.wav\n",
            "Skipping already processed: /content/drive/MyDrive/sevenlumi_data/luminator_dataset_augmented/m24/100m/1_0_0_100m/mic3/12.wav\n"
          ]
        },
        {
          "output_type": "stream",
          "name": "stderr",
          "text": [
            "\r  0%|          | 0/12 [00:00<?, ?it/s]"
          ]
        },
        {
          "output_type": "stream",
          "name": "stdout",
          "text": [
            "Skipping already processed: /content/drive/MyDrive/sevenlumi_data/luminator_dataset_augmented/m24/100m/1_0_0_100m/mic4/4.wav\n",
            "Skipping already processed: /content/drive/MyDrive/sevenlumi_data/luminator_dataset_augmented/m24/100m/1_0_0_100m/mic4/8.wav\n",
            "Skipping already processed: /content/drive/MyDrive/sevenlumi_data/luminator_dataset_augmented/m24/100m/1_0_0_100m/mic4/2.wav\n",
            "Skipping already processed: /content/drive/MyDrive/sevenlumi_data/luminator_dataset_augmented/m24/100m/1_0_0_100m/mic4/7.wav\n",
            "Skipping already processed: /content/drive/MyDrive/sevenlumi_data/luminator_dataset_augmented/m24/100m/1_0_0_100m/mic4/9.wav\n",
            "Skipping already processed: /content/drive/MyDrive/sevenlumi_data/luminator_dataset_augmented/m24/100m/1_0_0_100m/mic4/3.wav\n",
            "Skipping already processed: /content/drive/MyDrive/sevenlumi_data/luminator_dataset_augmented/m24/100m/1_0_0_100m/mic4/1.wav\n",
            "Skipping already processed: /content/drive/MyDrive/sevenlumi_data/luminator_dataset_augmented/m24/100m/1_0_0_100m/mic4/5.wav\n"
          ]
        },
        {
          "output_type": "stream",
          "name": "stderr",
          "text": [
            "\r100%|██████████| 12/12 [00:00<00:00, 879.59it/s]\n"
          ]
        },
        {
          "output_type": "stream",
          "name": "stdout",
          "text": [
            "Skipping already processed: /content/drive/MyDrive/sevenlumi_data/luminator_dataset_augmented/m24/100m/1_0_0_100m/mic4/6.wav\n",
            "Skipping already processed: /content/drive/MyDrive/sevenlumi_data/luminator_dataset_augmented/m24/100m/1_0_0_100m/mic4/10.wav\n",
            "Skipping already processed: /content/drive/MyDrive/sevenlumi_data/luminator_dataset_augmented/m24/100m/1_0_0_100m/mic4/11.wav\n",
            "Skipping already processed: /content/drive/MyDrive/sevenlumi_data/luminator_dataset_augmented/m24/100m/1_0_0_100m/mic4/12.wav\n"
          ]
        },
        {
          "output_type": "stream",
          "name": "stderr",
          "text": [
            "0it [00:00, ?it/s]\n",
            "  0%|          | 0/17 [00:00<?, ?it/s]"
          ]
        },
        {
          "output_type": "stream",
          "name": "stdout",
          "text": [
            "Skipping already processed: /content/drive/MyDrive/sevenlumi_data/luminator_dataset_augmented/m24/100m/0_0_-1_100m/mic1/3.wav\n",
            "Skipping already processed: /content/drive/MyDrive/sevenlumi_data/luminator_dataset_augmented/m24/100m/0_0_-1_100m/mic1/7.wav\n",
            "Skipping already processed: /content/drive/MyDrive/sevenlumi_data/luminator_dataset_augmented/m24/100m/0_0_-1_100m/mic1/9.wav\n",
            "Skipping already processed: /content/drive/MyDrive/sevenlumi_data/luminator_dataset_augmented/m24/100m/0_0_-1_100m/mic1/2.wav\n",
            "Skipping already processed: /content/drive/MyDrive/sevenlumi_data/luminator_dataset_augmented/m24/100m/0_0_-1_100m/mic1/4.wav\n",
            "Skipping already processed: /content/drive/MyDrive/sevenlumi_data/luminator_dataset_augmented/m24/100m/0_0_-1_100m/mic1/12.wav\n",
            "Skipping already processed: /content/drive/MyDrive/sevenlumi_data/luminator_dataset_augmented/m24/100m/0_0_-1_100m/mic1/8.wav\n",
            "Skipping already processed: /content/drive/MyDrive/sevenlumi_data/luminator_dataset_augmented/m24/100m/0_0_-1_100m/mic1/6.wav\n",
            "Skipping already processed: /content/drive/MyDrive/sevenlumi_data/luminator_dataset_augmented/m24/100m/0_0_-1_100m/mic1/13.wav\n",
            "Skipping already processed: /content/drive/MyDrive/sevenlumi_data/luminator_dataset_augmented/m24/100m/0_0_-1_100m/mic1/11.wav\n",
            "Skipping already processed: /content/drive/MyDrive/sevenlumi_data/luminator_dataset_augmented/m24/100m/0_0_-1_100m/mic1/1.wav\n",
            "Skipping already processed: /content/drive/MyDrive/sevenlumi_data/luminator_dataset_augmented/m24/100m/0_0_-1_100m/mic1/5.wav\n"
          ]
        },
        {
          "output_type": "stream",
          "name": "stderr",
          "text": [
            "\r100%|██████████| 17/17 [00:00<00:00, 934.02it/s]"
          ]
        },
        {
          "output_type": "stream",
          "name": "stdout",
          "text": [
            "Skipping already processed: /content/drive/MyDrive/sevenlumi_data/luminator_dataset_augmented/m24/100m/0_0_-1_100m/mic1/10.wav\n",
            "Skipping already processed: /content/drive/MyDrive/sevenlumi_data/luminator_dataset_augmented/m24/100m/0_0_-1_100m/mic1/14.wav\n",
            "Skipping already processed: /content/drive/MyDrive/sevenlumi_data/luminator_dataset_augmented/m24/100m/0_0_-1_100m/mic1/17.wav\n",
            "Skipping already processed: /content/drive/MyDrive/sevenlumi_data/luminator_dataset_augmented/m24/100m/0_0_-1_100m/mic1/16.wav\n",
            "Skipping already processed: /content/drive/MyDrive/sevenlumi_data/luminator_dataset_augmented/m24/100m/0_0_-1_100m/mic1/15.wav\n"
          ]
        },
        {
          "output_type": "stream",
          "name": "stderr",
          "text": [
            "\n",
            "  0%|          | 0/17 [00:00<?, ?it/s]"
          ]
        },
        {
          "output_type": "stream",
          "name": "stdout",
          "text": [
            "Skipping already processed: /content/drive/MyDrive/sevenlumi_data/luminator_dataset_augmented/m24/100m/0_0_-1_100m/mic2/3.wav\n",
            "Skipping already processed: /content/drive/MyDrive/sevenlumi_data/luminator_dataset_augmented/m24/100m/0_0_-1_100m/mic2/7.wav\n",
            "Skipping already processed: /content/drive/MyDrive/sevenlumi_data/luminator_dataset_augmented/m24/100m/0_0_-1_100m/mic2/9.wav\n",
            "Skipping already processed: /content/drive/MyDrive/sevenlumi_data/luminator_dataset_augmented/m24/100m/0_0_-1_100m/mic2/2.wav\n",
            "Skipping already processed: /content/drive/MyDrive/sevenlumi_data/luminator_dataset_augmented/m24/100m/0_0_-1_100m/mic2/4.wav\n",
            "Skipping already processed: /content/drive/MyDrive/sevenlumi_data/luminator_dataset_augmented/m24/100m/0_0_-1_100m/mic2/12.wav\n",
            "Skipping already processed: /content/drive/MyDrive/sevenlumi_data/luminator_dataset_augmented/m24/100m/0_0_-1_100m/mic2/8.wav\n",
            "Skipping already processed: /content/drive/MyDrive/sevenlumi_data/luminator_dataset_augmented/m24/100m/0_0_-1_100m/mic2/6.wav\n",
            "Skipping already processed: /content/drive/MyDrive/sevenlumi_data/luminator_dataset_augmented/m24/100m/0_0_-1_100m/mic2/13.wav\n",
            "Skipping already processed: /content/drive/MyDrive/sevenlumi_data/luminator_dataset_augmented/m24/100m/0_0_-1_100m/mic2/11.wav\n",
            "Skipping already processed: /content/drive/MyDrive/sevenlumi_data/luminator_dataset_augmented/m24/100m/0_0_-1_100m/mic2/1.wav\n",
            "Skipping already processed: /content/drive/MyDrive/sevenlumi_data/luminator_dataset_augmented/m24/100m/0_0_-1_100m/mic2/5.wav\n",
            "Skipping already processed: /content/drive/MyDrive/sevenlumi_data/luminator_dataset_augmented/m24/100m/0_0_-1_100m/mic2/10.wav\n"
          ]
        },
        {
          "output_type": "stream",
          "name": "stderr",
          "text": [
            "\r100%|██████████| 17/17 [00:00<00:00, 960.58it/s]"
          ]
        },
        {
          "output_type": "stream",
          "name": "stdout",
          "text": [
            "Skipping already processed: /content/drive/MyDrive/sevenlumi_data/luminator_dataset_augmented/m24/100m/0_0_-1_100m/mic2/14.wav\n",
            "Skipping already processed: /content/drive/MyDrive/sevenlumi_data/luminator_dataset_augmented/m24/100m/0_0_-1_100m/mic2/17.wav\n",
            "Skipping already processed: /content/drive/MyDrive/sevenlumi_data/luminator_dataset_augmented/m24/100m/0_0_-1_100m/mic2/16.wav\n",
            "Skipping already processed: /content/drive/MyDrive/sevenlumi_data/luminator_dataset_augmented/m24/100m/0_0_-1_100m/mic2/15.wav\n"
          ]
        },
        {
          "output_type": "stream",
          "name": "stderr",
          "text": [
            "\n",
            "  0%|          | 0/17 [00:00<?, ?it/s]"
          ]
        },
        {
          "output_type": "stream",
          "name": "stdout",
          "text": [
            "Skipping already processed: /content/drive/MyDrive/sevenlumi_data/luminator_dataset_augmented/m24/100m/0_0_-1_100m/mic3/3.wav\n",
            "Skipping already processed: /content/drive/MyDrive/sevenlumi_data/luminator_dataset_augmented/m24/100m/0_0_-1_100m/mic3/7.wav\n",
            "Skipping already processed: /content/drive/MyDrive/sevenlumi_data/luminator_dataset_augmented/m24/100m/0_0_-1_100m/mic3/9.wav\n",
            "Skipping already processed: /content/drive/MyDrive/sevenlumi_data/luminator_dataset_augmented/m24/100m/0_0_-1_100m/mic3/2.wav\n",
            "Skipping already processed: /content/drive/MyDrive/sevenlumi_data/luminator_dataset_augmented/m24/100m/0_0_-1_100m/mic3/4.wav\n"
          ]
        },
        {
          "output_type": "stream",
          "name": "stderr",
          "text": [
            "\r100%|██████████| 17/17 [00:00<00:00, 1096.33it/s]\n"
          ]
        },
        {
          "output_type": "stream",
          "name": "stdout",
          "text": [
            "Skipping already processed: /content/drive/MyDrive/sevenlumi_data/luminator_dataset_augmented/m24/100m/0_0_-1_100m/mic3/12.wav\n",
            "Skipping already processed: /content/drive/MyDrive/sevenlumi_data/luminator_dataset_augmented/m24/100m/0_0_-1_100m/mic3/8.wav\n",
            "Skipping already processed: /content/drive/MyDrive/sevenlumi_data/luminator_dataset_augmented/m24/100m/0_0_-1_100m/mic3/6.wav\n",
            "Skipping already processed: /content/drive/MyDrive/sevenlumi_data/luminator_dataset_augmented/m24/100m/0_0_-1_100m/mic3/13.wav\n",
            "Skipping already processed: /content/drive/MyDrive/sevenlumi_data/luminator_dataset_augmented/m24/100m/0_0_-1_100m/mic3/11.wav\n",
            "Skipping already processed: /content/drive/MyDrive/sevenlumi_data/luminator_dataset_augmented/m24/100m/0_0_-1_100m/mic3/1.wav\n",
            "Skipping already processed: /content/drive/MyDrive/sevenlumi_data/luminator_dataset_augmented/m24/100m/0_0_-1_100m/mic3/5.wav\n",
            "Skipping already processed: /content/drive/MyDrive/sevenlumi_data/luminator_dataset_augmented/m24/100m/0_0_-1_100m/mic3/10.wav\n",
            "Skipping already processed: /content/drive/MyDrive/sevenlumi_data/luminator_dataset_augmented/m24/100m/0_0_-1_100m/mic3/14.wav\n",
            "Skipping already processed: /content/drive/MyDrive/sevenlumi_data/luminator_dataset_augmented/m24/100m/0_0_-1_100m/mic3/17.wav\n",
            "Skipping already processed: /content/drive/MyDrive/sevenlumi_data/luminator_dataset_augmented/m24/100m/0_0_-1_100m/mic3/16.wav\n",
            "Skipping already processed: /content/drive/MyDrive/sevenlumi_data/luminator_dataset_augmented/m24/100m/0_0_-1_100m/mic3/15.wav\n"
          ]
        },
        {
          "output_type": "stream",
          "name": "stderr",
          "text": [
            "\r  0%|          | 0/17 [00:00<?, ?it/s]"
          ]
        },
        {
          "output_type": "stream",
          "name": "stdout",
          "text": [
            "Skipping already processed: /content/drive/MyDrive/sevenlumi_data/luminator_dataset_augmented/m24/100m/0_0_-1_100m/mic4/3.wav\n",
            "Skipping already processed: /content/drive/MyDrive/sevenlumi_data/luminator_dataset_augmented/m24/100m/0_0_-1_100m/mic4/7.wav\n",
            "Skipping already processed: /content/drive/MyDrive/sevenlumi_data/luminator_dataset_augmented/m24/100m/0_0_-1_100m/mic4/9.wav\n",
            "Skipping already processed: /content/drive/MyDrive/sevenlumi_data/luminator_dataset_augmented/m24/100m/0_0_-1_100m/mic4/2.wav\n",
            "Skipping already processed: /content/drive/MyDrive/sevenlumi_data/luminator_dataset_augmented/m24/100m/0_0_-1_100m/mic4/4.wav\n",
            "Skipping already processed: /content/drive/MyDrive/sevenlumi_data/luminator_dataset_augmented/m24/100m/0_0_-1_100m/mic4/12.wav\n",
            "Skipping already processed: /content/drive/MyDrive/sevenlumi_data/luminator_dataset_augmented/m24/100m/0_0_-1_100m/mic4/8.wav\n",
            "Skipping already processed: /content/drive/MyDrive/sevenlumi_data/luminator_dataset_augmented/m24/100m/0_0_-1_100m/mic4/6.wav\n",
            "Skipping already processed: /content/drive/MyDrive/sevenlumi_data/luminator_dataset_augmented/m24/100m/0_0_-1_100m/mic4/13.wav\n",
            "Skipping already processed: /content/drive/MyDrive/sevenlumi_data/luminator_dataset_augmented/m24/100m/0_0_-1_100m/mic4/11.wav\n",
            "Skipping already processed: /content/drive/MyDrive/sevenlumi_data/luminator_dataset_augmented/m24/100m/0_0_-1_100m/mic4/1.wav\n",
            "Skipping already processed: /content/drive/MyDrive/sevenlumi_data/luminator_dataset_augmented/m24/100m/0_0_-1_100m/mic4/5.wav\n",
            "Skipping already processed: /content/drive/MyDrive/sevenlumi_data/luminator_dataset_augmented/m24/100m/0_0_-1_100m/mic4/10.wav\n",
            "Skipping already processed: /content/drive/MyDrive/sevenlumi_data/luminator_dataset_augmented/m24/100m/0_0_-1_100m/mic4/14.wav\n",
            "Skipping already processed: /content/drive/MyDrive/sevenlumi_data/luminator_dataset_augmented/m24/100m/0_0_-1_100m/mic4/17.wav\n",
            "Skipping already processed: /content/drive/MyDrive/sevenlumi_data/luminator_dataset_augmented/m24/100m/0_0_-1_100m/mic4/16.wav\n"
          ]
        },
        {
          "output_type": "stream",
          "name": "stderr",
          "text": [
            "\r100%|██████████| 17/17 [00:00<00:00, 932.45it/s]\n"
          ]
        },
        {
          "output_type": "stream",
          "name": "stdout",
          "text": [
            "Skipping already processed: /content/drive/MyDrive/sevenlumi_data/luminator_dataset_augmented/m24/100m/0_0_-1_100m/mic4/15.wav\n"
          ]
        },
        {
          "output_type": "stream",
          "name": "stderr",
          "text": [
            "0it [00:00, ?it/s]\n",
            "  0%|          | 0/13 [00:00<?, ?it/s]"
          ]
        },
        {
          "output_type": "stream",
          "name": "stdout",
          "text": [
            "Skipping already processed: /content/drive/MyDrive/sevenlumi_data/luminator_dataset_augmented/m24/100m/0_0_1_100m/mic1/1.wav\n",
            "Skipping already processed: /content/drive/MyDrive/sevenlumi_data/luminator_dataset_augmented/m24/100m/0_0_1_100m/mic1/5.wav\n",
            "Skipping already processed: /content/drive/MyDrive/sevenlumi_data/luminator_dataset_augmented/m24/100m/0_0_1_100m/mic1/4.wav\n",
            "Skipping already processed: /content/drive/MyDrive/sevenlumi_data/luminator_dataset_augmented/m24/100m/0_0_1_100m/mic1/7.wav\n",
            "Skipping already processed: /content/drive/MyDrive/sevenlumi_data/luminator_dataset_augmented/m24/100m/0_0_1_100m/mic1/6.wav\n",
            "Skipping already processed: /content/drive/MyDrive/sevenlumi_data/luminator_dataset_augmented/m24/100m/0_0_1_100m/mic1/11.wav\n",
            "Skipping already processed: /content/drive/MyDrive/sevenlumi_data/luminator_dataset_augmented/m24/100m/0_0_1_100m/mic1/8.wav\n",
            "Skipping already processed: /content/drive/MyDrive/sevenlumi_data/luminator_dataset_augmented/m24/100m/0_0_1_100m/mic1/13.wav\n",
            "Skipping already processed: /content/drive/MyDrive/sevenlumi_data/luminator_dataset_augmented/m24/100m/0_0_1_100m/mic1/3.wav\n"
          ]
        },
        {
          "output_type": "stream",
          "name": "stderr",
          "text": [
            "\r100%|██████████| 13/13 [00:00<00:00, 720.99it/s]\n"
          ]
        },
        {
          "output_type": "stream",
          "name": "stdout",
          "text": [
            "Skipping already processed: /content/drive/MyDrive/sevenlumi_data/luminator_dataset_augmented/m24/100m/0_0_1_100m/mic1/10.wav\n",
            "Skipping already processed: /content/drive/MyDrive/sevenlumi_data/luminator_dataset_augmented/m24/100m/0_0_1_100m/mic1/9.wav\n",
            "Skipping already processed: /content/drive/MyDrive/sevenlumi_data/luminator_dataset_augmented/m24/100m/0_0_1_100m/mic1/2.wav\n",
            "Skipping already processed: /content/drive/MyDrive/sevenlumi_data/luminator_dataset_augmented/m24/100m/0_0_1_100m/mic1/12.wav\n"
          ]
        },
        {
          "output_type": "stream",
          "name": "stderr",
          "text": [
            "\r  0%|          | 0/13 [00:00<?, ?it/s]"
          ]
        },
        {
          "output_type": "stream",
          "name": "stdout",
          "text": [
            "Skipping already processed: /content/drive/MyDrive/sevenlumi_data/luminator_dataset_augmented/m24/100m/0_0_1_100m/mic2/1.wav\n",
            "Skipping already processed: /content/drive/MyDrive/sevenlumi_data/luminator_dataset_augmented/m24/100m/0_0_1_100m/mic2/5.wav\n",
            "Skipping already processed: /content/drive/MyDrive/sevenlumi_data/luminator_dataset_augmented/m24/100m/0_0_1_100m/mic2/4.wav\n",
            "Skipping already processed: /content/drive/MyDrive/sevenlumi_data/luminator_dataset_augmented/m24/100m/0_0_1_100m/mic2/7.wav\n",
            "Skipping already processed: /content/drive/MyDrive/sevenlumi_data/luminator_dataset_augmented/m24/100m/0_0_1_100m/mic2/6.wav\n",
            "Skipping already processed: /content/drive/MyDrive/sevenlumi_data/luminator_dataset_augmented/m24/100m/0_0_1_100m/mic2/11.wav\n",
            "Skipping already processed: /content/drive/MyDrive/sevenlumi_data/luminator_dataset_augmented/m24/100m/0_0_1_100m/mic2/8.wav\n",
            "Skipping already processed: /content/drive/MyDrive/sevenlumi_data/luminator_dataset_augmented/m24/100m/0_0_1_100m/mic2/13.wav\n",
            "Skipping already processed: /content/drive/MyDrive/sevenlumi_data/luminator_dataset_augmented/m24/100m/0_0_1_100m/mic2/3.wav\n",
            "Skipping already processed: /content/drive/MyDrive/sevenlumi_data/luminator_dataset_augmented/m24/100m/0_0_1_100m/mic2/10.wav\n",
            "Skipping already processed: /content/drive/MyDrive/sevenlumi_data/luminator_dataset_augmented/m24/100m/0_0_1_100m/mic2/9.wav\n",
            "Skipping already processed: /content/drive/MyDrive/sevenlumi_data/luminator_dataset_augmented/m24/100m/0_0_1_100m/mic2/2.wav\n"
          ]
        },
        {
          "output_type": "stream",
          "name": "stderr",
          "text": [
            "\r100%|██████████| 13/13 [00:00<00:00, 1211.34it/s]\n"
          ]
        },
        {
          "output_type": "stream",
          "name": "stdout",
          "text": [
            "Skipping already processed: /content/drive/MyDrive/sevenlumi_data/luminator_dataset_augmented/m24/100m/0_0_1_100m/mic2/12.wav\n"
          ]
        },
        {
          "output_type": "stream",
          "name": "stderr",
          "text": [
            "\r  0%|          | 0/13 [00:00<?, ?it/s]"
          ]
        },
        {
          "output_type": "stream",
          "name": "stdout",
          "text": [
            "Skipping already processed: /content/drive/MyDrive/sevenlumi_data/luminator_dataset_augmented/m24/100m/0_0_1_100m/mic3/1.wav\n",
            "Skipping already processed: /content/drive/MyDrive/sevenlumi_data/luminator_dataset_augmented/m24/100m/0_0_1_100m/mic3/5.wav\n",
            "Skipping already processed: /content/drive/MyDrive/sevenlumi_data/luminator_dataset_augmented/m24/100m/0_0_1_100m/mic3/4.wav\n",
            "Skipping already processed: /content/drive/MyDrive/sevenlumi_data/luminator_dataset_augmented/m24/100m/0_0_1_100m/mic3/7.wav\n",
            "Skipping already processed: /content/drive/MyDrive/sevenlumi_data/luminator_dataset_augmented/m24/100m/0_0_1_100m/mic3/6.wav\n",
            "Skipping already processed: /content/drive/MyDrive/sevenlumi_data/luminator_dataset_augmented/m24/100m/0_0_1_100m/mic3/11.wav\n",
            "Skipping already processed: /content/drive/MyDrive/sevenlumi_data/luminator_dataset_augmented/m24/100m/0_0_1_100m/mic3/8.wav\n",
            "Skipping already processed: /content/drive/MyDrive/sevenlumi_data/luminator_dataset_augmented/m24/100m/0_0_1_100m/mic3/13.wav\n",
            "Skipping already processed: /content/drive/MyDrive/sevenlumi_data/luminator_dataset_augmented/m24/100m/0_0_1_100m/mic3/3.wav\n",
            "Skipping already processed: /content/drive/MyDrive/sevenlumi_data/luminator_dataset_augmented/m24/100m/0_0_1_100m/mic3/10.wav\n",
            "Skipping already processed: /content/drive/MyDrive/sevenlumi_data/luminator_dataset_augmented/m24/100m/0_0_1_100m/mic3/9.wav\n"
          ]
        },
        {
          "output_type": "stream",
          "name": "stderr",
          "text": [
            "\r100%|██████████| 13/13 [00:00<00:00, 561.58it/s]"
          ]
        },
        {
          "output_type": "stream",
          "name": "stdout",
          "text": [
            "Skipping already processed: /content/drive/MyDrive/sevenlumi_data/luminator_dataset_augmented/m24/100m/0_0_1_100m/mic3/2.wav\n",
            "Skipping already processed: /content/drive/MyDrive/sevenlumi_data/luminator_dataset_augmented/m24/100m/0_0_1_100m/mic3/12.wav\n"
          ]
        },
        {
          "output_type": "stream",
          "name": "stderr",
          "text": [
            "\n",
            "  0%|          | 0/13 [00:00<?, ?it/s]"
          ]
        },
        {
          "output_type": "stream",
          "name": "stdout",
          "text": [
            "Skipping already processed: /content/drive/MyDrive/sevenlumi_data/luminator_dataset_augmented/m24/100m/0_0_1_100m/mic4/1.wav\n",
            "Skipping already processed: /content/drive/MyDrive/sevenlumi_data/luminator_dataset_augmented/m24/100m/0_0_1_100m/mic4/5.wav\n",
            "Skipping already processed: /content/drive/MyDrive/sevenlumi_data/luminator_dataset_augmented/m24/100m/0_0_1_100m/mic4/4.wav\n",
            "Skipping already processed: /content/drive/MyDrive/sevenlumi_data/luminator_dataset_augmented/m24/100m/0_0_1_100m/mic4/7.wav\n",
            "Skipping already processed: /content/drive/MyDrive/sevenlumi_data/luminator_dataset_augmented/m24/100m/0_0_1_100m/mic4/6.wav\n",
            "Skipping already processed: /content/drive/MyDrive/sevenlumi_data/luminator_dataset_augmented/m24/100m/0_0_1_100m/mic4/11.wav\n",
            "Skipping already processed: /content/drive/MyDrive/sevenlumi_data/luminator_dataset_augmented/m24/100m/0_0_1_100m/mic4/8.wav\n",
            "Skipping already processed: /content/drive/MyDrive/sevenlumi_data/luminator_dataset_augmented/m24/100m/0_0_1_100m/mic4/13.wav\n",
            "Skipping already processed: /content/drive/MyDrive/sevenlumi_data/luminator_dataset_augmented/m24/100m/0_0_1_100m/mic4/3.wav\n",
            "Skipping already processed: /content/drive/MyDrive/sevenlumi_data/luminator_dataset_augmented/m24/100m/0_0_1_100m/mic4/10.wav\n",
            "Skipping already processed: /content/drive/MyDrive/sevenlumi_data/luminator_dataset_augmented/m24/100m/0_0_1_100m/mic4/9.wav\n"
          ]
        },
        {
          "output_type": "stream",
          "name": "stderr",
          "text": [
            "\r100%|██████████| 13/13 [00:00<00:00, 1119.72it/s]"
          ]
        },
        {
          "output_type": "stream",
          "name": "stdout",
          "text": [
            "Skipping already processed: /content/drive/MyDrive/sevenlumi_data/luminator_dataset_augmented/m24/100m/0_0_1_100m/mic4/2.wav\n",
            "Skipping already processed: /content/drive/MyDrive/sevenlumi_data/luminator_dataset_augmented/m24/100m/0_0_1_100m/mic4/12.wav\n"
          ]
        },
        {
          "output_type": "stream",
          "name": "stderr",
          "text": [
            "\n",
            "0it [00:00, ?it/s]\n",
            "  0%|          | 0/16 [00:00<?, ?it/s]"
          ]
        },
        {
          "output_type": "stream",
          "name": "stdout",
          "text": [
            "Skipping already processed: /content/drive/MyDrive/sevenlumi_data/luminator_dataset_augmented/m24/100m/-1_0_0_100m/mic1/3.wav\n",
            "Skipping already processed: /content/drive/MyDrive/sevenlumi_data/luminator_dataset_augmented/m24/100m/-1_0_0_100m/mic1/2.wav\n",
            "Skipping already processed: /content/drive/MyDrive/sevenlumi_data/luminator_dataset_augmented/m24/100m/-1_0_0_100m/mic1/1.wav\n",
            "Skipping already processed: /content/drive/MyDrive/sevenlumi_data/luminator_dataset_augmented/m24/100m/-1_0_0_100m/mic1/12.wav\n",
            "Skipping already processed: /content/drive/MyDrive/sevenlumi_data/luminator_dataset_augmented/m24/100m/-1_0_0_100m/mic1/9.wav\n",
            "Skipping already processed: /content/drive/MyDrive/sevenlumi_data/luminator_dataset_augmented/m24/100m/-1_0_0_100m/mic1/11.wav\n",
            "Skipping already processed: /content/drive/MyDrive/sevenlumi_data/luminator_dataset_augmented/m24/100m/-1_0_0_100m/mic1/6.wav\n",
            "Skipping already processed: /content/drive/MyDrive/sevenlumi_data/luminator_dataset_augmented/m24/100m/-1_0_0_100m/mic1/5.wav\n",
            "Skipping already processed: /content/drive/MyDrive/sevenlumi_data/luminator_dataset_augmented/m24/100m/-1_0_0_100m/mic1/4.wav\n"
          ]
        },
        {
          "output_type": "stream",
          "name": "stderr",
          "text": [
            "\r100%|██████████| 16/16 [00:00<00:00, 872.00it/s]"
          ]
        },
        {
          "output_type": "stream",
          "name": "stdout",
          "text": [
            "Skipping already processed: /content/drive/MyDrive/sevenlumi_data/luminator_dataset_augmented/m24/100m/-1_0_0_100m/mic1/14.wav\n",
            "Skipping already processed: /content/drive/MyDrive/sevenlumi_data/luminator_dataset_augmented/m24/100m/-1_0_0_100m/mic1/16.wav\n",
            "Skipping already processed: /content/drive/MyDrive/sevenlumi_data/luminator_dataset_augmented/m24/100m/-1_0_0_100m/mic1/7.wav\n",
            "Skipping already processed: /content/drive/MyDrive/sevenlumi_data/luminator_dataset_augmented/m24/100m/-1_0_0_100m/mic1/10.wav\n",
            "Skipping already processed: /content/drive/MyDrive/sevenlumi_data/luminator_dataset_augmented/m24/100m/-1_0_0_100m/mic1/15.wav\n",
            "Skipping already processed: /content/drive/MyDrive/sevenlumi_data/luminator_dataset_augmented/m24/100m/-1_0_0_100m/mic1/13.wav\n",
            "Skipping already processed: /content/drive/MyDrive/sevenlumi_data/luminator_dataset_augmented/m24/100m/-1_0_0_100m/mic1/8.wav\n"
          ]
        },
        {
          "output_type": "stream",
          "name": "stderr",
          "text": [
            "\n",
            "  0%|          | 0/16 [00:00<?, ?it/s]"
          ]
        },
        {
          "output_type": "stream",
          "name": "stdout",
          "text": [
            "Skipping already processed: /content/drive/MyDrive/sevenlumi_data/luminator_dataset_augmented/m24/100m/-1_0_0_100m/mic2/3.wav\n",
            "Skipping already processed: /content/drive/MyDrive/sevenlumi_data/luminator_dataset_augmented/m24/100m/-1_0_0_100m/mic2/2.wav\n",
            "Skipping already processed: /content/drive/MyDrive/sevenlumi_data/luminator_dataset_augmented/m24/100m/-1_0_0_100m/mic2/1.wav\n",
            "Skipping already processed: /content/drive/MyDrive/sevenlumi_data/luminator_dataset_augmented/m24/100m/-1_0_0_100m/mic2/12.wav\n",
            "Skipping already processed: /content/drive/MyDrive/sevenlumi_data/luminator_dataset_augmented/m24/100m/-1_0_0_100m/mic2/9.wav\n",
            "Skipping already processed: /content/drive/MyDrive/sevenlumi_data/luminator_dataset_augmented/m24/100m/-1_0_0_100m/mic2/11.wav\n",
            "Skipping already processed: /content/drive/MyDrive/sevenlumi_data/luminator_dataset_augmented/m24/100m/-1_0_0_100m/mic2/6.wav\n",
            "Skipping already processed: /content/drive/MyDrive/sevenlumi_data/luminator_dataset_augmented/m24/100m/-1_0_0_100m/mic2/5.wav\n",
            "Skipping already processed: /content/drive/MyDrive/sevenlumi_data/luminator_dataset_augmented/m24/100m/-1_0_0_100m/mic2/4.wav\n",
            "Skipping already processed: /content/drive/MyDrive/sevenlumi_data/luminator_dataset_augmented/m24/100m/-1_0_0_100m/mic2/14.wav\n"
          ]
        },
        {
          "output_type": "stream",
          "name": "stderr",
          "text": [
            "\r100%|██████████| 16/16 [00:00<00:00, 884.70it/s]"
          ]
        },
        {
          "output_type": "stream",
          "name": "stdout",
          "text": [
            "Skipping already processed: /content/drive/MyDrive/sevenlumi_data/luminator_dataset_augmented/m24/100m/-1_0_0_100m/mic2/16.wav\n",
            "Skipping already processed: /content/drive/MyDrive/sevenlumi_data/luminator_dataset_augmented/m24/100m/-1_0_0_100m/mic2/7.wav\n",
            "Skipping already processed: /content/drive/MyDrive/sevenlumi_data/luminator_dataset_augmented/m24/100m/-1_0_0_100m/mic2/10.wav\n",
            "Skipping already processed: /content/drive/MyDrive/sevenlumi_data/luminator_dataset_augmented/m24/100m/-1_0_0_100m/mic2/15.wav\n",
            "Skipping already processed: /content/drive/MyDrive/sevenlumi_data/luminator_dataset_augmented/m24/100m/-1_0_0_100m/mic2/13.wav\n",
            "Skipping already processed: /content/drive/MyDrive/sevenlumi_data/luminator_dataset_augmented/m24/100m/-1_0_0_100m/mic2/8.wav\n"
          ]
        },
        {
          "output_type": "stream",
          "name": "stderr",
          "text": [
            "\n",
            "  0%|          | 0/16 [00:00<?, ?it/s]"
          ]
        },
        {
          "output_type": "stream",
          "name": "stdout",
          "text": [
            "Skipping already processed: /content/drive/MyDrive/sevenlumi_data/luminator_dataset_augmented/m24/100m/-1_0_0_100m/mic3/3.wav\n",
            "Skipping already processed: /content/drive/MyDrive/sevenlumi_data/luminator_dataset_augmented/m24/100m/-1_0_0_100m/mic3/2.wav\n",
            "Skipping already processed: /content/drive/MyDrive/sevenlumi_data/luminator_dataset_augmented/m24/100m/-1_0_0_100m/mic3/1.wav\n",
            "Skipping already processed: /content/drive/MyDrive/sevenlumi_data/luminator_dataset_augmented/m24/100m/-1_0_0_100m/mic3/12.wav\n",
            "Skipping already processed: /content/drive/MyDrive/sevenlumi_data/luminator_dataset_augmented/m24/100m/-1_0_0_100m/mic3/9.wav\n",
            "Skipping already processed: /content/drive/MyDrive/sevenlumi_data/luminator_dataset_augmented/m24/100m/-1_0_0_100m/mic3/11.wav\n",
            "Skipping already processed: /content/drive/MyDrive/sevenlumi_data/luminator_dataset_augmented/m24/100m/-1_0_0_100m/mic3/6.wav\n",
            "Skipping already processed: /content/drive/MyDrive/sevenlumi_data/luminator_dataset_augmented/m24/100m/-1_0_0_100m/mic3/5.wav\n",
            "Skipping already processed: /content/drive/MyDrive/sevenlumi_data/luminator_dataset_augmented/m24/100m/-1_0_0_100m/mic3/4.wav\n",
            "Skipping already processed: /content/drive/MyDrive/sevenlumi_data/luminator_dataset_augmented/m24/100m/-1_0_0_100m/mic3/14.wav\n",
            "Skipping already processed: /content/drive/MyDrive/sevenlumi_data/luminator_dataset_augmented/m24/100m/-1_0_0_100m/mic3/16.wav\n"
          ]
        },
        {
          "output_type": "stream",
          "name": "stderr",
          "text": [
            "\r100%|██████████| 16/16 [00:00<00:00, 1103.49it/s]"
          ]
        },
        {
          "output_type": "stream",
          "name": "stdout",
          "text": [
            "Skipping already processed: /content/drive/MyDrive/sevenlumi_data/luminator_dataset_augmented/m24/100m/-1_0_0_100m/mic3/7.wav\n",
            "Skipping already processed: /content/drive/MyDrive/sevenlumi_data/luminator_dataset_augmented/m24/100m/-1_0_0_100m/mic3/10.wav\n",
            "Skipping already processed: /content/drive/MyDrive/sevenlumi_data/luminator_dataset_augmented/m24/100m/-1_0_0_100m/mic3/15.wav\n",
            "Skipping already processed: /content/drive/MyDrive/sevenlumi_data/luminator_dataset_augmented/m24/100m/-1_0_0_100m/mic3/13.wav\n",
            "Skipping already processed: /content/drive/MyDrive/sevenlumi_data/luminator_dataset_augmented/m24/100m/-1_0_0_100m/mic3/8.wav\n"
          ]
        },
        {
          "output_type": "stream",
          "name": "stderr",
          "text": [
            "\n",
            "  0%|          | 0/16 [00:00<?, ?it/s]"
          ]
        },
        {
          "output_type": "stream",
          "name": "stdout",
          "text": [
            "Skipping already processed: /content/drive/MyDrive/sevenlumi_data/luminator_dataset_augmented/m24/100m/-1_0_0_100m/mic4/3.wav\n",
            "Skipping already processed: /content/drive/MyDrive/sevenlumi_data/luminator_dataset_augmented/m24/100m/-1_0_0_100m/mic4/2.wav\n",
            "Skipping already processed: /content/drive/MyDrive/sevenlumi_data/luminator_dataset_augmented/m24/100m/-1_0_0_100m/mic4/1.wav\n",
            "Skipping already processed: /content/drive/MyDrive/sevenlumi_data/luminator_dataset_augmented/m24/100m/-1_0_0_100m/mic4/12.wav\n",
            "Skipping already processed: /content/drive/MyDrive/sevenlumi_data/luminator_dataset_augmented/m24/100m/-1_0_0_100m/mic4/9.wav\n",
            "Skipping already processed: /content/drive/MyDrive/sevenlumi_data/luminator_dataset_augmented/m24/100m/-1_0_0_100m/mic4/11.wav\n",
            "Skipping already processed: /content/drive/MyDrive/sevenlumi_data/luminator_dataset_augmented/m24/100m/-1_0_0_100m/mic4/6.wav\n",
            "Skipping already processed: /content/drive/MyDrive/sevenlumi_data/luminator_dataset_augmented/m24/100m/-1_0_0_100m/mic4/5.wav\n",
            "Skipping already processed: /content/drive/MyDrive/sevenlumi_data/luminator_dataset_augmented/m24/100m/-1_0_0_100m/mic4/4.wav\n"
          ]
        },
        {
          "output_type": "stream",
          "name": "stderr",
          "text": [
            "\r100%|██████████| 16/16 [00:00<00:00, 919.59it/s]\n"
          ]
        },
        {
          "output_type": "stream",
          "name": "stdout",
          "text": [
            "Skipping already processed: /content/drive/MyDrive/sevenlumi_data/luminator_dataset_augmented/m24/100m/-1_0_0_100m/mic4/14.wav\n",
            "Skipping already processed: /content/drive/MyDrive/sevenlumi_data/luminator_dataset_augmented/m24/100m/-1_0_0_100m/mic4/16.wav\n",
            "Skipping already processed: /content/drive/MyDrive/sevenlumi_data/luminator_dataset_augmented/m24/100m/-1_0_0_100m/mic4/7.wav\n",
            "Skipping already processed: /content/drive/MyDrive/sevenlumi_data/luminator_dataset_augmented/m24/100m/-1_0_0_100m/mic4/10.wav\n",
            "Skipping already processed: /content/drive/MyDrive/sevenlumi_data/luminator_dataset_augmented/m24/100m/-1_0_0_100m/mic4/15.wav\n",
            "Skipping already processed: /content/drive/MyDrive/sevenlumi_data/luminator_dataset_augmented/m24/100m/-1_0_0_100m/mic4/13.wav\n",
            "Skipping already processed: /content/drive/MyDrive/sevenlumi_data/luminator_dataset_augmented/m24/100m/-1_0_0_100m/mic4/8.wav\n"
          ]
        },
        {
          "output_type": "stream",
          "name": "stderr",
          "text": [
            "0it [00:00, ?it/s]\n",
            "0it [00:00, ?it/s]\n",
            "  0%|          | 0/25 [00:00<?, ?it/s]"
          ]
        },
        {
          "output_type": "stream",
          "name": "stdout",
          "text": [
            "Skipping already processed: /content/drive/MyDrive/sevenlumi_data/luminator_dataset_augmented/m24/0m/0_0_0_0m/mic1/9.wav\n",
            "Skipping already processed: /content/drive/MyDrive/sevenlumi_data/luminator_dataset_augmented/m24/0m/0_0_0_0m/mic1/8.wav\n",
            "Skipping already processed: /content/drive/MyDrive/sevenlumi_data/luminator_dataset_augmented/m24/0m/0_0_0_0m/mic1/1.wav\n",
            "Skipping already processed: /content/drive/MyDrive/sevenlumi_data/luminator_dataset_augmented/m24/0m/0_0_0_0m/mic1/7.wav\n",
            "Skipping already processed: /content/drive/MyDrive/sevenlumi_data/luminator_dataset_augmented/m24/0m/0_0_0_0m/mic1/6.wav\n",
            "Skipping already processed: /content/drive/MyDrive/sevenlumi_data/luminator_dataset_augmented/m24/0m/0_0_0_0m/mic1/10.wav\n",
            "Skipping already processed: /content/drive/MyDrive/sevenlumi_data/luminator_dataset_augmented/m24/0m/0_0_0_0m/mic1/4.wav\n",
            "Skipping already processed: /content/drive/MyDrive/sevenlumi_data/luminator_dataset_augmented/m24/0m/0_0_0_0m/mic1/3.wav\n",
            "Skipping already processed: /content/drive/MyDrive/sevenlumi_data/luminator_dataset_augmented/m24/0m/0_0_0_0m/mic1/5.wav\n",
            "Skipping already processed: /content/drive/MyDrive/sevenlumi_data/luminator_dataset_augmented/m24/0m/0_0_0_0m/mic1/2.wav\n",
            "Skipping already processed: /content/drive/MyDrive/sevenlumi_data/luminator_dataset_augmented/m24/0m/0_0_0_0m/mic1/25.wav\n",
            "Skipping already processed: /content/drive/MyDrive/sevenlumi_data/luminator_dataset_augmented/m24/0m/0_0_0_0m/mic1/19.wav\n",
            "Skipping already processed: /content/drive/MyDrive/sevenlumi_data/luminator_dataset_augmented/m24/0m/0_0_0_0m/mic1/20.wav\n",
            "Skipping already processed: /content/drive/MyDrive/sevenlumi_data/luminator_dataset_augmented/m24/0m/0_0_0_0m/mic1/24.wav\n",
            "Skipping already processed: /content/drive/MyDrive/sevenlumi_data/luminator_dataset_augmented/m24/0m/0_0_0_0m/mic1/23.wav\n",
            "Skipping already processed: /content/drive/MyDrive/sevenlumi_data/luminator_dataset_augmented/m24/0m/0_0_0_0m/mic1/21.wav\n",
            "Skipping already processed: /content/drive/MyDrive/sevenlumi_data/luminator_dataset_augmented/m24/0m/0_0_0_0m/mic1/12.wav\n",
            "Skipping already processed: /content/drive/MyDrive/sevenlumi_data/luminator_dataset_augmented/m24/0m/0_0_0_0m/mic1/16.wav\n",
            "Skipping already processed: /content/drive/MyDrive/sevenlumi_data/luminator_dataset_augmented/m24/0m/0_0_0_0m/mic1/17.wav\n"
          ]
        },
        {
          "output_type": "stream",
          "name": "stderr",
          "text": [
            "\r100%|██████████| 25/25 [00:00<00:00, 864.80it/s]"
          ]
        },
        {
          "output_type": "stream",
          "name": "stdout",
          "text": [
            "Skipping already processed: /content/drive/MyDrive/sevenlumi_data/luminator_dataset_augmented/m24/0m/0_0_0_0m/mic1/15.wav\n",
            "Skipping already processed: /content/drive/MyDrive/sevenlumi_data/luminator_dataset_augmented/m24/0m/0_0_0_0m/mic1/11.wav\n",
            "Skipping already processed: /content/drive/MyDrive/sevenlumi_data/luminator_dataset_augmented/m24/0m/0_0_0_0m/mic1/13.wav\n",
            "Skipping already processed: /content/drive/MyDrive/sevenlumi_data/luminator_dataset_augmented/m24/0m/0_0_0_0m/mic1/22.wav\n",
            "Skipping already processed: /content/drive/MyDrive/sevenlumi_data/luminator_dataset_augmented/m24/0m/0_0_0_0m/mic1/18.wav\n",
            "Skipping already processed: /content/drive/MyDrive/sevenlumi_data/luminator_dataset_augmented/m24/0m/0_0_0_0m/mic1/14.wav\n"
          ]
        },
        {
          "output_type": "stream",
          "name": "stderr",
          "text": [
            "\n",
            "  0%|          | 0/25 [00:00<?, ?it/s]"
          ]
        },
        {
          "output_type": "stream",
          "name": "stdout",
          "text": [
            "Skipping already processed: /content/drive/MyDrive/sevenlumi_data/luminator_dataset_augmented/m24/0m/0_0_0_0m/mic2/9.wav\n",
            "Skipping already processed: /content/drive/MyDrive/sevenlumi_data/luminator_dataset_augmented/m24/0m/0_0_0_0m/mic2/8.wav\n",
            "Skipping already processed: /content/drive/MyDrive/sevenlumi_data/luminator_dataset_augmented/m24/0m/0_0_0_0m/mic2/1.wav\n",
            "Skipping already processed: /content/drive/MyDrive/sevenlumi_data/luminator_dataset_augmented/m24/0m/0_0_0_0m/mic2/7.wav\n",
            "Skipping already processed: /content/drive/MyDrive/sevenlumi_data/luminator_dataset_augmented/m24/0m/0_0_0_0m/mic2/6.wav\n",
            "Skipping already processed: /content/drive/MyDrive/sevenlumi_data/luminator_dataset_augmented/m24/0m/0_0_0_0m/mic2/10.wav\n",
            "Skipping already processed: /content/drive/MyDrive/sevenlumi_data/luminator_dataset_augmented/m24/0m/0_0_0_0m/mic2/4.wav\n",
            "Skipping already processed: /content/drive/MyDrive/sevenlumi_data/luminator_dataset_augmented/m24/0m/0_0_0_0m/mic2/3.wav\n",
            "Skipping already processed: /content/drive/MyDrive/sevenlumi_data/luminator_dataset_augmented/m24/0m/0_0_0_0m/mic2/5.wav\n",
            "Skipping already processed: /content/drive/MyDrive/sevenlumi_data/luminator_dataset_augmented/m24/0m/0_0_0_0m/mic2/2.wav\n",
            "Skipping already processed: /content/drive/MyDrive/sevenlumi_data/luminator_dataset_augmented/m24/0m/0_0_0_0m/mic2/25.wav\n",
            "Skipping already processed: /content/drive/MyDrive/sevenlumi_data/luminator_dataset_augmented/m24/0m/0_0_0_0m/mic2/19.wav\n",
            "Skipping already processed: /content/drive/MyDrive/sevenlumi_data/luminator_dataset_augmented/m24/0m/0_0_0_0m/mic2/20.wav\n",
            "Skipping already processed: /content/drive/MyDrive/sevenlumi_data/luminator_dataset_augmented/m24/0m/0_0_0_0m/mic2/24.wav\n",
            "Skipping already processed: /content/drive/MyDrive/sevenlumi_data/luminator_dataset_augmented/m24/0m/0_0_0_0m/mic2/23.wav\n",
            "Skipping already processed: /content/drive/MyDrive/sevenlumi_data/luminator_dataset_augmented/m24/0m/0_0_0_0m/mic2/21.wav\n",
            "Skipping already processed: /content/drive/MyDrive/sevenlumi_data/luminator_dataset_augmented/m24/0m/0_0_0_0m/mic2/12.wav\n",
            "Skipping already processed: /content/drive/MyDrive/sevenlumi_data/luminator_dataset_augmented/m24/0m/0_0_0_0m/mic2/16.wav\n",
            "Skipping already processed: /content/drive/MyDrive/sevenlumi_data/luminator_dataset_augmented/m24/0m/0_0_0_0m/mic2/17.wav\n"
          ]
        },
        {
          "output_type": "stream",
          "name": "stderr",
          "text": [
            "\r100%|██████████| 25/25 [00:00<00:00, 788.48it/s]"
          ]
        },
        {
          "output_type": "stream",
          "name": "stdout",
          "text": [
            "Skipping already processed: /content/drive/MyDrive/sevenlumi_data/luminator_dataset_augmented/m24/0m/0_0_0_0m/mic2/15.wav\n",
            "Skipping already processed: /content/drive/MyDrive/sevenlumi_data/luminator_dataset_augmented/m24/0m/0_0_0_0m/mic2/11.wav\n",
            "Skipping already processed: /content/drive/MyDrive/sevenlumi_data/luminator_dataset_augmented/m24/0m/0_0_0_0m/mic2/13.wav\n",
            "Skipping already processed: /content/drive/MyDrive/sevenlumi_data/luminator_dataset_augmented/m24/0m/0_0_0_0m/mic2/22.wav\n",
            "Skipping already processed: /content/drive/MyDrive/sevenlumi_data/luminator_dataset_augmented/m24/0m/0_0_0_0m/mic2/18.wav\n",
            "Skipping already processed: /content/drive/MyDrive/sevenlumi_data/luminator_dataset_augmented/m24/0m/0_0_0_0m/mic2/14.wav\n"
          ]
        },
        {
          "output_type": "stream",
          "name": "stderr",
          "text": [
            "\n",
            "  0%|          | 0/25 [00:00<?, ?it/s]"
          ]
        },
        {
          "output_type": "stream",
          "name": "stdout",
          "text": [
            "Skipping already processed: /content/drive/MyDrive/sevenlumi_data/luminator_dataset_augmented/m24/0m/0_0_0_0m/mic3/9.wav\n",
            "Skipping already processed: /content/drive/MyDrive/sevenlumi_data/luminator_dataset_augmented/m24/0m/0_0_0_0m/mic3/8.wav\n",
            "Skipping already processed: /content/drive/MyDrive/sevenlumi_data/luminator_dataset_augmented/m24/0m/0_0_0_0m/mic3/1.wav\n",
            "Skipping already processed: /content/drive/MyDrive/sevenlumi_data/luminator_dataset_augmented/m24/0m/0_0_0_0m/mic3/7.wav\n",
            "Skipping already processed: /content/drive/MyDrive/sevenlumi_data/luminator_dataset_augmented/m24/0m/0_0_0_0m/mic3/6.wav\n",
            "Skipping already processed: /content/drive/MyDrive/sevenlumi_data/luminator_dataset_augmented/m24/0m/0_0_0_0m/mic3/10.wav\n",
            "Skipping already processed: /content/drive/MyDrive/sevenlumi_data/luminator_dataset_augmented/m24/0m/0_0_0_0m/mic3/4.wav\n",
            "Skipping already processed: /content/drive/MyDrive/sevenlumi_data/luminator_dataset_augmented/m24/0m/0_0_0_0m/mic3/3.wav\n",
            "Skipping already processed: /content/drive/MyDrive/sevenlumi_data/luminator_dataset_augmented/m24/0m/0_0_0_0m/mic3/5.wav\n",
            "Skipping already processed: /content/drive/MyDrive/sevenlumi_data/luminator_dataset_augmented/m24/0m/0_0_0_0m/mic3/2.wav\n",
            "Skipping already processed: /content/drive/MyDrive/sevenlumi_data/luminator_dataset_augmented/m24/0m/0_0_0_0m/mic3/25.wav\n",
            "Skipping already processed: /content/drive/MyDrive/sevenlumi_data/luminator_dataset_augmented/m24/0m/0_0_0_0m/mic3/19.wav\n",
            "Skipping already processed: /content/drive/MyDrive/sevenlumi_data/luminator_dataset_augmented/m24/0m/0_0_0_0m/mic3/20.wav\n",
            "Skipping already processed: /content/drive/MyDrive/sevenlumi_data/luminator_dataset_augmented/m24/0m/0_0_0_0m/mic3/24.wav\n"
          ]
        },
        {
          "output_type": "stream",
          "name": "stderr",
          "text": [
            "\r100%|██████████| 25/25 [00:00<00:00, 943.41it/s]"
          ]
        },
        {
          "output_type": "stream",
          "name": "stdout",
          "text": [
            "Skipping already processed: /content/drive/MyDrive/sevenlumi_data/luminator_dataset_augmented/m24/0m/0_0_0_0m/mic3/23.wav\n",
            "Skipping already processed: /content/drive/MyDrive/sevenlumi_data/luminator_dataset_augmented/m24/0m/0_0_0_0m/mic3/21.wav\n",
            "Skipping already processed: /content/drive/MyDrive/sevenlumi_data/luminator_dataset_augmented/m24/0m/0_0_0_0m/mic3/12.wav\n",
            "Skipping already processed: /content/drive/MyDrive/sevenlumi_data/luminator_dataset_augmented/m24/0m/0_0_0_0m/mic3/16.wav\n",
            "Skipping already processed: /content/drive/MyDrive/sevenlumi_data/luminator_dataset_augmented/m24/0m/0_0_0_0m/mic3/17.wav\n",
            "Skipping already processed: /content/drive/MyDrive/sevenlumi_data/luminator_dataset_augmented/m24/0m/0_0_0_0m/mic3/15.wav\n",
            "Skipping already processed: /content/drive/MyDrive/sevenlumi_data/luminator_dataset_augmented/m24/0m/0_0_0_0m/mic3/11.wav\n",
            "Skipping already processed: /content/drive/MyDrive/sevenlumi_data/luminator_dataset_augmented/m24/0m/0_0_0_0m/mic3/13.wav\n",
            "Skipping already processed: /content/drive/MyDrive/sevenlumi_data/luminator_dataset_augmented/m24/0m/0_0_0_0m/mic3/22.wav\n",
            "Skipping already processed: /content/drive/MyDrive/sevenlumi_data/luminator_dataset_augmented/m24/0m/0_0_0_0m/mic3/18.wav\n",
            "Skipping already processed: /content/drive/MyDrive/sevenlumi_data/luminator_dataset_augmented/m24/0m/0_0_0_0m/mic3/14.wav\n"
          ]
        },
        {
          "output_type": "stream",
          "name": "stderr",
          "text": [
            "\n",
            "  0%|          | 0/25 [00:00<?, ?it/s]"
          ]
        },
        {
          "output_type": "stream",
          "name": "stdout",
          "text": [
            "Skipping already processed: /content/drive/MyDrive/sevenlumi_data/luminator_dataset_augmented/m24/0m/0_0_0_0m/mic4/9.wav\n",
            "Skipping already processed: /content/drive/MyDrive/sevenlumi_data/luminator_dataset_augmented/m24/0m/0_0_0_0m/mic4/8.wav\n",
            "Skipping already processed: /content/drive/MyDrive/sevenlumi_data/luminator_dataset_augmented/m24/0m/0_0_0_0m/mic4/1.wav\n",
            "Skipping already processed: /content/drive/MyDrive/sevenlumi_data/luminator_dataset_augmented/m24/0m/0_0_0_0m/mic4/7.wav\n",
            "Skipping already processed: /content/drive/MyDrive/sevenlumi_data/luminator_dataset_augmented/m24/0m/0_0_0_0m/mic4/6.wav\n",
            "Skipping already processed: /content/drive/MyDrive/sevenlumi_data/luminator_dataset_augmented/m24/0m/0_0_0_0m/mic4/10.wav\n",
            "Skipping already processed: /content/drive/MyDrive/sevenlumi_data/luminator_dataset_augmented/m24/0m/0_0_0_0m/mic4/4.wav\n",
            "Skipping already processed: /content/drive/MyDrive/sevenlumi_data/luminator_dataset_augmented/m24/0m/0_0_0_0m/mic4/3.wav\n",
            "Skipping already processed: /content/drive/MyDrive/sevenlumi_data/luminator_dataset_augmented/m24/0m/0_0_0_0m/mic4/5.wav\n",
            "Skipping already processed: /content/drive/MyDrive/sevenlumi_data/luminator_dataset_augmented/m24/0m/0_0_0_0m/mic4/2.wav\n",
            "Skipping already processed: /content/drive/MyDrive/sevenlumi_data/luminator_dataset_augmented/m24/0m/0_0_0_0m/mic4/25.wav\n",
            "Skipping already processed: /content/drive/MyDrive/sevenlumi_data/luminator_dataset_augmented/m24/0m/0_0_0_0m/mic4/19.wav\n",
            "Skipping already processed: /content/drive/MyDrive/sevenlumi_data/luminator_dataset_augmented/m24/0m/0_0_0_0m/mic4/20.wav\n",
            "Skipping already processed: /content/drive/MyDrive/sevenlumi_data/luminator_dataset_augmented/m24/0m/0_0_0_0m/mic4/24.wav\n",
            "Skipping already processed: /content/drive/MyDrive/sevenlumi_data/luminator_dataset_augmented/m24/0m/0_0_0_0m/mic4/23.wav\n",
            "Skipping already processed: /content/drive/MyDrive/sevenlumi_data/luminator_dataset_augmented/m24/0m/0_0_0_0m/mic4/21.wav\n",
            "Skipping already processed: /content/drive/MyDrive/sevenlumi_data/luminator_dataset_augmented/m24/0m/0_0_0_0m/mic4/12.wav\n",
            "Skipping already processed: /content/drive/MyDrive/sevenlumi_data/luminator_dataset_augmented/m24/0m/0_0_0_0m/mic4/16.wav\n",
            "Skipping already processed: /content/drive/MyDrive/sevenlumi_data/luminator_dataset_augmented/m24/0m/0_0_0_0m/mic4/17.wav\n"
          ]
        },
        {
          "output_type": "stream",
          "name": "stderr",
          "text": [
            "\r100%|██████████| 25/25 [00:00<00:00, 1033.77it/s]\n"
          ]
        },
        {
          "output_type": "stream",
          "name": "stdout",
          "text": [
            "Skipping already processed: /content/drive/MyDrive/sevenlumi_data/luminator_dataset_augmented/m24/0m/0_0_0_0m/mic4/15.wav\n",
            "Skipping already processed: /content/drive/MyDrive/sevenlumi_data/luminator_dataset_augmented/m24/0m/0_0_0_0m/mic4/11.wav\n",
            "Skipping already processed: /content/drive/MyDrive/sevenlumi_data/luminator_dataset_augmented/m24/0m/0_0_0_0m/mic4/13.wav\n",
            "Skipping already processed: /content/drive/MyDrive/sevenlumi_data/luminator_dataset_augmented/m24/0m/0_0_0_0m/mic4/22.wav\n",
            "Skipping already processed: /content/drive/MyDrive/sevenlumi_data/luminator_dataset_augmented/m24/0m/0_0_0_0m/mic4/18.wav\n",
            "Skipping already processed: /content/drive/MyDrive/sevenlumi_data/luminator_dataset_augmented/m24/0m/0_0_0_0m/mic4/14.wav\n"
          ]
        },
        {
          "output_type": "stream",
          "name": "stderr",
          "text": [
            "0it [00:00, ?it/s]\n",
            "0it [00:00, ?it/s]\n",
            "0it [00:00, ?it/s]\n",
            "  0%|          | 0/19 [00:00<?, ?it/s]"
          ]
        },
        {
          "output_type": "stream",
          "name": "stdout",
          "text": [
            "Skipping already processed: /content/drive/MyDrive/sevenlumi_data/luminator_dataset_augmented/ak/600m/0_0_-1_600m/mic1/5.wav\n",
            "Skipping already processed: /content/drive/MyDrive/sevenlumi_data/luminator_dataset_augmented/ak/600m/0_0_-1_600m/mic1/1.wav\n",
            "Skipping already processed: /content/drive/MyDrive/sevenlumi_data/luminator_dataset_augmented/ak/600m/0_0_-1_600m/mic1/8.wav\n",
            "Skipping already processed: /content/drive/MyDrive/sevenlumi_data/luminator_dataset_augmented/ak/600m/0_0_-1_600m/mic1/6.wav\n",
            "Skipping already processed: /content/drive/MyDrive/sevenlumi_data/luminator_dataset_augmented/ak/600m/0_0_-1_600m/mic1/9.wav\n",
            "Skipping already processed: /content/drive/MyDrive/sevenlumi_data/luminator_dataset_augmented/ak/600m/0_0_-1_600m/mic1/2.wav\n",
            "Skipping already processed: /content/drive/MyDrive/sevenlumi_data/luminator_dataset_augmented/ak/600m/0_0_-1_600m/mic1/7.wav\n",
            "Skipping already processed: /content/drive/MyDrive/sevenlumi_data/luminator_dataset_augmented/ak/600m/0_0_-1_600m/mic1/3.wav\n",
            "Skipping already processed: /content/drive/MyDrive/sevenlumi_data/luminator_dataset_augmented/ak/600m/0_0_-1_600m/mic1/4.wav\n",
            "Skipping already processed: /content/drive/MyDrive/sevenlumi_data/luminator_dataset_augmented/ak/600m/0_0_-1_600m/mic1/18.wav\n",
            "Skipping already processed: /content/drive/MyDrive/sevenlumi_data/luminator_dataset_augmented/ak/600m/0_0_-1_600m/mic1/17.wav\n",
            "Skipping already processed: /content/drive/MyDrive/sevenlumi_data/luminator_dataset_augmented/ak/600m/0_0_-1_600m/mic1/14.wav\n",
            "Skipping already processed: /content/drive/MyDrive/sevenlumi_data/luminator_dataset_augmented/ak/600m/0_0_-1_600m/mic1/10.wav\n",
            "Skipping already processed: /content/drive/MyDrive/sevenlumi_data/luminator_dataset_augmented/ak/600m/0_0_-1_600m/mic1/19.wav\n",
            "Skipping already processed: /content/drive/MyDrive/sevenlumi_data/luminator_dataset_augmented/ak/600m/0_0_-1_600m/mic1/16.wav\n"
          ]
        },
        {
          "output_type": "stream",
          "name": "stderr",
          "text": [
            "\r100%|██████████| 19/19 [00:00<00:00, 810.11it/s]"
          ]
        },
        {
          "output_type": "stream",
          "name": "stdout",
          "text": [
            "Skipping already processed: /content/drive/MyDrive/sevenlumi_data/luminator_dataset_augmented/ak/600m/0_0_-1_600m/mic1/12.wav\n",
            "Skipping already processed: /content/drive/MyDrive/sevenlumi_data/luminator_dataset_augmented/ak/600m/0_0_-1_600m/mic1/13.wav\n",
            "Skipping already processed: /content/drive/MyDrive/sevenlumi_data/luminator_dataset_augmented/ak/600m/0_0_-1_600m/mic1/15.wav\n",
            "Skipping already processed: /content/drive/MyDrive/sevenlumi_data/luminator_dataset_augmented/ak/600m/0_0_-1_600m/mic1/11.wav\n"
          ]
        },
        {
          "output_type": "stream",
          "name": "stderr",
          "text": [
            "\n",
            "  0%|          | 0/19 [00:00<?, ?it/s]"
          ]
        },
        {
          "output_type": "stream",
          "name": "stdout",
          "text": [
            "Skipping already processed: /content/drive/MyDrive/sevenlumi_data/luminator_dataset_augmented/ak/600m/0_0_-1_600m/mic2/5.wav\n",
            "Skipping already processed: /content/drive/MyDrive/sevenlumi_data/luminator_dataset_augmented/ak/600m/0_0_-1_600m/mic2/1.wav\n",
            "Skipping already processed: /content/drive/MyDrive/sevenlumi_data/luminator_dataset_augmented/ak/600m/0_0_-1_600m/mic2/8.wav\n",
            "Skipping already processed: /content/drive/MyDrive/sevenlumi_data/luminator_dataset_augmented/ak/600m/0_0_-1_600m/mic2/6.wav\n",
            "Skipping already processed: /content/drive/MyDrive/sevenlumi_data/luminator_dataset_augmented/ak/600m/0_0_-1_600m/mic2/9.wav\n",
            "Skipping already processed: /content/drive/MyDrive/sevenlumi_data/luminator_dataset_augmented/ak/600m/0_0_-1_600m/mic2/2.wav\n",
            "Skipping already processed: /content/drive/MyDrive/sevenlumi_data/luminator_dataset_augmented/ak/600m/0_0_-1_600m/mic2/7.wav\n",
            "Skipping already processed: /content/drive/MyDrive/sevenlumi_data/luminator_dataset_augmented/ak/600m/0_0_-1_600m/mic2/3.wav\n",
            "Skipping already processed: /content/drive/MyDrive/sevenlumi_data/luminator_dataset_augmented/ak/600m/0_0_-1_600m/mic2/4.wav\n",
            "Skipping already processed: /content/drive/MyDrive/sevenlumi_data/luminator_dataset_augmented/ak/600m/0_0_-1_600m/mic2/18.wav\n",
            "Skipping already processed: /content/drive/MyDrive/sevenlumi_data/luminator_dataset_augmented/ak/600m/0_0_-1_600m/mic2/17.wav\n",
            "Skipping already processed: /content/drive/MyDrive/sevenlumi_data/luminator_dataset_augmented/ak/600m/0_0_-1_600m/mic2/14.wav\n",
            "Skipping already processed: /content/drive/MyDrive/sevenlumi_data/luminator_dataset_augmented/ak/600m/0_0_-1_600m/mic2/10.wav\n"
          ]
        },
        {
          "output_type": "stream",
          "name": "stderr",
          "text": [
            "\r100%|██████████| 19/19 [00:00<00:00, 572.98it/s]\n"
          ]
        },
        {
          "output_type": "stream",
          "name": "stdout",
          "text": [
            "Skipping already processed: /content/drive/MyDrive/sevenlumi_data/luminator_dataset_augmented/ak/600m/0_0_-1_600m/mic2/19.wav\n",
            "Skipping already processed: /content/drive/MyDrive/sevenlumi_data/luminator_dataset_augmented/ak/600m/0_0_-1_600m/mic2/16.wav\n",
            "Skipping already processed: /content/drive/MyDrive/sevenlumi_data/luminator_dataset_augmented/ak/600m/0_0_-1_600m/mic2/12.wav\n",
            "Skipping already processed: /content/drive/MyDrive/sevenlumi_data/luminator_dataset_augmented/ak/600m/0_0_-1_600m/mic2/13.wav\n",
            "Skipping already processed: /content/drive/MyDrive/sevenlumi_data/luminator_dataset_augmented/ak/600m/0_0_-1_600m/mic2/15.wav\n",
            "Skipping already processed: /content/drive/MyDrive/sevenlumi_data/luminator_dataset_augmented/ak/600m/0_0_-1_600m/mic2/11.wav\n"
          ]
        },
        {
          "output_type": "stream",
          "name": "stderr",
          "text": [
            "\r  0%|          | 0/19 [00:00<?, ?it/s]"
          ]
        },
        {
          "output_type": "stream",
          "name": "stdout",
          "text": [
            "Skipping already processed: /content/drive/MyDrive/sevenlumi_data/luminator_dataset_augmented/ak/600m/0_0_-1_600m/mic3/5.wav\n",
            "Skipping already processed: /content/drive/MyDrive/sevenlumi_data/luminator_dataset_augmented/ak/600m/0_0_-1_600m/mic3/1.wav\n",
            "Skipping already processed: /content/drive/MyDrive/sevenlumi_data/luminator_dataset_augmented/ak/600m/0_0_-1_600m/mic3/8.wav\n",
            "Skipping already processed: /content/drive/MyDrive/sevenlumi_data/luminator_dataset_augmented/ak/600m/0_0_-1_600m/mic3/6.wav\n",
            "Skipping already processed: /content/drive/MyDrive/sevenlumi_data/luminator_dataset_augmented/ak/600m/0_0_-1_600m/mic3/9.wav\n",
            "Skipping already processed: /content/drive/MyDrive/sevenlumi_data/luminator_dataset_augmented/ak/600m/0_0_-1_600m/mic3/2.wav\n",
            "Skipping already processed: /content/drive/MyDrive/sevenlumi_data/luminator_dataset_augmented/ak/600m/0_0_-1_600m/mic3/7.wav\n",
            "Skipping already processed: /content/drive/MyDrive/sevenlumi_data/luminator_dataset_augmented/ak/600m/0_0_-1_600m/mic3/3.wav\n",
            "Skipping already processed: /content/drive/MyDrive/sevenlumi_data/luminator_dataset_augmented/ak/600m/0_0_-1_600m/mic3/4.wav\n",
            "Skipping already processed: /content/drive/MyDrive/sevenlumi_data/luminator_dataset_augmented/ak/600m/0_0_-1_600m/mic3/18.wav\n",
            "Skipping already processed: /content/drive/MyDrive/sevenlumi_data/luminator_dataset_augmented/ak/600m/0_0_-1_600m/mic3/17.wav\n",
            "Skipping already processed: /content/drive/MyDrive/sevenlumi_data/luminator_dataset_augmented/ak/600m/0_0_-1_600m/mic3/14.wav\n",
            "Skipping already processed: /content/drive/MyDrive/sevenlumi_data/luminator_dataset_augmented/ak/600m/0_0_-1_600m/mic3/10.wav\n",
            "Skipping already processed: /content/drive/MyDrive/sevenlumi_data/luminator_dataset_augmented/ak/600m/0_0_-1_600m/mic3/19.wav\n",
            "Skipping already processed: /content/drive/MyDrive/sevenlumi_data/luminator_dataset_augmented/ak/600m/0_0_-1_600m/mic3/16.wav\n",
            "Skipping already processed: /content/drive/MyDrive/sevenlumi_data/luminator_dataset_augmented/ak/600m/0_0_-1_600m/mic3/12.wav\n",
            "Skipping already processed: /content/drive/MyDrive/sevenlumi_data/luminator_dataset_augmented/ak/600m/0_0_-1_600m/mic3/13.wav\n",
            "Skipping already processed: /content/drive/MyDrive/sevenlumi_data/luminator_dataset_augmented/ak/600m/0_0_-1_600m/mic3/15.wav\n"
          ]
        },
        {
          "output_type": "stream",
          "name": "stderr",
          "text": [
            "\r100%|██████████| 19/19 [00:00<00:00, 788.93it/s]\n"
          ]
        },
        {
          "output_type": "stream",
          "name": "stdout",
          "text": [
            "Skipping already processed: /content/drive/MyDrive/sevenlumi_data/luminator_dataset_augmented/ak/600m/0_0_-1_600m/mic3/11.wav\n"
          ]
        },
        {
          "output_type": "stream",
          "name": "stderr",
          "text": [
            "\r  0%|          | 0/19 [00:00<?, ?it/s]"
          ]
        },
        {
          "output_type": "stream",
          "name": "stdout",
          "text": [
            "Skipping already processed: /content/drive/MyDrive/sevenlumi_data/luminator_dataset_augmented/ak/600m/0_0_-1_600m/mic4/5.wav\n",
            "Skipping already processed: /content/drive/MyDrive/sevenlumi_data/luminator_dataset_augmented/ak/600m/0_0_-1_600m/mic4/1.wav\n",
            "Skipping already processed: /content/drive/MyDrive/sevenlumi_data/luminator_dataset_augmented/ak/600m/0_0_-1_600m/mic4/8.wav\n",
            "Skipping already processed: /content/drive/MyDrive/sevenlumi_data/luminator_dataset_augmented/ak/600m/0_0_-1_600m/mic4/6.wav\n",
            "Skipping already processed: /content/drive/MyDrive/sevenlumi_data/luminator_dataset_augmented/ak/600m/0_0_-1_600m/mic4/9.wav\n",
            "Skipping already processed: /content/drive/MyDrive/sevenlumi_data/luminator_dataset_augmented/ak/600m/0_0_-1_600m/mic4/2.wav\n",
            "Skipping already processed: /content/drive/MyDrive/sevenlumi_data/luminator_dataset_augmented/ak/600m/0_0_-1_600m/mic4/7.wav\n",
            "Skipping already processed: /content/drive/MyDrive/sevenlumi_data/luminator_dataset_augmented/ak/600m/0_0_-1_600m/mic4/3.wav\n",
            "Skipping already processed: /content/drive/MyDrive/sevenlumi_data/luminator_dataset_augmented/ak/600m/0_0_-1_600m/mic4/4.wav\n",
            "Skipping already processed: /content/drive/MyDrive/sevenlumi_data/luminator_dataset_augmented/ak/600m/0_0_-1_600m/mic4/18.wav\n",
            "Skipping already processed: /content/drive/MyDrive/sevenlumi_data/luminator_dataset_augmented/ak/600m/0_0_-1_600m/mic4/17.wav\n"
          ]
        },
        {
          "output_type": "stream",
          "name": "stderr",
          "text": [
            "\r100%|██████████| 19/19 [00:00<00:00, 1135.57it/s]"
          ]
        },
        {
          "output_type": "stream",
          "name": "stdout",
          "text": [
            "Skipping already processed: /content/drive/MyDrive/sevenlumi_data/luminator_dataset_augmented/ak/600m/0_0_-1_600m/mic4/14.wav\n",
            "Skipping already processed: /content/drive/MyDrive/sevenlumi_data/luminator_dataset_augmented/ak/600m/0_0_-1_600m/mic4/10.wav\n",
            "Skipping already processed: /content/drive/MyDrive/sevenlumi_data/luminator_dataset_augmented/ak/600m/0_0_-1_600m/mic4/19.wav\n",
            "Skipping already processed: /content/drive/MyDrive/sevenlumi_data/luminator_dataset_augmented/ak/600m/0_0_-1_600m/mic4/16.wav\n",
            "Skipping already processed: /content/drive/MyDrive/sevenlumi_data/luminator_dataset_augmented/ak/600m/0_0_-1_600m/mic4/12.wav\n",
            "Skipping already processed: /content/drive/MyDrive/sevenlumi_data/luminator_dataset_augmented/ak/600m/0_0_-1_600m/mic4/13.wav\n",
            "Skipping already processed: /content/drive/MyDrive/sevenlumi_data/luminator_dataset_augmented/ak/600m/0_0_-1_600m/mic4/15.wav\n",
            "Skipping already processed: /content/drive/MyDrive/sevenlumi_data/luminator_dataset_augmented/ak/600m/0_0_-1_600m/mic4/11.wav\n"
          ]
        },
        {
          "output_type": "stream",
          "name": "stderr",
          "text": [
            "\n",
            "0it [00:00, ?it/s]\n",
            "  0%|          | 0/19 [00:00<?, ?it/s]"
          ]
        },
        {
          "output_type": "stream",
          "name": "stdout",
          "text": [
            "Skipping already processed: /content/drive/MyDrive/sevenlumi_data/luminator_dataset_augmented/ak/600m/0_0_1_600m/mic1/4.wav\n",
            "Skipping already processed: /content/drive/MyDrive/sevenlumi_data/luminator_dataset_augmented/ak/600m/0_0_1_600m/mic1/6.wav\n",
            "Skipping already processed: /content/drive/MyDrive/sevenlumi_data/luminator_dataset_augmented/ak/600m/0_0_1_600m/mic1/7.wav\n",
            "Skipping already processed: /content/drive/MyDrive/sevenlumi_data/luminator_dataset_augmented/ak/600m/0_0_1_600m/mic1/3.wav\n"
          ]
        },
        {
          "output_type": "stream",
          "name": "stderr",
          "text": [
            "\r100%|██████████| 19/19 [00:00<00:00, 900.70it/s]\n"
          ]
        },
        {
          "output_type": "stream",
          "name": "stdout",
          "text": [
            "Skipping already processed: /content/drive/MyDrive/sevenlumi_data/luminator_dataset_augmented/ak/600m/0_0_1_600m/mic1/5.wav\n",
            "Skipping already processed: /content/drive/MyDrive/sevenlumi_data/luminator_dataset_augmented/ak/600m/0_0_1_600m/mic1/2.wav\n",
            "Skipping already processed: /content/drive/MyDrive/sevenlumi_data/luminator_dataset_augmented/ak/600m/0_0_1_600m/mic1/9.wav\n",
            "Skipping already processed: /content/drive/MyDrive/sevenlumi_data/luminator_dataset_augmented/ak/600m/0_0_1_600m/mic1/1.wav\n",
            "Skipping already processed: /content/drive/MyDrive/sevenlumi_data/luminator_dataset_augmented/ak/600m/0_0_1_600m/mic1/8.wav\n",
            "Skipping already processed: /content/drive/MyDrive/sevenlumi_data/luminator_dataset_augmented/ak/600m/0_0_1_600m/mic1/10.wav\n",
            "Skipping already processed: /content/drive/MyDrive/sevenlumi_data/luminator_dataset_augmented/ak/600m/0_0_1_600m/mic1/18.wav\n",
            "Skipping already processed: /content/drive/MyDrive/sevenlumi_data/luminator_dataset_augmented/ak/600m/0_0_1_600m/mic1/13.wav\n",
            "Skipping already processed: /content/drive/MyDrive/sevenlumi_data/luminator_dataset_augmented/ak/600m/0_0_1_600m/mic1/14.wav\n",
            "Skipping already processed: /content/drive/MyDrive/sevenlumi_data/luminator_dataset_augmented/ak/600m/0_0_1_600m/mic1/15.wav\n",
            "Skipping already processed: /content/drive/MyDrive/sevenlumi_data/luminator_dataset_augmented/ak/600m/0_0_1_600m/mic1/17.wav\n",
            "Skipping already processed: /content/drive/MyDrive/sevenlumi_data/luminator_dataset_augmented/ak/600m/0_0_1_600m/mic1/12.wav\n",
            "Skipping already processed: /content/drive/MyDrive/sevenlumi_data/luminator_dataset_augmented/ak/600m/0_0_1_600m/mic1/11.wav\n",
            "Skipping already processed: /content/drive/MyDrive/sevenlumi_data/luminator_dataset_augmented/ak/600m/0_0_1_600m/mic1/19.wav\n",
            "Skipping already processed: /content/drive/MyDrive/sevenlumi_data/luminator_dataset_augmented/ak/600m/0_0_1_600m/mic1/16.wav\n"
          ]
        },
        {
          "output_type": "stream",
          "name": "stderr",
          "text": [
            "\r  0%|          | 0/19 [00:00<?, ?it/s]"
          ]
        },
        {
          "output_type": "stream",
          "name": "stdout",
          "text": [
            "Skipping already processed: /content/drive/MyDrive/sevenlumi_data/luminator_dataset_augmented/ak/600m/0_0_1_600m/mic2/4.wav\n",
            "Skipping already processed: /content/drive/MyDrive/sevenlumi_data/luminator_dataset_augmented/ak/600m/0_0_1_600m/mic2/6.wav\n",
            "Skipping already processed: /content/drive/MyDrive/sevenlumi_data/luminator_dataset_augmented/ak/600m/0_0_1_600m/mic2/7.wav\n",
            "Skipping already processed: /content/drive/MyDrive/sevenlumi_data/luminator_dataset_augmented/ak/600m/0_0_1_600m/mic2/3.wav\n",
            "Skipping already processed: /content/drive/MyDrive/sevenlumi_data/luminator_dataset_augmented/ak/600m/0_0_1_600m/mic2/5.wav\n",
            "Skipping already processed: /content/drive/MyDrive/sevenlumi_data/luminator_dataset_augmented/ak/600m/0_0_1_600m/mic2/2.wav\n"
          ]
        },
        {
          "output_type": "stream",
          "name": "stderr",
          "text": [
            "\r100%|██████████| 19/19 [00:00<00:00, 1138.76it/s]"
          ]
        },
        {
          "output_type": "stream",
          "name": "stdout",
          "text": [
            "Skipping already processed: /content/drive/MyDrive/sevenlumi_data/luminator_dataset_augmented/ak/600m/0_0_1_600m/mic2/9.wav\n",
            "Skipping already processed: /content/drive/MyDrive/sevenlumi_data/luminator_dataset_augmented/ak/600m/0_0_1_600m/mic2/1.wav\n",
            "Skipping already processed: /content/drive/MyDrive/sevenlumi_data/luminator_dataset_augmented/ak/600m/0_0_1_600m/mic2/8.wav\n",
            "Skipping already processed: /content/drive/MyDrive/sevenlumi_data/luminator_dataset_augmented/ak/600m/0_0_1_600m/mic2/10.wav\n",
            "Skipping already processed: /content/drive/MyDrive/sevenlumi_data/luminator_dataset_augmented/ak/600m/0_0_1_600m/mic2/18.wav\n",
            "Skipping already processed: /content/drive/MyDrive/sevenlumi_data/luminator_dataset_augmented/ak/600m/0_0_1_600m/mic2/13.wav\n",
            "Skipping already processed: /content/drive/MyDrive/sevenlumi_data/luminator_dataset_augmented/ak/600m/0_0_1_600m/mic2/14.wav\n",
            "Skipping already processed: /content/drive/MyDrive/sevenlumi_data/luminator_dataset_augmented/ak/600m/0_0_1_600m/mic2/15.wav\n",
            "Skipping already processed: /content/drive/MyDrive/sevenlumi_data/luminator_dataset_augmented/ak/600m/0_0_1_600m/mic2/17.wav\n",
            "Skipping already processed: /content/drive/MyDrive/sevenlumi_data/luminator_dataset_augmented/ak/600m/0_0_1_600m/mic2/12.wav\n",
            "Skipping already processed: /content/drive/MyDrive/sevenlumi_data/luminator_dataset_augmented/ak/600m/0_0_1_600m/mic2/11.wav\n",
            "Skipping already processed: /content/drive/MyDrive/sevenlumi_data/luminator_dataset_augmented/ak/600m/0_0_1_600m/mic2/19.wav\n",
            "Skipping already processed: /content/drive/MyDrive/sevenlumi_data/luminator_dataset_augmented/ak/600m/0_0_1_600m/mic2/16.wav\n"
          ]
        },
        {
          "output_type": "stream",
          "name": "stderr",
          "text": [
            "\n",
            "100%|██████████| 19/19 [00:00<00:00, 1116.13it/s]\n"
          ]
        },
        {
          "output_type": "stream",
          "name": "stdout",
          "text": [
            "Skipping already processed: /content/drive/MyDrive/sevenlumi_data/luminator_dataset_augmented/ak/600m/0_0_1_600m/mic3/4.wav\n",
            "Skipping already processed: /content/drive/MyDrive/sevenlumi_data/luminator_dataset_augmented/ak/600m/0_0_1_600m/mic3/6.wav\n",
            "Skipping already processed: /content/drive/MyDrive/sevenlumi_data/luminator_dataset_augmented/ak/600m/0_0_1_600m/mic3/7.wav\n",
            "Skipping already processed: /content/drive/MyDrive/sevenlumi_data/luminator_dataset_augmented/ak/600m/0_0_1_600m/mic3/3.wav\n",
            "Skipping already processed: /content/drive/MyDrive/sevenlumi_data/luminator_dataset_augmented/ak/600m/0_0_1_600m/mic3/5.wav\n",
            "Skipping already processed: /content/drive/MyDrive/sevenlumi_data/luminator_dataset_augmented/ak/600m/0_0_1_600m/mic3/2.wav\n",
            "Skipping already processed: /content/drive/MyDrive/sevenlumi_data/luminator_dataset_augmented/ak/600m/0_0_1_600m/mic3/9.wav\n",
            "Skipping already processed: /content/drive/MyDrive/sevenlumi_data/luminator_dataset_augmented/ak/600m/0_0_1_600m/mic3/1.wav\n",
            "Skipping already processed: /content/drive/MyDrive/sevenlumi_data/luminator_dataset_augmented/ak/600m/0_0_1_600m/mic3/8.wav\n",
            "Skipping already processed: /content/drive/MyDrive/sevenlumi_data/luminator_dataset_augmented/ak/600m/0_0_1_600m/mic3/10.wav\n",
            "Skipping already processed: /content/drive/MyDrive/sevenlumi_data/luminator_dataset_augmented/ak/600m/0_0_1_600m/mic3/18.wav\n",
            "Skipping already processed: /content/drive/MyDrive/sevenlumi_data/luminator_dataset_augmented/ak/600m/0_0_1_600m/mic3/13.wav\n",
            "Skipping already processed: /content/drive/MyDrive/sevenlumi_data/luminator_dataset_augmented/ak/600m/0_0_1_600m/mic3/14.wav\n",
            "Skipping already processed: /content/drive/MyDrive/sevenlumi_data/luminator_dataset_augmented/ak/600m/0_0_1_600m/mic3/15.wav\n",
            "Skipping already processed: /content/drive/MyDrive/sevenlumi_data/luminator_dataset_augmented/ak/600m/0_0_1_600m/mic3/17.wav\n",
            "Skipping already processed: /content/drive/MyDrive/sevenlumi_data/luminator_dataset_augmented/ak/600m/0_0_1_600m/mic3/12.wav\n",
            "Skipping already processed: /content/drive/MyDrive/sevenlumi_data/luminator_dataset_augmented/ak/600m/0_0_1_600m/mic3/11.wav\n",
            "Skipping already processed: /content/drive/MyDrive/sevenlumi_data/luminator_dataset_augmented/ak/600m/0_0_1_600m/mic3/19.wav\n",
            "Skipping already processed: /content/drive/MyDrive/sevenlumi_data/luminator_dataset_augmented/ak/600m/0_0_1_600m/mic3/16.wav\n"
          ]
        },
        {
          "output_type": "stream",
          "name": "stderr",
          "text": [
            "\r  0%|          | 0/19 [00:00<?, ?it/s]"
          ]
        },
        {
          "output_type": "stream",
          "name": "stdout",
          "text": [
            "Skipping already processed: /content/drive/MyDrive/sevenlumi_data/luminator_dataset_augmented/ak/600m/0_0_1_600m/mic4/4.wav\n",
            "Skipping already processed: /content/drive/MyDrive/sevenlumi_data/luminator_dataset_augmented/ak/600m/0_0_1_600m/mic4/6.wav\n",
            "Skipping already processed: /content/drive/MyDrive/sevenlumi_data/luminator_dataset_augmented/ak/600m/0_0_1_600m/mic4/7.wav\n",
            "Skipping already processed: /content/drive/MyDrive/sevenlumi_data/luminator_dataset_augmented/ak/600m/0_0_1_600m/mic4/3.wav\n",
            "Skipping already processed: /content/drive/MyDrive/sevenlumi_data/luminator_dataset_augmented/ak/600m/0_0_1_600m/mic4/5.wav\n",
            "Skipping already processed: /content/drive/MyDrive/sevenlumi_data/luminator_dataset_augmented/ak/600m/0_0_1_600m/mic4/2.wav\n"
          ]
        },
        {
          "output_type": "stream",
          "name": "stderr",
          "text": [
            "\r100%|██████████| 19/19 [00:00<00:00, 1012.46it/s]"
          ]
        },
        {
          "output_type": "stream",
          "name": "stdout",
          "text": [
            "Skipping already processed: /content/drive/MyDrive/sevenlumi_data/luminator_dataset_augmented/ak/600m/0_0_1_600m/mic4/9.wav\n",
            "Skipping already processed: /content/drive/MyDrive/sevenlumi_data/luminator_dataset_augmented/ak/600m/0_0_1_600m/mic4/1.wav\n",
            "Skipping already processed: /content/drive/MyDrive/sevenlumi_data/luminator_dataset_augmented/ak/600m/0_0_1_600m/mic4/8.wav\n",
            "Skipping already processed: /content/drive/MyDrive/sevenlumi_data/luminator_dataset_augmented/ak/600m/0_0_1_600m/mic4/10.wav\n",
            "Skipping already processed: /content/drive/MyDrive/sevenlumi_data/luminator_dataset_augmented/ak/600m/0_0_1_600m/mic4/18.wav\n",
            "Skipping already processed: /content/drive/MyDrive/sevenlumi_data/luminator_dataset_augmented/ak/600m/0_0_1_600m/mic4/13.wav\n",
            "Skipping already processed: /content/drive/MyDrive/sevenlumi_data/luminator_dataset_augmented/ak/600m/0_0_1_600m/mic4/14.wav\n",
            "Skipping already processed: /content/drive/MyDrive/sevenlumi_data/luminator_dataset_augmented/ak/600m/0_0_1_600m/mic4/15.wav\n",
            "Skipping already processed: /content/drive/MyDrive/sevenlumi_data/luminator_dataset_augmented/ak/600m/0_0_1_600m/mic4/17.wav\n",
            "Skipping already processed: /content/drive/MyDrive/sevenlumi_data/luminator_dataset_augmented/ak/600m/0_0_1_600m/mic4/12.wav\n",
            "Skipping already processed: /content/drive/MyDrive/sevenlumi_data/luminator_dataset_augmented/ak/600m/0_0_1_600m/mic4/11.wav\n",
            "Skipping already processed: /content/drive/MyDrive/sevenlumi_data/luminator_dataset_augmented/ak/600m/0_0_1_600m/mic4/19.wav\n",
            "Skipping already processed: /content/drive/MyDrive/sevenlumi_data/luminator_dataset_augmented/ak/600m/0_0_1_600m/mic4/16.wav\n"
          ]
        },
        {
          "output_type": "stream",
          "name": "stderr",
          "text": [
            "\n",
            "0it [00:00, ?it/s]\n",
            "  0%|          | 0/17 [00:00<?, ?it/s]"
          ]
        },
        {
          "output_type": "stream",
          "name": "stdout",
          "text": [
            "Skipping already processed: /content/drive/MyDrive/sevenlumi_data/luminator_dataset_augmented/ak/600m/1_0_0_600m/mic1/6.wav\n",
            "Skipping already processed: /content/drive/MyDrive/sevenlumi_data/luminator_dataset_augmented/ak/600m/1_0_0_600m/mic1/5.wav\n",
            "Skipping already processed: /content/drive/MyDrive/sevenlumi_data/luminator_dataset_augmented/ak/600m/1_0_0_600m/mic1/12.wav\n",
            "Skipping already processed: /content/drive/MyDrive/sevenlumi_data/luminator_dataset_augmented/ak/600m/1_0_0_600m/mic1/1.wav\n",
            "Skipping already processed: /content/drive/MyDrive/sevenlumi_data/luminator_dataset_augmented/ak/600m/1_0_0_600m/mic1/8.wav\n",
            "Skipping already processed: /content/drive/MyDrive/sevenlumi_data/luminator_dataset_augmented/ak/600m/1_0_0_600m/mic1/4.wav\n",
            "Skipping already processed: /content/drive/MyDrive/sevenlumi_data/luminator_dataset_augmented/ak/600m/1_0_0_600m/mic1/9.wav\n",
            "Skipping already processed: /content/drive/MyDrive/sevenlumi_data/luminator_dataset_augmented/ak/600m/1_0_0_600m/mic1/2.wav\n",
            "Skipping already processed: /content/drive/MyDrive/sevenlumi_data/luminator_dataset_augmented/ak/600m/1_0_0_600m/mic1/10.wav\n",
            "Skipping already processed: /content/drive/MyDrive/sevenlumi_data/luminator_dataset_augmented/ak/600m/1_0_0_600m/mic1/7.wav\n",
            "Skipping already processed: /content/drive/MyDrive/sevenlumi_data/luminator_dataset_augmented/ak/600m/1_0_0_600m/mic1/11.wav\n",
            "Skipping already processed: /content/drive/MyDrive/sevenlumi_data/luminator_dataset_augmented/ak/600m/1_0_0_600m/mic1/3.wav\n",
            "Skipping already processed: /content/drive/MyDrive/sevenlumi_data/luminator_dataset_augmented/ak/600m/1_0_0_600m/mic1/13.wav\n",
            "Skipping already processed: /content/drive/MyDrive/sevenlumi_data/luminator_dataset_augmented/ak/600m/1_0_0_600m/mic1/14.wav\n",
            "Skipping already processed: /content/drive/MyDrive/sevenlumi_data/luminator_dataset_augmented/ak/600m/1_0_0_600m/mic1/15.wav\n"
          ]
        },
        {
          "output_type": "stream",
          "name": "stderr",
          "text": [
            "\r100%|██████████| 17/17 [00:00<00:00, 973.78it/s]"
          ]
        },
        {
          "output_type": "stream",
          "name": "stdout",
          "text": [
            "Skipping already processed: /content/drive/MyDrive/sevenlumi_data/luminator_dataset_augmented/ak/600m/1_0_0_600m/mic1/17.wav\n",
            "Skipping already processed: /content/drive/MyDrive/sevenlumi_data/luminator_dataset_augmented/ak/600m/1_0_0_600m/mic1/16.wav\n"
          ]
        },
        {
          "output_type": "stream",
          "name": "stderr",
          "text": [
            "\n",
            "  0%|          | 0/17 [00:00<?, ?it/s]"
          ]
        },
        {
          "output_type": "stream",
          "name": "stdout",
          "text": [
            "Skipping already processed: /content/drive/MyDrive/sevenlumi_data/luminator_dataset_augmented/ak/600m/1_0_0_600m/mic2/6.wav\n",
            "Skipping already processed: /content/drive/MyDrive/sevenlumi_data/luminator_dataset_augmented/ak/600m/1_0_0_600m/mic2/5.wav\n",
            "Skipping already processed: /content/drive/MyDrive/sevenlumi_data/luminator_dataset_augmented/ak/600m/1_0_0_600m/mic2/12.wav\n",
            "Skipping already processed: /content/drive/MyDrive/sevenlumi_data/luminator_dataset_augmented/ak/600m/1_0_0_600m/mic2/1.wav\n",
            "Skipping already processed: /content/drive/MyDrive/sevenlumi_data/luminator_dataset_augmented/ak/600m/1_0_0_600m/mic2/8.wav\n",
            "Skipping already processed: /content/drive/MyDrive/sevenlumi_data/luminator_dataset_augmented/ak/600m/1_0_0_600m/mic2/4.wav\n",
            "Skipping already processed: /content/drive/MyDrive/sevenlumi_data/luminator_dataset_augmented/ak/600m/1_0_0_600m/mic2/9.wav\n",
            "Skipping already processed: /content/drive/MyDrive/sevenlumi_data/luminator_dataset_augmented/ak/600m/1_0_0_600m/mic2/2.wav\n",
            "Skipping already processed: /content/drive/MyDrive/sevenlumi_data/luminator_dataset_augmented/ak/600m/1_0_0_600m/mic2/10.wav\n",
            "Skipping already processed: /content/drive/MyDrive/sevenlumi_data/luminator_dataset_augmented/ak/600m/1_0_0_600m/mic2/7.wav\n",
            "Skipping already processed: /content/drive/MyDrive/sevenlumi_data/luminator_dataset_augmented/ak/600m/1_0_0_600m/mic2/11.wav\n"
          ]
        },
        {
          "output_type": "stream",
          "name": "stderr",
          "text": [
            "\r100%|██████████| 17/17 [00:00<00:00, 852.95it/s]\n"
          ]
        },
        {
          "output_type": "stream",
          "name": "stdout",
          "text": [
            "Skipping already processed: /content/drive/MyDrive/sevenlumi_data/luminator_dataset_augmented/ak/600m/1_0_0_600m/mic2/3.wav\n",
            "Skipping already processed: /content/drive/MyDrive/sevenlumi_data/luminator_dataset_augmented/ak/600m/1_0_0_600m/mic2/13.wav\n",
            "Skipping already processed: /content/drive/MyDrive/sevenlumi_data/luminator_dataset_augmented/ak/600m/1_0_0_600m/mic2/14.wav\n",
            "Skipping already processed: /content/drive/MyDrive/sevenlumi_data/luminator_dataset_augmented/ak/600m/1_0_0_600m/mic2/15.wav\n",
            "Skipping already processed: /content/drive/MyDrive/sevenlumi_data/luminator_dataset_augmented/ak/600m/1_0_0_600m/mic2/17.wav\n",
            "Skipping already processed: /content/drive/MyDrive/sevenlumi_data/luminator_dataset_augmented/ak/600m/1_0_0_600m/mic2/16.wav\n"
          ]
        },
        {
          "output_type": "stream",
          "name": "stderr",
          "text": [
            "\r  0%|          | 0/17 [00:00<?, ?it/s]"
          ]
        },
        {
          "output_type": "stream",
          "name": "stdout",
          "text": [
            "Skipping already processed: /content/drive/MyDrive/sevenlumi_data/luminator_dataset_augmented/ak/600m/1_0_0_600m/mic3/6.wav\n",
            "Skipping already processed: /content/drive/MyDrive/sevenlumi_data/luminator_dataset_augmented/ak/600m/1_0_0_600m/mic3/5.wav\n",
            "Skipping already processed: /content/drive/MyDrive/sevenlumi_data/luminator_dataset_augmented/ak/600m/1_0_0_600m/mic3/12.wav\n",
            "Skipping already processed: /content/drive/MyDrive/sevenlumi_data/luminator_dataset_augmented/ak/600m/1_0_0_600m/mic3/1.wav\n",
            "Skipping already processed: /content/drive/MyDrive/sevenlumi_data/luminator_dataset_augmented/ak/600m/1_0_0_600m/mic3/8.wav\n",
            "Skipping already processed: /content/drive/MyDrive/sevenlumi_data/luminator_dataset_augmented/ak/600m/1_0_0_600m/mic3/4.wav\n",
            "Skipping already processed: /content/drive/MyDrive/sevenlumi_data/luminator_dataset_augmented/ak/600m/1_0_0_600m/mic3/9.wav\n",
            "Skipping already processed: /content/drive/MyDrive/sevenlumi_data/luminator_dataset_augmented/ak/600m/1_0_0_600m/mic3/2.wav\n",
            "Skipping already processed: /content/drive/MyDrive/sevenlumi_data/luminator_dataset_augmented/ak/600m/1_0_0_600m/mic3/10.wav\n",
            "Skipping already processed: /content/drive/MyDrive/sevenlumi_data/luminator_dataset_augmented/ak/600m/1_0_0_600m/mic3/7.wav\n"
          ]
        },
        {
          "output_type": "stream",
          "name": "stderr",
          "text": [
            "\r100%|██████████| 17/17 [00:00<00:00, 821.08it/s]\n"
          ]
        },
        {
          "output_type": "stream",
          "name": "stdout",
          "text": [
            "Skipping already processed: /content/drive/MyDrive/sevenlumi_data/luminator_dataset_augmented/ak/600m/1_0_0_600m/mic3/11.wav\n",
            "Skipping already processed: /content/drive/MyDrive/sevenlumi_data/luminator_dataset_augmented/ak/600m/1_0_0_600m/mic3/3.wav\n",
            "Skipping already processed: /content/drive/MyDrive/sevenlumi_data/luminator_dataset_augmented/ak/600m/1_0_0_600m/mic3/13.wav\n",
            "Skipping already processed: /content/drive/MyDrive/sevenlumi_data/luminator_dataset_augmented/ak/600m/1_0_0_600m/mic3/14.wav\n",
            "Skipping already processed: /content/drive/MyDrive/sevenlumi_data/luminator_dataset_augmented/ak/600m/1_0_0_600m/mic3/15.wav\n",
            "Skipping already processed: /content/drive/MyDrive/sevenlumi_data/luminator_dataset_augmented/ak/600m/1_0_0_600m/mic3/17.wav\n",
            "Skipping already processed: /content/drive/MyDrive/sevenlumi_data/luminator_dataset_augmented/ak/600m/1_0_0_600m/mic3/16.wav\n"
          ]
        },
        {
          "output_type": "stream",
          "name": "stderr",
          "text": [
            "100%|██████████| 17/17 [00:00<00:00, 1218.90it/s]"
          ]
        },
        {
          "output_type": "stream",
          "name": "stdout",
          "text": [
            "Skipping already processed: /content/drive/MyDrive/sevenlumi_data/luminator_dataset_augmented/ak/600m/1_0_0_600m/mic4/6.wav\n",
            "Skipping already processed: /content/drive/MyDrive/sevenlumi_data/luminator_dataset_augmented/ak/600m/1_0_0_600m/mic4/5.wav\n",
            "Skipping already processed: /content/drive/MyDrive/sevenlumi_data/luminator_dataset_augmented/ak/600m/1_0_0_600m/mic4/12.wav\n",
            "Skipping already processed: /content/drive/MyDrive/sevenlumi_data/luminator_dataset_augmented/ak/600m/1_0_0_600m/mic4/1.wav\n",
            "Skipping already processed: /content/drive/MyDrive/sevenlumi_data/luminator_dataset_augmented/ak/600m/1_0_0_600m/mic4/8.wav\n",
            "Skipping already processed: /content/drive/MyDrive/sevenlumi_data/luminator_dataset_augmented/ak/600m/1_0_0_600m/mic4/4.wav\n",
            "Skipping already processed: /content/drive/MyDrive/sevenlumi_data/luminator_dataset_augmented/ak/600m/1_0_0_600m/mic4/9.wav\n",
            "Skipping already processed: /content/drive/MyDrive/sevenlumi_data/luminator_dataset_augmented/ak/600m/1_0_0_600m/mic4/2.wav\n",
            "Skipping already processed: /content/drive/MyDrive/sevenlumi_data/luminator_dataset_augmented/ak/600m/1_0_0_600m/mic4/10.wav\n",
            "Skipping already processed: /content/drive/MyDrive/sevenlumi_data/luminator_dataset_augmented/ak/600m/1_0_0_600m/mic4/7.wav\n",
            "Skipping already processed: /content/drive/MyDrive/sevenlumi_data/luminator_dataset_augmented/ak/600m/1_0_0_600m/mic4/11.wav\n",
            "Skipping already processed: /content/drive/MyDrive/sevenlumi_data/luminator_dataset_augmented/ak/600m/1_0_0_600m/mic4/3.wav\n",
            "Skipping already processed: /content/drive/MyDrive/sevenlumi_data/luminator_dataset_augmented/ak/600m/1_0_0_600m/mic4/13.wav\n",
            "Skipping already processed: /content/drive/MyDrive/sevenlumi_data/luminator_dataset_augmented/ak/600m/1_0_0_600m/mic4/14.wav\n",
            "Skipping already processed: /content/drive/MyDrive/sevenlumi_data/luminator_dataset_augmented/ak/600m/1_0_0_600m/mic4/15.wav\n",
            "Skipping already processed: /content/drive/MyDrive/sevenlumi_data/luminator_dataset_augmented/ak/600m/1_0_0_600m/mic4/17.wav\n",
            "Skipping already processed: /content/drive/MyDrive/sevenlumi_data/luminator_dataset_augmented/ak/600m/1_0_0_600m/mic4/16.wav\n"
          ]
        },
        {
          "output_type": "stream",
          "name": "stderr",
          "text": [
            "\n",
            "0it [00:00, ?it/s]\n",
            "  0%|          | 0/20 [00:00<?, ?it/s]"
          ]
        },
        {
          "output_type": "stream",
          "name": "stdout",
          "text": [
            "Skipping already processed: /content/drive/MyDrive/sevenlumi_data/luminator_dataset_augmented/ak/600m/-1_0_0_600m/mic1/7.wav\n",
            "Skipping already processed: /content/drive/MyDrive/sevenlumi_data/luminator_dataset_augmented/ak/600m/-1_0_0_600m/mic1/3.wav\n",
            "Skipping already processed: /content/drive/MyDrive/sevenlumi_data/luminator_dataset_augmented/ak/600m/-1_0_0_600m/mic1/6.wav\n",
            "Skipping already processed: /content/drive/MyDrive/sevenlumi_data/luminator_dataset_augmented/ak/600m/-1_0_0_600m/mic1/10.wav\n",
            "Skipping already processed: /content/drive/MyDrive/sevenlumi_data/luminator_dataset_augmented/ak/600m/-1_0_0_600m/mic1/11.wav\n",
            "Skipping already processed: /content/drive/MyDrive/sevenlumi_data/luminator_dataset_augmented/ak/600m/-1_0_0_600m/mic1/2.wav\n",
            "Skipping already processed: /content/drive/MyDrive/sevenlumi_data/luminator_dataset_augmented/ak/600m/-1_0_0_600m/mic1/1.wav\n",
            "Skipping already processed: /content/drive/MyDrive/sevenlumi_data/luminator_dataset_augmented/ak/600m/-1_0_0_600m/mic1/5.wav\n",
            "Skipping already processed: /content/drive/MyDrive/sevenlumi_data/luminator_dataset_augmented/ak/600m/-1_0_0_600m/mic1/9.wav\n",
            "Skipping already processed: /content/drive/MyDrive/sevenlumi_data/luminator_dataset_augmented/ak/600m/-1_0_0_600m/mic1/8.wav\n",
            "Skipping already processed: /content/drive/MyDrive/sevenlumi_data/luminator_dataset_augmented/ak/600m/-1_0_0_600m/mic1/4.wav\n",
            "Skipping already processed: /content/drive/MyDrive/sevenlumi_data/luminator_dataset_augmented/ak/600m/-1_0_0_600m/mic1/13.wav\n",
            "Skipping already processed: /content/drive/MyDrive/sevenlumi_data/luminator_dataset_augmented/ak/600m/-1_0_0_600m/mic1/19.wav\n",
            "Skipping already processed: /content/drive/MyDrive/sevenlumi_data/luminator_dataset_augmented/ak/600m/-1_0_0_600m/mic1/16.wav\n",
            "Skipping already processed: /content/drive/MyDrive/sevenlumi_data/luminator_dataset_augmented/ak/600m/-1_0_0_600m/mic1/17.wav\n",
            "Skipping already processed: /content/drive/MyDrive/sevenlumi_data/luminator_dataset_augmented/ak/600m/-1_0_0_600m/mic1/20.wav\n"
          ]
        },
        {
          "output_type": "stream",
          "name": "stderr",
          "text": [
            "\r100%|██████████| 20/20 [00:00<00:00, 746.84it/s]\n"
          ]
        },
        {
          "output_type": "stream",
          "name": "stdout",
          "text": [
            "Skipping already processed: /content/drive/MyDrive/sevenlumi_data/luminator_dataset_augmented/ak/600m/-1_0_0_600m/mic1/14.wav\n",
            "Skipping already processed: /content/drive/MyDrive/sevenlumi_data/luminator_dataset_augmented/ak/600m/-1_0_0_600m/mic1/15.wav\n",
            "Skipping already processed: /content/drive/MyDrive/sevenlumi_data/luminator_dataset_augmented/ak/600m/-1_0_0_600m/mic1/18.wav\n",
            "Skipping already processed: /content/drive/MyDrive/sevenlumi_data/luminator_dataset_augmented/ak/600m/-1_0_0_600m/mic1/12.wav\n"
          ]
        },
        {
          "output_type": "stream",
          "name": "stderr",
          "text": [
            "\r  0%|          | 0/20 [00:00<?, ?it/s]"
          ]
        },
        {
          "output_type": "stream",
          "name": "stdout",
          "text": [
            "Skipping already processed: /content/drive/MyDrive/sevenlumi_data/luminator_dataset_augmented/ak/600m/-1_0_0_600m/mic2/7.wav\n",
            "Skipping already processed: /content/drive/MyDrive/sevenlumi_data/luminator_dataset_augmented/ak/600m/-1_0_0_600m/mic2/3.wav\n"
          ]
        },
        {
          "output_type": "stream",
          "name": "stderr",
          "text": [
            "\r100%|██████████| 20/20 [00:00<00:00, 864.62it/s]\n"
          ]
        },
        {
          "output_type": "stream",
          "name": "stdout",
          "text": [
            "Skipping already processed: /content/drive/MyDrive/sevenlumi_data/luminator_dataset_augmented/ak/600m/-1_0_0_600m/mic2/6.wav\n",
            "Skipping already processed: /content/drive/MyDrive/sevenlumi_data/luminator_dataset_augmented/ak/600m/-1_0_0_600m/mic2/10.wav\n",
            "Skipping already processed: /content/drive/MyDrive/sevenlumi_data/luminator_dataset_augmented/ak/600m/-1_0_0_600m/mic2/11.wav\n",
            "Skipping already processed: /content/drive/MyDrive/sevenlumi_data/luminator_dataset_augmented/ak/600m/-1_0_0_600m/mic2/2.wav\n",
            "Skipping already processed: /content/drive/MyDrive/sevenlumi_data/luminator_dataset_augmented/ak/600m/-1_0_0_600m/mic2/1.wav\n",
            "Skipping already processed: /content/drive/MyDrive/sevenlumi_data/luminator_dataset_augmented/ak/600m/-1_0_0_600m/mic2/5.wav\n",
            "Skipping already processed: /content/drive/MyDrive/sevenlumi_data/luminator_dataset_augmented/ak/600m/-1_0_0_600m/mic2/9.wav\n",
            "Skipping already processed: /content/drive/MyDrive/sevenlumi_data/luminator_dataset_augmented/ak/600m/-1_0_0_600m/mic2/8.wav\n",
            "Skipping already processed: /content/drive/MyDrive/sevenlumi_data/luminator_dataset_augmented/ak/600m/-1_0_0_600m/mic2/4.wav\n",
            "Skipping already processed: /content/drive/MyDrive/sevenlumi_data/luminator_dataset_augmented/ak/600m/-1_0_0_600m/mic2/13.wav\n",
            "Skipping already processed: /content/drive/MyDrive/sevenlumi_data/luminator_dataset_augmented/ak/600m/-1_0_0_600m/mic2/19.wav\n",
            "Skipping already processed: /content/drive/MyDrive/sevenlumi_data/luminator_dataset_augmented/ak/600m/-1_0_0_600m/mic2/16.wav\n",
            "Skipping already processed: /content/drive/MyDrive/sevenlumi_data/luminator_dataset_augmented/ak/600m/-1_0_0_600m/mic2/17.wav\n",
            "Skipping already processed: /content/drive/MyDrive/sevenlumi_data/luminator_dataset_augmented/ak/600m/-1_0_0_600m/mic2/20.wav\n",
            "Skipping already processed: /content/drive/MyDrive/sevenlumi_data/luminator_dataset_augmented/ak/600m/-1_0_0_600m/mic2/14.wav\n",
            "Skipping already processed: /content/drive/MyDrive/sevenlumi_data/luminator_dataset_augmented/ak/600m/-1_0_0_600m/mic2/15.wav\n",
            "Skipping already processed: /content/drive/MyDrive/sevenlumi_data/luminator_dataset_augmented/ak/600m/-1_0_0_600m/mic2/18.wav\n",
            "Skipping already processed: /content/drive/MyDrive/sevenlumi_data/luminator_dataset_augmented/ak/600m/-1_0_0_600m/mic2/12.wav\n"
          ]
        },
        {
          "output_type": "stream",
          "name": "stderr",
          "text": [
            "\r  0%|          | 0/20 [00:00<?, ?it/s]"
          ]
        },
        {
          "output_type": "stream",
          "name": "stdout",
          "text": [
            "Skipping already processed: /content/drive/MyDrive/sevenlumi_data/luminator_dataset_augmented/ak/600m/-1_0_0_600m/mic3/7.wav\n",
            "Skipping already processed: /content/drive/MyDrive/sevenlumi_data/luminator_dataset_augmented/ak/600m/-1_0_0_600m/mic3/3.wav\n",
            "Skipping already processed: /content/drive/MyDrive/sevenlumi_data/luminator_dataset_augmented/ak/600m/-1_0_0_600m/mic3/6.wav\n"
          ]
        },
        {
          "output_type": "stream",
          "name": "stderr",
          "text": [
            "\r100%|██████████| 20/20 [00:00<00:00, 912.33it/s]\n"
          ]
        },
        {
          "output_type": "stream",
          "name": "stdout",
          "text": [
            "Skipping already processed: /content/drive/MyDrive/sevenlumi_data/luminator_dataset_augmented/ak/600m/-1_0_0_600m/mic3/10.wav\n",
            "Skipping already processed: /content/drive/MyDrive/sevenlumi_data/luminator_dataset_augmented/ak/600m/-1_0_0_600m/mic3/11.wav\n",
            "Skipping already processed: /content/drive/MyDrive/sevenlumi_data/luminator_dataset_augmented/ak/600m/-1_0_0_600m/mic3/2.wav\n",
            "Skipping already processed: /content/drive/MyDrive/sevenlumi_data/luminator_dataset_augmented/ak/600m/-1_0_0_600m/mic3/1.wav\n",
            "Skipping already processed: /content/drive/MyDrive/sevenlumi_data/luminator_dataset_augmented/ak/600m/-1_0_0_600m/mic3/5.wav\n",
            "Skipping already processed: /content/drive/MyDrive/sevenlumi_data/luminator_dataset_augmented/ak/600m/-1_0_0_600m/mic3/9.wav\n",
            "Skipping already processed: /content/drive/MyDrive/sevenlumi_data/luminator_dataset_augmented/ak/600m/-1_0_0_600m/mic3/8.wav\n",
            "Skipping already processed: /content/drive/MyDrive/sevenlumi_data/luminator_dataset_augmented/ak/600m/-1_0_0_600m/mic3/4.wav\n",
            "Skipping already processed: /content/drive/MyDrive/sevenlumi_data/luminator_dataset_augmented/ak/600m/-1_0_0_600m/mic3/13.wav\n",
            "Skipping already processed: /content/drive/MyDrive/sevenlumi_data/luminator_dataset_augmented/ak/600m/-1_0_0_600m/mic3/19.wav\n",
            "Skipping already processed: /content/drive/MyDrive/sevenlumi_data/luminator_dataset_augmented/ak/600m/-1_0_0_600m/mic3/16.wav\n",
            "Skipping already processed: /content/drive/MyDrive/sevenlumi_data/luminator_dataset_augmented/ak/600m/-1_0_0_600m/mic3/17.wav\n",
            "Skipping already processed: /content/drive/MyDrive/sevenlumi_data/luminator_dataset_augmented/ak/600m/-1_0_0_600m/mic3/20.wav\n",
            "Skipping already processed: /content/drive/MyDrive/sevenlumi_data/luminator_dataset_augmented/ak/600m/-1_0_0_600m/mic3/14.wav\n",
            "Skipping already processed: /content/drive/MyDrive/sevenlumi_data/luminator_dataset_augmented/ak/600m/-1_0_0_600m/mic3/15.wav\n",
            "Skipping already processed: /content/drive/MyDrive/sevenlumi_data/luminator_dataset_augmented/ak/600m/-1_0_0_600m/mic3/18.wav\n",
            "Skipping already processed: /content/drive/MyDrive/sevenlumi_data/luminator_dataset_augmented/ak/600m/-1_0_0_600m/mic3/12.wav\n"
          ]
        },
        {
          "output_type": "stream",
          "name": "stderr",
          "text": [
            "\r  0%|          | 0/20 [00:00<?, ?it/s]"
          ]
        },
        {
          "output_type": "stream",
          "name": "stdout",
          "text": [
            "Skipping already processed: /content/drive/MyDrive/sevenlumi_data/luminator_dataset_augmented/ak/600m/-1_0_0_600m/mic4/7.wav\n",
            "Skipping already processed: /content/drive/MyDrive/sevenlumi_data/luminator_dataset_augmented/ak/600m/-1_0_0_600m/mic4/3.wav\n",
            "Skipping already processed: /content/drive/MyDrive/sevenlumi_data/luminator_dataset_augmented/ak/600m/-1_0_0_600m/mic4/6.wav\n",
            "Skipping already processed: /content/drive/MyDrive/sevenlumi_data/luminator_dataset_augmented/ak/600m/-1_0_0_600m/mic4/10.wav\n",
            "Skipping already processed: /content/drive/MyDrive/sevenlumi_data/luminator_dataset_augmented/ak/600m/-1_0_0_600m/mic4/11.wav\n",
            "Skipping already processed: /content/drive/MyDrive/sevenlumi_data/luminator_dataset_augmented/ak/600m/-1_0_0_600m/mic4/2.wav\n",
            "Skipping already processed: /content/drive/MyDrive/sevenlumi_data/luminator_dataset_augmented/ak/600m/-1_0_0_600m/mic4/1.wav\n",
            "Skipping already processed: /content/drive/MyDrive/sevenlumi_data/luminator_dataset_augmented/ak/600m/-1_0_0_600m/mic4/5.wav\n",
            "Skipping already processed: /content/drive/MyDrive/sevenlumi_data/luminator_dataset_augmented/ak/600m/-1_0_0_600m/mic4/9.wav\n",
            "Skipping already processed: /content/drive/MyDrive/sevenlumi_data/luminator_dataset_augmented/ak/600m/-1_0_0_600m/mic4/8.wav\n",
            "Skipping already processed: /content/drive/MyDrive/sevenlumi_data/luminator_dataset_augmented/ak/600m/-1_0_0_600m/mic4/4.wav\n",
            "Skipping already processed: /content/drive/MyDrive/sevenlumi_data/luminator_dataset_augmented/ak/600m/-1_0_0_600m/mic4/13.wav\n",
            "Skipping already processed: /content/drive/MyDrive/sevenlumi_data/luminator_dataset_augmented/ak/600m/-1_0_0_600m/mic4/19.wav\n",
            "Skipping already processed: /content/drive/MyDrive/sevenlumi_data/luminator_dataset_augmented/ak/600m/-1_0_0_600m/mic4/16.wav\n",
            "Skipping already processed: /content/drive/MyDrive/sevenlumi_data/luminator_dataset_augmented/ak/600m/-1_0_0_600m/mic4/17.wav\n",
            "Skipping already processed: /content/drive/MyDrive/sevenlumi_data/luminator_dataset_augmented/ak/600m/-1_0_0_600m/mic4/20.wav\n"
          ]
        },
        {
          "output_type": "stream",
          "name": "stderr",
          "text": [
            "\r100%|██████████| 20/20 [00:00<00:00, 937.54it/s]\n"
          ]
        },
        {
          "output_type": "stream",
          "name": "stdout",
          "text": [
            "Skipping already processed: /content/drive/MyDrive/sevenlumi_data/luminator_dataset_augmented/ak/600m/-1_0_0_600m/mic4/14.wav\n",
            "Skipping already processed: /content/drive/MyDrive/sevenlumi_data/luminator_dataset_augmented/ak/600m/-1_0_0_600m/mic4/15.wav\n",
            "Skipping already processed: /content/drive/MyDrive/sevenlumi_data/luminator_dataset_augmented/ak/600m/-1_0_0_600m/mic4/18.wav\n",
            "Skipping already processed: /content/drive/MyDrive/sevenlumi_data/luminator_dataset_augmented/ak/600m/-1_0_0_600m/mic4/12.wav\n"
          ]
        },
        {
          "output_type": "stream",
          "name": "stderr",
          "text": [
            "0it [00:00, ?it/s]\n",
            "0it [00:00, ?it/s]\n",
            "  0%|          | 0/22 [00:00<?, ?it/s]"
          ]
        },
        {
          "output_type": "stream",
          "name": "stdout",
          "text": [
            "Skipping already processed: /content/drive/MyDrive/sevenlumi_data/luminator_dataset_augmented/ak/200m/-1_0_0_200m/mic1/1.wav\n",
            "Skipping already processed: /content/drive/MyDrive/sevenlumi_data/luminator_dataset_augmented/ak/200m/-1_0_0_200m/mic1/5.wav\n",
            "Skipping already processed: /content/drive/MyDrive/sevenlumi_data/luminator_dataset_augmented/ak/200m/-1_0_0_200m/mic1/17.wav\n",
            "Skipping already processed: /content/drive/MyDrive/sevenlumi_data/luminator_dataset_augmented/ak/200m/-1_0_0_200m/mic1/2.wav\n",
            "Skipping already processed: /content/drive/MyDrive/sevenlumi_data/luminator_dataset_augmented/ak/200m/-1_0_0_200m/mic1/4.wav\n",
            "Skipping already processed: /content/drive/MyDrive/sevenlumi_data/luminator_dataset_augmented/ak/200m/-1_0_0_200m/mic1/21.wav\n",
            "Skipping already processed: /content/drive/MyDrive/sevenlumi_data/luminator_dataset_augmented/ak/200m/-1_0_0_200m/mic1/11.wav\n",
            "Skipping already processed: /content/drive/MyDrive/sevenlumi_data/luminator_dataset_augmented/ak/200m/-1_0_0_200m/mic1/7.wav\n",
            "Skipping already processed: /content/drive/MyDrive/sevenlumi_data/luminator_dataset_augmented/ak/200m/-1_0_0_200m/mic1/6.wav\n",
            "Skipping already processed: /content/drive/MyDrive/sevenlumi_data/luminator_dataset_augmented/ak/200m/-1_0_0_200m/mic1/10.wav\n",
            "Skipping already processed: /content/drive/MyDrive/sevenlumi_data/luminator_dataset_augmented/ak/200m/-1_0_0_200m/mic1/3.wav\n",
            "Skipping already processed: /content/drive/MyDrive/sevenlumi_data/luminator_dataset_augmented/ak/200m/-1_0_0_200m/mic1/22.wav\n",
            "Skipping already processed: /content/drive/MyDrive/sevenlumi_data/luminator_dataset_augmented/ak/200m/-1_0_0_200m/mic1/15.wav\n",
            "Skipping already processed: /content/drive/MyDrive/sevenlumi_data/luminator_dataset_augmented/ak/200m/-1_0_0_200m/mic1/8.wav\n",
            "Skipping already processed: /content/drive/MyDrive/sevenlumi_data/luminator_dataset_augmented/ak/200m/-1_0_0_200m/mic1/16.wav\n",
            "Skipping already processed: /content/drive/MyDrive/sevenlumi_data/luminator_dataset_augmented/ak/200m/-1_0_0_200m/mic1/19.wav\n",
            "Skipping already processed: /content/drive/MyDrive/sevenlumi_data/luminator_dataset_augmented/ak/200m/-1_0_0_200m/mic1/13.wav\n",
            "Skipping already processed: /content/drive/MyDrive/sevenlumi_data/luminator_dataset_augmented/ak/200m/-1_0_0_200m/mic1/12.wav\n",
            "Skipping already processed: /content/drive/MyDrive/sevenlumi_data/luminator_dataset_augmented/ak/200m/-1_0_0_200m/mic1/18.wav\n"
          ]
        },
        {
          "output_type": "stream",
          "name": "stderr",
          "text": [
            "\r100%|██████████| 22/22 [00:00<00:00, 614.09it/s]\n"
          ]
        },
        {
          "output_type": "stream",
          "name": "stdout",
          "text": [
            "Skipping already processed: /content/drive/MyDrive/sevenlumi_data/luminator_dataset_augmented/ak/200m/-1_0_0_200m/mic1/14.wav\n",
            "Skipping already processed: /content/drive/MyDrive/sevenlumi_data/luminator_dataset_augmented/ak/200m/-1_0_0_200m/mic1/9.wav\n",
            "Skipping already processed: /content/drive/MyDrive/sevenlumi_data/luminator_dataset_augmented/ak/200m/-1_0_0_200m/mic1/20.wav\n"
          ]
        },
        {
          "output_type": "stream",
          "name": "stderr",
          "text": [
            "100%|██████████| 22/22 [00:00<00:00, 1162.98it/s]\n"
          ]
        },
        {
          "output_type": "stream",
          "name": "stdout",
          "text": [
            "Skipping already processed: /content/drive/MyDrive/sevenlumi_data/luminator_dataset_augmented/ak/200m/-1_0_0_200m/mic2/1.wav\n",
            "Skipping already processed: /content/drive/MyDrive/sevenlumi_data/luminator_dataset_augmented/ak/200m/-1_0_0_200m/mic2/5.wav\n",
            "Skipping already processed: /content/drive/MyDrive/sevenlumi_data/luminator_dataset_augmented/ak/200m/-1_0_0_200m/mic2/17.wav\n",
            "Skipping already processed: /content/drive/MyDrive/sevenlumi_data/luminator_dataset_augmented/ak/200m/-1_0_0_200m/mic2/2.wav\n",
            "Skipping already processed: /content/drive/MyDrive/sevenlumi_data/luminator_dataset_augmented/ak/200m/-1_0_0_200m/mic2/4.wav\n",
            "Skipping already processed: /content/drive/MyDrive/sevenlumi_data/luminator_dataset_augmented/ak/200m/-1_0_0_200m/mic2/21.wav\n",
            "Skipping already processed: /content/drive/MyDrive/sevenlumi_data/luminator_dataset_augmented/ak/200m/-1_0_0_200m/mic2/11.wav\n",
            "Skipping already processed: /content/drive/MyDrive/sevenlumi_data/luminator_dataset_augmented/ak/200m/-1_0_0_200m/mic2/7.wav\n",
            "Skipping already processed: /content/drive/MyDrive/sevenlumi_data/luminator_dataset_augmented/ak/200m/-1_0_0_200m/mic2/6.wav\n",
            "Skipping already processed: /content/drive/MyDrive/sevenlumi_data/luminator_dataset_augmented/ak/200m/-1_0_0_200m/mic2/10.wav\n",
            "Skipping already processed: /content/drive/MyDrive/sevenlumi_data/luminator_dataset_augmented/ak/200m/-1_0_0_200m/mic2/3.wav\n",
            "Skipping already processed: /content/drive/MyDrive/sevenlumi_data/luminator_dataset_augmented/ak/200m/-1_0_0_200m/mic2/22.wav\n",
            "Skipping already processed: /content/drive/MyDrive/sevenlumi_data/luminator_dataset_augmented/ak/200m/-1_0_0_200m/mic2/15.wav\n",
            "Skipping already processed: /content/drive/MyDrive/sevenlumi_data/luminator_dataset_augmented/ak/200m/-1_0_0_200m/mic2/8.wav\n",
            "Skipping already processed: /content/drive/MyDrive/sevenlumi_data/luminator_dataset_augmented/ak/200m/-1_0_0_200m/mic2/16.wav\n",
            "Skipping already processed: /content/drive/MyDrive/sevenlumi_data/luminator_dataset_augmented/ak/200m/-1_0_0_200m/mic2/19.wav\n",
            "Skipping already processed: /content/drive/MyDrive/sevenlumi_data/luminator_dataset_augmented/ak/200m/-1_0_0_200m/mic2/13.wav\n",
            "Skipping already processed: /content/drive/MyDrive/sevenlumi_data/luminator_dataset_augmented/ak/200m/-1_0_0_200m/mic2/12.wav\n",
            "Skipping already processed: /content/drive/MyDrive/sevenlumi_data/luminator_dataset_augmented/ak/200m/-1_0_0_200m/mic2/18.wav\n",
            "Skipping already processed: /content/drive/MyDrive/sevenlumi_data/luminator_dataset_augmented/ak/200m/-1_0_0_200m/mic2/14.wav\n",
            "Skipping already processed: /content/drive/MyDrive/sevenlumi_data/luminator_dataset_augmented/ak/200m/-1_0_0_200m/mic2/9.wav\n",
            "Skipping already processed: /content/drive/MyDrive/sevenlumi_data/luminator_dataset_augmented/ak/200m/-1_0_0_200m/mic2/20.wav\n"
          ]
        },
        {
          "output_type": "stream",
          "name": "stderr",
          "text": [
            "\r  0%|          | 0/22 [00:00<?, ?it/s]"
          ]
        },
        {
          "output_type": "stream",
          "name": "stdout",
          "text": [
            "Skipping already processed: /content/drive/MyDrive/sevenlumi_data/luminator_dataset_augmented/ak/200m/-1_0_0_200m/mic3/1.wav\n",
            "Skipping already processed: /content/drive/MyDrive/sevenlumi_data/luminator_dataset_augmented/ak/200m/-1_0_0_200m/mic3/5.wav\n",
            "Skipping already processed: /content/drive/MyDrive/sevenlumi_data/luminator_dataset_augmented/ak/200m/-1_0_0_200m/mic3/17.wav\n",
            "Skipping already processed: /content/drive/MyDrive/sevenlumi_data/luminator_dataset_augmented/ak/200m/-1_0_0_200m/mic3/2.wav\n",
            "Skipping already processed: /content/drive/MyDrive/sevenlumi_data/luminator_dataset_augmented/ak/200m/-1_0_0_200m/mic3/4.wav\n",
            "Skipping already processed: /content/drive/MyDrive/sevenlumi_data/luminator_dataset_augmented/ak/200m/-1_0_0_200m/mic3/21.wav\n",
            "Skipping already processed: /content/drive/MyDrive/sevenlumi_data/luminator_dataset_augmented/ak/200m/-1_0_0_200m/mic3/11.wav\n",
            "Skipping already processed: /content/drive/MyDrive/sevenlumi_data/luminator_dataset_augmented/ak/200m/-1_0_0_200m/mic3/7.wav\n",
            "Skipping already processed: /content/drive/MyDrive/sevenlumi_data/luminator_dataset_augmented/ak/200m/-1_0_0_200m/mic3/6.wav\n",
            "Skipping already processed: /content/drive/MyDrive/sevenlumi_data/luminator_dataset_augmented/ak/200m/-1_0_0_200m/mic3/10.wav\n",
            "Skipping already processed: /content/drive/MyDrive/sevenlumi_data/luminator_dataset_augmented/ak/200m/-1_0_0_200m/mic3/3.wav\n",
            "Skipping already processed: /content/drive/MyDrive/sevenlumi_data/luminator_dataset_augmented/ak/200m/-1_0_0_200m/mic3/22.wav\n",
            "Skipping already processed: /content/drive/MyDrive/sevenlumi_data/luminator_dataset_augmented/ak/200m/-1_0_0_200m/mic3/15.wav\n",
            "Skipping already processed: /content/drive/MyDrive/sevenlumi_data/luminator_dataset_augmented/ak/200m/-1_0_0_200m/mic3/8.wav\n",
            "Skipping already processed: /content/drive/MyDrive/sevenlumi_data/luminator_dataset_augmented/ak/200m/-1_0_0_200m/mic3/16.wav\n",
            "Skipping already processed: /content/drive/MyDrive/sevenlumi_data/luminator_dataset_augmented/ak/200m/-1_0_0_200m/mic3/19.wav\n",
            "Skipping already processed: /content/drive/MyDrive/sevenlumi_data/luminator_dataset_augmented/ak/200m/-1_0_0_200m/mic3/13.wav\n",
            "Skipping already processed: /content/drive/MyDrive/sevenlumi_data/luminator_dataset_augmented/ak/200m/-1_0_0_200m/mic3/12.wav\n",
            "Skipping already processed: /content/drive/MyDrive/sevenlumi_data/luminator_dataset_augmented/ak/200m/-1_0_0_200m/mic3/18.wav\n",
            "Skipping already processed: /content/drive/MyDrive/sevenlumi_data/luminator_dataset_augmented/ak/200m/-1_0_0_200m/mic3/14.wav\n"
          ]
        },
        {
          "output_type": "stream",
          "name": "stderr",
          "text": [
            "\r100%|██████████| 22/22 [00:00<00:00, 914.93it/s]\n"
          ]
        },
        {
          "output_type": "stream",
          "name": "stdout",
          "text": [
            "Skipping already processed: /content/drive/MyDrive/sevenlumi_data/luminator_dataset_augmented/ak/200m/-1_0_0_200m/mic3/9.wav\n",
            "Skipping already processed: /content/drive/MyDrive/sevenlumi_data/luminator_dataset_augmented/ak/200m/-1_0_0_200m/mic3/20.wav\n"
          ]
        },
        {
          "output_type": "stream",
          "name": "stderr",
          "text": [
            "\r  0%|          | 0/22 [00:00<?, ?it/s]"
          ]
        },
        {
          "output_type": "stream",
          "name": "stdout",
          "text": [
            "Skipping already processed: /content/drive/MyDrive/sevenlumi_data/luminator_dataset_augmented/ak/200m/-1_0_0_200m/mic4/1.wav\n",
            "Skipping already processed: /content/drive/MyDrive/sevenlumi_data/luminator_dataset_augmented/ak/200m/-1_0_0_200m/mic4/5.wav\n"
          ]
        },
        {
          "output_type": "stream",
          "name": "stderr",
          "text": [
            "\r100%|██████████| 22/22 [00:00<00:00, 1020.27it/s]\n"
          ]
        },
        {
          "output_type": "stream",
          "name": "stdout",
          "text": [
            "Skipping already processed: /content/drive/MyDrive/sevenlumi_data/luminator_dataset_augmented/ak/200m/-1_0_0_200m/mic4/17.wav\n",
            "Skipping already processed: /content/drive/MyDrive/sevenlumi_data/luminator_dataset_augmented/ak/200m/-1_0_0_200m/mic4/2.wav\n",
            "Skipping already processed: /content/drive/MyDrive/sevenlumi_data/luminator_dataset_augmented/ak/200m/-1_0_0_200m/mic4/4.wav\n",
            "Skipping already processed: /content/drive/MyDrive/sevenlumi_data/luminator_dataset_augmented/ak/200m/-1_0_0_200m/mic4/21.wav\n",
            "Skipping already processed: /content/drive/MyDrive/sevenlumi_data/luminator_dataset_augmented/ak/200m/-1_0_0_200m/mic4/11.wav\n",
            "Skipping already processed: /content/drive/MyDrive/sevenlumi_data/luminator_dataset_augmented/ak/200m/-1_0_0_200m/mic4/7.wav\n",
            "Skipping already processed: /content/drive/MyDrive/sevenlumi_data/luminator_dataset_augmented/ak/200m/-1_0_0_200m/mic4/6.wav\n",
            "Skipping already processed: /content/drive/MyDrive/sevenlumi_data/luminator_dataset_augmented/ak/200m/-1_0_0_200m/mic4/10.wav\n",
            "Skipping already processed: /content/drive/MyDrive/sevenlumi_data/luminator_dataset_augmented/ak/200m/-1_0_0_200m/mic4/3.wav\n",
            "Skipping already processed: /content/drive/MyDrive/sevenlumi_data/luminator_dataset_augmented/ak/200m/-1_0_0_200m/mic4/22.wav\n",
            "Skipping already processed: /content/drive/MyDrive/sevenlumi_data/luminator_dataset_augmented/ak/200m/-1_0_0_200m/mic4/15.wav\n",
            "Skipping already processed: /content/drive/MyDrive/sevenlumi_data/luminator_dataset_augmented/ak/200m/-1_0_0_200m/mic4/8.wav\n",
            "Skipping already processed: /content/drive/MyDrive/sevenlumi_data/luminator_dataset_augmented/ak/200m/-1_0_0_200m/mic4/16.wav\n",
            "Skipping already processed: /content/drive/MyDrive/sevenlumi_data/luminator_dataset_augmented/ak/200m/-1_0_0_200m/mic4/19.wav\n",
            "Skipping already processed: /content/drive/MyDrive/sevenlumi_data/luminator_dataset_augmented/ak/200m/-1_0_0_200m/mic4/13.wav\n",
            "Skipping already processed: /content/drive/MyDrive/sevenlumi_data/luminator_dataset_augmented/ak/200m/-1_0_0_200m/mic4/12.wav\n",
            "Skipping already processed: /content/drive/MyDrive/sevenlumi_data/luminator_dataset_augmented/ak/200m/-1_0_0_200m/mic4/18.wav\n",
            "Skipping already processed: /content/drive/MyDrive/sevenlumi_data/luminator_dataset_augmented/ak/200m/-1_0_0_200m/mic4/14.wav\n",
            "Skipping already processed: /content/drive/MyDrive/sevenlumi_data/luminator_dataset_augmented/ak/200m/-1_0_0_200m/mic4/9.wav\n",
            "Skipping already processed: /content/drive/MyDrive/sevenlumi_data/luminator_dataset_augmented/ak/200m/-1_0_0_200m/mic4/20.wav\n"
          ]
        },
        {
          "output_type": "stream",
          "name": "stderr",
          "text": [
            "0it [00:00, ?it/s]\n",
            "100%|██████████| 19/19 [00:00<00:00, 1130.64it/s]\n"
          ]
        },
        {
          "output_type": "stream",
          "name": "stdout",
          "text": [
            "Skipping already processed: /content/drive/MyDrive/sevenlumi_data/luminator_dataset_augmented/ak/200m/0_0_1_200m/mic1/8.wav\n",
            "Skipping already processed: /content/drive/MyDrive/sevenlumi_data/luminator_dataset_augmented/ak/200m/0_0_1_200m/mic1/7.wav\n",
            "Skipping already processed: /content/drive/MyDrive/sevenlumi_data/luminator_dataset_augmented/ak/200m/0_0_1_200m/mic1/4.wav\n",
            "Skipping already processed: /content/drive/MyDrive/sevenlumi_data/luminator_dataset_augmented/ak/200m/0_0_1_200m/mic1/14.wav\n",
            "Skipping already processed: /content/drive/MyDrive/sevenlumi_data/luminator_dataset_augmented/ak/200m/0_0_1_200m/mic1/1.wav\n",
            "Skipping already processed: /content/drive/MyDrive/sevenlumi_data/luminator_dataset_augmented/ak/200m/0_0_1_200m/mic1/3.wav\n",
            "Skipping already processed: /content/drive/MyDrive/sevenlumi_data/luminator_dataset_augmented/ak/200m/0_0_1_200m/mic1/19.wav\n",
            "Skipping already processed: /content/drive/MyDrive/sevenlumi_data/luminator_dataset_augmented/ak/200m/0_0_1_200m/mic1/15.wav\n",
            "Skipping already processed: /content/drive/MyDrive/sevenlumi_data/luminator_dataset_augmented/ak/200m/0_0_1_200m/mic1/9.wav\n",
            "Skipping already processed: /content/drive/MyDrive/sevenlumi_data/luminator_dataset_augmented/ak/200m/0_0_1_200m/mic1/16.wav\n",
            "Skipping already processed: /content/drive/MyDrive/sevenlumi_data/luminator_dataset_augmented/ak/200m/0_0_1_200m/mic1/11.wav\n",
            "Skipping already processed: /content/drive/MyDrive/sevenlumi_data/luminator_dataset_augmented/ak/200m/0_0_1_200m/mic1/2.wav\n",
            "Skipping already processed: /content/drive/MyDrive/sevenlumi_data/luminator_dataset_augmented/ak/200m/0_0_1_200m/mic1/6.wav\n",
            "Skipping already processed: /content/drive/MyDrive/sevenlumi_data/luminator_dataset_augmented/ak/200m/0_0_1_200m/mic1/18.wav\n",
            "Skipping already processed: /content/drive/MyDrive/sevenlumi_data/luminator_dataset_augmented/ak/200m/0_0_1_200m/mic1/12.wav\n",
            "Skipping already processed: /content/drive/MyDrive/sevenlumi_data/luminator_dataset_augmented/ak/200m/0_0_1_200m/mic1/17.wav\n",
            "Skipping already processed: /content/drive/MyDrive/sevenlumi_data/luminator_dataset_augmented/ak/200m/0_0_1_200m/mic1/10.wav\n",
            "Skipping already processed: /content/drive/MyDrive/sevenlumi_data/luminator_dataset_augmented/ak/200m/0_0_1_200m/mic1/5.wav\n",
            "Skipping already processed: /content/drive/MyDrive/sevenlumi_data/luminator_dataset_augmented/ak/200m/0_0_1_200m/mic1/13.wav\n"
          ]
        },
        {
          "output_type": "stream",
          "name": "stderr",
          "text": [
            "\r  0%|          | 0/19 [00:00<?, ?it/s]"
          ]
        },
        {
          "output_type": "stream",
          "name": "stdout",
          "text": [
            "Skipping already processed: /content/drive/MyDrive/sevenlumi_data/luminator_dataset_augmented/ak/200m/0_0_1_200m/mic2/8.wav\n",
            "Skipping already processed: /content/drive/MyDrive/sevenlumi_data/luminator_dataset_augmented/ak/200m/0_0_1_200m/mic2/7.wav\n",
            "Skipping already processed: /content/drive/MyDrive/sevenlumi_data/luminator_dataset_augmented/ak/200m/0_0_1_200m/mic2/4.wav\n",
            "Skipping already processed: /content/drive/MyDrive/sevenlumi_data/luminator_dataset_augmented/ak/200m/0_0_1_200m/mic2/14.wav\n",
            "Skipping already processed: /content/drive/MyDrive/sevenlumi_data/luminator_dataset_augmented/ak/200m/0_0_1_200m/mic2/1.wav\n"
          ]
        },
        {
          "output_type": "stream",
          "name": "stderr",
          "text": [
            "\r100%|██████████| 19/19 [00:00<00:00, 1101.02it/s]"
          ]
        },
        {
          "output_type": "stream",
          "name": "stdout",
          "text": [
            "Skipping already processed: /content/drive/MyDrive/sevenlumi_data/luminator_dataset_augmented/ak/200m/0_0_1_200m/mic2/3.wav\n",
            "Skipping already processed: /content/drive/MyDrive/sevenlumi_data/luminator_dataset_augmented/ak/200m/0_0_1_200m/mic2/19.wav\n",
            "Skipping already processed: /content/drive/MyDrive/sevenlumi_data/luminator_dataset_augmented/ak/200m/0_0_1_200m/mic2/15.wav\n",
            "Skipping already processed: /content/drive/MyDrive/sevenlumi_data/luminator_dataset_augmented/ak/200m/0_0_1_200m/mic2/9.wav\n",
            "Skipping already processed: /content/drive/MyDrive/sevenlumi_data/luminator_dataset_augmented/ak/200m/0_0_1_200m/mic2/16.wav\n",
            "Skipping already processed: /content/drive/MyDrive/sevenlumi_data/luminator_dataset_augmented/ak/200m/0_0_1_200m/mic2/11.wav\n",
            "Skipping already processed: /content/drive/MyDrive/sevenlumi_data/luminator_dataset_augmented/ak/200m/0_0_1_200m/mic2/2.wav\n",
            "Skipping already processed: /content/drive/MyDrive/sevenlumi_data/luminator_dataset_augmented/ak/200m/0_0_1_200m/mic2/6.wav\n",
            "Skipping already processed: /content/drive/MyDrive/sevenlumi_data/luminator_dataset_augmented/ak/200m/0_0_1_200m/mic2/18.wav\n",
            "Skipping already processed: /content/drive/MyDrive/sevenlumi_data/luminator_dataset_augmented/ak/200m/0_0_1_200m/mic2/12.wav\n",
            "Skipping already processed: /content/drive/MyDrive/sevenlumi_data/luminator_dataset_augmented/ak/200m/0_0_1_200m/mic2/17.wav\n",
            "Skipping already processed: /content/drive/MyDrive/sevenlumi_data/luminator_dataset_augmented/ak/200m/0_0_1_200m/mic2/10.wav\n",
            "Skipping already processed: /content/drive/MyDrive/sevenlumi_data/luminator_dataset_augmented/ak/200m/0_0_1_200m/mic2/5.wav\n",
            "Skipping already processed: /content/drive/MyDrive/sevenlumi_data/luminator_dataset_augmented/ak/200m/0_0_1_200m/mic2/13.wav\n"
          ]
        },
        {
          "output_type": "stream",
          "name": "stderr",
          "text": [
            "\n",
            "100%|██████████| 19/19 [00:00<00:00, 1197.94it/s]\n"
          ]
        },
        {
          "output_type": "stream",
          "name": "stdout",
          "text": [
            "Skipping already processed: /content/drive/MyDrive/sevenlumi_data/luminator_dataset_augmented/ak/200m/0_0_1_200m/mic3/8.wav\n",
            "Skipping already processed: /content/drive/MyDrive/sevenlumi_data/luminator_dataset_augmented/ak/200m/0_0_1_200m/mic3/7.wav\n",
            "Skipping already processed: /content/drive/MyDrive/sevenlumi_data/luminator_dataset_augmented/ak/200m/0_0_1_200m/mic3/4.wav\n",
            "Skipping already processed: /content/drive/MyDrive/sevenlumi_data/luminator_dataset_augmented/ak/200m/0_0_1_200m/mic3/14.wav\n",
            "Skipping already processed: /content/drive/MyDrive/sevenlumi_data/luminator_dataset_augmented/ak/200m/0_0_1_200m/mic3/1.wav\n",
            "Skipping already processed: /content/drive/MyDrive/sevenlumi_data/luminator_dataset_augmented/ak/200m/0_0_1_200m/mic3/3.wav\n",
            "Skipping already processed: /content/drive/MyDrive/sevenlumi_data/luminator_dataset_augmented/ak/200m/0_0_1_200m/mic3/19.wav\n",
            "Skipping already processed: /content/drive/MyDrive/sevenlumi_data/luminator_dataset_augmented/ak/200m/0_0_1_200m/mic3/15.wav\n",
            "Skipping already processed: /content/drive/MyDrive/sevenlumi_data/luminator_dataset_augmented/ak/200m/0_0_1_200m/mic3/9.wav\n",
            "Skipping already processed: /content/drive/MyDrive/sevenlumi_data/luminator_dataset_augmented/ak/200m/0_0_1_200m/mic3/16.wav\n",
            "Skipping already processed: /content/drive/MyDrive/sevenlumi_data/luminator_dataset_augmented/ak/200m/0_0_1_200m/mic3/11.wav\n",
            "Skipping already processed: /content/drive/MyDrive/sevenlumi_data/luminator_dataset_augmented/ak/200m/0_0_1_200m/mic3/2.wav\n",
            "Skipping already processed: /content/drive/MyDrive/sevenlumi_data/luminator_dataset_augmented/ak/200m/0_0_1_200m/mic3/6.wav\n",
            "Skipping already processed: /content/drive/MyDrive/sevenlumi_data/luminator_dataset_augmented/ak/200m/0_0_1_200m/mic3/18.wav\n",
            "Skipping already processed: /content/drive/MyDrive/sevenlumi_data/luminator_dataset_augmented/ak/200m/0_0_1_200m/mic3/12.wav\n",
            "Skipping already processed: /content/drive/MyDrive/sevenlumi_data/luminator_dataset_augmented/ak/200m/0_0_1_200m/mic3/17.wav\n",
            "Skipping already processed: /content/drive/MyDrive/sevenlumi_data/luminator_dataset_augmented/ak/200m/0_0_1_200m/mic3/10.wav\n",
            "Skipping already processed: /content/drive/MyDrive/sevenlumi_data/luminator_dataset_augmented/ak/200m/0_0_1_200m/mic3/5.wav\n",
            "Skipping already processed: /content/drive/MyDrive/sevenlumi_data/luminator_dataset_augmented/ak/200m/0_0_1_200m/mic3/13.wav\n"
          ]
        },
        {
          "output_type": "stream",
          "name": "stderr",
          "text": [
            "\r  0%|          | 0/19 [00:00<?, ?it/s]"
          ]
        },
        {
          "output_type": "stream",
          "name": "stdout",
          "text": [
            "Skipping already processed: /content/drive/MyDrive/sevenlumi_data/luminator_dataset_augmented/ak/200m/0_0_1_200m/mic4/8.wav\n",
            "Skipping already processed: /content/drive/MyDrive/sevenlumi_data/luminator_dataset_augmented/ak/200m/0_0_1_200m/mic4/7.wav\n",
            "Skipping already processed: /content/drive/MyDrive/sevenlumi_data/luminator_dataset_augmented/ak/200m/0_0_1_200m/mic4/4.wav\n",
            "Skipping already processed: /content/drive/MyDrive/sevenlumi_data/luminator_dataset_augmented/ak/200m/0_0_1_200m/mic4/14.wav\n",
            "Skipping already processed: /content/drive/MyDrive/sevenlumi_data/luminator_dataset_augmented/ak/200m/0_0_1_200m/mic4/1.wav\n",
            "Skipping already processed: /content/drive/MyDrive/sevenlumi_data/luminator_dataset_augmented/ak/200m/0_0_1_200m/mic4/3.wav\n",
            "Skipping already processed: /content/drive/MyDrive/sevenlumi_data/luminator_dataset_augmented/ak/200m/0_0_1_200m/mic4/19.wav\n",
            "Skipping already processed: /content/drive/MyDrive/sevenlumi_data/luminator_dataset_augmented/ak/200m/0_0_1_200m/mic4/15.wav\n",
            "Skipping already processed: /content/drive/MyDrive/sevenlumi_data/luminator_dataset_augmented/ak/200m/0_0_1_200m/mic4/9.wav\n",
            "Skipping already processed: /content/drive/MyDrive/sevenlumi_data/luminator_dataset_augmented/ak/200m/0_0_1_200m/mic4/16.wav\n",
            "Skipping already processed: /content/drive/MyDrive/sevenlumi_data/luminator_dataset_augmented/ak/200m/0_0_1_200m/mic4/11.wav\n"
          ]
        },
        {
          "output_type": "stream",
          "name": "stderr",
          "text": [
            "\r100%|██████████| 19/19 [00:00<00:00, 981.02it/s]\n"
          ]
        },
        {
          "output_type": "stream",
          "name": "stdout",
          "text": [
            "Skipping already processed: /content/drive/MyDrive/sevenlumi_data/luminator_dataset_augmented/ak/200m/0_0_1_200m/mic4/2.wav\n",
            "Skipping already processed: /content/drive/MyDrive/sevenlumi_data/luminator_dataset_augmented/ak/200m/0_0_1_200m/mic4/6.wav\n",
            "Skipping already processed: /content/drive/MyDrive/sevenlumi_data/luminator_dataset_augmented/ak/200m/0_0_1_200m/mic4/18.wav\n",
            "Skipping already processed: /content/drive/MyDrive/sevenlumi_data/luminator_dataset_augmented/ak/200m/0_0_1_200m/mic4/12.wav\n",
            "Skipping already processed: /content/drive/MyDrive/sevenlumi_data/luminator_dataset_augmented/ak/200m/0_0_1_200m/mic4/17.wav\n",
            "Skipping already processed: /content/drive/MyDrive/sevenlumi_data/luminator_dataset_augmented/ak/200m/0_0_1_200m/mic4/10.wav\n",
            "Skipping already processed: /content/drive/MyDrive/sevenlumi_data/luminator_dataset_augmented/ak/200m/0_0_1_200m/mic4/5.wav\n",
            "Skipping already processed: /content/drive/MyDrive/sevenlumi_data/luminator_dataset_augmented/ak/200m/0_0_1_200m/mic4/13.wav\n"
          ]
        },
        {
          "output_type": "stream",
          "name": "stderr",
          "text": [
            "0it [00:00, ?it/s]\n",
            "  0%|          | 0/20 [00:00<?, ?it/s]"
          ]
        },
        {
          "output_type": "stream",
          "name": "stdout",
          "text": [
            "Skipping already processed: /content/drive/MyDrive/sevenlumi_data/luminator_dataset_augmented/ak/200m/1_0_0_200m/mic1/7.wav\n",
            "Skipping already processed: /content/drive/MyDrive/sevenlumi_data/luminator_dataset_augmented/ak/200m/1_0_0_200m/mic1/18.wav\n",
            "Skipping already processed: /content/drive/MyDrive/sevenlumi_data/luminator_dataset_augmented/ak/200m/1_0_0_200m/mic1/12.wav\n",
            "Skipping already processed: /content/drive/MyDrive/sevenlumi_data/luminator_dataset_augmented/ak/200m/1_0_0_200m/mic1/1.wav\n",
            "Skipping already processed: /content/drive/MyDrive/sevenlumi_data/luminator_dataset_augmented/ak/200m/1_0_0_200m/mic1/5.wav\n",
            "Skipping already processed: /content/drive/MyDrive/sevenlumi_data/luminator_dataset_augmented/ak/200m/1_0_0_200m/mic1/10.wav\n",
            "Skipping already processed: /content/drive/MyDrive/sevenlumi_data/luminator_dataset_augmented/ak/200m/1_0_0_200m/mic1/20.wav\n",
            "Skipping already processed: /content/drive/MyDrive/sevenlumi_data/luminator_dataset_augmented/ak/200m/1_0_0_200m/mic1/6.wav\n",
            "Skipping already processed: /content/drive/MyDrive/sevenlumi_data/luminator_dataset_augmented/ak/200m/1_0_0_200m/mic1/3.wav\n"
          ]
        },
        {
          "output_type": "stream",
          "name": "stderr",
          "text": [
            "\r100%|██████████| 20/20 [00:00<00:00, 1182.44it/s]\n"
          ]
        },
        {
          "output_type": "stream",
          "name": "stdout",
          "text": [
            "Skipping already processed: /content/drive/MyDrive/sevenlumi_data/luminator_dataset_augmented/ak/200m/1_0_0_200m/mic1/14.wav\n",
            "Skipping already processed: /content/drive/MyDrive/sevenlumi_data/luminator_dataset_augmented/ak/200m/1_0_0_200m/mic1/19.wav\n",
            "Skipping already processed: /content/drive/MyDrive/sevenlumi_data/luminator_dataset_augmented/ak/200m/1_0_0_200m/mic1/17.wav\n",
            "Skipping already processed: /content/drive/MyDrive/sevenlumi_data/luminator_dataset_augmented/ak/200m/1_0_0_200m/mic1/8.wav\n",
            "Skipping already processed: /content/drive/MyDrive/sevenlumi_data/luminator_dataset_augmented/ak/200m/1_0_0_200m/mic1/9.wav\n",
            "Skipping already processed: /content/drive/MyDrive/sevenlumi_data/luminator_dataset_augmented/ak/200m/1_0_0_200m/mic1/4.wav\n",
            "Skipping already processed: /content/drive/MyDrive/sevenlumi_data/luminator_dataset_augmented/ak/200m/1_0_0_200m/mic1/16.wav\n",
            "Skipping already processed: /content/drive/MyDrive/sevenlumi_data/luminator_dataset_augmented/ak/200m/1_0_0_200m/mic1/11.wav\n",
            "Skipping already processed: /content/drive/MyDrive/sevenlumi_data/luminator_dataset_augmented/ak/200m/1_0_0_200m/mic1/2.wav\n",
            "Skipping already processed: /content/drive/MyDrive/sevenlumi_data/luminator_dataset_augmented/ak/200m/1_0_0_200m/mic1/15.wav\n",
            "Skipping already processed: /content/drive/MyDrive/sevenlumi_data/luminator_dataset_augmented/ak/200m/1_0_0_200m/mic1/13.wav\n"
          ]
        },
        {
          "output_type": "stream",
          "name": "stderr",
          "text": [
            "\r  0%|          | 0/20 [00:00<?, ?it/s]"
          ]
        },
        {
          "output_type": "stream",
          "name": "stdout",
          "text": [
            "Skipping already processed: /content/drive/MyDrive/sevenlumi_data/luminator_dataset_augmented/ak/200m/1_0_0_200m/mic2/7.wav\n",
            "Skipping already processed: /content/drive/MyDrive/sevenlumi_data/luminator_dataset_augmented/ak/200m/1_0_0_200m/mic2/18.wav\n",
            "Skipping already processed: /content/drive/MyDrive/sevenlumi_data/luminator_dataset_augmented/ak/200m/1_0_0_200m/mic2/12.wav\n",
            "Skipping already processed: /content/drive/MyDrive/sevenlumi_data/luminator_dataset_augmented/ak/200m/1_0_0_200m/mic2/1.wav\n",
            "Skipping already processed: /content/drive/MyDrive/sevenlumi_data/luminator_dataset_augmented/ak/200m/1_0_0_200m/mic2/5.wav\n",
            "Skipping already processed: /content/drive/MyDrive/sevenlumi_data/luminator_dataset_augmented/ak/200m/1_0_0_200m/mic2/10.wav\n",
            "Skipping already processed: /content/drive/MyDrive/sevenlumi_data/luminator_dataset_augmented/ak/200m/1_0_0_200m/mic2/20.wav\n",
            "Skipping already processed: /content/drive/MyDrive/sevenlumi_data/luminator_dataset_augmented/ak/200m/1_0_0_200m/mic2/6.wav\n",
            "Skipping already processed: /content/drive/MyDrive/sevenlumi_data/luminator_dataset_augmented/ak/200m/1_0_0_200m/mic2/3.wav\n",
            "Skipping already processed: /content/drive/MyDrive/sevenlumi_data/luminator_dataset_augmented/ak/200m/1_0_0_200m/mic2/14.wav\n",
            "Skipping already processed: /content/drive/MyDrive/sevenlumi_data/luminator_dataset_augmented/ak/200m/1_0_0_200m/mic2/19.wav\n",
            "Skipping already processed: /content/drive/MyDrive/sevenlumi_data/luminator_dataset_augmented/ak/200m/1_0_0_200m/mic2/17.wav\n",
            "Skipping already processed: /content/drive/MyDrive/sevenlumi_data/luminator_dataset_augmented/ak/200m/1_0_0_200m/mic2/8.wav\n",
            "Skipping already processed: /content/drive/MyDrive/sevenlumi_data/luminator_dataset_augmented/ak/200m/1_0_0_200m/mic2/9.wav\n",
            "Skipping already processed: /content/drive/MyDrive/sevenlumi_data/luminator_dataset_augmented/ak/200m/1_0_0_200m/mic2/4.wav\n",
            "Skipping already processed: /content/drive/MyDrive/sevenlumi_data/luminator_dataset_augmented/ak/200m/1_0_0_200m/mic2/16.wav\n",
            "Skipping already processed: /content/drive/MyDrive/sevenlumi_data/luminator_dataset_augmented/ak/200m/1_0_0_200m/mic2/11.wav\n"
          ]
        },
        {
          "output_type": "stream",
          "name": "stderr",
          "text": [
            "\r100%|██████████| 20/20 [00:00<00:00, 1254.05it/s]\n"
          ]
        },
        {
          "output_type": "stream",
          "name": "stdout",
          "text": [
            "Skipping already processed: /content/drive/MyDrive/sevenlumi_data/luminator_dataset_augmented/ak/200m/1_0_0_200m/mic2/2.wav\n",
            "Skipping already processed: /content/drive/MyDrive/sevenlumi_data/luminator_dataset_augmented/ak/200m/1_0_0_200m/mic2/15.wav\n",
            "Skipping already processed: /content/drive/MyDrive/sevenlumi_data/luminator_dataset_augmented/ak/200m/1_0_0_200m/mic2/13.wav\n"
          ]
        },
        {
          "output_type": "stream",
          "name": "stderr",
          "text": [
            "\r  0%|          | 0/20 [00:00<?, ?it/s]"
          ]
        },
        {
          "output_type": "stream",
          "name": "stdout",
          "text": [
            "Skipping already processed: /content/drive/MyDrive/sevenlumi_data/luminator_dataset_augmented/ak/200m/1_0_0_200m/mic3/7.wav\n",
            "Skipping already processed: /content/drive/MyDrive/sevenlumi_data/luminator_dataset_augmented/ak/200m/1_0_0_200m/mic3/18.wav\n",
            "Skipping already processed: /content/drive/MyDrive/sevenlumi_data/luminator_dataset_augmented/ak/200m/1_0_0_200m/mic3/12.wav\n",
            "Skipping already processed: /content/drive/MyDrive/sevenlumi_data/luminator_dataset_augmented/ak/200m/1_0_0_200m/mic3/1.wav\n",
            "Skipping already processed: /content/drive/MyDrive/sevenlumi_data/luminator_dataset_augmented/ak/200m/1_0_0_200m/mic3/5.wav\n",
            "Skipping already processed: /content/drive/MyDrive/sevenlumi_data/luminator_dataset_augmented/ak/200m/1_0_0_200m/mic3/10.wav\n",
            "Skipping already processed: /content/drive/MyDrive/sevenlumi_data/luminator_dataset_augmented/ak/200m/1_0_0_200m/mic3/20.wav\n",
            "Skipping already processed: /content/drive/MyDrive/sevenlumi_data/luminator_dataset_augmented/ak/200m/1_0_0_200m/mic3/6.wav\n",
            "Skipping already processed: /content/drive/MyDrive/sevenlumi_data/luminator_dataset_augmented/ak/200m/1_0_0_200m/mic3/3.wav\n",
            "Skipping already processed: /content/drive/MyDrive/sevenlumi_data/luminator_dataset_augmented/ak/200m/1_0_0_200m/mic3/14.wav\n",
            "Skipping already processed: /content/drive/MyDrive/sevenlumi_data/luminator_dataset_augmented/ak/200m/1_0_0_200m/mic3/19.wav\n"
          ]
        },
        {
          "output_type": "stream",
          "name": "stderr",
          "text": [
            "\r100%|██████████| 20/20 [00:00<00:00, 960.08it/s]\n"
          ]
        },
        {
          "output_type": "stream",
          "name": "stdout",
          "text": [
            "Skipping already processed: /content/drive/MyDrive/sevenlumi_data/luminator_dataset_augmented/ak/200m/1_0_0_200m/mic3/17.wav\n",
            "Skipping already processed: /content/drive/MyDrive/sevenlumi_data/luminator_dataset_augmented/ak/200m/1_0_0_200m/mic3/8.wav\n",
            "Skipping already processed: /content/drive/MyDrive/sevenlumi_data/luminator_dataset_augmented/ak/200m/1_0_0_200m/mic3/9.wav\n",
            "Skipping already processed: /content/drive/MyDrive/sevenlumi_data/luminator_dataset_augmented/ak/200m/1_0_0_200m/mic3/4.wav\n",
            "Skipping already processed: /content/drive/MyDrive/sevenlumi_data/luminator_dataset_augmented/ak/200m/1_0_0_200m/mic3/16.wav\n",
            "Skipping already processed: /content/drive/MyDrive/sevenlumi_data/luminator_dataset_augmented/ak/200m/1_0_0_200m/mic3/11.wav\n",
            "Skipping already processed: /content/drive/MyDrive/sevenlumi_data/luminator_dataset_augmented/ak/200m/1_0_0_200m/mic3/2.wav\n",
            "Skipping already processed: /content/drive/MyDrive/sevenlumi_data/luminator_dataset_augmented/ak/200m/1_0_0_200m/mic3/15.wav\n",
            "Skipping already processed: /content/drive/MyDrive/sevenlumi_data/luminator_dataset_augmented/ak/200m/1_0_0_200m/mic3/13.wav\n"
          ]
        },
        {
          "output_type": "stream",
          "name": "stderr",
          "text": [
            "\r  0%|          | 0/20 [00:00<?, ?it/s]"
          ]
        },
        {
          "output_type": "stream",
          "name": "stdout",
          "text": [
            "Skipping already processed: /content/drive/MyDrive/sevenlumi_data/luminator_dataset_augmented/ak/200m/1_0_0_200m/mic4/7.wav\n"
          ]
        },
        {
          "output_type": "stream",
          "name": "stderr",
          "text": [
            "\r100%|██████████| 20/20 [00:00<00:00, 1246.34it/s]\n"
          ]
        },
        {
          "output_type": "stream",
          "name": "stdout",
          "text": [
            "Skipping already processed: /content/drive/MyDrive/sevenlumi_data/luminator_dataset_augmented/ak/200m/1_0_0_200m/mic4/18.wav\n",
            "Skipping already processed: /content/drive/MyDrive/sevenlumi_data/luminator_dataset_augmented/ak/200m/1_0_0_200m/mic4/12.wav\n",
            "Skipping already processed: /content/drive/MyDrive/sevenlumi_data/luminator_dataset_augmented/ak/200m/1_0_0_200m/mic4/1.wav\n",
            "Skipping already processed: /content/drive/MyDrive/sevenlumi_data/luminator_dataset_augmented/ak/200m/1_0_0_200m/mic4/5.wav\n",
            "Skipping already processed: /content/drive/MyDrive/sevenlumi_data/luminator_dataset_augmented/ak/200m/1_0_0_200m/mic4/10.wav\n",
            "Skipping already processed: /content/drive/MyDrive/sevenlumi_data/luminator_dataset_augmented/ak/200m/1_0_0_200m/mic4/20.wav\n",
            "Skipping already processed: /content/drive/MyDrive/sevenlumi_data/luminator_dataset_augmented/ak/200m/1_0_0_200m/mic4/6.wav\n",
            "Skipping already processed: /content/drive/MyDrive/sevenlumi_data/luminator_dataset_augmented/ak/200m/1_0_0_200m/mic4/3.wav\n",
            "Skipping already processed: /content/drive/MyDrive/sevenlumi_data/luminator_dataset_augmented/ak/200m/1_0_0_200m/mic4/14.wav\n",
            "Skipping already processed: /content/drive/MyDrive/sevenlumi_data/luminator_dataset_augmented/ak/200m/1_0_0_200m/mic4/19.wav\n",
            "Skipping already processed: /content/drive/MyDrive/sevenlumi_data/luminator_dataset_augmented/ak/200m/1_0_0_200m/mic4/17.wav\n",
            "Skipping already processed: /content/drive/MyDrive/sevenlumi_data/luminator_dataset_augmented/ak/200m/1_0_0_200m/mic4/8.wav\n",
            "Skipping already processed: /content/drive/MyDrive/sevenlumi_data/luminator_dataset_augmented/ak/200m/1_0_0_200m/mic4/9.wav\n",
            "Skipping already processed: /content/drive/MyDrive/sevenlumi_data/luminator_dataset_augmented/ak/200m/1_0_0_200m/mic4/4.wav\n",
            "Skipping already processed: /content/drive/MyDrive/sevenlumi_data/luminator_dataset_augmented/ak/200m/1_0_0_200m/mic4/16.wav\n",
            "Skipping already processed: /content/drive/MyDrive/sevenlumi_data/luminator_dataset_augmented/ak/200m/1_0_0_200m/mic4/11.wav\n",
            "Skipping already processed: /content/drive/MyDrive/sevenlumi_data/luminator_dataset_augmented/ak/200m/1_0_0_200m/mic4/2.wav\n",
            "Skipping already processed: /content/drive/MyDrive/sevenlumi_data/luminator_dataset_augmented/ak/200m/1_0_0_200m/mic4/15.wav\n",
            "Skipping already processed: /content/drive/MyDrive/sevenlumi_data/luminator_dataset_augmented/ak/200m/1_0_0_200m/mic4/13.wav\n"
          ]
        },
        {
          "output_type": "stream",
          "name": "stderr",
          "text": [
            "0it [00:00, ?it/s]\n",
            "  0%|          | 0/17 [00:00<?, ?it/s]"
          ]
        },
        {
          "output_type": "stream",
          "name": "stdout",
          "text": [
            "Skipping already processed: /content/drive/MyDrive/sevenlumi_data/luminator_dataset_augmented/ak/200m/0_0_-1_200m/mic1/4.wav\n"
          ]
        },
        {
          "output_type": "stream",
          "name": "stderr",
          "text": [
            "\r100%|██████████| 17/17 [00:00<00:00, 832.55it/s]\n"
          ]
        },
        {
          "output_type": "stream",
          "name": "stdout",
          "text": [
            "Skipping already processed: /content/drive/MyDrive/sevenlumi_data/luminator_dataset_augmented/ak/200m/0_0_-1_200m/mic1/12.wav\n",
            "Skipping already processed: /content/drive/MyDrive/sevenlumi_data/luminator_dataset_augmented/ak/200m/0_0_-1_200m/mic1/2.wav\n",
            "Skipping already processed: /content/drive/MyDrive/sevenlumi_data/luminator_dataset_augmented/ak/200m/0_0_-1_200m/mic1/8.wav\n",
            "Skipping already processed: /content/drive/MyDrive/sevenlumi_data/luminator_dataset_augmented/ak/200m/0_0_-1_200m/mic1/13.wav\n",
            "Skipping already processed: /content/drive/MyDrive/sevenlumi_data/luminator_dataset_augmented/ak/200m/0_0_-1_200m/mic1/5.wav\n",
            "Skipping already processed: /content/drive/MyDrive/sevenlumi_data/luminator_dataset_augmented/ak/200m/0_0_-1_200m/mic1/7.wav\n",
            "Skipping already processed: /content/drive/MyDrive/sevenlumi_data/luminator_dataset_augmented/ak/200m/0_0_-1_200m/mic1/1.wav\n",
            "Skipping already processed: /content/drive/MyDrive/sevenlumi_data/luminator_dataset_augmented/ak/200m/0_0_-1_200m/mic1/15.wav\n",
            "Skipping already processed: /content/drive/MyDrive/sevenlumi_data/luminator_dataset_augmented/ak/200m/0_0_-1_200m/mic1/3.wav\n",
            "Skipping already processed: /content/drive/MyDrive/sevenlumi_data/luminator_dataset_augmented/ak/200m/0_0_-1_200m/mic1/10.wav\n",
            "Skipping already processed: /content/drive/MyDrive/sevenlumi_data/luminator_dataset_augmented/ak/200m/0_0_-1_200m/mic1/11.wav\n",
            "Skipping already processed: /content/drive/MyDrive/sevenlumi_data/luminator_dataset_augmented/ak/200m/0_0_-1_200m/mic1/6.wav\n",
            "Skipping already processed: /content/drive/MyDrive/sevenlumi_data/luminator_dataset_augmented/ak/200m/0_0_-1_200m/mic1/9.wav\n",
            "Skipping already processed: /content/drive/MyDrive/sevenlumi_data/luminator_dataset_augmented/ak/200m/0_0_-1_200m/mic1/14.wav\n",
            "Skipping already processed: /content/drive/MyDrive/sevenlumi_data/luminator_dataset_augmented/ak/200m/0_0_-1_200m/mic1/16.wav\n",
            "Skipping already processed: /content/drive/MyDrive/sevenlumi_data/luminator_dataset_augmented/ak/200m/0_0_-1_200m/mic1/17.wav\n"
          ]
        },
        {
          "output_type": "stream",
          "name": "stderr",
          "text": [
            "\r  0%|          | 0/17 [00:00<?, ?it/s]"
          ]
        },
        {
          "output_type": "stream",
          "name": "stdout",
          "text": [
            "Skipping already processed: /content/drive/MyDrive/sevenlumi_data/luminator_dataset_augmented/ak/200m/0_0_-1_200m/mic2/4.wav\n",
            "Skipping already processed: /content/drive/MyDrive/sevenlumi_data/luminator_dataset_augmented/ak/200m/0_0_-1_200m/mic2/12.wav\n",
            "Skipping already processed: /content/drive/MyDrive/sevenlumi_data/luminator_dataset_augmented/ak/200m/0_0_-1_200m/mic2/2.wav\n"
          ]
        },
        {
          "output_type": "stream",
          "name": "stderr",
          "text": [
            "\r100%|██████████| 17/17 [00:00<00:00, 901.81it/s]\n"
          ]
        },
        {
          "output_type": "stream",
          "name": "stdout",
          "text": [
            "Skipping already processed: /content/drive/MyDrive/sevenlumi_data/luminator_dataset_augmented/ak/200m/0_0_-1_200m/mic2/8.wav\n",
            "Skipping already processed: /content/drive/MyDrive/sevenlumi_data/luminator_dataset_augmented/ak/200m/0_0_-1_200m/mic2/13.wav\n",
            "Skipping already processed: /content/drive/MyDrive/sevenlumi_data/luminator_dataset_augmented/ak/200m/0_0_-1_200m/mic2/5.wav\n",
            "Skipping already processed: /content/drive/MyDrive/sevenlumi_data/luminator_dataset_augmented/ak/200m/0_0_-1_200m/mic2/7.wav\n",
            "Skipping already processed: /content/drive/MyDrive/sevenlumi_data/luminator_dataset_augmented/ak/200m/0_0_-1_200m/mic2/1.wav\n",
            "Skipping already processed: /content/drive/MyDrive/sevenlumi_data/luminator_dataset_augmented/ak/200m/0_0_-1_200m/mic2/15.wav\n",
            "Skipping already processed: /content/drive/MyDrive/sevenlumi_data/luminator_dataset_augmented/ak/200m/0_0_-1_200m/mic2/3.wav\n",
            "Skipping already processed: /content/drive/MyDrive/sevenlumi_data/luminator_dataset_augmented/ak/200m/0_0_-1_200m/mic2/10.wav\n",
            "Skipping already processed: /content/drive/MyDrive/sevenlumi_data/luminator_dataset_augmented/ak/200m/0_0_-1_200m/mic2/11.wav\n",
            "Skipping already processed: /content/drive/MyDrive/sevenlumi_data/luminator_dataset_augmented/ak/200m/0_0_-1_200m/mic2/6.wav\n",
            "Skipping already processed: /content/drive/MyDrive/sevenlumi_data/luminator_dataset_augmented/ak/200m/0_0_-1_200m/mic2/9.wav\n",
            "Skipping already processed: /content/drive/MyDrive/sevenlumi_data/luminator_dataset_augmented/ak/200m/0_0_-1_200m/mic2/14.wav\n",
            "Skipping already processed: /content/drive/MyDrive/sevenlumi_data/luminator_dataset_augmented/ak/200m/0_0_-1_200m/mic2/16.wav\n",
            "Skipping already processed: /content/drive/MyDrive/sevenlumi_data/luminator_dataset_augmented/ak/200m/0_0_-1_200m/mic2/17.wav\n"
          ]
        },
        {
          "output_type": "stream",
          "name": "stderr",
          "text": [
            "100%|██████████| 17/17 [00:00<00:00, 984.06it/s]"
          ]
        },
        {
          "output_type": "stream",
          "name": "stdout",
          "text": [
            "Skipping already processed: /content/drive/MyDrive/sevenlumi_data/luminator_dataset_augmented/ak/200m/0_0_-1_200m/mic3/4.wav\n",
            "Skipping already processed: /content/drive/MyDrive/sevenlumi_data/luminator_dataset_augmented/ak/200m/0_0_-1_200m/mic3/12.wav\n",
            "Skipping already processed: /content/drive/MyDrive/sevenlumi_data/luminator_dataset_augmented/ak/200m/0_0_-1_200m/mic3/2.wav\n",
            "Skipping already processed: /content/drive/MyDrive/sevenlumi_data/luminator_dataset_augmented/ak/200m/0_0_-1_200m/mic3/8.wav\n",
            "Skipping already processed: /content/drive/MyDrive/sevenlumi_data/luminator_dataset_augmented/ak/200m/0_0_-1_200m/mic3/13.wav\n",
            "Skipping already processed: /content/drive/MyDrive/sevenlumi_data/luminator_dataset_augmented/ak/200m/0_0_-1_200m/mic3/5.wav\n",
            "Skipping already processed: /content/drive/MyDrive/sevenlumi_data/luminator_dataset_augmented/ak/200m/0_0_-1_200m/mic3/7.wav\n",
            "Skipping already processed: /content/drive/MyDrive/sevenlumi_data/luminator_dataset_augmented/ak/200m/0_0_-1_200m/mic3/1.wav\n",
            "Skipping already processed: /content/drive/MyDrive/sevenlumi_data/luminator_dataset_augmented/ak/200m/0_0_-1_200m/mic3/15.wav\n",
            "Skipping already processed: /content/drive/MyDrive/sevenlumi_data/luminator_dataset_augmented/ak/200m/0_0_-1_200m/mic3/3.wav\n",
            "Skipping already processed: /content/drive/MyDrive/sevenlumi_data/luminator_dataset_augmented/ak/200m/0_0_-1_200m/mic3/10.wav\n",
            "Skipping already processed: /content/drive/MyDrive/sevenlumi_data/luminator_dataset_augmented/ak/200m/0_0_-1_200m/mic3/11.wav\n",
            "Skipping already processed: /content/drive/MyDrive/sevenlumi_data/luminator_dataset_augmented/ak/200m/0_0_-1_200m/mic3/6.wav\n",
            "Skipping already processed: /content/drive/MyDrive/sevenlumi_data/luminator_dataset_augmented/ak/200m/0_0_-1_200m/mic3/9.wav\n",
            "Skipping already processed: /content/drive/MyDrive/sevenlumi_data/luminator_dataset_augmented/ak/200m/0_0_-1_200m/mic3/14.wav\n",
            "Skipping already processed: /content/drive/MyDrive/sevenlumi_data/luminator_dataset_augmented/ak/200m/0_0_-1_200m/mic3/16.wav\n",
            "Skipping already processed: /content/drive/MyDrive/sevenlumi_data/luminator_dataset_augmented/ak/200m/0_0_-1_200m/mic3/17.wav\n"
          ]
        },
        {
          "output_type": "stream",
          "name": "stderr",
          "text": [
            "\n",
            "  0%|          | 0/17 [00:00<?, ?it/s]"
          ]
        },
        {
          "output_type": "stream",
          "name": "stdout",
          "text": [
            "Skipping already processed: /content/drive/MyDrive/sevenlumi_data/luminator_dataset_augmented/ak/200m/0_0_-1_200m/mic4/4.wav\n",
            "Skipping already processed: /content/drive/MyDrive/sevenlumi_data/luminator_dataset_augmented/ak/200m/0_0_-1_200m/mic4/12.wav\n",
            "Skipping already processed: /content/drive/MyDrive/sevenlumi_data/luminator_dataset_augmented/ak/200m/0_0_-1_200m/mic4/2.wav\n",
            "Skipping already processed: /content/drive/MyDrive/sevenlumi_data/luminator_dataset_augmented/ak/200m/0_0_-1_200m/mic4/8.wav\n",
            "Skipping already processed: /content/drive/MyDrive/sevenlumi_data/luminator_dataset_augmented/ak/200m/0_0_-1_200m/mic4/13.wav\n",
            "Skipping already processed: /content/drive/MyDrive/sevenlumi_data/luminator_dataset_augmented/ak/200m/0_0_-1_200m/mic4/5.wav\n",
            "Skipping already processed: /content/drive/MyDrive/sevenlumi_data/luminator_dataset_augmented/ak/200m/0_0_-1_200m/mic4/7.wav\n",
            "Skipping already processed: /content/drive/MyDrive/sevenlumi_data/luminator_dataset_augmented/ak/200m/0_0_-1_200m/mic4/1.wav\n"
          ]
        },
        {
          "output_type": "stream",
          "name": "stderr",
          "text": [
            "\r100%|██████████| 17/17 [00:00<00:00, 1008.17it/s]\n"
          ]
        },
        {
          "output_type": "stream",
          "name": "stdout",
          "text": [
            "Skipping already processed: /content/drive/MyDrive/sevenlumi_data/luminator_dataset_augmented/ak/200m/0_0_-1_200m/mic4/15.wav\n",
            "Skipping already processed: /content/drive/MyDrive/sevenlumi_data/luminator_dataset_augmented/ak/200m/0_0_-1_200m/mic4/3.wav\n",
            "Skipping already processed: /content/drive/MyDrive/sevenlumi_data/luminator_dataset_augmented/ak/200m/0_0_-1_200m/mic4/10.wav\n",
            "Skipping already processed: /content/drive/MyDrive/sevenlumi_data/luminator_dataset_augmented/ak/200m/0_0_-1_200m/mic4/11.wav\n",
            "Skipping already processed: /content/drive/MyDrive/sevenlumi_data/luminator_dataset_augmented/ak/200m/0_0_-1_200m/mic4/6.wav\n",
            "Skipping already processed: /content/drive/MyDrive/sevenlumi_data/luminator_dataset_augmented/ak/200m/0_0_-1_200m/mic4/9.wav\n",
            "Skipping already processed: /content/drive/MyDrive/sevenlumi_data/luminator_dataset_augmented/ak/200m/0_0_-1_200m/mic4/14.wav\n",
            "Skipping already processed: /content/drive/MyDrive/sevenlumi_data/luminator_dataset_augmented/ak/200m/0_0_-1_200m/mic4/16.wav\n",
            "Skipping already processed: /content/drive/MyDrive/sevenlumi_data/luminator_dataset_augmented/ak/200m/0_0_-1_200m/mic4/17.wav\n"
          ]
        },
        {
          "output_type": "stream",
          "name": "stderr",
          "text": [
            "0it [00:00, ?it/s]\n",
            "0it [00:00, ?it/s]\n",
            "  0%|          | 0/21 [00:00<?, ?it/s]"
          ]
        },
        {
          "output_type": "stream",
          "name": "stdout",
          "text": [
            "Skipping already processed: /content/drive/MyDrive/sevenlumi_data/luminator_dataset_augmented/ak/400m/1_0_0_400m/mic1/3.wav\n",
            "Skipping already processed: /content/drive/MyDrive/sevenlumi_data/luminator_dataset_augmented/ak/400m/1_0_0_400m/mic1/1.wav\n",
            "Skipping already processed: /content/drive/MyDrive/sevenlumi_data/luminator_dataset_augmented/ak/400m/1_0_0_400m/mic1/4.wav\n",
            "Skipping already processed: /content/drive/MyDrive/sevenlumi_data/luminator_dataset_augmented/ak/400m/1_0_0_400m/mic1/2.wav\n",
            "Skipping already processed: /content/drive/MyDrive/sevenlumi_data/luminator_dataset_augmented/ak/400m/1_0_0_400m/mic1/18.wav\n",
            "Skipping already processed: /content/drive/MyDrive/sevenlumi_data/luminator_dataset_augmented/ak/400m/1_0_0_400m/mic1/19.wav\n",
            "Skipping already processed: /content/drive/MyDrive/sevenlumi_data/luminator_dataset_augmented/ak/400m/1_0_0_400m/mic1/13.wav\n",
            "Skipping already processed: /content/drive/MyDrive/sevenlumi_data/luminator_dataset_augmented/ak/400m/1_0_0_400m/mic1/7.wav\n",
            "Skipping already processed: /content/drive/MyDrive/sevenlumi_data/luminator_dataset_augmented/ak/400m/1_0_0_400m/mic1/12.wav\n",
            "Skipping already processed: /content/drive/MyDrive/sevenlumi_data/luminator_dataset_augmented/ak/400m/1_0_0_400m/mic1/5.wav\n",
            "Skipping already processed: /content/drive/MyDrive/sevenlumi_data/luminator_dataset_augmented/ak/400m/1_0_0_400m/mic1/16.wav\n",
            "Skipping already processed: /content/drive/MyDrive/sevenlumi_data/luminator_dataset_augmented/ak/400m/1_0_0_400m/mic1/8.wav\n",
            "Skipping already processed: /content/drive/MyDrive/sevenlumi_data/luminator_dataset_augmented/ak/400m/1_0_0_400m/mic1/11.wav\n",
            "Skipping already processed: /content/drive/MyDrive/sevenlumi_data/luminator_dataset_augmented/ak/400m/1_0_0_400m/mic1/14.wav\n"
          ]
        },
        {
          "output_type": "stream",
          "name": "stderr",
          "text": [
            "\r100%|██████████| 21/21 [00:00<00:00, 1001.41it/s]\n"
          ]
        },
        {
          "output_type": "stream",
          "name": "stdout",
          "text": [
            "Skipping already processed: /content/drive/MyDrive/sevenlumi_data/luminator_dataset_augmented/ak/400m/1_0_0_400m/mic1/20.wav\n",
            "Skipping already processed: /content/drive/MyDrive/sevenlumi_data/luminator_dataset_augmented/ak/400m/1_0_0_400m/mic1/6.wav\n",
            "Skipping already processed: /content/drive/MyDrive/sevenlumi_data/luminator_dataset_augmented/ak/400m/1_0_0_400m/mic1/21.wav\n",
            "Skipping already processed: /content/drive/MyDrive/sevenlumi_data/luminator_dataset_augmented/ak/400m/1_0_0_400m/mic1/9.wav\n",
            "Skipping already processed: /content/drive/MyDrive/sevenlumi_data/luminator_dataset_augmented/ak/400m/1_0_0_400m/mic1/17.wav\n",
            "Skipping already processed: /content/drive/MyDrive/sevenlumi_data/luminator_dataset_augmented/ak/400m/1_0_0_400m/mic1/10.wav\n",
            "Skipping already processed: /content/drive/MyDrive/sevenlumi_data/luminator_dataset_augmented/ak/400m/1_0_0_400m/mic1/15.wav\n"
          ]
        },
        {
          "output_type": "stream",
          "name": "stderr",
          "text": [
            "\r  0%|          | 0/21 [00:00<?, ?it/s]"
          ]
        },
        {
          "output_type": "stream",
          "name": "stdout",
          "text": [
            "Skipping already processed: /content/drive/MyDrive/sevenlumi_data/luminator_dataset_augmented/ak/400m/1_0_0_400m/mic2/3.wav\n",
            "Skipping already processed: /content/drive/MyDrive/sevenlumi_data/luminator_dataset_augmented/ak/400m/1_0_0_400m/mic2/1.wav\n",
            "Skipping already processed: /content/drive/MyDrive/sevenlumi_data/luminator_dataset_augmented/ak/400m/1_0_0_400m/mic2/4.wav\n",
            "Skipping already processed: /content/drive/MyDrive/sevenlumi_data/luminator_dataset_augmented/ak/400m/1_0_0_400m/mic2/2.wav\n",
            "Skipping already processed: /content/drive/MyDrive/sevenlumi_data/luminator_dataset_augmented/ak/400m/1_0_0_400m/mic2/18.wav\n",
            "Skipping already processed: /content/drive/MyDrive/sevenlumi_data/luminator_dataset_augmented/ak/400m/1_0_0_400m/mic2/19.wav\n",
            "Skipping already processed: /content/drive/MyDrive/sevenlumi_data/luminator_dataset_augmented/ak/400m/1_0_0_400m/mic2/13.wav\n",
            "Skipping already processed: /content/drive/MyDrive/sevenlumi_data/luminator_dataset_augmented/ak/400m/1_0_0_400m/mic2/7.wav\n",
            "Skipping already processed: /content/drive/MyDrive/sevenlumi_data/luminator_dataset_augmented/ak/400m/1_0_0_400m/mic2/12.wav\n",
            "Skipping already processed: /content/drive/MyDrive/sevenlumi_data/luminator_dataset_augmented/ak/400m/1_0_0_400m/mic2/5.wav\n",
            "Skipping already processed: /content/drive/MyDrive/sevenlumi_data/luminator_dataset_augmented/ak/400m/1_0_0_400m/mic2/16.wav\n",
            "Skipping already processed: /content/drive/MyDrive/sevenlumi_data/luminator_dataset_augmented/ak/400m/1_0_0_400m/mic2/8.wav\n",
            "Skipping already processed: /content/drive/MyDrive/sevenlumi_data/luminator_dataset_augmented/ak/400m/1_0_0_400m/mic2/11.wav\n",
            "Skipping already processed: /content/drive/MyDrive/sevenlumi_data/luminator_dataset_augmented/ak/400m/1_0_0_400m/mic2/14.wav\n",
            "Skipping already processed: /content/drive/MyDrive/sevenlumi_data/luminator_dataset_augmented/ak/400m/1_0_0_400m/mic2/20.wav\n",
            "Skipping already processed: /content/drive/MyDrive/sevenlumi_data/luminator_dataset_augmented/ak/400m/1_0_0_400m/mic2/6.wav\n",
            "Skipping already processed: /content/drive/MyDrive/sevenlumi_data/luminator_dataset_augmented/ak/400m/1_0_0_400m/mic2/21.wav\n",
            "Skipping already processed: /content/drive/MyDrive/sevenlumi_data/luminator_dataset_augmented/ak/400m/1_0_0_400m/mic2/9.wav\n",
            "Skipping already processed: /content/drive/MyDrive/sevenlumi_data/luminator_dataset_augmented/ak/400m/1_0_0_400m/mic2/17.wav\n"
          ]
        },
        {
          "output_type": "stream",
          "name": "stderr",
          "text": [
            "\r100%|██████████| 21/21 [00:00<00:00, 924.87it/s]\n"
          ]
        },
        {
          "output_type": "stream",
          "name": "stdout",
          "text": [
            "Skipping already processed: /content/drive/MyDrive/sevenlumi_data/luminator_dataset_augmented/ak/400m/1_0_0_400m/mic2/10.wav\n",
            "Skipping already processed: /content/drive/MyDrive/sevenlumi_data/luminator_dataset_augmented/ak/400m/1_0_0_400m/mic2/15.wav\n"
          ]
        },
        {
          "output_type": "stream",
          "name": "stderr",
          "text": [
            "\r  0%|          | 0/21 [00:00<?, ?it/s]"
          ]
        },
        {
          "output_type": "stream",
          "name": "stdout",
          "text": [
            "Skipping already processed: /content/drive/MyDrive/sevenlumi_data/luminator_dataset_augmented/ak/400m/1_0_0_400m/mic3/3.wav\n",
            "Skipping already processed: /content/drive/MyDrive/sevenlumi_data/luminator_dataset_augmented/ak/400m/1_0_0_400m/mic3/1.wav\n",
            "Skipping already processed: /content/drive/MyDrive/sevenlumi_data/luminator_dataset_augmented/ak/400m/1_0_0_400m/mic3/4.wav\n",
            "Skipping already processed: /content/drive/MyDrive/sevenlumi_data/luminator_dataset_augmented/ak/400m/1_0_0_400m/mic3/2.wav\n"
          ]
        },
        {
          "output_type": "stream",
          "name": "stderr",
          "text": [
            "\r100%|██████████| 21/21 [00:00<00:00, 1032.92it/s]\n"
          ]
        },
        {
          "output_type": "stream",
          "name": "stdout",
          "text": [
            "Skipping already processed: /content/drive/MyDrive/sevenlumi_data/luminator_dataset_augmented/ak/400m/1_0_0_400m/mic3/18.wav\n",
            "Skipping already processed: /content/drive/MyDrive/sevenlumi_data/luminator_dataset_augmented/ak/400m/1_0_0_400m/mic3/19.wav\n",
            "Skipping already processed: /content/drive/MyDrive/sevenlumi_data/luminator_dataset_augmented/ak/400m/1_0_0_400m/mic3/13.wav\n",
            "Skipping already processed: /content/drive/MyDrive/sevenlumi_data/luminator_dataset_augmented/ak/400m/1_0_0_400m/mic3/7.wav\n",
            "Skipping already processed: /content/drive/MyDrive/sevenlumi_data/luminator_dataset_augmented/ak/400m/1_0_0_400m/mic3/12.wav\n",
            "Skipping already processed: /content/drive/MyDrive/sevenlumi_data/luminator_dataset_augmented/ak/400m/1_0_0_400m/mic3/5.wav\n",
            "Skipping already processed: /content/drive/MyDrive/sevenlumi_data/luminator_dataset_augmented/ak/400m/1_0_0_400m/mic3/16.wav\n",
            "Skipping already processed: /content/drive/MyDrive/sevenlumi_data/luminator_dataset_augmented/ak/400m/1_0_0_400m/mic3/8.wav\n",
            "Skipping already processed: /content/drive/MyDrive/sevenlumi_data/luminator_dataset_augmented/ak/400m/1_0_0_400m/mic3/11.wav\n",
            "Skipping already processed: /content/drive/MyDrive/sevenlumi_data/luminator_dataset_augmented/ak/400m/1_0_0_400m/mic3/14.wav\n",
            "Skipping already processed: /content/drive/MyDrive/sevenlumi_data/luminator_dataset_augmented/ak/400m/1_0_0_400m/mic3/20.wav\n",
            "Skipping already processed: /content/drive/MyDrive/sevenlumi_data/luminator_dataset_augmented/ak/400m/1_0_0_400m/mic3/6.wav\n",
            "Skipping already processed: /content/drive/MyDrive/sevenlumi_data/luminator_dataset_augmented/ak/400m/1_0_0_400m/mic3/21.wav\n",
            "Skipping already processed: /content/drive/MyDrive/sevenlumi_data/luminator_dataset_augmented/ak/400m/1_0_0_400m/mic3/9.wav\n",
            "Skipping already processed: /content/drive/MyDrive/sevenlumi_data/luminator_dataset_augmented/ak/400m/1_0_0_400m/mic3/17.wav\n",
            "Skipping already processed: /content/drive/MyDrive/sevenlumi_data/luminator_dataset_augmented/ak/400m/1_0_0_400m/mic3/10.wav\n",
            "Skipping already processed: /content/drive/MyDrive/sevenlumi_data/luminator_dataset_augmented/ak/400m/1_0_0_400m/mic3/15.wav\n"
          ]
        },
        {
          "output_type": "stream",
          "name": "stderr",
          "text": [
            "\r  0%|          | 0/21 [00:00<?, ?it/s]"
          ]
        },
        {
          "output_type": "stream",
          "name": "stdout",
          "text": [
            "Skipping already processed: /content/drive/MyDrive/sevenlumi_data/luminator_dataset_augmented/ak/400m/1_0_0_400m/mic4/3.wav\n",
            "Skipping already processed: /content/drive/MyDrive/sevenlumi_data/luminator_dataset_augmented/ak/400m/1_0_0_400m/mic4/1.wav\n",
            "Skipping already processed: /content/drive/MyDrive/sevenlumi_data/luminator_dataset_augmented/ak/400m/1_0_0_400m/mic4/4.wav\n",
            "Skipping already processed: /content/drive/MyDrive/sevenlumi_data/luminator_dataset_augmented/ak/400m/1_0_0_400m/mic4/2.wav\n",
            "Skipping already processed: /content/drive/MyDrive/sevenlumi_data/luminator_dataset_augmented/ak/400m/1_0_0_400m/mic4/18.wav\n",
            "Skipping already processed: /content/drive/MyDrive/sevenlumi_data/luminator_dataset_augmented/ak/400m/1_0_0_400m/mic4/19.wav\n",
            "Skipping already processed: /content/drive/MyDrive/sevenlumi_data/luminator_dataset_augmented/ak/400m/1_0_0_400m/mic4/13.wav\n",
            "Skipping already processed: /content/drive/MyDrive/sevenlumi_data/luminator_dataset_augmented/ak/400m/1_0_0_400m/mic4/7.wav\n",
            "Skipping already processed: /content/drive/MyDrive/sevenlumi_data/luminator_dataset_augmented/ak/400m/1_0_0_400m/mic4/12.wav\n",
            "Skipping already processed: /content/drive/MyDrive/sevenlumi_data/luminator_dataset_augmented/ak/400m/1_0_0_400m/mic4/5.wav\n",
            "Skipping already processed: /content/drive/MyDrive/sevenlumi_data/luminator_dataset_augmented/ak/400m/1_0_0_400m/mic4/16.wav\n",
            "Skipping already processed: /content/drive/MyDrive/sevenlumi_data/luminator_dataset_augmented/ak/400m/1_0_0_400m/mic4/8.wav\n"
          ]
        },
        {
          "output_type": "stream",
          "name": "stderr",
          "text": [
            "\r100%|██████████| 21/21 [00:00<00:00, 1125.69it/s]\n"
          ]
        },
        {
          "output_type": "stream",
          "name": "stdout",
          "text": [
            "Skipping already processed: /content/drive/MyDrive/sevenlumi_data/luminator_dataset_augmented/ak/400m/1_0_0_400m/mic4/11.wav\n",
            "Skipping already processed: /content/drive/MyDrive/sevenlumi_data/luminator_dataset_augmented/ak/400m/1_0_0_400m/mic4/14.wav\n",
            "Skipping already processed: /content/drive/MyDrive/sevenlumi_data/luminator_dataset_augmented/ak/400m/1_0_0_400m/mic4/20.wav\n",
            "Skipping already processed: /content/drive/MyDrive/sevenlumi_data/luminator_dataset_augmented/ak/400m/1_0_0_400m/mic4/6.wav\n",
            "Skipping already processed: /content/drive/MyDrive/sevenlumi_data/luminator_dataset_augmented/ak/400m/1_0_0_400m/mic4/21.wav\n",
            "Skipping already processed: /content/drive/MyDrive/sevenlumi_data/luminator_dataset_augmented/ak/400m/1_0_0_400m/mic4/9.wav\n",
            "Skipping already processed: /content/drive/MyDrive/sevenlumi_data/luminator_dataset_augmented/ak/400m/1_0_0_400m/mic4/17.wav\n",
            "Skipping already processed: /content/drive/MyDrive/sevenlumi_data/luminator_dataset_augmented/ak/400m/1_0_0_400m/mic4/10.wav\n",
            "Skipping already processed: /content/drive/MyDrive/sevenlumi_data/luminator_dataset_augmented/ak/400m/1_0_0_400m/mic4/15.wav\n"
          ]
        },
        {
          "output_type": "stream",
          "name": "stderr",
          "text": [
            "0it [00:00, ?it/s]\n",
            "  0%|          | 0/21 [00:00<?, ?it/s]"
          ]
        },
        {
          "output_type": "stream",
          "name": "stdout",
          "text": [
            "Skipping already processed: /content/drive/MyDrive/sevenlumi_data/luminator_dataset_augmented/ak/400m/0_0_-1_400m/mic1/1.wav\n",
            "Skipping already processed: /content/drive/MyDrive/sevenlumi_data/luminator_dataset_augmented/ak/400m/0_0_-1_400m/mic1/2.wav\n",
            "Skipping already processed: /content/drive/MyDrive/sevenlumi_data/luminator_dataset_augmented/ak/400m/0_0_-1_400m/mic1/18.wav\n",
            "Skipping already processed: /content/drive/MyDrive/sevenlumi_data/luminator_dataset_augmented/ak/400m/0_0_-1_400m/mic1/4.wav\n",
            "Skipping already processed: /content/drive/MyDrive/sevenlumi_data/luminator_dataset_augmented/ak/400m/0_0_-1_400m/mic1/13.wav\n",
            "Skipping already processed: /content/drive/MyDrive/sevenlumi_data/luminator_dataset_augmented/ak/400m/0_0_-1_400m/mic1/7.wav\n"
          ]
        },
        {
          "output_type": "stream",
          "name": "stderr",
          "text": [
            "\r100%|██████████| 21/21 [00:00<00:00, 952.82it/s]\n"
          ]
        },
        {
          "output_type": "stream",
          "name": "stdout",
          "text": [
            "Skipping already processed: /content/drive/MyDrive/sevenlumi_data/luminator_dataset_augmented/ak/400m/0_0_-1_400m/mic1/14.wav\n",
            "Skipping already processed: /content/drive/MyDrive/sevenlumi_data/luminator_dataset_augmented/ak/400m/0_0_-1_400m/mic1/5.wav\n",
            "Skipping already processed: /content/drive/MyDrive/sevenlumi_data/luminator_dataset_augmented/ak/400m/0_0_-1_400m/mic1/6.wav\n",
            "Skipping already processed: /content/drive/MyDrive/sevenlumi_data/luminator_dataset_augmented/ak/400m/0_0_-1_400m/mic1/3.wav\n",
            "Skipping already processed: /content/drive/MyDrive/sevenlumi_data/luminator_dataset_augmented/ak/400m/0_0_-1_400m/mic1/12.wav\n",
            "Skipping already processed: /content/drive/MyDrive/sevenlumi_data/luminator_dataset_augmented/ak/400m/0_0_-1_400m/mic1/11.wav\n",
            "Skipping already processed: /content/drive/MyDrive/sevenlumi_data/luminator_dataset_augmented/ak/400m/0_0_-1_400m/mic1/21.wav\n",
            "Skipping already processed: /content/drive/MyDrive/sevenlumi_data/luminator_dataset_augmented/ak/400m/0_0_-1_400m/mic1/17.wav\n",
            "Skipping already processed: /content/drive/MyDrive/sevenlumi_data/luminator_dataset_augmented/ak/400m/0_0_-1_400m/mic1/15.wav\n",
            "Skipping already processed: /content/drive/MyDrive/sevenlumi_data/luminator_dataset_augmented/ak/400m/0_0_-1_400m/mic1/20.wav\n",
            "Skipping already processed: /content/drive/MyDrive/sevenlumi_data/luminator_dataset_augmented/ak/400m/0_0_-1_400m/mic1/9.wav\n",
            "Skipping already processed: /content/drive/MyDrive/sevenlumi_data/luminator_dataset_augmented/ak/400m/0_0_-1_400m/mic1/10.wav\n",
            "Skipping already processed: /content/drive/MyDrive/sevenlumi_data/luminator_dataset_augmented/ak/400m/0_0_-1_400m/mic1/19.wav\n",
            "Skipping already processed: /content/drive/MyDrive/sevenlumi_data/luminator_dataset_augmented/ak/400m/0_0_-1_400m/mic1/8.wav\n",
            "Skipping already processed: /content/drive/MyDrive/sevenlumi_data/luminator_dataset_augmented/ak/400m/0_0_-1_400m/mic1/16.wav\n"
          ]
        },
        {
          "output_type": "stream",
          "name": "stderr",
          "text": [
            "\r  0%|          | 0/21 [00:00<?, ?it/s]"
          ]
        },
        {
          "output_type": "stream",
          "name": "stdout",
          "text": [
            "Skipping already processed: /content/drive/MyDrive/sevenlumi_data/luminator_dataset_augmented/ak/400m/0_0_-1_400m/mic2/1.wav\n"
          ]
        },
        {
          "output_type": "stream",
          "name": "stderr",
          "text": [
            "\r100%|██████████| 21/21 [00:00<00:00, 824.89it/s]"
          ]
        },
        {
          "output_type": "stream",
          "name": "stdout",
          "text": [
            "Skipping already processed: /content/drive/MyDrive/sevenlumi_data/luminator_dataset_augmented/ak/400m/0_0_-1_400m/mic2/2.wav\n",
            "Skipping already processed: /content/drive/MyDrive/sevenlumi_data/luminator_dataset_augmented/ak/400m/0_0_-1_400m/mic2/18.wav\n",
            "Skipping already processed: /content/drive/MyDrive/sevenlumi_data/luminator_dataset_augmented/ak/400m/0_0_-1_400m/mic2/4.wav\n",
            "Skipping already processed: /content/drive/MyDrive/sevenlumi_data/luminator_dataset_augmented/ak/400m/0_0_-1_400m/mic2/13.wav\n",
            "Skipping already processed: /content/drive/MyDrive/sevenlumi_data/luminator_dataset_augmented/ak/400m/0_0_-1_400m/mic2/7.wav\n",
            "Skipping already processed: /content/drive/MyDrive/sevenlumi_data/luminator_dataset_augmented/ak/400m/0_0_-1_400m/mic2/14.wav\n",
            "Skipping already processed: /content/drive/MyDrive/sevenlumi_data/luminator_dataset_augmented/ak/400m/0_0_-1_400m/mic2/5.wav\n",
            "Skipping already processed: /content/drive/MyDrive/sevenlumi_data/luminator_dataset_augmented/ak/400m/0_0_-1_400m/mic2/6.wav\n",
            "Skipping already processed: /content/drive/MyDrive/sevenlumi_data/luminator_dataset_augmented/ak/400m/0_0_-1_400m/mic2/3.wav\n",
            "Skipping already processed: /content/drive/MyDrive/sevenlumi_data/luminator_dataset_augmented/ak/400m/0_0_-1_400m/mic2/12.wav\n",
            "Skipping already processed: /content/drive/MyDrive/sevenlumi_data/luminator_dataset_augmented/ak/400m/0_0_-1_400m/mic2/11.wav\n",
            "Skipping already processed: /content/drive/MyDrive/sevenlumi_data/luminator_dataset_augmented/ak/400m/0_0_-1_400m/mic2/21.wav\n",
            "Skipping already processed: /content/drive/MyDrive/sevenlumi_data/luminator_dataset_augmented/ak/400m/0_0_-1_400m/mic2/17.wav\n",
            "Skipping already processed: /content/drive/MyDrive/sevenlumi_data/luminator_dataset_augmented/ak/400m/0_0_-1_400m/mic2/15.wav\n",
            "Skipping already processed: /content/drive/MyDrive/sevenlumi_data/luminator_dataset_augmented/ak/400m/0_0_-1_400m/mic2/20.wav\n",
            "Skipping already processed: /content/drive/MyDrive/sevenlumi_data/luminator_dataset_augmented/ak/400m/0_0_-1_400m/mic2/9.wav\n",
            "Skipping already processed: /content/drive/MyDrive/sevenlumi_data/luminator_dataset_augmented/ak/400m/0_0_-1_400m/mic2/10.wav\n",
            "Skipping already processed: /content/drive/MyDrive/sevenlumi_data/luminator_dataset_augmented/ak/400m/0_0_-1_400m/mic2/19.wav\n",
            "Skipping already processed: /content/drive/MyDrive/sevenlumi_data/luminator_dataset_augmented/ak/400m/0_0_-1_400m/mic2/8.wav\n",
            "Skipping already processed: /content/drive/MyDrive/sevenlumi_data/luminator_dataset_augmented/ak/400m/0_0_-1_400m/mic2/16.wav\n"
          ]
        },
        {
          "output_type": "stream",
          "name": "stderr",
          "text": [
            "\n",
            "  0%|          | 0/21 [00:00<?, ?it/s]"
          ]
        },
        {
          "output_type": "stream",
          "name": "stdout",
          "text": [
            "Skipping already processed: /content/drive/MyDrive/sevenlumi_data/luminator_dataset_augmented/ak/400m/0_0_-1_400m/mic3/1.wav\n",
            "Skipping already processed: /content/drive/MyDrive/sevenlumi_data/luminator_dataset_augmented/ak/400m/0_0_-1_400m/mic3/2.wav\n",
            "Skipping already processed: /content/drive/MyDrive/sevenlumi_data/luminator_dataset_augmented/ak/400m/0_0_-1_400m/mic3/18.wav\n"
          ]
        },
        {
          "output_type": "stream",
          "name": "stderr",
          "text": [
            "\r100%|██████████| 21/21 [00:00<00:00, 1125.14it/s]\n"
          ]
        },
        {
          "output_type": "stream",
          "name": "stdout",
          "text": [
            "Skipping already processed: /content/drive/MyDrive/sevenlumi_data/luminator_dataset_augmented/ak/400m/0_0_-1_400m/mic3/4.wav\n",
            "Skipping already processed: /content/drive/MyDrive/sevenlumi_data/luminator_dataset_augmented/ak/400m/0_0_-1_400m/mic3/13.wav\n",
            "Skipping already processed: /content/drive/MyDrive/sevenlumi_data/luminator_dataset_augmented/ak/400m/0_0_-1_400m/mic3/7.wav\n",
            "Skipping already processed: /content/drive/MyDrive/sevenlumi_data/luminator_dataset_augmented/ak/400m/0_0_-1_400m/mic3/14.wav\n",
            "Skipping already processed: /content/drive/MyDrive/sevenlumi_data/luminator_dataset_augmented/ak/400m/0_0_-1_400m/mic3/5.wav\n",
            "Skipping already processed: /content/drive/MyDrive/sevenlumi_data/luminator_dataset_augmented/ak/400m/0_0_-1_400m/mic3/6.wav\n",
            "Skipping already processed: /content/drive/MyDrive/sevenlumi_data/luminator_dataset_augmented/ak/400m/0_0_-1_400m/mic3/3.wav\n",
            "Skipping already processed: /content/drive/MyDrive/sevenlumi_data/luminator_dataset_augmented/ak/400m/0_0_-1_400m/mic3/12.wav\n",
            "Skipping already processed: /content/drive/MyDrive/sevenlumi_data/luminator_dataset_augmented/ak/400m/0_0_-1_400m/mic3/11.wav\n",
            "Skipping already processed: /content/drive/MyDrive/sevenlumi_data/luminator_dataset_augmented/ak/400m/0_0_-1_400m/mic3/21.wav\n",
            "Skipping already processed: /content/drive/MyDrive/sevenlumi_data/luminator_dataset_augmented/ak/400m/0_0_-1_400m/mic3/17.wav\n",
            "Skipping already processed: /content/drive/MyDrive/sevenlumi_data/luminator_dataset_augmented/ak/400m/0_0_-1_400m/mic3/15.wav\n",
            "Skipping already processed: /content/drive/MyDrive/sevenlumi_data/luminator_dataset_augmented/ak/400m/0_0_-1_400m/mic3/20.wav\n",
            "Skipping already processed: /content/drive/MyDrive/sevenlumi_data/luminator_dataset_augmented/ak/400m/0_0_-1_400m/mic3/9.wav\n",
            "Skipping already processed: /content/drive/MyDrive/sevenlumi_data/luminator_dataset_augmented/ak/400m/0_0_-1_400m/mic3/10.wav\n",
            "Skipping already processed: /content/drive/MyDrive/sevenlumi_data/luminator_dataset_augmented/ak/400m/0_0_-1_400m/mic3/19.wav\n",
            "Skipping already processed: /content/drive/MyDrive/sevenlumi_data/luminator_dataset_augmented/ak/400m/0_0_-1_400m/mic3/8.wav\n",
            "Skipping already processed: /content/drive/MyDrive/sevenlumi_data/luminator_dataset_augmented/ak/400m/0_0_-1_400m/mic3/16.wav\n"
          ]
        },
        {
          "output_type": "stream",
          "name": "stderr",
          "text": [
            "\r  0%|          | 0/21 [00:00<?, ?it/s]"
          ]
        },
        {
          "output_type": "stream",
          "name": "stdout",
          "text": [
            "Skipping already processed: /content/drive/MyDrive/sevenlumi_data/luminator_dataset_augmented/ak/400m/0_0_-1_400m/mic4/1.wav\n",
            "Skipping already processed: /content/drive/MyDrive/sevenlumi_data/luminator_dataset_augmented/ak/400m/0_0_-1_400m/mic4/2.wav\n",
            "Skipping already processed: /content/drive/MyDrive/sevenlumi_data/luminator_dataset_augmented/ak/400m/0_0_-1_400m/mic4/18.wav\n",
            "Skipping already processed: /content/drive/MyDrive/sevenlumi_data/luminator_dataset_augmented/ak/400m/0_0_-1_400m/mic4/4.wav\n",
            "Skipping already processed: /content/drive/MyDrive/sevenlumi_data/luminator_dataset_augmented/ak/400m/0_0_-1_400m/mic4/13.wav\n",
            "Skipping already processed: /content/drive/MyDrive/sevenlumi_data/luminator_dataset_augmented/ak/400m/0_0_-1_400m/mic4/7.wav\n",
            "Skipping already processed: /content/drive/MyDrive/sevenlumi_data/luminator_dataset_augmented/ak/400m/0_0_-1_400m/mic4/14.wav\n",
            "Skipping already processed: /content/drive/MyDrive/sevenlumi_data/luminator_dataset_augmented/ak/400m/0_0_-1_400m/mic4/5.wav\n",
            "Skipping already processed: /content/drive/MyDrive/sevenlumi_data/luminator_dataset_augmented/ak/400m/0_0_-1_400m/mic4/6.wav\n",
            "Skipping already processed: /content/drive/MyDrive/sevenlumi_data/luminator_dataset_augmented/ak/400m/0_0_-1_400m/mic4/3.wav\n",
            "Skipping already processed: /content/drive/MyDrive/sevenlumi_data/luminator_dataset_augmented/ak/400m/0_0_-1_400m/mic4/12.wav\n",
            "Skipping already processed: /content/drive/MyDrive/sevenlumi_data/luminator_dataset_augmented/ak/400m/0_0_-1_400m/mic4/11.wav\n",
            "Skipping already processed: /content/drive/MyDrive/sevenlumi_data/luminator_dataset_augmented/ak/400m/0_0_-1_400m/mic4/21.wav\n",
            "Skipping already processed: /content/drive/MyDrive/sevenlumi_data/luminator_dataset_augmented/ak/400m/0_0_-1_400m/mic4/17.wav\n",
            "Skipping already processed: /content/drive/MyDrive/sevenlumi_data/luminator_dataset_augmented/ak/400m/0_0_-1_400m/mic4/15.wav\n",
            "Skipping already processed: /content/drive/MyDrive/sevenlumi_data/luminator_dataset_augmented/ak/400m/0_0_-1_400m/mic4/20.wav\n",
            "Skipping already processed: /content/drive/MyDrive/sevenlumi_data/luminator_dataset_augmented/ak/400m/0_0_-1_400m/mic4/9.wav\n",
            "Skipping already processed: /content/drive/MyDrive/sevenlumi_data/luminator_dataset_augmented/ak/400m/0_0_-1_400m/mic4/10.wav\n",
            "Skipping already processed: /content/drive/MyDrive/sevenlumi_data/luminator_dataset_augmented/ak/400m/0_0_-1_400m/mic4/19.wav\n"
          ]
        },
        {
          "output_type": "stream",
          "name": "stderr",
          "text": [
            "\r100%|██████████| 21/21 [00:00<00:00, 1077.36it/s]\n"
          ]
        },
        {
          "output_type": "stream",
          "name": "stdout",
          "text": [
            "Skipping already processed: /content/drive/MyDrive/sevenlumi_data/luminator_dataset_augmented/ak/400m/0_0_-1_400m/mic4/8.wav\n",
            "Skipping already processed: /content/drive/MyDrive/sevenlumi_data/luminator_dataset_augmented/ak/400m/0_0_-1_400m/mic4/16.wav\n"
          ]
        },
        {
          "output_type": "stream",
          "name": "stderr",
          "text": [
            "0it [00:00, ?it/s]\n",
            "  0%|          | 0/17 [00:00<?, ?it/s]"
          ]
        },
        {
          "output_type": "stream",
          "name": "stdout",
          "text": [
            "Skipping already processed: /content/drive/MyDrive/sevenlumi_data/luminator_dataset_augmented/ak/400m/-1_0_0_400m/mic1/1.wav\n",
            "Skipping already processed: /content/drive/MyDrive/sevenlumi_data/luminator_dataset_augmented/ak/400m/-1_0_0_400m/mic1/4.wav\n",
            "Skipping already processed: /content/drive/MyDrive/sevenlumi_data/luminator_dataset_augmented/ak/400m/-1_0_0_400m/mic1/10.wav\n",
            "Skipping already processed: /content/drive/MyDrive/sevenlumi_data/luminator_dataset_augmented/ak/400m/-1_0_0_400m/mic1/2.wav\n",
            "Skipping already processed: /content/drive/MyDrive/sevenlumi_data/luminator_dataset_augmented/ak/400m/-1_0_0_400m/mic1/7.wav\n",
            "Skipping already processed: /content/drive/MyDrive/sevenlumi_data/luminator_dataset_augmented/ak/400m/-1_0_0_400m/mic1/17.wav\n",
            "Skipping already processed: /content/drive/MyDrive/sevenlumi_data/luminator_dataset_augmented/ak/400m/-1_0_0_400m/mic1/9.wav\n",
            "Skipping already processed: /content/drive/MyDrive/sevenlumi_data/luminator_dataset_augmented/ak/400m/-1_0_0_400m/mic1/15.wav\n",
            "Skipping already processed: /content/drive/MyDrive/sevenlumi_data/luminator_dataset_augmented/ak/400m/-1_0_0_400m/mic1/5.wav\n",
            "Skipping already processed: /content/drive/MyDrive/sevenlumi_data/luminator_dataset_augmented/ak/400m/-1_0_0_400m/mic1/8.wav\n",
            "Skipping already processed: /content/drive/MyDrive/sevenlumi_data/luminator_dataset_augmented/ak/400m/-1_0_0_400m/mic1/12.wav\n",
            "Skipping already processed: /content/drive/MyDrive/sevenlumi_data/luminator_dataset_augmented/ak/400m/-1_0_0_400m/mic1/14.wav\n",
            "Skipping already processed: /content/drive/MyDrive/sevenlumi_data/luminator_dataset_augmented/ak/400m/-1_0_0_400m/mic1/3.wav\n",
            "Skipping already processed: /content/drive/MyDrive/sevenlumi_data/luminator_dataset_augmented/ak/400m/-1_0_0_400m/mic1/13.wav\n",
            "Skipping already processed: /content/drive/MyDrive/sevenlumi_data/luminator_dataset_augmented/ak/400m/-1_0_0_400m/mic1/16.wav\n"
          ]
        },
        {
          "output_type": "stream",
          "name": "stderr",
          "text": [
            "\r100%|██████████| 17/17 [00:00<00:00, 693.92it/s]\n"
          ]
        },
        {
          "output_type": "stream",
          "name": "stdout",
          "text": [
            "Skipping already processed: /content/drive/MyDrive/sevenlumi_data/luminator_dataset_augmented/ak/400m/-1_0_0_400m/mic1/6.wav\n",
            "Skipping already processed: /content/drive/MyDrive/sevenlumi_data/luminator_dataset_augmented/ak/400m/-1_0_0_400m/mic1/11.wav\n"
          ]
        },
        {
          "output_type": "stream",
          "name": "stderr",
          "text": [
            "\r  0%|          | 0/17 [00:00<?, ?it/s]"
          ]
        },
        {
          "output_type": "stream",
          "name": "stdout",
          "text": [
            "Skipping already processed: /content/drive/MyDrive/sevenlumi_data/luminator_dataset_augmented/ak/400m/-1_0_0_400m/mic2/1.wav\n",
            "Skipping already processed: /content/drive/MyDrive/sevenlumi_data/luminator_dataset_augmented/ak/400m/-1_0_0_400m/mic2/4.wav\n",
            "Skipping already processed: /content/drive/MyDrive/sevenlumi_data/luminator_dataset_augmented/ak/400m/-1_0_0_400m/mic2/10.wav\n",
            "Skipping already processed: /content/drive/MyDrive/sevenlumi_data/luminator_dataset_augmented/ak/400m/-1_0_0_400m/mic2/2.wav\n",
            "Skipping already processed: /content/drive/MyDrive/sevenlumi_data/luminator_dataset_augmented/ak/400m/-1_0_0_400m/mic2/7.wav\n",
            "Skipping already processed: /content/drive/MyDrive/sevenlumi_data/luminator_dataset_augmented/ak/400m/-1_0_0_400m/mic2/17.wav\n",
            "Skipping already processed: /content/drive/MyDrive/sevenlumi_data/luminator_dataset_augmented/ak/400m/-1_0_0_400m/mic2/9.wav\n",
            "Skipping already processed: /content/drive/MyDrive/sevenlumi_data/luminator_dataset_augmented/ak/400m/-1_0_0_400m/mic2/15.wav\n"
          ]
        },
        {
          "output_type": "stream",
          "name": "stderr",
          "text": [
            "\r100%|██████████| 17/17 [00:00<00:00, 1002.12it/s]\n"
          ]
        },
        {
          "output_type": "stream",
          "name": "stdout",
          "text": [
            "Skipping already processed: /content/drive/MyDrive/sevenlumi_data/luminator_dataset_augmented/ak/400m/-1_0_0_400m/mic2/5.wav\n",
            "Skipping already processed: /content/drive/MyDrive/sevenlumi_data/luminator_dataset_augmented/ak/400m/-1_0_0_400m/mic2/8.wav\n",
            "Skipping already processed: /content/drive/MyDrive/sevenlumi_data/luminator_dataset_augmented/ak/400m/-1_0_0_400m/mic2/12.wav\n",
            "Skipping already processed: /content/drive/MyDrive/sevenlumi_data/luminator_dataset_augmented/ak/400m/-1_0_0_400m/mic2/14.wav\n",
            "Skipping already processed: /content/drive/MyDrive/sevenlumi_data/luminator_dataset_augmented/ak/400m/-1_0_0_400m/mic2/3.wav\n",
            "Skipping already processed: /content/drive/MyDrive/sevenlumi_data/luminator_dataset_augmented/ak/400m/-1_0_0_400m/mic2/13.wav\n",
            "Skipping already processed: /content/drive/MyDrive/sevenlumi_data/luminator_dataset_augmented/ak/400m/-1_0_0_400m/mic2/16.wav\n",
            "Skipping already processed: /content/drive/MyDrive/sevenlumi_data/luminator_dataset_augmented/ak/400m/-1_0_0_400m/mic2/6.wav\n",
            "Skipping already processed: /content/drive/MyDrive/sevenlumi_data/luminator_dataset_augmented/ak/400m/-1_0_0_400m/mic2/11.wav\n"
          ]
        },
        {
          "output_type": "stream",
          "name": "stderr",
          "text": [
            "\r  0%|          | 0/17 [00:00<?, ?it/s]"
          ]
        },
        {
          "output_type": "stream",
          "name": "stdout",
          "text": [
            "Skipping already processed: /content/drive/MyDrive/sevenlumi_data/luminator_dataset_augmented/ak/400m/-1_0_0_400m/mic3/1.wav\n",
            "Skipping already processed: /content/drive/MyDrive/sevenlumi_data/luminator_dataset_augmented/ak/400m/-1_0_0_400m/mic3/4.wav\n",
            "Skipping already processed: /content/drive/MyDrive/sevenlumi_data/luminator_dataset_augmented/ak/400m/-1_0_0_400m/mic3/10.wav\n",
            "Skipping already processed: /content/drive/MyDrive/sevenlumi_data/luminator_dataset_augmented/ak/400m/-1_0_0_400m/mic3/2.wav\n",
            "Skipping already processed: /content/drive/MyDrive/sevenlumi_data/luminator_dataset_augmented/ak/400m/-1_0_0_400m/mic3/7.wav\n",
            "Skipping already processed: /content/drive/MyDrive/sevenlumi_data/luminator_dataset_augmented/ak/400m/-1_0_0_400m/mic3/17.wav\n",
            "Skipping already processed: /content/drive/MyDrive/sevenlumi_data/luminator_dataset_augmented/ak/400m/-1_0_0_400m/mic3/9.wav\n",
            "Skipping already processed: /content/drive/MyDrive/sevenlumi_data/luminator_dataset_augmented/ak/400m/-1_0_0_400m/mic3/15.wav\n"
          ]
        },
        {
          "output_type": "stream",
          "name": "stderr",
          "text": [
            "\r100%|██████████| 17/17 [00:00<00:00, 545.07it/s]\n"
          ]
        },
        {
          "output_type": "stream",
          "name": "stdout",
          "text": [
            "Skipping already processed: /content/drive/MyDrive/sevenlumi_data/luminator_dataset_augmented/ak/400m/-1_0_0_400m/mic3/5.wav\n",
            "Skipping already processed: /content/drive/MyDrive/sevenlumi_data/luminator_dataset_augmented/ak/400m/-1_0_0_400m/mic3/8.wav\n",
            "Skipping already processed: /content/drive/MyDrive/sevenlumi_data/luminator_dataset_augmented/ak/400m/-1_0_0_400m/mic3/12.wav\n",
            "Skipping already processed: /content/drive/MyDrive/sevenlumi_data/luminator_dataset_augmented/ak/400m/-1_0_0_400m/mic3/14.wav\n",
            "Skipping already processed: /content/drive/MyDrive/sevenlumi_data/luminator_dataset_augmented/ak/400m/-1_0_0_400m/mic3/3.wav\n",
            "Skipping already processed: /content/drive/MyDrive/sevenlumi_data/luminator_dataset_augmented/ak/400m/-1_0_0_400m/mic3/13.wav\n",
            "Skipping already processed: /content/drive/MyDrive/sevenlumi_data/luminator_dataset_augmented/ak/400m/-1_0_0_400m/mic3/16.wav\n",
            "Skipping already processed: /content/drive/MyDrive/sevenlumi_data/luminator_dataset_augmented/ak/400m/-1_0_0_400m/mic3/6.wav\n",
            "Skipping already processed: /content/drive/MyDrive/sevenlumi_data/luminator_dataset_augmented/ak/400m/-1_0_0_400m/mic3/11.wav\n"
          ]
        },
        {
          "output_type": "stream",
          "name": "stderr",
          "text": [
            "\r  0%|          | 0/17 [00:00<?, ?it/s]"
          ]
        },
        {
          "output_type": "stream",
          "name": "stdout",
          "text": [
            "Skipping already processed: /content/drive/MyDrive/sevenlumi_data/luminator_dataset_augmented/ak/400m/-1_0_0_400m/mic4/1.wav\n",
            "Skipping already processed: /content/drive/MyDrive/sevenlumi_data/luminator_dataset_augmented/ak/400m/-1_0_0_400m/mic4/4.wav\n",
            "Skipping already processed: /content/drive/MyDrive/sevenlumi_data/luminator_dataset_augmented/ak/400m/-1_0_0_400m/mic4/10.wav\n",
            "Skipping already processed: /content/drive/MyDrive/sevenlumi_data/luminator_dataset_augmented/ak/400m/-1_0_0_400m/mic4/2.wav\n",
            "Skipping already processed: /content/drive/MyDrive/sevenlumi_data/luminator_dataset_augmented/ak/400m/-1_0_0_400m/mic4/7.wav\n"
          ]
        },
        {
          "output_type": "stream",
          "name": "stderr",
          "text": [
            "\r100%|██████████| 17/17 [00:00<00:00, 765.40it/s]\n"
          ]
        },
        {
          "output_type": "stream",
          "name": "stdout",
          "text": [
            "Skipping already processed: /content/drive/MyDrive/sevenlumi_data/luminator_dataset_augmented/ak/400m/-1_0_0_400m/mic4/17.wav\n",
            "Skipping already processed: /content/drive/MyDrive/sevenlumi_data/luminator_dataset_augmented/ak/400m/-1_0_0_400m/mic4/9.wav\n",
            "Skipping already processed: /content/drive/MyDrive/sevenlumi_data/luminator_dataset_augmented/ak/400m/-1_0_0_400m/mic4/15.wav\n",
            "Skipping already processed: /content/drive/MyDrive/sevenlumi_data/luminator_dataset_augmented/ak/400m/-1_0_0_400m/mic4/5.wav\n",
            "Skipping already processed: /content/drive/MyDrive/sevenlumi_data/luminator_dataset_augmented/ak/400m/-1_0_0_400m/mic4/8.wav\n",
            "Skipping already processed: /content/drive/MyDrive/sevenlumi_data/luminator_dataset_augmented/ak/400m/-1_0_0_400m/mic4/12.wav\n",
            "Skipping already processed: /content/drive/MyDrive/sevenlumi_data/luminator_dataset_augmented/ak/400m/-1_0_0_400m/mic4/14.wav\n",
            "Skipping already processed: /content/drive/MyDrive/sevenlumi_data/luminator_dataset_augmented/ak/400m/-1_0_0_400m/mic4/3.wav\n",
            "Skipping already processed: /content/drive/MyDrive/sevenlumi_data/luminator_dataset_augmented/ak/400m/-1_0_0_400m/mic4/13.wav\n",
            "Skipping already processed: /content/drive/MyDrive/sevenlumi_data/luminator_dataset_augmented/ak/400m/-1_0_0_400m/mic4/16.wav\n",
            "Skipping already processed: /content/drive/MyDrive/sevenlumi_data/luminator_dataset_augmented/ak/400m/-1_0_0_400m/mic4/6.wav\n",
            "Skipping already processed: /content/drive/MyDrive/sevenlumi_data/luminator_dataset_augmented/ak/400m/-1_0_0_400m/mic4/11.wav\n"
          ]
        },
        {
          "output_type": "stream",
          "name": "stderr",
          "text": [
            "0it [00:00, ?it/s]\n",
            "  0%|          | 0/21 [00:00<?, ?it/s]"
          ]
        },
        {
          "output_type": "stream",
          "name": "stdout",
          "text": [
            "Skipping already processed: /content/drive/MyDrive/sevenlumi_data/luminator_dataset_augmented/ak/400m/0_0_1_400m/mic1/1.wav\n",
            "Skipping already processed: /content/drive/MyDrive/sevenlumi_data/luminator_dataset_augmented/ak/400m/0_0_1_400m/mic1/4.wav\n",
            "Skipping already processed: /content/drive/MyDrive/sevenlumi_data/luminator_dataset_augmented/ak/400m/0_0_1_400m/mic1/15.wav\n",
            "Skipping already processed: /content/drive/MyDrive/sevenlumi_data/luminator_dataset_augmented/ak/400m/0_0_1_400m/mic1/2.wav\n",
            "Skipping already processed: /content/drive/MyDrive/sevenlumi_data/luminator_dataset_augmented/ak/400m/0_0_1_400m/mic1/9.wav\n",
            "Skipping already processed: /content/drive/MyDrive/sevenlumi_data/luminator_dataset_augmented/ak/400m/0_0_1_400m/mic1/8.wav\n",
            "Skipping already processed: /content/drive/MyDrive/sevenlumi_data/luminator_dataset_augmented/ak/400m/0_0_1_400m/mic1/3.wav\n",
            "Skipping already processed: /content/drive/MyDrive/sevenlumi_data/luminator_dataset_augmented/ak/400m/0_0_1_400m/mic1/17.wav\n",
            "Skipping already processed: /content/drive/MyDrive/sevenlumi_data/luminator_dataset_augmented/ak/400m/0_0_1_400m/mic1/6.wav\n",
            "Skipping already processed: /content/drive/MyDrive/sevenlumi_data/luminator_dataset_augmented/ak/400m/0_0_1_400m/mic1/20.wav\n",
            "Skipping already processed: /content/drive/MyDrive/sevenlumi_data/luminator_dataset_augmented/ak/400m/0_0_1_400m/mic1/12.wav\n",
            "Skipping already processed: /content/drive/MyDrive/sevenlumi_data/luminator_dataset_augmented/ak/400m/0_0_1_400m/mic1/18.wav\n",
            "Skipping already processed: /content/drive/MyDrive/sevenlumi_data/luminator_dataset_augmented/ak/400m/0_0_1_400m/mic1/7.wav\n",
            "Skipping already processed: /content/drive/MyDrive/sevenlumi_data/luminator_dataset_augmented/ak/400m/0_0_1_400m/mic1/21.wav\n",
            "Skipping already processed: /content/drive/MyDrive/sevenlumi_data/luminator_dataset_augmented/ak/400m/0_0_1_400m/mic1/13.wav\n",
            "Skipping already processed: /content/drive/MyDrive/sevenlumi_data/luminator_dataset_augmented/ak/400m/0_0_1_400m/mic1/11.wav\n",
            "Skipping already processed: /content/drive/MyDrive/sevenlumi_data/luminator_dataset_augmented/ak/400m/0_0_1_400m/mic1/14.wav\n",
            "Skipping already processed: /content/drive/MyDrive/sevenlumi_data/luminator_dataset_augmented/ak/400m/0_0_1_400m/mic1/10.wav\n",
            "Skipping already processed: /content/drive/MyDrive/sevenlumi_data/luminator_dataset_augmented/ak/400m/0_0_1_400m/mic1/19.wav\n"
          ]
        },
        {
          "output_type": "stream",
          "name": "stderr",
          "text": [
            "\r100%|██████████| 21/21 [00:00<00:00, 737.77it/s]\n"
          ]
        },
        {
          "output_type": "stream",
          "name": "stdout",
          "text": [
            "Skipping already processed: /content/drive/MyDrive/sevenlumi_data/luminator_dataset_augmented/ak/400m/0_0_1_400m/mic1/16.wav\n",
            "Skipping already processed: /content/drive/MyDrive/sevenlumi_data/luminator_dataset_augmented/ak/400m/0_0_1_400m/mic1/5.wav\n"
          ]
        },
        {
          "output_type": "stream",
          "name": "stderr",
          "text": [
            "\r  0%|          | 0/21 [00:00<?, ?it/s]"
          ]
        },
        {
          "output_type": "stream",
          "name": "stdout",
          "text": [
            "Skipping already processed: /content/drive/MyDrive/sevenlumi_data/luminator_dataset_augmented/ak/400m/0_0_1_400m/mic2/1.wav\n",
            "Skipping already processed: /content/drive/MyDrive/sevenlumi_data/luminator_dataset_augmented/ak/400m/0_0_1_400m/mic2/4.wav\n",
            "Skipping already processed: /content/drive/MyDrive/sevenlumi_data/luminator_dataset_augmented/ak/400m/0_0_1_400m/mic2/15.wav\n",
            "Skipping already processed: /content/drive/MyDrive/sevenlumi_data/luminator_dataset_augmented/ak/400m/0_0_1_400m/mic2/2.wav\n",
            "Skipping already processed: /content/drive/MyDrive/sevenlumi_data/luminator_dataset_augmented/ak/400m/0_0_1_400m/mic2/9.wav\n",
            "Skipping already processed: /content/drive/MyDrive/sevenlumi_data/luminator_dataset_augmented/ak/400m/0_0_1_400m/mic2/8.wav\n",
            "Skipping already processed: /content/drive/MyDrive/sevenlumi_data/luminator_dataset_augmented/ak/400m/0_0_1_400m/mic2/3.wav\n",
            "Skipping already processed: /content/drive/MyDrive/sevenlumi_data/luminator_dataset_augmented/ak/400m/0_0_1_400m/mic2/17.wav\n",
            "Skipping already processed: /content/drive/MyDrive/sevenlumi_data/luminator_dataset_augmented/ak/400m/0_0_1_400m/mic2/6.wav\n",
            "Skipping already processed: /content/drive/MyDrive/sevenlumi_data/luminator_dataset_augmented/ak/400m/0_0_1_400m/mic2/20.wav\n",
            "Skipping already processed: /content/drive/MyDrive/sevenlumi_data/luminator_dataset_augmented/ak/400m/0_0_1_400m/mic2/12.wav\n",
            "Skipping already processed: /content/drive/MyDrive/sevenlumi_data/luminator_dataset_augmented/ak/400m/0_0_1_400m/mic2/18.wav\n",
            "Skipping already processed: /content/drive/MyDrive/sevenlumi_data/luminator_dataset_augmented/ak/400m/0_0_1_400m/mic2/7.wav\n",
            "Skipping already processed: /content/drive/MyDrive/sevenlumi_data/luminator_dataset_augmented/ak/400m/0_0_1_400m/mic2/21.wav\n",
            "Skipping already processed: /content/drive/MyDrive/sevenlumi_data/luminator_dataset_augmented/ak/400m/0_0_1_400m/mic2/13.wav\n",
            "Skipping already processed: /content/drive/MyDrive/sevenlumi_data/luminator_dataset_augmented/ak/400m/0_0_1_400m/mic2/11.wav\n",
            "Skipping already processed: /content/drive/MyDrive/sevenlumi_data/luminator_dataset_augmented/ak/400m/0_0_1_400m/mic2/14.wav\n",
            "Skipping already processed: /content/drive/MyDrive/sevenlumi_data/luminator_dataset_augmented/ak/400m/0_0_1_400m/mic2/10.wav\n",
            "Skipping already processed: /content/drive/MyDrive/sevenlumi_data/luminator_dataset_augmented/ak/400m/0_0_1_400m/mic2/19.wav\n",
            "Skipping already processed: /content/drive/MyDrive/sevenlumi_data/luminator_dataset_augmented/ak/400m/0_0_1_400m/mic2/16.wav\n",
            "Skipping already processed: /content/drive/MyDrive/sevenlumi_data/luminator_dataset_augmented/ak/400m/0_0_1_400m/mic2/5.wav\n"
          ]
        },
        {
          "output_type": "stream",
          "name": "stderr",
          "text": [
            "100%|██████████| 21/21 [00:00<00:00, 703.21it/s]\n",
            "100%|██████████| 21/21 [00:00<00:00, 1147.78it/s]"
          ]
        },
        {
          "output_type": "stream",
          "name": "stdout",
          "text": [
            "Skipping already processed: /content/drive/MyDrive/sevenlumi_data/luminator_dataset_augmented/ak/400m/0_0_1_400m/mic3/1.wav\n",
            "Skipping already processed: /content/drive/MyDrive/sevenlumi_data/luminator_dataset_augmented/ak/400m/0_0_1_400m/mic3/4.wav\n",
            "Skipping already processed: /content/drive/MyDrive/sevenlumi_data/luminator_dataset_augmented/ak/400m/0_0_1_400m/mic3/15.wav\n",
            "Skipping already processed: /content/drive/MyDrive/sevenlumi_data/luminator_dataset_augmented/ak/400m/0_0_1_400m/mic3/2.wav\n",
            "Skipping already processed: /content/drive/MyDrive/sevenlumi_data/luminator_dataset_augmented/ak/400m/0_0_1_400m/mic3/9.wav\n",
            "Skipping already processed: /content/drive/MyDrive/sevenlumi_data/luminator_dataset_augmented/ak/400m/0_0_1_400m/mic3/8.wav\n",
            "Skipping already processed: /content/drive/MyDrive/sevenlumi_data/luminator_dataset_augmented/ak/400m/0_0_1_400m/mic3/3.wav\n",
            "Skipping already processed: /content/drive/MyDrive/sevenlumi_data/luminator_dataset_augmented/ak/400m/0_0_1_400m/mic3/17.wav\n",
            "Skipping already processed: /content/drive/MyDrive/sevenlumi_data/luminator_dataset_augmented/ak/400m/0_0_1_400m/mic3/6.wav\n",
            "Skipping already processed: /content/drive/MyDrive/sevenlumi_data/luminator_dataset_augmented/ak/400m/0_0_1_400m/mic3/20.wav\n",
            "Skipping already processed: /content/drive/MyDrive/sevenlumi_data/luminator_dataset_augmented/ak/400m/0_0_1_400m/mic3/12.wav\n",
            "Skipping already processed: /content/drive/MyDrive/sevenlumi_data/luminator_dataset_augmented/ak/400m/0_0_1_400m/mic3/18.wav\n",
            "Skipping already processed: /content/drive/MyDrive/sevenlumi_data/luminator_dataset_augmented/ak/400m/0_0_1_400m/mic3/7.wav\n",
            "Skipping already processed: /content/drive/MyDrive/sevenlumi_data/luminator_dataset_augmented/ak/400m/0_0_1_400m/mic3/21.wav\n",
            "Skipping already processed: /content/drive/MyDrive/sevenlumi_data/luminator_dataset_augmented/ak/400m/0_0_1_400m/mic3/13.wav\n",
            "Skipping already processed: /content/drive/MyDrive/sevenlumi_data/luminator_dataset_augmented/ak/400m/0_0_1_400m/mic3/11.wav\n",
            "Skipping already processed: /content/drive/MyDrive/sevenlumi_data/luminator_dataset_augmented/ak/400m/0_0_1_400m/mic3/14.wav\n",
            "Skipping already processed: /content/drive/MyDrive/sevenlumi_data/luminator_dataset_augmented/ak/400m/0_0_1_400m/mic3/10.wav\n",
            "Skipping already processed: /content/drive/MyDrive/sevenlumi_data/luminator_dataset_augmented/ak/400m/0_0_1_400m/mic3/19.wav\n",
            "Skipping already processed: /content/drive/MyDrive/sevenlumi_data/luminator_dataset_augmented/ak/400m/0_0_1_400m/mic3/16.wav\n",
            "Skipping already processed: /content/drive/MyDrive/sevenlumi_data/luminator_dataset_augmented/ak/400m/0_0_1_400m/mic3/5.wav\n"
          ]
        },
        {
          "output_type": "stream",
          "name": "stderr",
          "text": [
            "\n",
            "  0%|          | 0/21 [00:00<?, ?it/s]"
          ]
        },
        {
          "output_type": "stream",
          "name": "stdout",
          "text": [
            "Skipping already processed: /content/drive/MyDrive/sevenlumi_data/luminator_dataset_augmented/ak/400m/0_0_1_400m/mic4/1.wav\n",
            "Skipping already processed: /content/drive/MyDrive/sevenlumi_data/luminator_dataset_augmented/ak/400m/0_0_1_400m/mic4/4.wav\n",
            "Skipping already processed: /content/drive/MyDrive/sevenlumi_data/luminator_dataset_augmented/ak/400m/0_0_1_400m/mic4/15.wav\n",
            "Skipping already processed: /content/drive/MyDrive/sevenlumi_data/luminator_dataset_augmented/ak/400m/0_0_1_400m/mic4/2.wav\n",
            "Skipping already processed: /content/drive/MyDrive/sevenlumi_data/luminator_dataset_augmented/ak/400m/0_0_1_400m/mic4/9.wav\n",
            "Skipping already processed: /content/drive/MyDrive/sevenlumi_data/luminator_dataset_augmented/ak/400m/0_0_1_400m/mic4/8.wav\n",
            "Skipping already processed: /content/drive/MyDrive/sevenlumi_data/luminator_dataset_augmented/ak/400m/0_0_1_400m/mic4/3.wav\n",
            "Skipping already processed: /content/drive/MyDrive/sevenlumi_data/luminator_dataset_augmented/ak/400m/0_0_1_400m/mic4/17.wav\n",
            "Skipping already processed: /content/drive/MyDrive/sevenlumi_data/luminator_dataset_augmented/ak/400m/0_0_1_400m/mic4/6.wav\n",
            "Skipping already processed: /content/drive/MyDrive/sevenlumi_data/luminator_dataset_augmented/ak/400m/0_0_1_400m/mic4/20.wav\n",
            "Skipping already processed: /content/drive/MyDrive/sevenlumi_data/luminator_dataset_augmented/ak/400m/0_0_1_400m/mic4/12.wav\n",
            "Skipping already processed: /content/drive/MyDrive/sevenlumi_data/luminator_dataset_augmented/ak/400m/0_0_1_400m/mic4/18.wav\n",
            "Skipping already processed: /content/drive/MyDrive/sevenlumi_data/luminator_dataset_augmented/ak/400m/0_0_1_400m/mic4/7.wav\n",
            "Skipping already processed: /content/drive/MyDrive/sevenlumi_data/luminator_dataset_augmented/ak/400m/0_0_1_400m/mic4/21.wav\n"
          ]
        },
        {
          "output_type": "stream",
          "name": "stderr",
          "text": [
            "\r100%|██████████| 21/21 [00:00<00:00, 852.79it/s]\n"
          ]
        },
        {
          "output_type": "stream",
          "name": "stdout",
          "text": [
            "Skipping already processed: /content/drive/MyDrive/sevenlumi_data/luminator_dataset_augmented/ak/400m/0_0_1_400m/mic4/13.wav\n",
            "Skipping already processed: /content/drive/MyDrive/sevenlumi_data/luminator_dataset_augmented/ak/400m/0_0_1_400m/mic4/11.wav\n",
            "Skipping already processed: /content/drive/MyDrive/sevenlumi_data/luminator_dataset_augmented/ak/400m/0_0_1_400m/mic4/14.wav\n",
            "Skipping already processed: /content/drive/MyDrive/sevenlumi_data/luminator_dataset_augmented/ak/400m/0_0_1_400m/mic4/10.wav\n",
            "Skipping already processed: /content/drive/MyDrive/sevenlumi_data/luminator_dataset_augmented/ak/400m/0_0_1_400m/mic4/19.wav\n",
            "Skipping already processed: /content/drive/MyDrive/sevenlumi_data/luminator_dataset_augmented/ak/400m/0_0_1_400m/mic4/16.wav\n",
            "Skipping already processed: /content/drive/MyDrive/sevenlumi_data/luminator_dataset_augmented/ak/400m/0_0_1_400m/mic4/5.wav\n"
          ]
        },
        {
          "output_type": "stream",
          "name": "stderr",
          "text": [
            "0it [00:00, ?it/s]\n",
            "0it [00:00, ?it/s]\n",
            "  0%|          | 0/21 [00:00<?, ?it/s]"
          ]
        },
        {
          "output_type": "stream",
          "name": "stdout",
          "text": [
            "Skipping already processed: /content/drive/MyDrive/sevenlumi_data/luminator_dataset_augmented/ak/100m/1_0_0_100m/mic1/6.wav\n",
            "Skipping already processed: /content/drive/MyDrive/sevenlumi_data/luminator_dataset_augmented/ak/100m/1_0_0_100m/mic1/16.wav\n",
            "Skipping already processed: /content/drive/MyDrive/sevenlumi_data/luminator_dataset_augmented/ak/100m/1_0_0_100m/mic1/13.wav\n",
            "Skipping already processed: /content/drive/MyDrive/sevenlumi_data/luminator_dataset_augmented/ak/100m/1_0_0_100m/mic1/1.wav\n"
          ]
        },
        {
          "output_type": "stream",
          "name": "stderr",
          "text": [
            "\r100%|██████████| 21/21 [00:00<00:00, 756.74it/s]"
          ]
        },
        {
          "output_type": "stream",
          "name": "stdout",
          "text": [
            "Skipping already processed: /content/drive/MyDrive/sevenlumi_data/luminator_dataset_augmented/ak/100m/1_0_0_100m/mic1/3.wav\n",
            "Skipping already processed: /content/drive/MyDrive/sevenlumi_data/luminator_dataset_augmented/ak/100m/1_0_0_100m/mic1/10.wav\n",
            "Skipping already processed: /content/drive/MyDrive/sevenlumi_data/luminator_dataset_augmented/ak/100m/1_0_0_100m/mic1/2.wav\n",
            "Skipping already processed: /content/drive/MyDrive/sevenlumi_data/luminator_dataset_augmented/ak/100m/1_0_0_100m/mic1/8.wav\n",
            "Skipping already processed: /content/drive/MyDrive/sevenlumi_data/luminator_dataset_augmented/ak/100m/1_0_0_100m/mic1/11.wav\n",
            "Skipping already processed: /content/drive/MyDrive/sevenlumi_data/luminator_dataset_augmented/ak/100m/1_0_0_100m/mic1/12.wav\n",
            "Skipping already processed: /content/drive/MyDrive/sevenlumi_data/luminator_dataset_augmented/ak/100m/1_0_0_100m/mic1/14.wav\n",
            "Skipping already processed: /content/drive/MyDrive/sevenlumi_data/luminator_dataset_augmented/ak/100m/1_0_0_100m/mic1/9.wav\n",
            "Skipping already processed: /content/drive/MyDrive/sevenlumi_data/luminator_dataset_augmented/ak/100m/1_0_0_100m/mic1/15.wav\n",
            "Skipping already processed: /content/drive/MyDrive/sevenlumi_data/luminator_dataset_augmented/ak/100m/1_0_0_100m/mic1/4.wav\n",
            "Skipping already processed: /content/drive/MyDrive/sevenlumi_data/luminator_dataset_augmented/ak/100m/1_0_0_100m/mic1/5.wav\n",
            "Skipping already processed: /content/drive/MyDrive/sevenlumi_data/luminator_dataset_augmented/ak/100m/1_0_0_100m/mic1/7.wav\n",
            "Skipping already processed: /content/drive/MyDrive/sevenlumi_data/luminator_dataset_augmented/ak/100m/1_0_0_100m/mic1/21.wav\n",
            "Skipping already processed: /content/drive/MyDrive/sevenlumi_data/luminator_dataset_augmented/ak/100m/1_0_0_100m/mic1/20.wav\n",
            "Skipping already processed: /content/drive/MyDrive/sevenlumi_data/luminator_dataset_augmented/ak/100m/1_0_0_100m/mic1/19.wav\n",
            "Skipping already processed: /content/drive/MyDrive/sevenlumi_data/luminator_dataset_augmented/ak/100m/1_0_0_100m/mic1/17.wav\n",
            "Skipping already processed: /content/drive/MyDrive/sevenlumi_data/luminator_dataset_augmented/ak/100m/1_0_0_100m/mic1/18.wav\n"
          ]
        },
        {
          "output_type": "stream",
          "name": "stderr",
          "text": [
            "\n",
            "100%|██████████| 21/21 [00:00<00:00, 1123.13it/s]\n"
          ]
        },
        {
          "output_type": "stream",
          "name": "stdout",
          "text": [
            "Skipping already processed: /content/drive/MyDrive/sevenlumi_data/luminator_dataset_augmented/ak/100m/1_0_0_100m/mic2/6.wav\n",
            "Skipping already processed: /content/drive/MyDrive/sevenlumi_data/luminator_dataset_augmented/ak/100m/1_0_0_100m/mic2/16.wav\n",
            "Skipping already processed: /content/drive/MyDrive/sevenlumi_data/luminator_dataset_augmented/ak/100m/1_0_0_100m/mic2/13.wav\n",
            "Skipping already processed: /content/drive/MyDrive/sevenlumi_data/luminator_dataset_augmented/ak/100m/1_0_0_100m/mic2/1.wav\n",
            "Skipping already processed: /content/drive/MyDrive/sevenlumi_data/luminator_dataset_augmented/ak/100m/1_0_0_100m/mic2/3.wav\n",
            "Skipping already processed: /content/drive/MyDrive/sevenlumi_data/luminator_dataset_augmented/ak/100m/1_0_0_100m/mic2/10.wav\n",
            "Skipping already processed: /content/drive/MyDrive/sevenlumi_data/luminator_dataset_augmented/ak/100m/1_0_0_100m/mic2/2.wav\n",
            "Skipping already processed: /content/drive/MyDrive/sevenlumi_data/luminator_dataset_augmented/ak/100m/1_0_0_100m/mic2/8.wav\n",
            "Skipping already processed: /content/drive/MyDrive/sevenlumi_data/luminator_dataset_augmented/ak/100m/1_0_0_100m/mic2/11.wav\n",
            "Skipping already processed: /content/drive/MyDrive/sevenlumi_data/luminator_dataset_augmented/ak/100m/1_0_0_100m/mic2/12.wav\n",
            "Skipping already processed: /content/drive/MyDrive/sevenlumi_data/luminator_dataset_augmented/ak/100m/1_0_0_100m/mic2/14.wav\n",
            "Skipping already processed: /content/drive/MyDrive/sevenlumi_data/luminator_dataset_augmented/ak/100m/1_0_0_100m/mic2/9.wav\n",
            "Skipping already processed: /content/drive/MyDrive/sevenlumi_data/luminator_dataset_augmented/ak/100m/1_0_0_100m/mic2/15.wav\n",
            "Skipping already processed: /content/drive/MyDrive/sevenlumi_data/luminator_dataset_augmented/ak/100m/1_0_0_100m/mic2/4.wav\n",
            "Skipping already processed: /content/drive/MyDrive/sevenlumi_data/luminator_dataset_augmented/ak/100m/1_0_0_100m/mic2/5.wav\n",
            "Skipping already processed: /content/drive/MyDrive/sevenlumi_data/luminator_dataset_augmented/ak/100m/1_0_0_100m/mic2/7.wav\n",
            "Skipping already processed: /content/drive/MyDrive/sevenlumi_data/luminator_dataset_augmented/ak/100m/1_0_0_100m/mic2/21.wav\n",
            "Skipping already processed: /content/drive/MyDrive/sevenlumi_data/luminator_dataset_augmented/ak/100m/1_0_0_100m/mic2/20.wav\n",
            "Skipping already processed: /content/drive/MyDrive/sevenlumi_data/luminator_dataset_augmented/ak/100m/1_0_0_100m/mic2/19.wav\n",
            "Skipping already processed: /content/drive/MyDrive/sevenlumi_data/luminator_dataset_augmented/ak/100m/1_0_0_100m/mic2/17.wav\n",
            "Skipping already processed: /content/drive/MyDrive/sevenlumi_data/luminator_dataset_augmented/ak/100m/1_0_0_100m/mic2/18.wav\n"
          ]
        },
        {
          "output_type": "stream",
          "name": "stderr",
          "text": [
            "\r  0%|          | 0/21 [00:00<?, ?it/s]"
          ]
        },
        {
          "output_type": "stream",
          "name": "stdout",
          "text": [
            "Skipping already processed: /content/drive/MyDrive/sevenlumi_data/luminator_dataset_augmented/ak/100m/1_0_0_100m/mic3/6.wav\n",
            "Skipping already processed: /content/drive/MyDrive/sevenlumi_data/luminator_dataset_augmented/ak/100m/1_0_0_100m/mic3/16.wav\n"
          ]
        },
        {
          "output_type": "stream",
          "name": "stderr",
          "text": [
            "\r100%|██████████| 21/21 [00:00<00:00, 985.31it/s]\n"
          ]
        },
        {
          "output_type": "stream",
          "name": "stdout",
          "text": [
            "Skipping already processed: /content/drive/MyDrive/sevenlumi_data/luminator_dataset_augmented/ak/100m/1_0_0_100m/mic3/13.wav\n",
            "Skipping already processed: /content/drive/MyDrive/sevenlumi_data/luminator_dataset_augmented/ak/100m/1_0_0_100m/mic3/1.wav\n",
            "Skipping already processed: /content/drive/MyDrive/sevenlumi_data/luminator_dataset_augmented/ak/100m/1_0_0_100m/mic3/3.wav\n",
            "Skipping already processed: /content/drive/MyDrive/sevenlumi_data/luminator_dataset_augmented/ak/100m/1_0_0_100m/mic3/10.wav\n",
            "Skipping already processed: /content/drive/MyDrive/sevenlumi_data/luminator_dataset_augmented/ak/100m/1_0_0_100m/mic3/2.wav\n",
            "Skipping already processed: /content/drive/MyDrive/sevenlumi_data/luminator_dataset_augmented/ak/100m/1_0_0_100m/mic3/8.wav\n",
            "Skipping already processed: /content/drive/MyDrive/sevenlumi_data/luminator_dataset_augmented/ak/100m/1_0_0_100m/mic3/11.wav\n",
            "Skipping already processed: /content/drive/MyDrive/sevenlumi_data/luminator_dataset_augmented/ak/100m/1_0_0_100m/mic3/12.wav\n",
            "Skipping already processed: /content/drive/MyDrive/sevenlumi_data/luminator_dataset_augmented/ak/100m/1_0_0_100m/mic3/14.wav\n",
            "Skipping already processed: /content/drive/MyDrive/sevenlumi_data/luminator_dataset_augmented/ak/100m/1_0_0_100m/mic3/9.wav\n",
            "Skipping already processed: /content/drive/MyDrive/sevenlumi_data/luminator_dataset_augmented/ak/100m/1_0_0_100m/mic3/15.wav\n",
            "Skipping already processed: /content/drive/MyDrive/sevenlumi_data/luminator_dataset_augmented/ak/100m/1_0_0_100m/mic3/4.wav\n",
            "Skipping already processed: /content/drive/MyDrive/sevenlumi_data/luminator_dataset_augmented/ak/100m/1_0_0_100m/mic3/5.wav\n",
            "Skipping already processed: /content/drive/MyDrive/sevenlumi_data/luminator_dataset_augmented/ak/100m/1_0_0_100m/mic3/7.wav\n",
            "Skipping already processed: /content/drive/MyDrive/sevenlumi_data/luminator_dataset_augmented/ak/100m/1_0_0_100m/mic3/21.wav\n",
            "Skipping already processed: /content/drive/MyDrive/sevenlumi_data/luminator_dataset_augmented/ak/100m/1_0_0_100m/mic3/20.wav\n",
            "Skipping already processed: /content/drive/MyDrive/sevenlumi_data/luminator_dataset_augmented/ak/100m/1_0_0_100m/mic3/19.wav\n",
            "Skipping already processed: /content/drive/MyDrive/sevenlumi_data/luminator_dataset_augmented/ak/100m/1_0_0_100m/mic3/17.wav\n",
            "Skipping already processed: /content/drive/MyDrive/sevenlumi_data/luminator_dataset_augmented/ak/100m/1_0_0_100m/mic3/18.wav\n"
          ]
        },
        {
          "output_type": "stream",
          "name": "stderr",
          "text": [
            "\r  0%|          | 0/21 [00:00<?, ?it/s]"
          ]
        },
        {
          "output_type": "stream",
          "name": "stdout",
          "text": [
            "Skipping already processed: /content/drive/MyDrive/sevenlumi_data/luminator_dataset_augmented/ak/100m/1_0_0_100m/mic4/6.wav\n",
            "Skipping already processed: /content/drive/MyDrive/sevenlumi_data/luminator_dataset_augmented/ak/100m/1_0_0_100m/mic4/16.wav\n",
            "Skipping already processed: /content/drive/MyDrive/sevenlumi_data/luminator_dataset_augmented/ak/100m/1_0_0_100m/mic4/13.wav\n",
            "Skipping already processed: /content/drive/MyDrive/sevenlumi_data/luminator_dataset_augmented/ak/100m/1_0_0_100m/mic4/1.wav\n",
            "Skipping already processed: /content/drive/MyDrive/sevenlumi_data/luminator_dataset_augmented/ak/100m/1_0_0_100m/mic4/3.wav\n",
            "Skipping already processed: /content/drive/MyDrive/sevenlumi_data/luminator_dataset_augmented/ak/100m/1_0_0_100m/mic4/10.wav\n",
            "Skipping already processed: /content/drive/MyDrive/sevenlumi_data/luminator_dataset_augmented/ak/100m/1_0_0_100m/mic4/2.wav\n",
            "Skipping already processed: /content/drive/MyDrive/sevenlumi_data/luminator_dataset_augmented/ak/100m/1_0_0_100m/mic4/8.wav\n",
            "Skipping already processed: /content/drive/MyDrive/sevenlumi_data/luminator_dataset_augmented/ak/100m/1_0_0_100m/mic4/11.wav\n",
            "Skipping already processed: /content/drive/MyDrive/sevenlumi_data/luminator_dataset_augmented/ak/100m/1_0_0_100m/mic4/12.wav\n"
          ]
        },
        {
          "output_type": "stream",
          "name": "stderr",
          "text": [
            "\r100%|██████████| 21/21 [00:00<00:00, 1095.54it/s]\n"
          ]
        },
        {
          "output_type": "stream",
          "name": "stdout",
          "text": [
            "Skipping already processed: /content/drive/MyDrive/sevenlumi_data/luminator_dataset_augmented/ak/100m/1_0_0_100m/mic4/14.wav\n",
            "Skipping already processed: /content/drive/MyDrive/sevenlumi_data/luminator_dataset_augmented/ak/100m/1_0_0_100m/mic4/9.wav\n",
            "Skipping already processed: /content/drive/MyDrive/sevenlumi_data/luminator_dataset_augmented/ak/100m/1_0_0_100m/mic4/15.wav\n",
            "Skipping already processed: /content/drive/MyDrive/sevenlumi_data/luminator_dataset_augmented/ak/100m/1_0_0_100m/mic4/4.wav\n",
            "Skipping already processed: /content/drive/MyDrive/sevenlumi_data/luminator_dataset_augmented/ak/100m/1_0_0_100m/mic4/5.wav\n",
            "Skipping already processed: /content/drive/MyDrive/sevenlumi_data/luminator_dataset_augmented/ak/100m/1_0_0_100m/mic4/7.wav\n",
            "Skipping already processed: /content/drive/MyDrive/sevenlumi_data/luminator_dataset_augmented/ak/100m/1_0_0_100m/mic4/21.wav\n",
            "Skipping already processed: /content/drive/MyDrive/sevenlumi_data/luminator_dataset_augmented/ak/100m/1_0_0_100m/mic4/20.wav\n",
            "Skipping already processed: /content/drive/MyDrive/sevenlumi_data/luminator_dataset_augmented/ak/100m/1_0_0_100m/mic4/19.wav\n",
            "Skipping already processed: /content/drive/MyDrive/sevenlumi_data/luminator_dataset_augmented/ak/100m/1_0_0_100m/mic4/17.wav\n",
            "Skipping already processed: /content/drive/MyDrive/sevenlumi_data/luminator_dataset_augmented/ak/100m/1_0_0_100m/mic4/18.wav\n"
          ]
        },
        {
          "output_type": "stream",
          "name": "stderr",
          "text": [
            "0it [00:00, ?it/s]\n",
            "  0%|          | 0/17 [00:00<?, ?it/s]"
          ]
        },
        {
          "output_type": "stream",
          "name": "stdout",
          "text": [
            "Skipping already processed: /content/drive/MyDrive/sevenlumi_data/luminator_dataset_augmented/ak/100m/0_0_1_100m/mic1/8.wav\n",
            "Skipping already processed: /content/drive/MyDrive/sevenlumi_data/luminator_dataset_augmented/ak/100m/0_0_1_100m/mic1/15.wav\n",
            "Skipping already processed: /content/drive/MyDrive/sevenlumi_data/luminator_dataset_augmented/ak/100m/0_0_1_100m/mic1/1.wav\n",
            "Skipping already processed: /content/drive/MyDrive/sevenlumi_data/luminator_dataset_augmented/ak/100m/0_0_1_100m/mic1/14.wav\n",
            "Skipping already processed: /content/drive/MyDrive/sevenlumi_data/luminator_dataset_augmented/ak/100m/0_0_1_100m/mic1/13.wav\n",
            "Skipping already processed: /content/drive/MyDrive/sevenlumi_data/luminator_dataset_augmented/ak/100m/0_0_1_100m/mic1/4.wav\n",
            "Skipping already processed: /content/drive/MyDrive/sevenlumi_data/luminator_dataset_augmented/ak/100m/0_0_1_100m/mic1/12.wav\n",
            "Skipping already processed: /content/drive/MyDrive/sevenlumi_data/luminator_dataset_augmented/ak/100m/0_0_1_100m/mic1/16.wav\n",
            "Skipping already processed: /content/drive/MyDrive/sevenlumi_data/luminator_dataset_augmented/ak/100m/0_0_1_100m/mic1/9.wav\n",
            "Skipping already processed: /content/drive/MyDrive/sevenlumi_data/luminator_dataset_augmented/ak/100m/0_0_1_100m/mic1/11.wav\n",
            "Skipping already processed: /content/drive/MyDrive/sevenlumi_data/luminator_dataset_augmented/ak/100m/0_0_1_100m/mic1/2.wav\n",
            "Skipping already processed: /content/drive/MyDrive/sevenlumi_data/luminator_dataset_augmented/ak/100m/0_0_1_100m/mic1/3.wav\n"
          ]
        },
        {
          "output_type": "stream",
          "name": "stderr",
          "text": [
            "\r100%|██████████| 17/17 [00:00<00:00, 976.18it/s]\n"
          ]
        },
        {
          "output_type": "stream",
          "name": "stdout",
          "text": [
            "Skipping already processed: /content/drive/MyDrive/sevenlumi_data/luminator_dataset_augmented/ak/100m/0_0_1_100m/mic1/6.wav\n",
            "Skipping already processed: /content/drive/MyDrive/sevenlumi_data/luminator_dataset_augmented/ak/100m/0_0_1_100m/mic1/7.wav\n",
            "Skipping already processed: /content/drive/MyDrive/sevenlumi_data/luminator_dataset_augmented/ak/100m/0_0_1_100m/mic1/10.wav\n",
            "Skipping already processed: /content/drive/MyDrive/sevenlumi_data/luminator_dataset_augmented/ak/100m/0_0_1_100m/mic1/5.wav\n",
            "Skipping already processed: /content/drive/MyDrive/sevenlumi_data/luminator_dataset_augmented/ak/100m/0_0_1_100m/mic1/17.wav\n"
          ]
        },
        {
          "output_type": "stream",
          "name": "stderr",
          "text": [
            "\r  0%|          | 0/17 [00:00<?, ?it/s]"
          ]
        },
        {
          "output_type": "stream",
          "name": "stdout",
          "text": [
            "Skipping already processed: /content/drive/MyDrive/sevenlumi_data/luminator_dataset_augmented/ak/100m/0_0_1_100m/mic2/8.wav\n",
            "Skipping already processed: /content/drive/MyDrive/sevenlumi_data/luminator_dataset_augmented/ak/100m/0_0_1_100m/mic2/15.wav\n",
            "Skipping already processed: /content/drive/MyDrive/sevenlumi_data/luminator_dataset_augmented/ak/100m/0_0_1_100m/mic2/1.wav\n",
            "Skipping already processed: /content/drive/MyDrive/sevenlumi_data/luminator_dataset_augmented/ak/100m/0_0_1_100m/mic2/14.wav\n",
            "Skipping already processed: /content/drive/MyDrive/sevenlumi_data/luminator_dataset_augmented/ak/100m/0_0_1_100m/mic2/13.wav\n",
            "Skipping already processed: /content/drive/MyDrive/sevenlumi_data/luminator_dataset_augmented/ak/100m/0_0_1_100m/mic2/4.wav\n",
            "Skipping already processed: /content/drive/MyDrive/sevenlumi_data/luminator_dataset_augmented/ak/100m/0_0_1_100m/mic2/12.wav\n",
            "Skipping already processed: /content/drive/MyDrive/sevenlumi_data/luminator_dataset_augmented/ak/100m/0_0_1_100m/mic2/16.wav\n",
            "Skipping already processed: /content/drive/MyDrive/sevenlumi_data/luminator_dataset_augmented/ak/100m/0_0_1_100m/mic2/9.wav\n",
            "Skipping already processed: /content/drive/MyDrive/sevenlumi_data/luminator_dataset_augmented/ak/100m/0_0_1_100m/mic2/11.wav\n",
            "Skipping already processed: /content/drive/MyDrive/sevenlumi_data/luminator_dataset_augmented/ak/100m/0_0_1_100m/mic2/2.wav\n",
            "Skipping already processed: /content/drive/MyDrive/sevenlumi_data/luminator_dataset_augmented/ak/100m/0_0_1_100m/mic2/3.wav\n"
          ]
        },
        {
          "output_type": "stream",
          "name": "stderr",
          "text": [
            "\r100%|██████████| 17/17 [00:00<00:00, 1027.93it/s]\n"
          ]
        },
        {
          "output_type": "stream",
          "name": "stdout",
          "text": [
            "Skipping already processed: /content/drive/MyDrive/sevenlumi_data/luminator_dataset_augmented/ak/100m/0_0_1_100m/mic2/6.wav\n",
            "Skipping already processed: /content/drive/MyDrive/sevenlumi_data/luminator_dataset_augmented/ak/100m/0_0_1_100m/mic2/7.wav\n",
            "Skipping already processed: /content/drive/MyDrive/sevenlumi_data/luminator_dataset_augmented/ak/100m/0_0_1_100m/mic2/10.wav\n",
            "Skipping already processed: /content/drive/MyDrive/sevenlumi_data/luminator_dataset_augmented/ak/100m/0_0_1_100m/mic2/5.wav\n",
            "Skipping already processed: /content/drive/MyDrive/sevenlumi_data/luminator_dataset_augmented/ak/100m/0_0_1_100m/mic2/17.wav\n"
          ]
        },
        {
          "output_type": "stream",
          "name": "stderr",
          "text": [
            "\r  0%|          | 0/17 [00:00<?, ?it/s]"
          ]
        },
        {
          "output_type": "stream",
          "name": "stdout",
          "text": [
            "Skipping already processed: /content/drive/MyDrive/sevenlumi_data/luminator_dataset_augmented/ak/100m/0_0_1_100m/mic3/8.wav\n",
            "Skipping already processed: /content/drive/MyDrive/sevenlumi_data/luminator_dataset_augmented/ak/100m/0_0_1_100m/mic3/15.wav\n",
            "Skipping already processed: /content/drive/MyDrive/sevenlumi_data/luminator_dataset_augmented/ak/100m/0_0_1_100m/mic3/1.wav\n",
            "Skipping already processed: /content/drive/MyDrive/sevenlumi_data/luminator_dataset_augmented/ak/100m/0_0_1_100m/mic3/14.wav\n",
            "Skipping already processed: /content/drive/MyDrive/sevenlumi_data/luminator_dataset_augmented/ak/100m/0_0_1_100m/mic3/13.wav\n",
            "Skipping already processed: /content/drive/MyDrive/sevenlumi_data/luminator_dataset_augmented/ak/100m/0_0_1_100m/mic3/4.wav\n"
          ]
        },
        {
          "output_type": "stream",
          "name": "stderr",
          "text": [
            "\r100%|██████████| 17/17 [00:00<00:00, 1085.32it/s]\n"
          ]
        },
        {
          "output_type": "stream",
          "name": "stdout",
          "text": [
            "Skipping already processed: /content/drive/MyDrive/sevenlumi_data/luminator_dataset_augmented/ak/100m/0_0_1_100m/mic3/12.wav\n",
            "Skipping already processed: /content/drive/MyDrive/sevenlumi_data/luminator_dataset_augmented/ak/100m/0_0_1_100m/mic3/16.wav\n",
            "Skipping already processed: /content/drive/MyDrive/sevenlumi_data/luminator_dataset_augmented/ak/100m/0_0_1_100m/mic3/9.wav\n",
            "Skipping already processed: /content/drive/MyDrive/sevenlumi_data/luminator_dataset_augmented/ak/100m/0_0_1_100m/mic3/11.wav\n",
            "Skipping already processed: /content/drive/MyDrive/sevenlumi_data/luminator_dataset_augmented/ak/100m/0_0_1_100m/mic3/2.wav\n",
            "Skipping already processed: /content/drive/MyDrive/sevenlumi_data/luminator_dataset_augmented/ak/100m/0_0_1_100m/mic3/3.wav\n",
            "Skipping already processed: /content/drive/MyDrive/sevenlumi_data/luminator_dataset_augmented/ak/100m/0_0_1_100m/mic3/6.wav\n",
            "Skipping already processed: /content/drive/MyDrive/sevenlumi_data/luminator_dataset_augmented/ak/100m/0_0_1_100m/mic3/7.wav\n",
            "Skipping already processed: /content/drive/MyDrive/sevenlumi_data/luminator_dataset_augmented/ak/100m/0_0_1_100m/mic3/10.wav\n",
            "Skipping already processed: /content/drive/MyDrive/sevenlumi_data/luminator_dataset_augmented/ak/100m/0_0_1_100m/mic3/5.wav\n",
            "Skipping already processed: /content/drive/MyDrive/sevenlumi_data/luminator_dataset_augmented/ak/100m/0_0_1_100m/mic3/17.wav\n"
          ]
        },
        {
          "output_type": "stream",
          "name": "stderr",
          "text": [
            "100%|██████████| 17/17 [00:00<00:00, 1298.76it/s]"
          ]
        },
        {
          "output_type": "stream",
          "name": "stdout",
          "text": [
            "Skipping already processed: /content/drive/MyDrive/sevenlumi_data/luminator_dataset_augmented/ak/100m/0_0_1_100m/mic4/8.wav\n",
            "Skipping already processed: /content/drive/MyDrive/sevenlumi_data/luminator_dataset_augmented/ak/100m/0_0_1_100m/mic4/15.wav\n",
            "Skipping already processed: /content/drive/MyDrive/sevenlumi_data/luminator_dataset_augmented/ak/100m/0_0_1_100m/mic4/1.wav\n",
            "Skipping already processed: /content/drive/MyDrive/sevenlumi_data/luminator_dataset_augmented/ak/100m/0_0_1_100m/mic4/14.wav\n",
            "Skipping already processed: /content/drive/MyDrive/sevenlumi_data/luminator_dataset_augmented/ak/100m/0_0_1_100m/mic4/13.wav\n",
            "Skipping already processed: /content/drive/MyDrive/sevenlumi_data/luminator_dataset_augmented/ak/100m/0_0_1_100m/mic4/4.wav\n",
            "Skipping already processed: /content/drive/MyDrive/sevenlumi_data/luminator_dataset_augmented/ak/100m/0_0_1_100m/mic4/12.wav\n",
            "Skipping already processed: /content/drive/MyDrive/sevenlumi_data/luminator_dataset_augmented/ak/100m/0_0_1_100m/mic4/16.wav\n",
            "Skipping already processed: /content/drive/MyDrive/sevenlumi_data/luminator_dataset_augmented/ak/100m/0_0_1_100m/mic4/9.wav\n",
            "Skipping already processed: /content/drive/MyDrive/sevenlumi_data/luminator_dataset_augmented/ak/100m/0_0_1_100m/mic4/11.wav\n",
            "Skipping already processed: /content/drive/MyDrive/sevenlumi_data/luminator_dataset_augmented/ak/100m/0_0_1_100m/mic4/2.wav\n",
            "Skipping already processed: /content/drive/MyDrive/sevenlumi_data/luminator_dataset_augmented/ak/100m/0_0_1_100m/mic4/3.wav\n",
            "Skipping already processed: /content/drive/MyDrive/sevenlumi_data/luminator_dataset_augmented/ak/100m/0_0_1_100m/mic4/6.wav\n",
            "Skipping already processed: /content/drive/MyDrive/sevenlumi_data/luminator_dataset_augmented/ak/100m/0_0_1_100m/mic4/7.wav\n",
            "Skipping already processed: /content/drive/MyDrive/sevenlumi_data/luminator_dataset_augmented/ak/100m/0_0_1_100m/mic4/10.wav\n",
            "Skipping already processed: /content/drive/MyDrive/sevenlumi_data/luminator_dataset_augmented/ak/100m/0_0_1_100m/mic4/5.wav\n",
            "Skipping already processed: /content/drive/MyDrive/sevenlumi_data/luminator_dataset_augmented/ak/100m/0_0_1_100m/mic4/17.wav\n"
          ]
        },
        {
          "output_type": "stream",
          "name": "stderr",
          "text": [
            "\n",
            "0it [00:00, ?it/s]\n",
            "100%|██████████| 26/26 [00:00<00:00, 1306.78it/s]\n"
          ]
        },
        {
          "output_type": "stream",
          "name": "stdout",
          "text": [
            "Skipping already processed: /content/drive/MyDrive/sevenlumi_data/luminator_dataset_augmented/ak/100m/-1_0_0_100m/mic1/2.wav\n",
            "Skipping already processed: /content/drive/MyDrive/sevenlumi_data/luminator_dataset_augmented/ak/100m/-1_0_0_100m/mic1/1.wav\n",
            "Skipping already processed: /content/drive/MyDrive/sevenlumi_data/luminator_dataset_augmented/ak/100m/-1_0_0_100m/mic1/9.wav\n",
            "Skipping already processed: /content/drive/MyDrive/sevenlumi_data/luminator_dataset_augmented/ak/100m/-1_0_0_100m/mic1/15.wav\n",
            "Skipping already processed: /content/drive/MyDrive/sevenlumi_data/luminator_dataset_augmented/ak/100m/-1_0_0_100m/mic1/19.wav\n",
            "Skipping already processed: /content/drive/MyDrive/sevenlumi_data/luminator_dataset_augmented/ak/100m/-1_0_0_100m/mic1/4.wav\n",
            "Skipping already processed: /content/drive/MyDrive/sevenlumi_data/luminator_dataset_augmented/ak/100m/-1_0_0_100m/mic1/13.wav\n",
            "Skipping already processed: /content/drive/MyDrive/sevenlumi_data/luminator_dataset_augmented/ak/100m/-1_0_0_100m/mic1/17.wav\n",
            "Skipping already processed: /content/drive/MyDrive/sevenlumi_data/luminator_dataset_augmented/ak/100m/-1_0_0_100m/mic1/14.wav\n",
            "Skipping already processed: /content/drive/MyDrive/sevenlumi_data/luminator_dataset_augmented/ak/100m/-1_0_0_100m/mic1/12.wav\n",
            "Skipping already processed: /content/drive/MyDrive/sevenlumi_data/luminator_dataset_augmented/ak/100m/-1_0_0_100m/mic1/18.wav\n",
            "Skipping already processed: /content/drive/MyDrive/sevenlumi_data/luminator_dataset_augmented/ak/100m/-1_0_0_100m/mic1/11.wav\n",
            "Skipping already processed: /content/drive/MyDrive/sevenlumi_data/luminator_dataset_augmented/ak/100m/-1_0_0_100m/mic1/7.wav\n",
            "Skipping already processed: /content/drive/MyDrive/sevenlumi_data/luminator_dataset_augmented/ak/100m/-1_0_0_100m/mic1/10.wav\n",
            "Skipping already processed: /content/drive/MyDrive/sevenlumi_data/luminator_dataset_augmented/ak/100m/-1_0_0_100m/mic1/5.wav\n",
            "Skipping already processed: /content/drive/MyDrive/sevenlumi_data/luminator_dataset_augmented/ak/100m/-1_0_0_100m/mic1/20.wav\n",
            "Skipping already processed: /content/drive/MyDrive/sevenlumi_data/luminator_dataset_augmented/ak/100m/-1_0_0_100m/mic1/6.wav\n",
            "Skipping already processed: /content/drive/MyDrive/sevenlumi_data/luminator_dataset_augmented/ak/100m/-1_0_0_100m/mic1/16.wav\n",
            "Skipping already processed: /content/drive/MyDrive/sevenlumi_data/luminator_dataset_augmented/ak/100m/-1_0_0_100m/mic1/8.wav\n",
            "Skipping already processed: /content/drive/MyDrive/sevenlumi_data/luminator_dataset_augmented/ak/100m/-1_0_0_100m/mic1/3.wav\n",
            "Skipping already processed: /content/drive/MyDrive/sevenlumi_data/luminator_dataset_augmented/ak/100m/-1_0_0_100m/mic1/21.wav\n",
            "Skipping already processed: /content/drive/MyDrive/sevenlumi_data/luminator_dataset_augmented/ak/100m/-1_0_0_100m/mic1/22.wav\n",
            "Skipping already processed: /content/drive/MyDrive/sevenlumi_data/luminator_dataset_augmented/ak/100m/-1_0_0_100m/mic1/24.wav\n",
            "Skipping already processed: /content/drive/MyDrive/sevenlumi_data/luminator_dataset_augmented/ak/100m/-1_0_0_100m/mic1/26.wav\n",
            "Skipping already processed: /content/drive/MyDrive/sevenlumi_data/luminator_dataset_augmented/ak/100m/-1_0_0_100m/mic1/25.wav\n",
            "Skipping already processed: /content/drive/MyDrive/sevenlumi_data/luminator_dataset_augmented/ak/100m/-1_0_0_100m/mic1/23.wav\n"
          ]
        },
        {
          "output_type": "stream",
          "name": "stderr",
          "text": [
            "\r  0%|          | 0/26 [00:00<?, ?it/s]"
          ]
        },
        {
          "output_type": "stream",
          "name": "stdout",
          "text": [
            "Skipping already processed: /content/drive/MyDrive/sevenlumi_data/luminator_dataset_augmented/ak/100m/-1_0_0_100m/mic2/2.wav\n"
          ]
        },
        {
          "output_type": "stream",
          "name": "stderr",
          "text": [
            "\r100%|██████████| 26/26 [00:00<00:00, 1308.66it/s]\n"
          ]
        },
        {
          "output_type": "stream",
          "name": "stdout",
          "text": [
            "Skipping already processed: /content/drive/MyDrive/sevenlumi_data/luminator_dataset_augmented/ak/100m/-1_0_0_100m/mic2/1.wav\n",
            "Skipping already processed: /content/drive/MyDrive/sevenlumi_data/luminator_dataset_augmented/ak/100m/-1_0_0_100m/mic2/9.wav\n",
            "Skipping already processed: /content/drive/MyDrive/sevenlumi_data/luminator_dataset_augmented/ak/100m/-1_0_0_100m/mic2/15.wav\n",
            "Skipping already processed: /content/drive/MyDrive/sevenlumi_data/luminator_dataset_augmented/ak/100m/-1_0_0_100m/mic2/19.wav\n",
            "Skipping already processed: /content/drive/MyDrive/sevenlumi_data/luminator_dataset_augmented/ak/100m/-1_0_0_100m/mic2/4.wav\n",
            "Skipping already processed: /content/drive/MyDrive/sevenlumi_data/luminator_dataset_augmented/ak/100m/-1_0_0_100m/mic2/13.wav\n",
            "Skipping already processed: /content/drive/MyDrive/sevenlumi_data/luminator_dataset_augmented/ak/100m/-1_0_0_100m/mic2/17.wav\n",
            "Skipping already processed: /content/drive/MyDrive/sevenlumi_data/luminator_dataset_augmented/ak/100m/-1_0_0_100m/mic2/14.wav\n",
            "Skipping already processed: /content/drive/MyDrive/sevenlumi_data/luminator_dataset_augmented/ak/100m/-1_0_0_100m/mic2/12.wav\n",
            "Skipping already processed: /content/drive/MyDrive/sevenlumi_data/luminator_dataset_augmented/ak/100m/-1_0_0_100m/mic2/18.wav\n",
            "Skipping already processed: /content/drive/MyDrive/sevenlumi_data/luminator_dataset_augmented/ak/100m/-1_0_0_100m/mic2/11.wav\n",
            "Skipping already processed: /content/drive/MyDrive/sevenlumi_data/luminator_dataset_augmented/ak/100m/-1_0_0_100m/mic2/7.wav\n",
            "Skipping already processed: /content/drive/MyDrive/sevenlumi_data/luminator_dataset_augmented/ak/100m/-1_0_0_100m/mic2/10.wav\n",
            "Skipping already processed: /content/drive/MyDrive/sevenlumi_data/luminator_dataset_augmented/ak/100m/-1_0_0_100m/mic2/5.wav\n",
            "Skipping already processed: /content/drive/MyDrive/sevenlumi_data/luminator_dataset_augmented/ak/100m/-1_0_0_100m/mic2/20.wav\n",
            "Skipping already processed: /content/drive/MyDrive/sevenlumi_data/luminator_dataset_augmented/ak/100m/-1_0_0_100m/mic2/6.wav\n",
            "Skipping already processed: /content/drive/MyDrive/sevenlumi_data/luminator_dataset_augmented/ak/100m/-1_0_0_100m/mic2/16.wav\n",
            "Skipping already processed: /content/drive/MyDrive/sevenlumi_data/luminator_dataset_augmented/ak/100m/-1_0_0_100m/mic2/8.wav\n",
            "Skipping already processed: /content/drive/MyDrive/sevenlumi_data/luminator_dataset_augmented/ak/100m/-1_0_0_100m/mic2/3.wav\n",
            "Skipping already processed: /content/drive/MyDrive/sevenlumi_data/luminator_dataset_augmented/ak/100m/-1_0_0_100m/mic2/21.wav\n",
            "Skipping already processed: /content/drive/MyDrive/sevenlumi_data/luminator_dataset_augmented/ak/100m/-1_0_0_100m/mic2/22.wav\n",
            "Skipping already processed: /content/drive/MyDrive/sevenlumi_data/luminator_dataset_augmented/ak/100m/-1_0_0_100m/mic2/24.wav\n",
            "Skipping already processed: /content/drive/MyDrive/sevenlumi_data/luminator_dataset_augmented/ak/100m/-1_0_0_100m/mic2/26.wav\n",
            "Skipping already processed: /content/drive/MyDrive/sevenlumi_data/luminator_dataset_augmented/ak/100m/-1_0_0_100m/mic2/25.wav\n",
            "Skipping already processed: /content/drive/MyDrive/sevenlumi_data/luminator_dataset_augmented/ak/100m/-1_0_0_100m/mic2/23.wav\n"
          ]
        },
        {
          "output_type": "stream",
          "name": "stderr",
          "text": [
            "100%|██████████| 26/26 [00:00<00:00, 1180.16it/s]\n"
          ]
        },
        {
          "output_type": "stream",
          "name": "stdout",
          "text": [
            "Skipping already processed: /content/drive/MyDrive/sevenlumi_data/luminator_dataset_augmented/ak/100m/-1_0_0_100m/mic3/2.wav\n",
            "Skipping already processed: /content/drive/MyDrive/sevenlumi_data/luminator_dataset_augmented/ak/100m/-1_0_0_100m/mic3/1.wav\n",
            "Skipping already processed: /content/drive/MyDrive/sevenlumi_data/luminator_dataset_augmented/ak/100m/-1_0_0_100m/mic3/9.wav\n",
            "Skipping already processed: /content/drive/MyDrive/sevenlumi_data/luminator_dataset_augmented/ak/100m/-1_0_0_100m/mic3/15.wav\n",
            "Skipping already processed: /content/drive/MyDrive/sevenlumi_data/luminator_dataset_augmented/ak/100m/-1_0_0_100m/mic3/19.wav\n",
            "Skipping already processed: /content/drive/MyDrive/sevenlumi_data/luminator_dataset_augmented/ak/100m/-1_0_0_100m/mic3/4.wav\n",
            "Skipping already processed: /content/drive/MyDrive/sevenlumi_data/luminator_dataset_augmented/ak/100m/-1_0_0_100m/mic3/13.wav\n",
            "Skipping already processed: /content/drive/MyDrive/sevenlumi_data/luminator_dataset_augmented/ak/100m/-1_0_0_100m/mic3/17.wav\n",
            "Skipping already processed: /content/drive/MyDrive/sevenlumi_data/luminator_dataset_augmented/ak/100m/-1_0_0_100m/mic3/14.wav\n",
            "Skipping already processed: /content/drive/MyDrive/sevenlumi_data/luminator_dataset_augmented/ak/100m/-1_0_0_100m/mic3/12.wav\n",
            "Skipping already processed: /content/drive/MyDrive/sevenlumi_data/luminator_dataset_augmented/ak/100m/-1_0_0_100m/mic3/18.wav\n",
            "Skipping already processed: /content/drive/MyDrive/sevenlumi_data/luminator_dataset_augmented/ak/100m/-1_0_0_100m/mic3/11.wav\n",
            "Skipping already processed: /content/drive/MyDrive/sevenlumi_data/luminator_dataset_augmented/ak/100m/-1_0_0_100m/mic3/7.wav\n",
            "Skipping already processed: /content/drive/MyDrive/sevenlumi_data/luminator_dataset_augmented/ak/100m/-1_0_0_100m/mic3/10.wav\n",
            "Skipping already processed: /content/drive/MyDrive/sevenlumi_data/luminator_dataset_augmented/ak/100m/-1_0_0_100m/mic3/5.wav\n",
            "Skipping already processed: /content/drive/MyDrive/sevenlumi_data/luminator_dataset_augmented/ak/100m/-1_0_0_100m/mic3/20.wav\n",
            "Skipping already processed: /content/drive/MyDrive/sevenlumi_data/luminator_dataset_augmented/ak/100m/-1_0_0_100m/mic3/6.wav\n",
            "Skipping already processed: /content/drive/MyDrive/sevenlumi_data/luminator_dataset_augmented/ak/100m/-1_0_0_100m/mic3/16.wav\n",
            "Skipping already processed: /content/drive/MyDrive/sevenlumi_data/luminator_dataset_augmented/ak/100m/-1_0_0_100m/mic3/8.wav\n",
            "Skipping already processed: /content/drive/MyDrive/sevenlumi_data/luminator_dataset_augmented/ak/100m/-1_0_0_100m/mic3/3.wav\n",
            "Skipping already processed: /content/drive/MyDrive/sevenlumi_data/luminator_dataset_augmented/ak/100m/-1_0_0_100m/mic3/21.wav\n",
            "Skipping already processed: /content/drive/MyDrive/sevenlumi_data/luminator_dataset_augmented/ak/100m/-1_0_0_100m/mic3/22.wav\n",
            "Skipping already processed: /content/drive/MyDrive/sevenlumi_data/luminator_dataset_augmented/ak/100m/-1_0_0_100m/mic3/24.wav\n",
            "Skipping already processed: /content/drive/MyDrive/sevenlumi_data/luminator_dataset_augmented/ak/100m/-1_0_0_100m/mic3/26.wav\n",
            "Skipping already processed: /content/drive/MyDrive/sevenlumi_data/luminator_dataset_augmented/ak/100m/-1_0_0_100m/mic3/25.wav\n",
            "Skipping already processed: /content/drive/MyDrive/sevenlumi_data/luminator_dataset_augmented/ak/100m/-1_0_0_100m/mic3/23.wav\n"
          ]
        },
        {
          "output_type": "stream",
          "name": "stderr",
          "text": [
            "\r  0%|          | 0/26 [00:00<?, ?it/s]"
          ]
        },
        {
          "output_type": "stream",
          "name": "stdout",
          "text": [
            "Skipping already processed: /content/drive/MyDrive/sevenlumi_data/luminator_dataset_augmented/ak/100m/-1_0_0_100m/mic4/2.wav\n",
            "Skipping already processed: /content/drive/MyDrive/sevenlumi_data/luminator_dataset_augmented/ak/100m/-1_0_0_100m/mic4/1.wav\n",
            "Skipping already processed: /content/drive/MyDrive/sevenlumi_data/luminator_dataset_augmented/ak/100m/-1_0_0_100m/mic4/9.wav\n",
            "Skipping already processed: /content/drive/MyDrive/sevenlumi_data/luminator_dataset_augmented/ak/100m/-1_0_0_100m/mic4/15.wav\n",
            "Skipping already processed: /content/drive/MyDrive/sevenlumi_data/luminator_dataset_augmented/ak/100m/-1_0_0_100m/mic4/19.wav\n",
            "Skipping already processed: /content/drive/MyDrive/sevenlumi_data/luminator_dataset_augmented/ak/100m/-1_0_0_100m/mic4/4.wav\n",
            "Skipping already processed: /content/drive/MyDrive/sevenlumi_data/luminator_dataset_augmented/ak/100m/-1_0_0_100m/mic4/13.wav\n",
            "Skipping already processed: /content/drive/MyDrive/sevenlumi_data/luminator_dataset_augmented/ak/100m/-1_0_0_100m/mic4/17.wav\n",
            "Skipping already processed: /content/drive/MyDrive/sevenlumi_data/luminator_dataset_augmented/ak/100m/-1_0_0_100m/mic4/14.wav\n",
            "Skipping already processed: /content/drive/MyDrive/sevenlumi_data/luminator_dataset_augmented/ak/100m/-1_0_0_100m/mic4/12.wav\n",
            "Skipping already processed: /content/drive/MyDrive/sevenlumi_data/luminator_dataset_augmented/ak/100m/-1_0_0_100m/mic4/18.wav\n",
            "Skipping already processed: /content/drive/MyDrive/sevenlumi_data/luminator_dataset_augmented/ak/100m/-1_0_0_100m/mic4/11.wav\n",
            "Skipping already processed: /content/drive/MyDrive/sevenlumi_data/luminator_dataset_augmented/ak/100m/-1_0_0_100m/mic4/7.wav\n",
            "Skipping already processed: /content/drive/MyDrive/sevenlumi_data/luminator_dataset_augmented/ak/100m/-1_0_0_100m/mic4/10.wav\n"
          ]
        },
        {
          "output_type": "stream",
          "name": "stderr",
          "text": [
            "\r100%|██████████| 26/26 [00:00<00:00, 1261.52it/s]\n"
          ]
        },
        {
          "output_type": "stream",
          "name": "stdout",
          "text": [
            "Skipping already processed: /content/drive/MyDrive/sevenlumi_data/luminator_dataset_augmented/ak/100m/-1_0_0_100m/mic4/5.wav\n",
            "Skipping already processed: /content/drive/MyDrive/sevenlumi_data/luminator_dataset_augmented/ak/100m/-1_0_0_100m/mic4/20.wav\n",
            "Skipping already processed: /content/drive/MyDrive/sevenlumi_data/luminator_dataset_augmented/ak/100m/-1_0_0_100m/mic4/6.wav\n",
            "Skipping already processed: /content/drive/MyDrive/sevenlumi_data/luminator_dataset_augmented/ak/100m/-1_0_0_100m/mic4/16.wav\n",
            "Skipping already processed: /content/drive/MyDrive/sevenlumi_data/luminator_dataset_augmented/ak/100m/-1_0_0_100m/mic4/8.wav\n",
            "Skipping already processed: /content/drive/MyDrive/sevenlumi_data/luminator_dataset_augmented/ak/100m/-1_0_0_100m/mic4/3.wav\n",
            "Skipping already processed: /content/drive/MyDrive/sevenlumi_data/luminator_dataset_augmented/ak/100m/-1_0_0_100m/mic4/21.wav\n",
            "Skipping already processed: /content/drive/MyDrive/sevenlumi_data/luminator_dataset_augmented/ak/100m/-1_0_0_100m/mic4/22.wav\n",
            "Skipping already processed: /content/drive/MyDrive/sevenlumi_data/luminator_dataset_augmented/ak/100m/-1_0_0_100m/mic4/24.wav\n",
            "Skipping already processed: /content/drive/MyDrive/sevenlumi_data/luminator_dataset_augmented/ak/100m/-1_0_0_100m/mic4/26.wav\n",
            "Skipping already processed: /content/drive/MyDrive/sevenlumi_data/luminator_dataset_augmented/ak/100m/-1_0_0_100m/mic4/25.wav\n",
            "Skipping already processed: /content/drive/MyDrive/sevenlumi_data/luminator_dataset_augmented/ak/100m/-1_0_0_100m/mic4/23.wav\n"
          ]
        },
        {
          "output_type": "stream",
          "name": "stderr",
          "text": [
            "0it [00:00, ?it/s]\n",
            "  0%|          | 0/22 [00:00<?, ?it/s]"
          ]
        },
        {
          "output_type": "stream",
          "name": "stdout",
          "text": [
            "Skipping already processed: /content/drive/MyDrive/sevenlumi_data/luminator_dataset_augmented/ak/100m/0_0_-1_100m/mic1/2.wav\n",
            "Skipping already processed: /content/drive/MyDrive/sevenlumi_data/luminator_dataset_augmented/ak/100m/0_0_-1_100m/mic1/9.wav\n",
            "Skipping already processed: /content/drive/MyDrive/sevenlumi_data/luminator_dataset_augmented/ak/100m/0_0_-1_100m/mic1/15.wav\n",
            "Skipping already processed: /content/drive/MyDrive/sevenlumi_data/luminator_dataset_augmented/ak/100m/0_0_-1_100m/mic1/16.wav\n",
            "Skipping already processed: /content/drive/MyDrive/sevenlumi_data/luminator_dataset_augmented/ak/100m/0_0_-1_100m/mic1/19.wav\n",
            "Skipping already processed: /content/drive/MyDrive/sevenlumi_data/luminator_dataset_augmented/ak/100m/0_0_-1_100m/mic1/14.wav\n",
            "Skipping already processed: /content/drive/MyDrive/sevenlumi_data/luminator_dataset_augmented/ak/100m/0_0_-1_100m/mic1/18.wav\n",
            "Skipping already processed: /content/drive/MyDrive/sevenlumi_data/luminator_dataset_augmented/ak/100m/0_0_-1_100m/mic1/4.wav\n",
            "Skipping already processed: /content/drive/MyDrive/sevenlumi_data/luminator_dataset_augmented/ak/100m/0_0_-1_100m/mic1/1.wav\n",
            "Skipping already processed: /content/drive/MyDrive/sevenlumi_data/luminator_dataset_augmented/ak/100m/0_0_-1_100m/mic1/20.wav\n",
            "Skipping already processed: /content/drive/MyDrive/sevenlumi_data/luminator_dataset_augmented/ak/100m/0_0_-1_100m/mic1/17.wav\n",
            "Skipping already processed: /content/drive/MyDrive/sevenlumi_data/luminator_dataset_augmented/ak/100m/0_0_-1_100m/mic1/7.wav\n",
            "Skipping already processed: /content/drive/MyDrive/sevenlumi_data/luminator_dataset_augmented/ak/100m/0_0_-1_100m/mic1/3.wav\n",
            "Skipping already processed: /content/drive/MyDrive/sevenlumi_data/luminator_dataset_augmented/ak/100m/0_0_-1_100m/mic1/6.wav\n",
            "Skipping already processed: /content/drive/MyDrive/sevenlumi_data/luminator_dataset_augmented/ak/100m/0_0_-1_100m/mic1/5.wav\n",
            "Skipping already processed: /content/drive/MyDrive/sevenlumi_data/luminator_dataset_augmented/ak/100m/0_0_-1_100m/mic1/13.wav\n",
            "Skipping already processed: /content/drive/MyDrive/sevenlumi_data/luminator_dataset_augmented/ak/100m/0_0_-1_100m/mic1/10.wav\n",
            "Skipping already processed: /content/drive/MyDrive/sevenlumi_data/luminator_dataset_augmented/ak/100m/0_0_-1_100m/mic1/8.wav\n",
            "Skipping already processed: /content/drive/MyDrive/sevenlumi_data/luminator_dataset_augmented/ak/100m/0_0_-1_100m/mic1/12.wav\n"
          ]
        },
        {
          "output_type": "stream",
          "name": "stderr",
          "text": [
            "\r100%|██████████| 22/22 [00:00<00:00, 1209.87it/s]\n"
          ]
        },
        {
          "output_type": "stream",
          "name": "stdout",
          "text": [
            "Skipping already processed: /content/drive/MyDrive/sevenlumi_data/luminator_dataset_augmented/ak/100m/0_0_-1_100m/mic1/11.wav\n",
            "Skipping already processed: /content/drive/MyDrive/sevenlumi_data/luminator_dataset_augmented/ak/100m/0_0_-1_100m/mic1/22.wav\n",
            "Skipping already processed: /content/drive/MyDrive/sevenlumi_data/luminator_dataset_augmented/ak/100m/0_0_-1_100m/mic1/21.wav\n"
          ]
        },
        {
          "output_type": "stream",
          "name": "stderr",
          "text": [
            "\r  0%|          | 0/22 [00:00<?, ?it/s]"
          ]
        },
        {
          "output_type": "stream",
          "name": "stdout",
          "text": [
            "Skipping already processed: /content/drive/MyDrive/sevenlumi_data/luminator_dataset_augmented/ak/100m/0_0_-1_100m/mic2/2.wav\n",
            "Skipping already processed: /content/drive/MyDrive/sevenlumi_data/luminator_dataset_augmented/ak/100m/0_0_-1_100m/mic2/9.wav\n",
            "Skipping already processed: /content/drive/MyDrive/sevenlumi_data/luminator_dataset_augmented/ak/100m/0_0_-1_100m/mic2/15.wav\n",
            "Skipping already processed: /content/drive/MyDrive/sevenlumi_data/luminator_dataset_augmented/ak/100m/0_0_-1_100m/mic2/16.wav\n",
            "Skipping already processed: /content/drive/MyDrive/sevenlumi_data/luminator_dataset_augmented/ak/100m/0_0_-1_100m/mic2/19.wav\n",
            "Skipping already processed: /content/drive/MyDrive/sevenlumi_data/luminator_dataset_augmented/ak/100m/0_0_-1_100m/mic2/14.wav\n",
            "Skipping already processed: /content/drive/MyDrive/sevenlumi_data/luminator_dataset_augmented/ak/100m/0_0_-1_100m/mic2/18.wav\n",
            "Skipping already processed: /content/drive/MyDrive/sevenlumi_data/luminator_dataset_augmented/ak/100m/0_0_-1_100m/mic2/4.wav\n",
            "Skipping already processed: /content/drive/MyDrive/sevenlumi_data/luminator_dataset_augmented/ak/100m/0_0_-1_100m/mic2/1.wav\n",
            "Skipping already processed: /content/drive/MyDrive/sevenlumi_data/luminator_dataset_augmented/ak/100m/0_0_-1_100m/mic2/20.wav\n",
            "Skipping already processed: /content/drive/MyDrive/sevenlumi_data/luminator_dataset_augmented/ak/100m/0_0_-1_100m/mic2/17.wav\n",
            "Skipping already processed: /content/drive/MyDrive/sevenlumi_data/luminator_dataset_augmented/ak/100m/0_0_-1_100m/mic2/7.wav\n",
            "Skipping already processed: /content/drive/MyDrive/sevenlumi_data/luminator_dataset_augmented/ak/100m/0_0_-1_100m/mic2/3.wav\n",
            "Skipping already processed: /content/drive/MyDrive/sevenlumi_data/luminator_dataset_augmented/ak/100m/0_0_-1_100m/mic2/6.wav\n",
            "Skipping already processed: /content/drive/MyDrive/sevenlumi_data/luminator_dataset_augmented/ak/100m/0_0_-1_100m/mic2/5.wav\n",
            "Skipping already processed: /content/drive/MyDrive/sevenlumi_data/luminator_dataset_augmented/ak/100m/0_0_-1_100m/mic2/13.wav\n",
            "Skipping already processed: /content/drive/MyDrive/sevenlumi_data/luminator_dataset_augmented/ak/100m/0_0_-1_100m/mic2/10.wav\n",
            "Skipping already processed: /content/drive/MyDrive/sevenlumi_data/luminator_dataset_augmented/ak/100m/0_0_-1_100m/mic2/8.wav\n",
            "Skipping already processed: /content/drive/MyDrive/sevenlumi_data/luminator_dataset_augmented/ak/100m/0_0_-1_100m/mic2/12.wav\n",
            "Skipping already processed: /content/drive/MyDrive/sevenlumi_data/luminator_dataset_augmented/ak/100m/0_0_-1_100m/mic2/11.wav\n",
            "Skipping already processed: /content/drive/MyDrive/sevenlumi_data/luminator_dataset_augmented/ak/100m/0_0_-1_100m/mic2/22.wav\n"
          ]
        },
        {
          "output_type": "stream",
          "name": "stderr",
          "text": [
            "\r100%|██████████| 22/22 [00:00<00:00, 1210.30it/s]\n"
          ]
        },
        {
          "output_type": "stream",
          "name": "stdout",
          "text": [
            "Skipping already processed: /content/drive/MyDrive/sevenlumi_data/luminator_dataset_augmented/ak/100m/0_0_-1_100m/mic2/21.wav\n"
          ]
        },
        {
          "output_type": "stream",
          "name": "stderr",
          "text": [
            "\r  0%|          | 0/22 [00:00<?, ?it/s]"
          ]
        },
        {
          "output_type": "stream",
          "name": "stdout",
          "text": [
            "Skipping already processed: /content/drive/MyDrive/sevenlumi_data/luminator_dataset_augmented/ak/100m/0_0_-1_100m/mic3/2.wav\n",
            "Skipping already processed: /content/drive/MyDrive/sevenlumi_data/luminator_dataset_augmented/ak/100m/0_0_-1_100m/mic3/9.wav\n",
            "Skipping already processed: /content/drive/MyDrive/sevenlumi_data/luminator_dataset_augmented/ak/100m/0_0_-1_100m/mic3/15.wav\n",
            "Skipping already processed: /content/drive/MyDrive/sevenlumi_data/luminator_dataset_augmented/ak/100m/0_0_-1_100m/mic3/16.wav\n",
            "Skipping already processed: /content/drive/MyDrive/sevenlumi_data/luminator_dataset_augmented/ak/100m/0_0_-1_100m/mic3/19.wav\n",
            "Skipping already processed: /content/drive/MyDrive/sevenlumi_data/luminator_dataset_augmented/ak/100m/0_0_-1_100m/mic3/14.wav\n",
            "Skipping already processed: /content/drive/MyDrive/sevenlumi_data/luminator_dataset_augmented/ak/100m/0_0_-1_100m/mic3/18.wav\n",
            "Skipping already processed: /content/drive/MyDrive/sevenlumi_data/luminator_dataset_augmented/ak/100m/0_0_-1_100m/mic3/4.wav\n",
            "Skipping already processed: /content/drive/MyDrive/sevenlumi_data/luminator_dataset_augmented/ak/100m/0_0_-1_100m/mic3/1.wav\n",
            "Skipping already processed: /content/drive/MyDrive/sevenlumi_data/luminator_dataset_augmented/ak/100m/0_0_-1_100m/mic3/20.wav\n",
            "Skipping already processed: /content/drive/MyDrive/sevenlumi_data/luminator_dataset_augmented/ak/100m/0_0_-1_100m/mic3/17.wav\n",
            "Skipping already processed: /content/drive/MyDrive/sevenlumi_data/luminator_dataset_augmented/ak/100m/0_0_-1_100m/mic3/7.wav\n"
          ]
        },
        {
          "output_type": "stream",
          "name": "stderr",
          "text": [
            "\r100%|██████████| 22/22 [00:00<00:00, 1164.23it/s]\n"
          ]
        },
        {
          "output_type": "stream",
          "name": "stdout",
          "text": [
            "Skipping already processed: /content/drive/MyDrive/sevenlumi_data/luminator_dataset_augmented/ak/100m/0_0_-1_100m/mic3/3.wav\n",
            "Skipping already processed: /content/drive/MyDrive/sevenlumi_data/luminator_dataset_augmented/ak/100m/0_0_-1_100m/mic3/6.wav\n",
            "Skipping already processed: /content/drive/MyDrive/sevenlumi_data/luminator_dataset_augmented/ak/100m/0_0_-1_100m/mic3/5.wav\n",
            "Skipping already processed: /content/drive/MyDrive/sevenlumi_data/luminator_dataset_augmented/ak/100m/0_0_-1_100m/mic3/13.wav\n",
            "Skipping already processed: /content/drive/MyDrive/sevenlumi_data/luminator_dataset_augmented/ak/100m/0_0_-1_100m/mic3/10.wav\n",
            "Skipping already processed: /content/drive/MyDrive/sevenlumi_data/luminator_dataset_augmented/ak/100m/0_0_-1_100m/mic3/8.wav\n",
            "Skipping already processed: /content/drive/MyDrive/sevenlumi_data/luminator_dataset_augmented/ak/100m/0_0_-1_100m/mic3/12.wav\n",
            "Skipping already processed: /content/drive/MyDrive/sevenlumi_data/luminator_dataset_augmented/ak/100m/0_0_-1_100m/mic3/11.wav\n",
            "Skipping already processed: /content/drive/MyDrive/sevenlumi_data/luminator_dataset_augmented/ak/100m/0_0_-1_100m/mic3/22.wav\n",
            "Skipping already processed: /content/drive/MyDrive/sevenlumi_data/luminator_dataset_augmented/ak/100m/0_0_-1_100m/mic3/21.wav\n"
          ]
        },
        {
          "output_type": "stream",
          "name": "stderr",
          "text": [
            "100%|██████████| 22/22 [00:00<00:00, 1241.97it/s]\n"
          ]
        },
        {
          "output_type": "stream",
          "name": "stdout",
          "text": [
            "Skipping already processed: /content/drive/MyDrive/sevenlumi_data/luminator_dataset_augmented/ak/100m/0_0_-1_100m/mic4/2.wav\n",
            "Skipping already processed: /content/drive/MyDrive/sevenlumi_data/luminator_dataset_augmented/ak/100m/0_0_-1_100m/mic4/9.wav\n",
            "Skipping already processed: /content/drive/MyDrive/sevenlumi_data/luminator_dataset_augmented/ak/100m/0_0_-1_100m/mic4/15.wav\n",
            "Skipping already processed: /content/drive/MyDrive/sevenlumi_data/luminator_dataset_augmented/ak/100m/0_0_-1_100m/mic4/16.wav\n",
            "Skipping already processed: /content/drive/MyDrive/sevenlumi_data/luminator_dataset_augmented/ak/100m/0_0_-1_100m/mic4/19.wav\n",
            "Skipping already processed: /content/drive/MyDrive/sevenlumi_data/luminator_dataset_augmented/ak/100m/0_0_-1_100m/mic4/14.wav\n",
            "Skipping already processed: /content/drive/MyDrive/sevenlumi_data/luminator_dataset_augmented/ak/100m/0_0_-1_100m/mic4/18.wav\n",
            "Skipping already processed: /content/drive/MyDrive/sevenlumi_data/luminator_dataset_augmented/ak/100m/0_0_-1_100m/mic4/4.wav\n",
            "Skipping already processed: /content/drive/MyDrive/sevenlumi_data/luminator_dataset_augmented/ak/100m/0_0_-1_100m/mic4/1.wav\n",
            "Skipping already processed: /content/drive/MyDrive/sevenlumi_data/luminator_dataset_augmented/ak/100m/0_0_-1_100m/mic4/20.wav\n",
            "Skipping already processed: /content/drive/MyDrive/sevenlumi_data/luminator_dataset_augmented/ak/100m/0_0_-1_100m/mic4/17.wav\n",
            "Skipping already processed: /content/drive/MyDrive/sevenlumi_data/luminator_dataset_augmented/ak/100m/0_0_-1_100m/mic4/7.wav\n",
            "Skipping already processed: /content/drive/MyDrive/sevenlumi_data/luminator_dataset_augmented/ak/100m/0_0_-1_100m/mic4/3.wav\n",
            "Skipping already processed: /content/drive/MyDrive/sevenlumi_data/luminator_dataset_augmented/ak/100m/0_0_-1_100m/mic4/6.wav\n",
            "Skipping already processed: /content/drive/MyDrive/sevenlumi_data/luminator_dataset_augmented/ak/100m/0_0_-1_100m/mic4/5.wav\n",
            "Skipping already processed: /content/drive/MyDrive/sevenlumi_data/luminator_dataset_augmented/ak/100m/0_0_-1_100m/mic4/13.wav\n",
            "Skipping already processed: /content/drive/MyDrive/sevenlumi_data/luminator_dataset_augmented/ak/100m/0_0_-1_100m/mic4/10.wav\n",
            "Skipping already processed: /content/drive/MyDrive/sevenlumi_data/luminator_dataset_augmented/ak/100m/0_0_-1_100m/mic4/8.wav\n",
            "Skipping already processed: /content/drive/MyDrive/sevenlumi_data/luminator_dataset_augmented/ak/100m/0_0_-1_100m/mic4/12.wav\n",
            "Skipping already processed: /content/drive/MyDrive/sevenlumi_data/luminator_dataset_augmented/ak/100m/0_0_-1_100m/mic4/11.wav\n",
            "Skipping already processed: /content/drive/MyDrive/sevenlumi_data/luminator_dataset_augmented/ak/100m/0_0_-1_100m/mic4/22.wav\n",
            "Skipping already processed: /content/drive/MyDrive/sevenlumi_data/luminator_dataset_augmented/ak/100m/0_0_-1_100m/mic4/21.wav\n"
          ]
        },
        {
          "output_type": "stream",
          "name": "stderr",
          "text": [
            "0it [00:00, ?it/s]\n",
            "0it [00:00, ?it/s]\n",
            "  0%|          | 0/20 [00:00<?, ?it/s]"
          ]
        },
        {
          "output_type": "stream",
          "name": "stdout",
          "text": [
            "Skipping already processed: /content/drive/MyDrive/sevenlumi_data/luminator_dataset_augmented/ak/50m/1_0_0_50m/mic1/8.wav\n",
            "Skipping already processed: /content/drive/MyDrive/sevenlumi_data/luminator_dataset_augmented/ak/50m/1_0_0_50m/mic1/6.wav\n",
            "Skipping already processed: /content/drive/MyDrive/sevenlumi_data/luminator_dataset_augmented/ak/50m/1_0_0_50m/mic1/3.wav\n",
            "Skipping already processed: /content/drive/MyDrive/sevenlumi_data/luminator_dataset_augmented/ak/50m/1_0_0_50m/mic1/7.wav\n",
            "Skipping already processed: /content/drive/MyDrive/sevenlumi_data/luminator_dataset_augmented/ak/50m/1_0_0_50m/mic1/4.wav\n",
            "Skipping already processed: /content/drive/MyDrive/sevenlumi_data/luminator_dataset_augmented/ak/50m/1_0_0_50m/mic1/5.wav\n",
            "Skipping already processed: /content/drive/MyDrive/sevenlumi_data/luminator_dataset_augmented/ak/50m/1_0_0_50m/mic1/2.wav\n",
            "Skipping already processed: /content/drive/MyDrive/sevenlumi_data/luminator_dataset_augmented/ak/50m/1_0_0_50m/mic1/1.wav\n",
            "Skipping already processed: /content/drive/MyDrive/sevenlumi_data/luminator_dataset_augmented/ak/50m/1_0_0_50m/mic1/14.wav\n",
            "Skipping already processed: /content/drive/MyDrive/sevenlumi_data/luminator_dataset_augmented/ak/50m/1_0_0_50m/mic1/15.wav\n",
            "Skipping already processed: /content/drive/MyDrive/sevenlumi_data/luminator_dataset_augmented/ak/50m/1_0_0_50m/mic1/16.wav\n",
            "Skipping already processed: /content/drive/MyDrive/sevenlumi_data/luminator_dataset_augmented/ak/50m/1_0_0_50m/mic1/17.wav\n",
            "Skipping already processed: /content/drive/MyDrive/sevenlumi_data/luminator_dataset_augmented/ak/50m/1_0_0_50m/mic1/12.wav\n",
            "Skipping already processed: /content/drive/MyDrive/sevenlumi_data/luminator_dataset_augmented/ak/50m/1_0_0_50m/mic1/9.wav\n",
            "Skipping already processed: /content/drive/MyDrive/sevenlumi_data/luminator_dataset_augmented/ak/50m/1_0_0_50m/mic1/13.wav\n"
          ]
        },
        {
          "output_type": "stream",
          "name": "stderr",
          "text": [
            "\r100%|██████████| 20/20 [00:00<00:00, 912.25it/s]\n"
          ]
        },
        {
          "output_type": "stream",
          "name": "stdout",
          "text": [
            "Skipping already processed: /content/drive/MyDrive/sevenlumi_data/luminator_dataset_augmented/ak/50m/1_0_0_50m/mic1/18.wav\n",
            "Skipping already processed: /content/drive/MyDrive/sevenlumi_data/luminator_dataset_augmented/ak/50m/1_0_0_50m/mic1/10.wav\n",
            "Skipping already processed: /content/drive/MyDrive/sevenlumi_data/luminator_dataset_augmented/ak/50m/1_0_0_50m/mic1/19.wav\n",
            "Skipping already processed: /content/drive/MyDrive/sevenlumi_data/luminator_dataset_augmented/ak/50m/1_0_0_50m/mic1/20.wav\n",
            "Skipping already processed: /content/drive/MyDrive/sevenlumi_data/luminator_dataset_augmented/ak/50m/1_0_0_50m/mic1/11.wav\n"
          ]
        },
        {
          "output_type": "stream",
          "name": "stderr",
          "text": [
            "100%|██████████| 20/20 [00:00<00:00, 1135.11it/s]"
          ]
        },
        {
          "output_type": "stream",
          "name": "stdout",
          "text": [
            "Skipping already processed: /content/drive/MyDrive/sevenlumi_data/luminator_dataset_augmented/ak/50m/1_0_0_50m/mic2/8.wav\n",
            "Skipping already processed: /content/drive/MyDrive/sevenlumi_data/luminator_dataset_augmented/ak/50m/1_0_0_50m/mic2/6.wav\n",
            "Skipping already processed: /content/drive/MyDrive/sevenlumi_data/luminator_dataset_augmented/ak/50m/1_0_0_50m/mic2/3.wav\n",
            "Skipping already processed: /content/drive/MyDrive/sevenlumi_data/luminator_dataset_augmented/ak/50m/1_0_0_50m/mic2/7.wav\n",
            "Skipping already processed: /content/drive/MyDrive/sevenlumi_data/luminator_dataset_augmented/ak/50m/1_0_0_50m/mic2/4.wav\n",
            "Skipping already processed: /content/drive/MyDrive/sevenlumi_data/luminator_dataset_augmented/ak/50m/1_0_0_50m/mic2/5.wav\n",
            "Skipping already processed: /content/drive/MyDrive/sevenlumi_data/luminator_dataset_augmented/ak/50m/1_0_0_50m/mic2/2.wav\n",
            "Skipping already processed: /content/drive/MyDrive/sevenlumi_data/luminator_dataset_augmented/ak/50m/1_0_0_50m/mic2/1.wav\n",
            "Skipping already processed: /content/drive/MyDrive/sevenlumi_data/luminator_dataset_augmented/ak/50m/1_0_0_50m/mic2/14.wav\n",
            "Skipping already processed: /content/drive/MyDrive/sevenlumi_data/luminator_dataset_augmented/ak/50m/1_0_0_50m/mic2/15.wav\n",
            "Skipping already processed: /content/drive/MyDrive/sevenlumi_data/luminator_dataset_augmented/ak/50m/1_0_0_50m/mic2/16.wav\n",
            "Skipping already processed: /content/drive/MyDrive/sevenlumi_data/luminator_dataset_augmented/ak/50m/1_0_0_50m/mic2/17.wav\n",
            "Skipping already processed: /content/drive/MyDrive/sevenlumi_data/luminator_dataset_augmented/ak/50m/1_0_0_50m/mic2/12.wav\n",
            "Skipping already processed: /content/drive/MyDrive/sevenlumi_data/luminator_dataset_augmented/ak/50m/1_0_0_50m/mic2/9.wav\n",
            "Skipping already processed: /content/drive/MyDrive/sevenlumi_data/luminator_dataset_augmented/ak/50m/1_0_0_50m/mic2/13.wav\n",
            "Skipping already processed: /content/drive/MyDrive/sevenlumi_data/luminator_dataset_augmented/ak/50m/1_0_0_50m/mic2/18.wav\n",
            "Skipping already processed: /content/drive/MyDrive/sevenlumi_data/luminator_dataset_augmented/ak/50m/1_0_0_50m/mic2/10.wav\n",
            "Skipping already processed: /content/drive/MyDrive/sevenlumi_data/luminator_dataset_augmented/ak/50m/1_0_0_50m/mic2/19.wav\n",
            "Skipping already processed: /content/drive/MyDrive/sevenlumi_data/luminator_dataset_augmented/ak/50m/1_0_0_50m/mic2/20.wav\n",
            "Skipping already processed: /content/drive/MyDrive/sevenlumi_data/luminator_dataset_augmented/ak/50m/1_0_0_50m/mic2/11.wav\n"
          ]
        },
        {
          "output_type": "stream",
          "name": "stderr",
          "text": [
            "\n",
            "100%|██████████| 20/20 [00:00<00:00, 1068.08it/s]\n"
          ]
        },
        {
          "output_type": "stream",
          "name": "stdout",
          "text": [
            "Skipping already processed: /content/drive/MyDrive/sevenlumi_data/luminator_dataset_augmented/ak/50m/1_0_0_50m/mic3/8.wav\n",
            "Skipping already processed: /content/drive/MyDrive/sevenlumi_data/luminator_dataset_augmented/ak/50m/1_0_0_50m/mic3/6.wav\n",
            "Skipping already processed: /content/drive/MyDrive/sevenlumi_data/luminator_dataset_augmented/ak/50m/1_0_0_50m/mic3/3.wav\n",
            "Skipping already processed: /content/drive/MyDrive/sevenlumi_data/luminator_dataset_augmented/ak/50m/1_0_0_50m/mic3/7.wav\n",
            "Skipping already processed: /content/drive/MyDrive/sevenlumi_data/luminator_dataset_augmented/ak/50m/1_0_0_50m/mic3/4.wav\n",
            "Skipping already processed: /content/drive/MyDrive/sevenlumi_data/luminator_dataset_augmented/ak/50m/1_0_0_50m/mic3/5.wav\n",
            "Skipping already processed: /content/drive/MyDrive/sevenlumi_data/luminator_dataset_augmented/ak/50m/1_0_0_50m/mic3/2.wav\n",
            "Skipping already processed: /content/drive/MyDrive/sevenlumi_data/luminator_dataset_augmented/ak/50m/1_0_0_50m/mic3/1.wav\n",
            "Skipping already processed: /content/drive/MyDrive/sevenlumi_data/luminator_dataset_augmented/ak/50m/1_0_0_50m/mic3/14.wav\n",
            "Skipping already processed: /content/drive/MyDrive/sevenlumi_data/luminator_dataset_augmented/ak/50m/1_0_0_50m/mic3/15.wav\n",
            "Skipping already processed: /content/drive/MyDrive/sevenlumi_data/luminator_dataset_augmented/ak/50m/1_0_0_50m/mic3/16.wav\n",
            "Skipping already processed: /content/drive/MyDrive/sevenlumi_data/luminator_dataset_augmented/ak/50m/1_0_0_50m/mic3/17.wav\n",
            "Skipping already processed: /content/drive/MyDrive/sevenlumi_data/luminator_dataset_augmented/ak/50m/1_0_0_50m/mic3/12.wav\n",
            "Skipping already processed: /content/drive/MyDrive/sevenlumi_data/luminator_dataset_augmented/ak/50m/1_0_0_50m/mic3/9.wav\n",
            "Skipping already processed: /content/drive/MyDrive/sevenlumi_data/luminator_dataset_augmented/ak/50m/1_0_0_50m/mic3/13.wav\n",
            "Skipping already processed: /content/drive/MyDrive/sevenlumi_data/luminator_dataset_augmented/ak/50m/1_0_0_50m/mic3/18.wav\n",
            "Skipping already processed: /content/drive/MyDrive/sevenlumi_data/luminator_dataset_augmented/ak/50m/1_0_0_50m/mic3/10.wav\n",
            "Skipping already processed: /content/drive/MyDrive/sevenlumi_data/luminator_dataset_augmented/ak/50m/1_0_0_50m/mic3/19.wav\n",
            "Skipping already processed: /content/drive/MyDrive/sevenlumi_data/luminator_dataset_augmented/ak/50m/1_0_0_50m/mic3/20.wav\n",
            "Skipping already processed: /content/drive/MyDrive/sevenlumi_data/luminator_dataset_augmented/ak/50m/1_0_0_50m/mic3/11.wav\n"
          ]
        },
        {
          "output_type": "stream",
          "name": "stderr",
          "text": [
            "\r  0%|          | 0/20 [00:00<?, ?it/s]"
          ]
        },
        {
          "output_type": "stream",
          "name": "stdout",
          "text": [
            "Skipping already processed: /content/drive/MyDrive/sevenlumi_data/luminator_dataset_augmented/ak/50m/1_0_0_50m/mic4/8.wav\n",
            "Skipping already processed: /content/drive/MyDrive/sevenlumi_data/luminator_dataset_augmented/ak/50m/1_0_0_50m/mic4/6.wav\n",
            "Skipping already processed: /content/drive/MyDrive/sevenlumi_data/luminator_dataset_augmented/ak/50m/1_0_0_50m/mic4/3.wav\n",
            "Skipping already processed: /content/drive/MyDrive/sevenlumi_data/luminator_dataset_augmented/ak/50m/1_0_0_50m/mic4/7.wav\n",
            "Skipping already processed: /content/drive/MyDrive/sevenlumi_data/luminator_dataset_augmented/ak/50m/1_0_0_50m/mic4/4.wav\n",
            "Skipping already processed: /content/drive/MyDrive/sevenlumi_data/luminator_dataset_augmented/ak/50m/1_0_0_50m/mic4/5.wav\n",
            "Skipping already processed: /content/drive/MyDrive/sevenlumi_data/luminator_dataset_augmented/ak/50m/1_0_0_50m/mic4/2.wav\n",
            "Skipping already processed: /content/drive/MyDrive/sevenlumi_data/luminator_dataset_augmented/ak/50m/1_0_0_50m/mic4/1.wav\n",
            "Skipping already processed: /content/drive/MyDrive/sevenlumi_data/luminator_dataset_augmented/ak/50m/1_0_0_50m/mic4/14.wav\n",
            "Skipping already processed: /content/drive/MyDrive/sevenlumi_data/luminator_dataset_augmented/ak/50m/1_0_0_50m/mic4/15.wav\n",
            "Skipping already processed: /content/drive/MyDrive/sevenlumi_data/luminator_dataset_augmented/ak/50m/1_0_0_50m/mic4/16.wav\n"
          ]
        },
        {
          "output_type": "stream",
          "name": "stderr",
          "text": [
            "\r100%|██████████| 20/20 [00:00<00:00, 916.05it/s]\n"
          ]
        },
        {
          "output_type": "stream",
          "name": "stdout",
          "text": [
            "Skipping already processed: /content/drive/MyDrive/sevenlumi_data/luminator_dataset_augmented/ak/50m/1_0_0_50m/mic4/17.wav\n",
            "Skipping already processed: /content/drive/MyDrive/sevenlumi_data/luminator_dataset_augmented/ak/50m/1_0_0_50m/mic4/12.wav\n",
            "Skipping already processed: /content/drive/MyDrive/sevenlumi_data/luminator_dataset_augmented/ak/50m/1_0_0_50m/mic4/9.wav\n",
            "Skipping already processed: /content/drive/MyDrive/sevenlumi_data/luminator_dataset_augmented/ak/50m/1_0_0_50m/mic4/13.wav\n",
            "Skipping already processed: /content/drive/MyDrive/sevenlumi_data/luminator_dataset_augmented/ak/50m/1_0_0_50m/mic4/18.wav\n",
            "Skipping already processed: /content/drive/MyDrive/sevenlumi_data/luminator_dataset_augmented/ak/50m/1_0_0_50m/mic4/10.wav\n",
            "Skipping already processed: /content/drive/MyDrive/sevenlumi_data/luminator_dataset_augmented/ak/50m/1_0_0_50m/mic4/19.wav\n",
            "Skipping already processed: /content/drive/MyDrive/sevenlumi_data/luminator_dataset_augmented/ak/50m/1_0_0_50m/mic4/20.wav\n",
            "Skipping already processed: /content/drive/MyDrive/sevenlumi_data/luminator_dataset_augmented/ak/50m/1_0_0_50m/mic4/11.wav\n"
          ]
        },
        {
          "output_type": "stream",
          "name": "stderr",
          "text": [
            "0it [00:00, ?it/s]\n",
            "  0%|          | 0/19 [00:00<?, ?it/s]"
          ]
        },
        {
          "output_type": "stream",
          "name": "stdout",
          "text": [
            "Skipping already processed: /content/drive/MyDrive/sevenlumi_data/luminator_dataset_augmented/ak/50m/0_0_1_50m/mic1/4.wav\n",
            "Skipping already processed: /content/drive/MyDrive/sevenlumi_data/luminator_dataset_augmented/ak/50m/0_0_1_50m/mic1/2.wav\n",
            "Skipping already processed: /content/drive/MyDrive/sevenlumi_data/luminator_dataset_augmented/ak/50m/0_0_1_50m/mic1/3.wav\n",
            "Skipping already processed: /content/drive/MyDrive/sevenlumi_data/luminator_dataset_augmented/ak/50m/0_0_1_50m/mic1/1.wav\n",
            "Skipping already processed: /content/drive/MyDrive/sevenlumi_data/luminator_dataset_augmented/ak/50m/0_0_1_50m/mic1/5.wav\n",
            "Skipping already processed: /content/drive/MyDrive/sevenlumi_data/luminator_dataset_augmented/ak/50m/0_0_1_50m/mic1/6.wav\n",
            "Skipping already processed: /content/drive/MyDrive/sevenlumi_data/luminator_dataset_augmented/ak/50m/0_0_1_50m/mic1/13.wav\n",
            "Skipping already processed: /content/drive/MyDrive/sevenlumi_data/luminator_dataset_augmented/ak/50m/0_0_1_50m/mic1/8.wav\n",
            "Skipping already processed: /content/drive/MyDrive/sevenlumi_data/luminator_dataset_augmented/ak/50m/0_0_1_50m/mic1/9.wav\n",
            "Skipping already processed: /content/drive/MyDrive/sevenlumi_data/luminator_dataset_augmented/ak/50m/0_0_1_50m/mic1/7.wav\n",
            "Skipping already processed: /content/drive/MyDrive/sevenlumi_data/luminator_dataset_augmented/ak/50m/0_0_1_50m/mic1/15.wav\n",
            "Skipping already processed: /content/drive/MyDrive/sevenlumi_data/luminator_dataset_augmented/ak/50m/0_0_1_50m/mic1/10.wav\n",
            "Skipping already processed: /content/drive/MyDrive/sevenlumi_data/luminator_dataset_augmented/ak/50m/0_0_1_50m/mic1/18.wav\n",
            "Skipping already processed: /content/drive/MyDrive/sevenlumi_data/luminator_dataset_augmented/ak/50m/0_0_1_50m/mic1/12.wav\n",
            "Skipping already processed: /content/drive/MyDrive/sevenlumi_data/luminator_dataset_augmented/ak/50m/0_0_1_50m/mic1/11.wav\n"
          ]
        },
        {
          "output_type": "stream",
          "name": "stderr",
          "text": [
            "\r100%|██████████| 19/19 [00:00<00:00, 937.93it/s]"
          ]
        },
        {
          "output_type": "stream",
          "name": "stdout",
          "text": [
            "Skipping already processed: /content/drive/MyDrive/sevenlumi_data/luminator_dataset_augmented/ak/50m/0_0_1_50m/mic1/19.wav\n",
            "Skipping already processed: /content/drive/MyDrive/sevenlumi_data/luminator_dataset_augmented/ak/50m/0_0_1_50m/mic1/16.wav\n",
            "Skipping already processed: /content/drive/MyDrive/sevenlumi_data/luminator_dataset_augmented/ak/50m/0_0_1_50m/mic1/17.wav\n",
            "Skipping already processed: /content/drive/MyDrive/sevenlumi_data/luminator_dataset_augmented/ak/50m/0_0_1_50m/mic1/14.wav\n"
          ]
        },
        {
          "output_type": "stream",
          "name": "stderr",
          "text": [
            "\n",
            "  0%|          | 0/19 [00:00<?, ?it/s]"
          ]
        },
        {
          "output_type": "stream",
          "name": "stdout",
          "text": [
            "Skipping already processed: /content/drive/MyDrive/sevenlumi_data/luminator_dataset_augmented/ak/50m/0_0_1_50m/mic2/4.wav\n",
            "Skipping already processed: /content/drive/MyDrive/sevenlumi_data/luminator_dataset_augmented/ak/50m/0_0_1_50m/mic2/2.wav\n",
            "Skipping already processed: /content/drive/MyDrive/sevenlumi_data/luminator_dataset_augmented/ak/50m/0_0_1_50m/mic2/3.wav\n",
            "Skipping already processed: /content/drive/MyDrive/sevenlumi_data/luminator_dataset_augmented/ak/50m/0_0_1_50m/mic2/1.wav\n",
            "Skipping already processed: /content/drive/MyDrive/sevenlumi_data/luminator_dataset_augmented/ak/50m/0_0_1_50m/mic2/5.wav\n",
            "Skipping already processed: /content/drive/MyDrive/sevenlumi_data/luminator_dataset_augmented/ak/50m/0_0_1_50m/mic2/6.wav\n",
            "Skipping already processed: /content/drive/MyDrive/sevenlumi_data/luminator_dataset_augmented/ak/50m/0_0_1_50m/mic2/13.wav\n",
            "Skipping already processed: /content/drive/MyDrive/sevenlumi_data/luminator_dataset_augmented/ak/50m/0_0_1_50m/mic2/8.wav\n",
            "Skipping already processed: /content/drive/MyDrive/sevenlumi_data/luminator_dataset_augmented/ak/50m/0_0_1_50m/mic2/9.wav\n",
            "Skipping already processed: /content/drive/MyDrive/sevenlumi_data/luminator_dataset_augmented/ak/50m/0_0_1_50m/mic2/7.wav\n",
            "Skipping already processed: /content/drive/MyDrive/sevenlumi_data/luminator_dataset_augmented/ak/50m/0_0_1_50m/mic2/15.wav\n",
            "Skipping already processed: /content/drive/MyDrive/sevenlumi_data/luminator_dataset_augmented/ak/50m/0_0_1_50m/mic2/10.wav\n",
            "Skipping already processed: /content/drive/MyDrive/sevenlumi_data/luminator_dataset_augmented/ak/50m/0_0_1_50m/mic2/18.wav\n",
            "Skipping already processed: /content/drive/MyDrive/sevenlumi_data/luminator_dataset_augmented/ak/50m/0_0_1_50m/mic2/12.wav\n",
            "Skipping already processed: /content/drive/MyDrive/sevenlumi_data/luminator_dataset_augmented/ak/50m/0_0_1_50m/mic2/11.wav\n",
            "Skipping already processed: /content/drive/MyDrive/sevenlumi_data/luminator_dataset_augmented/ak/50m/0_0_1_50m/mic2/19.wav\n",
            "Skipping already processed: /content/drive/MyDrive/sevenlumi_data/luminator_dataset_augmented/ak/50m/0_0_1_50m/mic2/16.wav\n"
          ]
        },
        {
          "output_type": "stream",
          "name": "stderr",
          "text": [
            "\r100%|██████████| 19/19 [00:00<00:00, 970.06it/s]"
          ]
        },
        {
          "output_type": "stream",
          "name": "stdout",
          "text": [
            "Skipping already processed: /content/drive/MyDrive/sevenlumi_data/luminator_dataset_augmented/ak/50m/0_0_1_50m/mic2/17.wav\n",
            "Skipping already processed: /content/drive/MyDrive/sevenlumi_data/luminator_dataset_augmented/ak/50m/0_0_1_50m/mic2/14.wav\n"
          ]
        },
        {
          "output_type": "stream",
          "name": "stderr",
          "text": [
            "\n",
            "  0%|          | 0/19 [00:00<?, ?it/s]"
          ]
        },
        {
          "output_type": "stream",
          "name": "stdout",
          "text": [
            "Skipping already processed: /content/drive/MyDrive/sevenlumi_data/luminator_dataset_augmented/ak/50m/0_0_1_50m/mic3/4.wav\n",
            "Skipping already processed: /content/drive/MyDrive/sevenlumi_data/luminator_dataset_augmented/ak/50m/0_0_1_50m/mic3/2.wav\n",
            "Skipping already processed: /content/drive/MyDrive/sevenlumi_data/luminator_dataset_augmented/ak/50m/0_0_1_50m/mic3/3.wav\n",
            "Skipping already processed: /content/drive/MyDrive/sevenlumi_data/luminator_dataset_augmented/ak/50m/0_0_1_50m/mic3/1.wav\n",
            "Skipping already processed: /content/drive/MyDrive/sevenlumi_data/luminator_dataset_augmented/ak/50m/0_0_1_50m/mic3/5.wav\n",
            "Skipping already processed: /content/drive/MyDrive/sevenlumi_data/luminator_dataset_augmented/ak/50m/0_0_1_50m/mic3/6.wav\n",
            "Skipping already processed: /content/drive/MyDrive/sevenlumi_data/luminator_dataset_augmented/ak/50m/0_0_1_50m/mic3/13.wav\n",
            "Skipping already processed: /content/drive/MyDrive/sevenlumi_data/luminator_dataset_augmented/ak/50m/0_0_1_50m/mic3/8.wav\n",
            "Skipping already processed: /content/drive/MyDrive/sevenlumi_data/luminator_dataset_augmented/ak/50m/0_0_1_50m/mic3/9.wav\n",
            "Skipping already processed: /content/drive/MyDrive/sevenlumi_data/luminator_dataset_augmented/ak/50m/0_0_1_50m/mic3/7.wav\n",
            "Skipping already processed: /content/drive/MyDrive/sevenlumi_data/luminator_dataset_augmented/ak/50m/0_0_1_50m/mic3/15.wav\n",
            "Skipping already processed: /content/drive/MyDrive/sevenlumi_data/luminator_dataset_augmented/ak/50m/0_0_1_50m/mic3/10.wav\n",
            "Skipping already processed: /content/drive/MyDrive/sevenlumi_data/luminator_dataset_augmented/ak/50m/0_0_1_50m/mic3/18.wav\n",
            "Skipping already processed: /content/drive/MyDrive/sevenlumi_data/luminator_dataset_augmented/ak/50m/0_0_1_50m/mic3/12.wav\n",
            "Skipping already processed: /content/drive/MyDrive/sevenlumi_data/luminator_dataset_augmented/ak/50m/0_0_1_50m/mic3/11.wav\n",
            "Skipping already processed: /content/drive/MyDrive/sevenlumi_data/luminator_dataset_augmented/ak/50m/0_0_1_50m/mic3/19.wav\n",
            "Skipping already processed: /content/drive/MyDrive/sevenlumi_data/luminator_dataset_augmented/ak/50m/0_0_1_50m/mic3/16.wav\n"
          ]
        },
        {
          "output_type": "stream",
          "name": "stderr",
          "text": [
            "\r100%|██████████| 19/19 [00:00<00:00, 1195.32it/s]\n"
          ]
        },
        {
          "output_type": "stream",
          "name": "stdout",
          "text": [
            "Skipping already processed: /content/drive/MyDrive/sevenlumi_data/luminator_dataset_augmented/ak/50m/0_0_1_50m/mic3/17.wav\n",
            "Skipping already processed: /content/drive/MyDrive/sevenlumi_data/luminator_dataset_augmented/ak/50m/0_0_1_50m/mic3/14.wav\n"
          ]
        },
        {
          "output_type": "stream",
          "name": "stderr",
          "text": [
            "100%|██████████| 19/19 [00:00<00:00, 1179.66it/s]\n"
          ]
        },
        {
          "output_type": "stream",
          "name": "stdout",
          "text": [
            "Skipping already processed: /content/drive/MyDrive/sevenlumi_data/luminator_dataset_augmented/ak/50m/0_0_1_50m/mic4/4.wav\n",
            "Skipping already processed: /content/drive/MyDrive/sevenlumi_data/luminator_dataset_augmented/ak/50m/0_0_1_50m/mic4/2.wav\n",
            "Skipping already processed: /content/drive/MyDrive/sevenlumi_data/luminator_dataset_augmented/ak/50m/0_0_1_50m/mic4/3.wav\n",
            "Skipping already processed: /content/drive/MyDrive/sevenlumi_data/luminator_dataset_augmented/ak/50m/0_0_1_50m/mic4/1.wav\n",
            "Skipping already processed: /content/drive/MyDrive/sevenlumi_data/luminator_dataset_augmented/ak/50m/0_0_1_50m/mic4/5.wav\n",
            "Skipping already processed: /content/drive/MyDrive/sevenlumi_data/luminator_dataset_augmented/ak/50m/0_0_1_50m/mic4/6.wav\n",
            "Skipping already processed: /content/drive/MyDrive/sevenlumi_data/luminator_dataset_augmented/ak/50m/0_0_1_50m/mic4/13.wav\n",
            "Skipping already processed: /content/drive/MyDrive/sevenlumi_data/luminator_dataset_augmented/ak/50m/0_0_1_50m/mic4/8.wav\n",
            "Skipping already processed: /content/drive/MyDrive/sevenlumi_data/luminator_dataset_augmented/ak/50m/0_0_1_50m/mic4/9.wav\n",
            "Skipping already processed: /content/drive/MyDrive/sevenlumi_data/luminator_dataset_augmented/ak/50m/0_0_1_50m/mic4/7.wav\n",
            "Skipping already processed: /content/drive/MyDrive/sevenlumi_data/luminator_dataset_augmented/ak/50m/0_0_1_50m/mic4/15.wav\n",
            "Skipping already processed: /content/drive/MyDrive/sevenlumi_data/luminator_dataset_augmented/ak/50m/0_0_1_50m/mic4/10.wav\n",
            "Skipping already processed: /content/drive/MyDrive/sevenlumi_data/luminator_dataset_augmented/ak/50m/0_0_1_50m/mic4/18.wav\n",
            "Skipping already processed: /content/drive/MyDrive/sevenlumi_data/luminator_dataset_augmented/ak/50m/0_0_1_50m/mic4/12.wav\n",
            "Skipping already processed: /content/drive/MyDrive/sevenlumi_data/luminator_dataset_augmented/ak/50m/0_0_1_50m/mic4/11.wav\n",
            "Skipping already processed: /content/drive/MyDrive/sevenlumi_data/luminator_dataset_augmented/ak/50m/0_0_1_50m/mic4/19.wav\n",
            "Skipping already processed: /content/drive/MyDrive/sevenlumi_data/luminator_dataset_augmented/ak/50m/0_0_1_50m/mic4/16.wav\n",
            "Skipping already processed: /content/drive/MyDrive/sevenlumi_data/luminator_dataset_augmented/ak/50m/0_0_1_50m/mic4/17.wav\n",
            "Skipping already processed: /content/drive/MyDrive/sevenlumi_data/luminator_dataset_augmented/ak/50m/0_0_1_50m/mic4/14.wav\n"
          ]
        },
        {
          "output_type": "stream",
          "name": "stderr",
          "text": [
            "0it [00:00, ?it/s]\n",
            "  0%|          | 0/19 [00:00<?, ?it/s]"
          ]
        },
        {
          "output_type": "stream",
          "name": "stdout",
          "text": [
            "Skipping already processed: /content/drive/MyDrive/sevenlumi_data/luminator_dataset_augmented/ak/50m/-1_0_0_50m/mic1/4.wav\n",
            "Skipping already processed: /content/drive/MyDrive/sevenlumi_data/luminator_dataset_augmented/ak/50m/-1_0_0_50m/mic1/5.wav\n",
            "Skipping already processed: /content/drive/MyDrive/sevenlumi_data/luminator_dataset_augmented/ak/50m/-1_0_0_50m/mic1/1.wav\n",
            "Skipping already processed: /content/drive/MyDrive/sevenlumi_data/luminator_dataset_augmented/ak/50m/-1_0_0_50m/mic1/6.wav\n",
            "Skipping already processed: /content/drive/MyDrive/sevenlumi_data/luminator_dataset_augmented/ak/50m/-1_0_0_50m/mic1/2.wav\n",
            "Skipping already processed: /content/drive/MyDrive/sevenlumi_data/luminator_dataset_augmented/ak/50m/-1_0_0_50m/mic1/3.wav\n",
            "Skipping already processed: /content/drive/MyDrive/sevenlumi_data/luminator_dataset_augmented/ak/50m/-1_0_0_50m/mic1/16.wav\n",
            "Skipping already processed: /content/drive/MyDrive/sevenlumi_data/luminator_dataset_augmented/ak/50m/-1_0_0_50m/mic1/18.wav\n",
            "Skipping already processed: /content/drive/MyDrive/sevenlumi_data/luminator_dataset_augmented/ak/50m/-1_0_0_50m/mic1/9.wav\n",
            "Skipping already processed: /content/drive/MyDrive/sevenlumi_data/luminator_dataset_augmented/ak/50m/-1_0_0_50m/mic1/12.wav\n",
            "Skipping already processed: /content/drive/MyDrive/sevenlumi_data/luminator_dataset_augmented/ak/50m/-1_0_0_50m/mic1/7.wav\n",
            "Skipping already processed: /content/drive/MyDrive/sevenlumi_data/luminator_dataset_augmented/ak/50m/-1_0_0_50m/mic1/14.wav\n",
            "Skipping already processed: /content/drive/MyDrive/sevenlumi_data/luminator_dataset_augmented/ak/50m/-1_0_0_50m/mic1/17.wav\n",
            "Skipping already processed: /content/drive/MyDrive/sevenlumi_data/luminator_dataset_augmented/ak/50m/-1_0_0_50m/mic1/11.wav\n",
            "Skipping already processed: /content/drive/MyDrive/sevenlumi_data/luminator_dataset_augmented/ak/50m/-1_0_0_50m/mic1/8.wav\n",
            "Skipping already processed: /content/drive/MyDrive/sevenlumi_data/luminator_dataset_augmented/ak/50m/-1_0_0_50m/mic1/19.wav\n",
            "Skipping already processed: /content/drive/MyDrive/sevenlumi_data/luminator_dataset_augmented/ak/50m/-1_0_0_50m/mic1/13.wav\n",
            "Skipping already processed: /content/drive/MyDrive/sevenlumi_data/luminator_dataset_augmented/ak/50m/-1_0_0_50m/mic1/15.wav\n"
          ]
        },
        {
          "output_type": "stream",
          "name": "stderr",
          "text": [
            "\r100%|██████████| 19/19 [00:00<00:00, 762.54it/s]\n"
          ]
        },
        {
          "output_type": "stream",
          "name": "stdout",
          "text": [
            "Skipping already processed: /content/drive/MyDrive/sevenlumi_data/luminator_dataset_augmented/ak/50m/-1_0_0_50m/mic1/10.wav\n"
          ]
        },
        {
          "output_type": "stream",
          "name": "stderr",
          "text": [
            "\r  0%|          | 0/19 [00:00<?, ?it/s]"
          ]
        },
        {
          "output_type": "stream",
          "name": "stdout",
          "text": [
            "Skipping already processed: /content/drive/MyDrive/sevenlumi_data/luminator_dataset_augmented/ak/50m/-1_0_0_50m/mic2/4.wav\n",
            "Skipping already processed: /content/drive/MyDrive/sevenlumi_data/luminator_dataset_augmented/ak/50m/-1_0_0_50m/mic2/5.wav\n",
            "Skipping already processed: /content/drive/MyDrive/sevenlumi_data/luminator_dataset_augmented/ak/50m/-1_0_0_50m/mic2/1.wav\n",
            "Skipping already processed: /content/drive/MyDrive/sevenlumi_data/luminator_dataset_augmented/ak/50m/-1_0_0_50m/mic2/6.wav\n",
            "Skipping already processed: /content/drive/MyDrive/sevenlumi_data/luminator_dataset_augmented/ak/50m/-1_0_0_50m/mic2/2.wav\n",
            "Skipping already processed: /content/drive/MyDrive/sevenlumi_data/luminator_dataset_augmented/ak/50m/-1_0_0_50m/mic2/3.wav\n",
            "Skipping already processed: /content/drive/MyDrive/sevenlumi_data/luminator_dataset_augmented/ak/50m/-1_0_0_50m/mic2/16.wav\n",
            "Skipping already processed: /content/drive/MyDrive/sevenlumi_data/luminator_dataset_augmented/ak/50m/-1_0_0_50m/mic2/18.wav\n",
            "Skipping already processed: /content/drive/MyDrive/sevenlumi_data/luminator_dataset_augmented/ak/50m/-1_0_0_50m/mic2/9.wav\n",
            "Skipping already processed: /content/drive/MyDrive/sevenlumi_data/luminator_dataset_augmented/ak/50m/-1_0_0_50m/mic2/12.wav\n",
            "Skipping already processed: /content/drive/MyDrive/sevenlumi_data/luminator_dataset_augmented/ak/50m/-1_0_0_50m/mic2/7.wav\n"
          ]
        },
        {
          "output_type": "stream",
          "name": "stderr",
          "text": [
            "\r100%|██████████| 19/19 [00:00<00:00, 819.55it/s]\n"
          ]
        },
        {
          "output_type": "stream",
          "name": "stdout",
          "text": [
            "Skipping already processed: /content/drive/MyDrive/sevenlumi_data/luminator_dataset_augmented/ak/50m/-1_0_0_50m/mic2/14.wav\n",
            "Skipping already processed: /content/drive/MyDrive/sevenlumi_data/luminator_dataset_augmented/ak/50m/-1_0_0_50m/mic2/17.wav\n",
            "Skipping already processed: /content/drive/MyDrive/sevenlumi_data/luminator_dataset_augmented/ak/50m/-1_0_0_50m/mic2/11.wav\n",
            "Skipping already processed: /content/drive/MyDrive/sevenlumi_data/luminator_dataset_augmented/ak/50m/-1_0_0_50m/mic2/8.wav\n",
            "Skipping already processed: /content/drive/MyDrive/sevenlumi_data/luminator_dataset_augmented/ak/50m/-1_0_0_50m/mic2/19.wav\n",
            "Skipping already processed: /content/drive/MyDrive/sevenlumi_data/luminator_dataset_augmented/ak/50m/-1_0_0_50m/mic2/13.wav\n",
            "Skipping already processed: /content/drive/MyDrive/sevenlumi_data/luminator_dataset_augmented/ak/50m/-1_0_0_50m/mic2/15.wav\n",
            "Skipping already processed: /content/drive/MyDrive/sevenlumi_data/luminator_dataset_augmented/ak/50m/-1_0_0_50m/mic2/10.wav\n"
          ]
        },
        {
          "output_type": "stream",
          "name": "stderr",
          "text": [
            "\r  0%|          | 0/19 [00:00<?, ?it/s]"
          ]
        },
        {
          "output_type": "stream",
          "name": "stdout",
          "text": [
            "Skipping already processed: /content/drive/MyDrive/sevenlumi_data/luminator_dataset_augmented/ak/50m/-1_0_0_50m/mic3/4.wav\n",
            "Skipping already processed: /content/drive/MyDrive/sevenlumi_data/luminator_dataset_augmented/ak/50m/-1_0_0_50m/mic3/5.wav\n",
            "Skipping already processed: /content/drive/MyDrive/sevenlumi_data/luminator_dataset_augmented/ak/50m/-1_0_0_50m/mic3/1.wav\n",
            "Skipping already processed: /content/drive/MyDrive/sevenlumi_data/luminator_dataset_augmented/ak/50m/-1_0_0_50m/mic3/6.wav\n",
            "Skipping already processed: /content/drive/MyDrive/sevenlumi_data/luminator_dataset_augmented/ak/50m/-1_0_0_50m/mic3/2.wav\n",
            "Skipping already processed: /content/drive/MyDrive/sevenlumi_data/luminator_dataset_augmented/ak/50m/-1_0_0_50m/mic3/3.wav\n",
            "Skipping already processed: /content/drive/MyDrive/sevenlumi_data/luminator_dataset_augmented/ak/50m/-1_0_0_50m/mic3/16.wav\n",
            "Skipping already processed: /content/drive/MyDrive/sevenlumi_data/luminator_dataset_augmented/ak/50m/-1_0_0_50m/mic3/18.wav\n",
            "Skipping already processed: /content/drive/MyDrive/sevenlumi_data/luminator_dataset_augmented/ak/50m/-1_0_0_50m/mic3/9.wav\n",
            "Skipping already processed: /content/drive/MyDrive/sevenlumi_data/luminator_dataset_augmented/ak/50m/-1_0_0_50m/mic3/12.wav\n"
          ]
        },
        {
          "output_type": "stream",
          "name": "stderr",
          "text": [
            "\r100%|██████████| 19/19 [00:00<00:00, 685.30it/s]\n"
          ]
        },
        {
          "output_type": "stream",
          "name": "stdout",
          "text": [
            "Skipping already processed: /content/drive/MyDrive/sevenlumi_data/luminator_dataset_augmented/ak/50m/-1_0_0_50m/mic3/7.wav\n",
            "Skipping already processed: /content/drive/MyDrive/sevenlumi_data/luminator_dataset_augmented/ak/50m/-1_0_0_50m/mic3/14.wav\n",
            "Skipping already processed: /content/drive/MyDrive/sevenlumi_data/luminator_dataset_augmented/ak/50m/-1_0_0_50m/mic3/17.wav\n",
            "Skipping already processed: /content/drive/MyDrive/sevenlumi_data/luminator_dataset_augmented/ak/50m/-1_0_0_50m/mic3/11.wav\n",
            "Skipping already processed: /content/drive/MyDrive/sevenlumi_data/luminator_dataset_augmented/ak/50m/-1_0_0_50m/mic3/8.wav\n",
            "Skipping already processed: /content/drive/MyDrive/sevenlumi_data/luminator_dataset_augmented/ak/50m/-1_0_0_50m/mic3/19.wav\n",
            "Skipping already processed: /content/drive/MyDrive/sevenlumi_data/luminator_dataset_augmented/ak/50m/-1_0_0_50m/mic3/13.wav\n",
            "Skipping already processed: /content/drive/MyDrive/sevenlumi_data/luminator_dataset_augmented/ak/50m/-1_0_0_50m/mic3/15.wav\n",
            "Skipping already processed: /content/drive/MyDrive/sevenlumi_data/luminator_dataset_augmented/ak/50m/-1_0_0_50m/mic3/10.wav\n"
          ]
        },
        {
          "output_type": "stream",
          "name": "stderr",
          "text": [
            "\r  0%|          | 0/19 [00:00<?, ?it/s]"
          ]
        },
        {
          "output_type": "stream",
          "name": "stdout",
          "text": [
            "Skipping already processed: /content/drive/MyDrive/sevenlumi_data/luminator_dataset_augmented/ak/50m/-1_0_0_50m/mic4/4.wav\n",
            "Skipping already processed: /content/drive/MyDrive/sevenlumi_data/luminator_dataset_augmented/ak/50m/-1_0_0_50m/mic4/5.wav\n",
            "Skipping already processed: /content/drive/MyDrive/sevenlumi_data/luminator_dataset_augmented/ak/50m/-1_0_0_50m/mic4/1.wav\n",
            "Skipping already processed: /content/drive/MyDrive/sevenlumi_data/luminator_dataset_augmented/ak/50m/-1_0_0_50m/mic4/6.wav\n",
            "Skipping already processed: /content/drive/MyDrive/sevenlumi_data/luminator_dataset_augmented/ak/50m/-1_0_0_50m/mic4/2.wav\n",
            "Skipping already processed: /content/drive/MyDrive/sevenlumi_data/luminator_dataset_augmented/ak/50m/-1_0_0_50m/mic4/3.wav\n",
            "Skipping already processed: /content/drive/MyDrive/sevenlumi_data/luminator_dataset_augmented/ak/50m/-1_0_0_50m/mic4/16.wav\n",
            "Skipping already processed: /content/drive/MyDrive/sevenlumi_data/luminator_dataset_augmented/ak/50m/-1_0_0_50m/mic4/18.wav\n",
            "Skipping already processed: /content/drive/MyDrive/sevenlumi_data/luminator_dataset_augmented/ak/50m/-1_0_0_50m/mic4/9.wav\n",
            "Skipping already processed: /content/drive/MyDrive/sevenlumi_data/luminator_dataset_augmented/ak/50m/-1_0_0_50m/mic4/12.wav\n",
            "Skipping already processed: /content/drive/MyDrive/sevenlumi_data/luminator_dataset_augmented/ak/50m/-1_0_0_50m/mic4/7.wav\n",
            "Skipping already processed: /content/drive/MyDrive/sevenlumi_data/luminator_dataset_augmented/ak/50m/-1_0_0_50m/mic4/14.wav\n",
            "Skipping already processed: /content/drive/MyDrive/sevenlumi_data/luminator_dataset_augmented/ak/50m/-1_0_0_50m/mic4/17.wav\n",
            "Skipping already processed: /content/drive/MyDrive/sevenlumi_data/luminator_dataset_augmented/ak/50m/-1_0_0_50m/mic4/11.wav\n",
            "Skipping already processed: /content/drive/MyDrive/sevenlumi_data/luminator_dataset_augmented/ak/50m/-1_0_0_50m/mic4/8.wav\n",
            "Skipping already processed: /content/drive/MyDrive/sevenlumi_data/luminator_dataset_augmented/ak/50m/-1_0_0_50m/mic4/19.wav\n",
            "Skipping already processed: /content/drive/MyDrive/sevenlumi_data/luminator_dataset_augmented/ak/50m/-1_0_0_50m/mic4/13.wav\n",
            "Skipping already processed: /content/drive/MyDrive/sevenlumi_data/luminator_dataset_augmented/ak/50m/-1_0_0_50m/mic4/15.wav\n"
          ]
        },
        {
          "output_type": "stream",
          "name": "stderr",
          "text": [
            "\r100%|██████████| 19/19 [00:00<00:00, 736.36it/s]\n"
          ]
        },
        {
          "output_type": "stream",
          "name": "stdout",
          "text": [
            "Skipping already processed: /content/drive/MyDrive/sevenlumi_data/luminator_dataset_augmented/ak/50m/-1_0_0_50m/mic4/10.wav\n"
          ]
        },
        {
          "output_type": "stream",
          "name": "stderr",
          "text": [
            "0it [00:00, ?it/s]\n",
            "  0%|          | 0/21 [00:00<?, ?it/s]"
          ]
        },
        {
          "output_type": "stream",
          "name": "stdout",
          "text": [
            "Skipping already processed: /content/drive/MyDrive/sevenlumi_data/luminator_dataset_augmented/ak/50m/0_0_-1_50m/mic1/4.wav\n",
            "Skipping already processed: /content/drive/MyDrive/sevenlumi_data/luminator_dataset_augmented/ak/50m/0_0_-1_50m/mic1/2.wav\n",
            "Skipping already processed: /content/drive/MyDrive/sevenlumi_data/luminator_dataset_augmented/ak/50m/0_0_-1_50m/mic1/5.wav\n",
            "Skipping already processed: /content/drive/MyDrive/sevenlumi_data/luminator_dataset_augmented/ak/50m/0_0_-1_50m/mic1/1.wav\n",
            "Skipping already processed: /content/drive/MyDrive/sevenlumi_data/luminator_dataset_augmented/ak/50m/0_0_-1_50m/mic1/3.wav\n",
            "Skipping already processed: /content/drive/MyDrive/sevenlumi_data/luminator_dataset_augmented/ak/50m/0_0_-1_50m/mic1/20.wav\n",
            "Skipping already processed: /content/drive/MyDrive/sevenlumi_data/luminator_dataset_augmented/ak/50m/0_0_-1_50m/mic1/15.wav\n",
            "Skipping already processed: /content/drive/MyDrive/sevenlumi_data/luminator_dataset_augmented/ak/50m/0_0_-1_50m/mic1/16.wav\n",
            "Skipping already processed: /content/drive/MyDrive/sevenlumi_data/luminator_dataset_augmented/ak/50m/0_0_-1_50m/mic1/8.wav\n",
            "Skipping already processed: /content/drive/MyDrive/sevenlumi_data/luminator_dataset_augmented/ak/50m/0_0_-1_50m/mic1/11.wav\n",
            "Skipping already processed: /content/drive/MyDrive/sevenlumi_data/luminator_dataset_augmented/ak/50m/0_0_-1_50m/mic1/18.wav\n",
            "Skipping already processed: /content/drive/MyDrive/sevenlumi_data/luminator_dataset_augmented/ak/50m/0_0_-1_50m/mic1/9.wav\n"
          ]
        },
        {
          "output_type": "stream",
          "name": "stderr",
          "text": [
            "\r100%|██████████| 21/21 [00:00<00:00, 745.66it/s]\n"
          ]
        },
        {
          "output_type": "stream",
          "name": "stdout",
          "text": [
            "Skipping already processed: /content/drive/MyDrive/sevenlumi_data/luminator_dataset_augmented/ak/50m/0_0_-1_50m/mic1/6.wav\n",
            "Skipping already processed: /content/drive/MyDrive/sevenlumi_data/luminator_dataset_augmented/ak/50m/0_0_-1_50m/mic1/14.wav\n",
            "Skipping already processed: /content/drive/MyDrive/sevenlumi_data/luminator_dataset_augmented/ak/50m/0_0_-1_50m/mic1/13.wav\n",
            "Skipping already processed: /content/drive/MyDrive/sevenlumi_data/luminator_dataset_augmented/ak/50m/0_0_-1_50m/mic1/10.wav\n",
            "Skipping already processed: /content/drive/MyDrive/sevenlumi_data/luminator_dataset_augmented/ak/50m/0_0_-1_50m/mic1/7.wav\n",
            "Skipping already processed: /content/drive/MyDrive/sevenlumi_data/luminator_dataset_augmented/ak/50m/0_0_-1_50m/mic1/12.wav\n",
            "Skipping already processed: /content/drive/MyDrive/sevenlumi_data/luminator_dataset_augmented/ak/50m/0_0_-1_50m/mic1/21.wav\n",
            "Skipping already processed: /content/drive/MyDrive/sevenlumi_data/luminator_dataset_augmented/ak/50m/0_0_-1_50m/mic1/17.wav\n",
            "Skipping already processed: /content/drive/MyDrive/sevenlumi_data/luminator_dataset_augmented/ak/50m/0_0_-1_50m/mic1/19.wav\n"
          ]
        },
        {
          "output_type": "stream",
          "name": "stderr",
          "text": [
            "\r  0%|          | 0/21 [00:00<?, ?it/s]"
          ]
        },
        {
          "output_type": "stream",
          "name": "stdout",
          "text": [
            "Skipping already processed: /content/drive/MyDrive/sevenlumi_data/luminator_dataset_augmented/ak/50m/0_0_-1_50m/mic2/4.wav\n",
            "Skipping already processed: /content/drive/MyDrive/sevenlumi_data/luminator_dataset_augmented/ak/50m/0_0_-1_50m/mic2/2.wav\n",
            "Skipping already processed: /content/drive/MyDrive/sevenlumi_data/luminator_dataset_augmented/ak/50m/0_0_-1_50m/mic2/5.wav\n",
            "Skipping already processed: /content/drive/MyDrive/sevenlumi_data/luminator_dataset_augmented/ak/50m/0_0_-1_50m/mic2/1.wav\n",
            "Skipping already processed: /content/drive/MyDrive/sevenlumi_data/luminator_dataset_augmented/ak/50m/0_0_-1_50m/mic2/3.wav\n",
            "Skipping already processed: /content/drive/MyDrive/sevenlumi_data/luminator_dataset_augmented/ak/50m/0_0_-1_50m/mic2/20.wav\n",
            "Skipping already processed: /content/drive/MyDrive/sevenlumi_data/luminator_dataset_augmented/ak/50m/0_0_-1_50m/mic2/15.wav\n"
          ]
        },
        {
          "output_type": "stream",
          "name": "stderr",
          "text": [
            "\r100%|██████████| 21/21 [00:00<00:00, 1003.55it/s]\n"
          ]
        },
        {
          "output_type": "stream",
          "name": "stdout",
          "text": [
            "Skipping already processed: /content/drive/MyDrive/sevenlumi_data/luminator_dataset_augmented/ak/50m/0_0_-1_50m/mic2/16.wav\n",
            "Skipping already processed: /content/drive/MyDrive/sevenlumi_data/luminator_dataset_augmented/ak/50m/0_0_-1_50m/mic2/8.wav\n",
            "Skipping already processed: /content/drive/MyDrive/sevenlumi_data/luminator_dataset_augmented/ak/50m/0_0_-1_50m/mic2/11.wav\n",
            "Skipping already processed: /content/drive/MyDrive/sevenlumi_data/luminator_dataset_augmented/ak/50m/0_0_-1_50m/mic2/18.wav\n",
            "Skipping already processed: /content/drive/MyDrive/sevenlumi_data/luminator_dataset_augmented/ak/50m/0_0_-1_50m/mic2/9.wav\n",
            "Skipping already processed: /content/drive/MyDrive/sevenlumi_data/luminator_dataset_augmented/ak/50m/0_0_-1_50m/mic2/6.wav\n",
            "Skipping already processed: /content/drive/MyDrive/sevenlumi_data/luminator_dataset_augmented/ak/50m/0_0_-1_50m/mic2/14.wav\n",
            "Skipping already processed: /content/drive/MyDrive/sevenlumi_data/luminator_dataset_augmented/ak/50m/0_0_-1_50m/mic2/13.wav\n",
            "Skipping already processed: /content/drive/MyDrive/sevenlumi_data/luminator_dataset_augmented/ak/50m/0_0_-1_50m/mic2/10.wav\n",
            "Skipping already processed: /content/drive/MyDrive/sevenlumi_data/luminator_dataset_augmented/ak/50m/0_0_-1_50m/mic2/7.wav\n",
            "Skipping already processed: /content/drive/MyDrive/sevenlumi_data/luminator_dataset_augmented/ak/50m/0_0_-1_50m/mic2/12.wav\n",
            "Skipping already processed: /content/drive/MyDrive/sevenlumi_data/luminator_dataset_augmented/ak/50m/0_0_-1_50m/mic2/21.wav\n",
            "Skipping already processed: /content/drive/MyDrive/sevenlumi_data/luminator_dataset_augmented/ak/50m/0_0_-1_50m/mic2/17.wav\n",
            "Skipping already processed: /content/drive/MyDrive/sevenlumi_data/luminator_dataset_augmented/ak/50m/0_0_-1_50m/mic2/19.wav\n"
          ]
        },
        {
          "output_type": "stream",
          "name": "stderr",
          "text": [
            "\r  0%|          | 0/21 [00:00<?, ?it/s]"
          ]
        },
        {
          "output_type": "stream",
          "name": "stdout",
          "text": [
            "Skipping already processed: /content/drive/MyDrive/sevenlumi_data/luminator_dataset_augmented/ak/50m/0_0_-1_50m/mic3/4.wav\n",
            "Skipping already processed: /content/drive/MyDrive/sevenlumi_data/luminator_dataset_augmented/ak/50m/0_0_-1_50m/mic3/2.wav\n",
            "Skipping already processed: /content/drive/MyDrive/sevenlumi_data/luminator_dataset_augmented/ak/50m/0_0_-1_50m/mic3/5.wav\n",
            "Skipping already processed: /content/drive/MyDrive/sevenlumi_data/luminator_dataset_augmented/ak/50m/0_0_-1_50m/mic3/1.wav\n",
            "Skipping already processed: /content/drive/MyDrive/sevenlumi_data/luminator_dataset_augmented/ak/50m/0_0_-1_50m/mic3/3.wav\n",
            "Skipping already processed: /content/drive/MyDrive/sevenlumi_data/luminator_dataset_augmented/ak/50m/0_0_-1_50m/mic3/20.wav\n",
            "Skipping already processed: /content/drive/MyDrive/sevenlumi_data/luminator_dataset_augmented/ak/50m/0_0_-1_50m/mic3/15.wav\n",
            "Skipping already processed: /content/drive/MyDrive/sevenlumi_data/luminator_dataset_augmented/ak/50m/0_0_-1_50m/mic3/16.wav\n",
            "Skipping already processed: /content/drive/MyDrive/sevenlumi_data/luminator_dataset_augmented/ak/50m/0_0_-1_50m/mic3/8.wav\n",
            "Skipping already processed: /content/drive/MyDrive/sevenlumi_data/luminator_dataset_augmented/ak/50m/0_0_-1_50m/mic3/11.wav\n",
            "Skipping already processed: /content/drive/MyDrive/sevenlumi_data/luminator_dataset_augmented/ak/50m/0_0_-1_50m/mic3/18.wav\n",
            "Skipping already processed: /content/drive/MyDrive/sevenlumi_data/luminator_dataset_augmented/ak/50m/0_0_-1_50m/mic3/9.wav\n",
            "Skipping already processed: /content/drive/MyDrive/sevenlumi_data/luminator_dataset_augmented/ak/50m/0_0_-1_50m/mic3/6.wav\n",
            "Skipping already processed: /content/drive/MyDrive/sevenlumi_data/luminator_dataset_augmented/ak/50m/0_0_-1_50m/mic3/14.wav\n",
            "Skipping already processed: /content/drive/MyDrive/sevenlumi_data/luminator_dataset_augmented/ak/50m/0_0_-1_50m/mic3/13.wav\n",
            "Skipping already processed: /content/drive/MyDrive/sevenlumi_data/luminator_dataset_augmented/ak/50m/0_0_-1_50m/mic3/10.wav\n",
            "Skipping already processed: /content/drive/MyDrive/sevenlumi_data/luminator_dataset_augmented/ak/50m/0_0_-1_50m/mic3/7.wav\n",
            "Skipping already processed: /content/drive/MyDrive/sevenlumi_data/luminator_dataset_augmented/ak/50m/0_0_-1_50m/mic3/12.wav\n",
            "Skipping already processed: /content/drive/MyDrive/sevenlumi_data/luminator_dataset_augmented/ak/50m/0_0_-1_50m/mic3/21.wav\n",
            "Skipping already processed: /content/drive/MyDrive/sevenlumi_data/luminator_dataset_augmented/ak/50m/0_0_-1_50m/mic3/17.wav\n"
          ]
        },
        {
          "output_type": "stream",
          "name": "stderr",
          "text": [
            "\r100%|██████████| 21/21 [00:00<00:00, 969.08it/s]\n"
          ]
        },
        {
          "output_type": "stream",
          "name": "stdout",
          "text": [
            "Skipping already processed: /content/drive/MyDrive/sevenlumi_data/luminator_dataset_augmented/ak/50m/0_0_-1_50m/mic3/19.wav\n"
          ]
        },
        {
          "output_type": "stream",
          "name": "stderr",
          "text": [
            "\r  0%|          | 0/21 [00:00<?, ?it/s]"
          ]
        },
        {
          "output_type": "stream",
          "name": "stdout",
          "text": [
            "Skipping already processed: /content/drive/MyDrive/sevenlumi_data/luminator_dataset_augmented/ak/50m/0_0_-1_50m/mic4/4.wav\n",
            "Skipping already processed: /content/drive/MyDrive/sevenlumi_data/luminator_dataset_augmented/ak/50m/0_0_-1_50m/mic4/2.wav\n",
            "Skipping already processed: /content/drive/MyDrive/sevenlumi_data/luminator_dataset_augmented/ak/50m/0_0_-1_50m/mic4/5.wav\n",
            "Skipping already processed: /content/drive/MyDrive/sevenlumi_data/luminator_dataset_augmented/ak/50m/0_0_-1_50m/mic4/1.wav\n",
            "Skipping already processed: /content/drive/MyDrive/sevenlumi_data/luminator_dataset_augmented/ak/50m/0_0_-1_50m/mic4/3.wav\n",
            "Skipping already processed: /content/drive/MyDrive/sevenlumi_data/luminator_dataset_augmented/ak/50m/0_0_-1_50m/mic4/20.wav\n",
            "Skipping already processed: /content/drive/MyDrive/sevenlumi_data/luminator_dataset_augmented/ak/50m/0_0_-1_50m/mic4/15.wav\n",
            "Skipping already processed: /content/drive/MyDrive/sevenlumi_data/luminator_dataset_augmented/ak/50m/0_0_-1_50m/mic4/16.wav\n",
            "Skipping already processed: /content/drive/MyDrive/sevenlumi_data/luminator_dataset_augmented/ak/50m/0_0_-1_50m/mic4/8.wav\n",
            "Skipping already processed: /content/drive/MyDrive/sevenlumi_data/luminator_dataset_augmented/ak/50m/0_0_-1_50m/mic4/11.wav\n",
            "Skipping already processed: /content/drive/MyDrive/sevenlumi_data/luminator_dataset_augmented/ak/50m/0_0_-1_50m/mic4/18.wav\n",
            "Skipping already processed: /content/drive/MyDrive/sevenlumi_data/luminator_dataset_augmented/ak/50m/0_0_-1_50m/mic4/9.wav\n",
            "Skipping already processed: /content/drive/MyDrive/sevenlumi_data/luminator_dataset_augmented/ak/50m/0_0_-1_50m/mic4/6.wav\n"
          ]
        },
        {
          "output_type": "stream",
          "name": "stderr",
          "text": [
            "\r100%|██████████| 21/21 [00:00<00:00, 1034.88it/s]\n"
          ]
        },
        {
          "output_type": "stream",
          "name": "stdout",
          "text": [
            "Skipping already processed: /content/drive/MyDrive/sevenlumi_data/luminator_dataset_augmented/ak/50m/0_0_-1_50m/mic4/14.wav\n",
            "Skipping already processed: /content/drive/MyDrive/sevenlumi_data/luminator_dataset_augmented/ak/50m/0_0_-1_50m/mic4/13.wav\n",
            "Skipping already processed: /content/drive/MyDrive/sevenlumi_data/luminator_dataset_augmented/ak/50m/0_0_-1_50m/mic4/10.wav\n",
            "Skipping already processed: /content/drive/MyDrive/sevenlumi_data/luminator_dataset_augmented/ak/50m/0_0_-1_50m/mic4/7.wav\n",
            "Skipping already processed: /content/drive/MyDrive/sevenlumi_data/luminator_dataset_augmented/ak/50m/0_0_-1_50m/mic4/12.wav\n",
            "Skipping already processed: /content/drive/MyDrive/sevenlumi_data/luminator_dataset_augmented/ak/50m/0_0_-1_50m/mic4/21.wav\n",
            "Skipping already processed: /content/drive/MyDrive/sevenlumi_data/luminator_dataset_augmented/ak/50m/0_0_-1_50m/mic4/17.wav\n",
            "Skipping already processed: /content/drive/MyDrive/sevenlumi_data/luminator_dataset_augmented/ak/50m/0_0_-1_50m/mic4/19.wav\n"
          ]
        },
        {
          "output_type": "stream",
          "name": "stderr",
          "text": [
            "0it [00:00, ?it/s]\n",
            "0it [00:00, ?it/s]\n",
            "  0%|          | 0/33 [00:00<?, ?it/s]"
          ]
        },
        {
          "output_type": "stream",
          "name": "stdout",
          "text": [
            "Skipping already processed: /content/drive/MyDrive/sevenlumi_data/luminator_dataset_augmented/ak/0m/0_0_0_0m/mic1/7.wav\n",
            "Skipping already processed: /content/drive/MyDrive/sevenlumi_data/luminator_dataset_augmented/ak/0m/0_0_0_0m/mic1/10.wav\n",
            "Skipping already processed: /content/drive/MyDrive/sevenlumi_data/luminator_dataset_augmented/ak/0m/0_0_0_0m/mic1/9.wav\n",
            "Skipping already processed: /content/drive/MyDrive/sevenlumi_data/luminator_dataset_augmented/ak/0m/0_0_0_0m/mic1/8.wav\n",
            "Skipping already processed: /content/drive/MyDrive/sevenlumi_data/luminator_dataset_augmented/ak/0m/0_0_0_0m/mic1/5.wav\n",
            "Skipping already processed: /content/drive/MyDrive/sevenlumi_data/luminator_dataset_augmented/ak/0m/0_0_0_0m/mic1/1.wav\n",
            "Skipping already processed: /content/drive/MyDrive/sevenlumi_data/luminator_dataset_augmented/ak/0m/0_0_0_0m/mic1/11.wav\n",
            "Skipping already processed: /content/drive/MyDrive/sevenlumi_data/luminator_dataset_augmented/ak/0m/0_0_0_0m/mic1/4.wav\n",
            "Skipping already processed: /content/drive/MyDrive/sevenlumi_data/luminator_dataset_augmented/ak/0m/0_0_0_0m/mic1/2.wav\n",
            "Skipping already processed: /content/drive/MyDrive/sevenlumi_data/luminator_dataset_augmented/ak/0m/0_0_0_0m/mic1/3.wav\n",
            "Skipping already processed: /content/drive/MyDrive/sevenlumi_data/luminator_dataset_augmented/ak/0m/0_0_0_0m/mic1/12.wav\n",
            "Skipping already processed: /content/drive/MyDrive/sevenlumi_data/luminator_dataset_augmented/ak/0m/0_0_0_0m/mic1/6.wav\n",
            "Skipping already processed: /content/drive/MyDrive/sevenlumi_data/luminator_dataset_augmented/ak/0m/0_0_0_0m/mic1/16.wav\n",
            "Skipping already processed: /content/drive/MyDrive/sevenlumi_data/luminator_dataset_augmented/ak/0m/0_0_0_0m/mic1/18.wav\n",
            "Skipping already processed: /content/drive/MyDrive/sevenlumi_data/luminator_dataset_augmented/ak/0m/0_0_0_0m/mic1/15.wav\n",
            "Skipping already processed: /content/drive/MyDrive/sevenlumi_data/luminator_dataset_augmented/ak/0m/0_0_0_0m/mic1/14.wav\n",
            "Skipping already processed: /content/drive/MyDrive/sevenlumi_data/luminator_dataset_augmented/ak/0m/0_0_0_0m/mic1/17.wav\n",
            "Skipping already processed: /content/drive/MyDrive/sevenlumi_data/luminator_dataset_augmented/ak/0m/0_0_0_0m/mic1/19.wav\n",
            "Skipping already processed: /content/drive/MyDrive/sevenlumi_data/luminator_dataset_augmented/ak/0m/0_0_0_0m/mic1/13.wav\n",
            "Skipping already processed: /content/drive/MyDrive/sevenlumi_data/luminator_dataset_augmented/ak/0m/0_0_0_0m/mic1/23.wav\n",
            "Skipping already processed: /content/drive/MyDrive/sevenlumi_data/luminator_dataset_augmented/ak/0m/0_0_0_0m/mic1/25.wav\n",
            "Skipping already processed: /content/drive/MyDrive/sevenlumi_data/luminator_dataset_augmented/ak/0m/0_0_0_0m/mic1/24.wav\n",
            "Skipping already processed: /content/drive/MyDrive/sevenlumi_data/luminator_dataset_augmented/ak/0m/0_0_0_0m/mic1/22.wav\n",
            "Skipping already processed: /content/drive/MyDrive/sevenlumi_data/luminator_dataset_augmented/ak/0m/0_0_0_0m/mic1/20.wav\n",
            "Skipping already processed: /content/drive/MyDrive/sevenlumi_data/luminator_dataset_augmented/ak/0m/0_0_0_0m/mic1/21.wav\n",
            "Skipping already processed: /content/drive/MyDrive/sevenlumi_data/luminator_dataset_augmented/ak/0m/0_0_0_0m/mic1/30.wav\n",
            "Skipping already processed: /content/drive/MyDrive/sevenlumi_data/luminator_dataset_augmented/ak/0m/0_0_0_0m/mic1/27.wav\n",
            "Skipping already processed: /content/drive/MyDrive/sevenlumi_data/luminator_dataset_augmented/ak/0m/0_0_0_0m/mic1/28.wav\n",
            "Skipping already processed: /content/drive/MyDrive/sevenlumi_data/luminator_dataset_augmented/ak/0m/0_0_0_0m/mic1/33.wav\n",
            "Skipping already processed: /content/drive/MyDrive/sevenlumi_data/luminator_dataset_augmented/ak/0m/0_0_0_0m/mic1/32.wav\n",
            "Skipping already processed: /content/drive/MyDrive/sevenlumi_data/luminator_dataset_augmented/ak/0m/0_0_0_0m/mic1/26.wav\n",
            "Skipping already processed: /content/drive/MyDrive/sevenlumi_data/luminator_dataset_augmented/ak/0m/0_0_0_0m/mic1/31.wav\n"
          ]
        },
        {
          "output_type": "stream",
          "name": "stderr",
          "text": [
            "\r100%|██████████| 33/33 [00:00<00:00, 848.08it/s]\n"
          ]
        },
        {
          "output_type": "stream",
          "name": "stdout",
          "text": [
            "Skipping already processed: /content/drive/MyDrive/sevenlumi_data/luminator_dataset_augmented/ak/0m/0_0_0_0m/mic1/29.wav\n"
          ]
        },
        {
          "output_type": "stream",
          "name": "stderr",
          "text": [
            "\r  0%|          | 0/33 [00:00<?, ?it/s]"
          ]
        },
        {
          "output_type": "stream",
          "name": "stdout",
          "text": [
            "Skipping already processed: /content/drive/MyDrive/sevenlumi_data/luminator_dataset_augmented/ak/0m/0_0_0_0m/mic2/7.wav\n",
            "Skipping already processed: /content/drive/MyDrive/sevenlumi_data/luminator_dataset_augmented/ak/0m/0_0_0_0m/mic2/10.wav\n",
            "Skipping already processed: /content/drive/MyDrive/sevenlumi_data/luminator_dataset_augmented/ak/0m/0_0_0_0m/mic2/9.wav\n",
            "Skipping already processed: /content/drive/MyDrive/sevenlumi_data/luminator_dataset_augmented/ak/0m/0_0_0_0m/mic2/8.wav\n",
            "Skipping already processed: /content/drive/MyDrive/sevenlumi_data/luminator_dataset_augmented/ak/0m/0_0_0_0m/mic2/5.wav\n",
            "Skipping already processed: /content/drive/MyDrive/sevenlumi_data/luminator_dataset_augmented/ak/0m/0_0_0_0m/mic2/1.wav\n",
            "Skipping already processed: /content/drive/MyDrive/sevenlumi_data/luminator_dataset_augmented/ak/0m/0_0_0_0m/mic2/11.wav\n",
            "Skipping already processed: /content/drive/MyDrive/sevenlumi_data/luminator_dataset_augmented/ak/0m/0_0_0_0m/mic2/4.wav\n",
            "Skipping already processed: /content/drive/MyDrive/sevenlumi_data/luminator_dataset_augmented/ak/0m/0_0_0_0m/mic2/2.wav\n",
            "Skipping already processed: /content/drive/MyDrive/sevenlumi_data/luminator_dataset_augmented/ak/0m/0_0_0_0m/mic2/3.wav\n",
            "Skipping already processed: /content/drive/MyDrive/sevenlumi_data/luminator_dataset_augmented/ak/0m/0_0_0_0m/mic2/12.wav\n",
            "Skipping already processed: /content/drive/MyDrive/sevenlumi_data/luminator_dataset_augmented/ak/0m/0_0_0_0m/mic2/6.wav\n",
            "Skipping already processed: /content/drive/MyDrive/sevenlumi_data/luminator_dataset_augmented/ak/0m/0_0_0_0m/mic2/16.wav\n",
            "Skipping already processed: /content/drive/MyDrive/sevenlumi_data/luminator_dataset_augmented/ak/0m/0_0_0_0m/mic2/18.wav\n",
            "Skipping already processed: /content/drive/MyDrive/sevenlumi_data/luminator_dataset_augmented/ak/0m/0_0_0_0m/mic2/15.wav\n",
            "Skipping already processed: /content/drive/MyDrive/sevenlumi_data/luminator_dataset_augmented/ak/0m/0_0_0_0m/mic2/14.wav\n",
            "Skipping already processed: /content/drive/MyDrive/sevenlumi_data/luminator_dataset_augmented/ak/0m/0_0_0_0m/mic2/17.wav\n",
            "Skipping already processed: /content/drive/MyDrive/sevenlumi_data/luminator_dataset_augmented/ak/0m/0_0_0_0m/mic2/19.wav\n",
            "Skipping already processed: /content/drive/MyDrive/sevenlumi_data/luminator_dataset_augmented/ak/0m/0_0_0_0m/mic2/13.wav\n",
            "Skipping already processed: /content/drive/MyDrive/sevenlumi_data/luminator_dataset_augmented/ak/0m/0_0_0_0m/mic2/23.wav\n",
            "Skipping already processed: /content/drive/MyDrive/sevenlumi_data/luminator_dataset_augmented/ak/0m/0_0_0_0m/mic2/25.wav\n",
            "Skipping already processed: /content/drive/MyDrive/sevenlumi_data/luminator_dataset_augmented/ak/0m/0_0_0_0m/mic2/24.wav\n",
            "Skipping already processed: /content/drive/MyDrive/sevenlumi_data/luminator_dataset_augmented/ak/0m/0_0_0_0m/mic2/22.wav\n",
            "Skipping already processed: /content/drive/MyDrive/sevenlumi_data/luminator_dataset_augmented/ak/0m/0_0_0_0m/mic2/20.wav\n",
            "Skipping already processed: /content/drive/MyDrive/sevenlumi_data/luminator_dataset_augmented/ak/0m/0_0_0_0m/mic2/21.wav\n",
            "Skipping already processed: /content/drive/MyDrive/sevenlumi_data/luminator_dataset_augmented/ak/0m/0_0_0_0m/mic2/30.wav\n",
            "Skipping already processed: /content/drive/MyDrive/sevenlumi_data/luminator_dataset_augmented/ak/0m/0_0_0_0m/mic2/27.wav\n",
            "Skipping already processed: /content/drive/MyDrive/sevenlumi_data/luminator_dataset_augmented/ak/0m/0_0_0_0m/mic2/28.wav\n",
            "Skipping already processed: /content/drive/MyDrive/sevenlumi_data/luminator_dataset_augmented/ak/0m/0_0_0_0m/mic2/33.wav\n",
            "Skipping already processed: /content/drive/MyDrive/sevenlumi_data/luminator_dataset_augmented/ak/0m/0_0_0_0m/mic2/32.wav\n",
            "Skipping already processed: /content/drive/MyDrive/sevenlumi_data/luminator_dataset_augmented/ak/0m/0_0_0_0m/mic2/26.wav\n",
            "Skipping already processed: /content/drive/MyDrive/sevenlumi_data/luminator_dataset_augmented/ak/0m/0_0_0_0m/mic2/31.wav\n"
          ]
        },
        {
          "output_type": "stream",
          "name": "stderr",
          "text": [
            "\r100%|██████████| 33/33 [00:00<00:00, 939.39it/s]\n"
          ]
        },
        {
          "output_type": "stream",
          "name": "stdout",
          "text": [
            "Skipping already processed: /content/drive/MyDrive/sevenlumi_data/luminator_dataset_augmented/ak/0m/0_0_0_0m/mic2/29.wav\n"
          ]
        },
        {
          "output_type": "stream",
          "name": "stderr",
          "text": [
            "\r  0%|          | 0/33 [00:00<?, ?it/s]"
          ]
        },
        {
          "output_type": "stream",
          "name": "stdout",
          "text": [
            "Skipping already processed: /content/drive/MyDrive/sevenlumi_data/luminator_dataset_augmented/ak/0m/0_0_0_0m/mic3/7.wav\n",
            "Skipping already processed: /content/drive/MyDrive/sevenlumi_data/luminator_dataset_augmented/ak/0m/0_0_0_0m/mic3/10.wav\n",
            "Skipping already processed: /content/drive/MyDrive/sevenlumi_data/luminator_dataset_augmented/ak/0m/0_0_0_0m/mic3/9.wav\n",
            "Skipping already processed: /content/drive/MyDrive/sevenlumi_data/luminator_dataset_augmented/ak/0m/0_0_0_0m/mic3/8.wav\n",
            "Skipping already processed: /content/drive/MyDrive/sevenlumi_data/luminator_dataset_augmented/ak/0m/0_0_0_0m/mic3/5.wav\n",
            "Skipping already processed: /content/drive/MyDrive/sevenlumi_data/luminator_dataset_augmented/ak/0m/0_0_0_0m/mic3/1.wav\n",
            "Skipping already processed: /content/drive/MyDrive/sevenlumi_data/luminator_dataset_augmented/ak/0m/0_0_0_0m/mic3/11.wav\n",
            "Skipping already processed: /content/drive/MyDrive/sevenlumi_data/luminator_dataset_augmented/ak/0m/0_0_0_0m/mic3/4.wav\n",
            "Skipping already processed: /content/drive/MyDrive/sevenlumi_data/luminator_dataset_augmented/ak/0m/0_0_0_0m/mic3/2.wav\n",
            "Skipping already processed: /content/drive/MyDrive/sevenlumi_data/luminator_dataset_augmented/ak/0m/0_0_0_0m/mic3/3.wav\n",
            "Skipping already processed: /content/drive/MyDrive/sevenlumi_data/luminator_dataset_augmented/ak/0m/0_0_0_0m/mic3/12.wav\n",
            "Skipping already processed: /content/drive/MyDrive/sevenlumi_data/luminator_dataset_augmented/ak/0m/0_0_0_0m/mic3/6.wav\n",
            "Skipping already processed: /content/drive/MyDrive/sevenlumi_data/luminator_dataset_augmented/ak/0m/0_0_0_0m/mic3/16.wav\n",
            "Skipping already processed: /content/drive/MyDrive/sevenlumi_data/luminator_dataset_augmented/ak/0m/0_0_0_0m/mic3/18.wav\n",
            "Skipping already processed: /content/drive/MyDrive/sevenlumi_data/luminator_dataset_augmented/ak/0m/0_0_0_0m/mic3/15.wav\n",
            "Skipping already processed: /content/drive/MyDrive/sevenlumi_data/luminator_dataset_augmented/ak/0m/0_0_0_0m/mic3/14.wav\n",
            "Skipping already processed: /content/drive/MyDrive/sevenlumi_data/luminator_dataset_augmented/ak/0m/0_0_0_0m/mic3/17.wav\n",
            "Skipping already processed: /content/drive/MyDrive/sevenlumi_data/luminator_dataset_augmented/ak/0m/0_0_0_0m/mic3/19.wav\n",
            "Skipping already processed: /content/drive/MyDrive/sevenlumi_data/luminator_dataset_augmented/ak/0m/0_0_0_0m/mic3/13.wav\n",
            "Skipping already processed: /content/drive/MyDrive/sevenlumi_data/luminator_dataset_augmented/ak/0m/0_0_0_0m/mic3/23.wav\n",
            "Skipping already processed: /content/drive/MyDrive/sevenlumi_data/luminator_dataset_augmented/ak/0m/0_0_0_0m/mic3/25.wav\n",
            "Skipping already processed: /content/drive/MyDrive/sevenlumi_data/luminator_dataset_augmented/ak/0m/0_0_0_0m/mic3/24.wav\n",
            "Skipping already processed: /content/drive/MyDrive/sevenlumi_data/luminator_dataset_augmented/ak/0m/0_0_0_0m/mic3/22.wav\n",
            "Skipping already processed: /content/drive/MyDrive/sevenlumi_data/luminator_dataset_augmented/ak/0m/0_0_0_0m/mic3/20.wav\n",
            "Skipping already processed: /content/drive/MyDrive/sevenlumi_data/luminator_dataset_augmented/ak/0m/0_0_0_0m/mic3/21.wav\n",
            "Skipping already processed: /content/drive/MyDrive/sevenlumi_data/luminator_dataset_augmented/ak/0m/0_0_0_0m/mic3/30.wav\n",
            "Skipping already processed: /content/drive/MyDrive/sevenlumi_data/luminator_dataset_augmented/ak/0m/0_0_0_0m/mic3/27.wav\n"
          ]
        },
        {
          "output_type": "stream",
          "name": "stderr",
          "text": [
            "\r100%|██████████| 33/33 [00:00<00:00, 861.75it/s]\n"
          ]
        },
        {
          "output_type": "stream",
          "name": "stdout",
          "text": [
            "Skipping already processed: /content/drive/MyDrive/sevenlumi_data/luminator_dataset_augmented/ak/0m/0_0_0_0m/mic3/28.wav\n",
            "Skipping already processed: /content/drive/MyDrive/sevenlumi_data/luminator_dataset_augmented/ak/0m/0_0_0_0m/mic3/33.wav\n",
            "Skipping already processed: /content/drive/MyDrive/sevenlumi_data/luminator_dataset_augmented/ak/0m/0_0_0_0m/mic3/32.wav\n",
            "Skipping already processed: /content/drive/MyDrive/sevenlumi_data/luminator_dataset_augmented/ak/0m/0_0_0_0m/mic3/26.wav\n",
            "Skipping already processed: /content/drive/MyDrive/sevenlumi_data/luminator_dataset_augmented/ak/0m/0_0_0_0m/mic3/31.wav\n",
            "Skipping already processed: /content/drive/MyDrive/sevenlumi_data/luminator_dataset_augmented/ak/0m/0_0_0_0m/mic3/29.wav\n"
          ]
        },
        {
          "output_type": "stream",
          "name": "stderr",
          "text": [
            "\r  0%|          | 0/33 [00:00<?, ?it/s]"
          ]
        },
        {
          "output_type": "stream",
          "name": "stdout",
          "text": [
            "Skipping already processed: /content/drive/MyDrive/sevenlumi_data/luminator_dataset_augmented/ak/0m/0_0_0_0m/mic4/7.wav\n",
            "Skipping already processed: /content/drive/MyDrive/sevenlumi_data/luminator_dataset_augmented/ak/0m/0_0_0_0m/mic4/10.wav\n",
            "Skipping already processed: /content/drive/MyDrive/sevenlumi_data/luminator_dataset_augmented/ak/0m/0_0_0_0m/mic4/9.wav\n",
            "Skipping already processed: /content/drive/MyDrive/sevenlumi_data/luminator_dataset_augmented/ak/0m/0_0_0_0m/mic4/8.wav\n",
            "Skipping already processed: /content/drive/MyDrive/sevenlumi_data/luminator_dataset_augmented/ak/0m/0_0_0_0m/mic4/5.wav\n",
            "Skipping already processed: /content/drive/MyDrive/sevenlumi_data/luminator_dataset_augmented/ak/0m/0_0_0_0m/mic4/1.wav\n",
            "Skipping already processed: /content/drive/MyDrive/sevenlumi_data/luminator_dataset_augmented/ak/0m/0_0_0_0m/mic4/11.wav\n",
            "Skipping already processed: /content/drive/MyDrive/sevenlumi_data/luminator_dataset_augmented/ak/0m/0_0_0_0m/mic4/4.wav\n",
            "Skipping already processed: /content/drive/MyDrive/sevenlumi_data/luminator_dataset_augmented/ak/0m/0_0_0_0m/mic4/2.wav\n",
            "Skipping already processed: /content/drive/MyDrive/sevenlumi_data/luminator_dataset_augmented/ak/0m/0_0_0_0m/mic4/3.wav\n",
            "Skipping already processed: /content/drive/MyDrive/sevenlumi_data/luminator_dataset_augmented/ak/0m/0_0_0_0m/mic4/12.wav\n",
            "Skipping already processed: /content/drive/MyDrive/sevenlumi_data/luminator_dataset_augmented/ak/0m/0_0_0_0m/mic4/6.wav\n",
            "Skipping already processed: /content/drive/MyDrive/sevenlumi_data/luminator_dataset_augmented/ak/0m/0_0_0_0m/mic4/16.wav\n",
            "Skipping already processed: /content/drive/MyDrive/sevenlumi_data/luminator_dataset_augmented/ak/0m/0_0_0_0m/mic4/18.wav\n",
            "Skipping already processed: /content/drive/MyDrive/sevenlumi_data/luminator_dataset_augmented/ak/0m/0_0_0_0m/mic4/15.wav\n",
            "Skipping already processed: /content/drive/MyDrive/sevenlumi_data/luminator_dataset_augmented/ak/0m/0_0_0_0m/mic4/14.wav\n",
            "Skipping already processed: /content/drive/MyDrive/sevenlumi_data/luminator_dataset_augmented/ak/0m/0_0_0_0m/mic4/17.wav\n",
            "Skipping already processed: /content/drive/MyDrive/sevenlumi_data/luminator_dataset_augmented/ak/0m/0_0_0_0m/mic4/19.wav\n",
            "Skipping already processed: /content/drive/MyDrive/sevenlumi_data/luminator_dataset_augmented/ak/0m/0_0_0_0m/mic4/13.wav\n",
            "Skipping already processed: /content/drive/MyDrive/sevenlumi_data/luminator_dataset_augmented/ak/0m/0_0_0_0m/mic4/23.wav\n",
            "Skipping already processed: /content/drive/MyDrive/sevenlumi_data/luminator_dataset_augmented/ak/0m/0_0_0_0m/mic4/25.wav\n",
            "Skipping already processed: /content/drive/MyDrive/sevenlumi_data/luminator_dataset_augmented/ak/0m/0_0_0_0m/mic4/24.wav\n",
            "Skipping already processed: /content/drive/MyDrive/sevenlumi_data/luminator_dataset_augmented/ak/0m/0_0_0_0m/mic4/22.wav\n",
            "Skipping already processed: /content/drive/MyDrive/sevenlumi_data/luminator_dataset_augmented/ak/0m/0_0_0_0m/mic4/20.wav\n",
            "Skipping already processed: /content/drive/MyDrive/sevenlumi_data/luminator_dataset_augmented/ak/0m/0_0_0_0m/mic4/21.wav\n",
            "Skipping already processed: /content/drive/MyDrive/sevenlumi_data/luminator_dataset_augmented/ak/0m/0_0_0_0m/mic4/30.wav\n",
            "Skipping already processed: /content/drive/MyDrive/sevenlumi_data/luminator_dataset_augmented/ak/0m/0_0_0_0m/mic4/27.wav\n",
            "Skipping already processed: /content/drive/MyDrive/sevenlumi_data/luminator_dataset_augmented/ak/0m/0_0_0_0m/mic4/28.wav\n",
            "Skipping already processed: /content/drive/MyDrive/sevenlumi_data/luminator_dataset_augmented/ak/0m/0_0_0_0m/mic4/33.wav\n",
            "Skipping already processed: /content/drive/MyDrive/sevenlumi_data/luminator_dataset_augmented/ak/0m/0_0_0_0m/mic4/32.wav\n",
            "Skipping already processed: /content/drive/MyDrive/sevenlumi_data/luminator_dataset_augmented/ak/0m/0_0_0_0m/mic4/26.wav\n",
            "Skipping already processed: /content/drive/MyDrive/sevenlumi_data/luminator_dataset_augmented/ak/0m/0_0_0_0m/mic4/31.wav\n"
          ]
        },
        {
          "output_type": "stream",
          "name": "stderr",
          "text": [
            "\r100%|██████████| 33/33 [00:00<00:00, 1132.43it/s]"
          ]
        },
        {
          "output_type": "stream",
          "name": "stdout",
          "text": [
            "Skipping already processed: /content/drive/MyDrive/sevenlumi_data/luminator_dataset_augmented/ak/0m/0_0_0_0m/mic4/29.wav\n"
          ]
        },
        {
          "output_type": "stream",
          "name": "stderr",
          "text": [
            "\n",
            "0it [00:00, ?it/s]\n",
            "0it [00:00, ?it/s]\n",
            "0it [00:00, ?it/s]\n",
            "100%|██████████| 13/13 [00:00<00:00, 846.33it/s]\n"
          ]
        },
        {
          "output_type": "stream",
          "name": "stdout",
          "text": [
            "Skipping already processed: /content/drive/MyDrive/sevenlumi_data/luminator_dataset_augmented/m4/50m/0_0_1_50m/mic1/3.wav\n",
            "Skipping already processed: /content/drive/MyDrive/sevenlumi_data/luminator_dataset_augmented/m4/50m/0_0_1_50m/mic1/12.wav\n",
            "Skipping already processed: /content/drive/MyDrive/sevenlumi_data/luminator_dataset_augmented/m4/50m/0_0_1_50m/mic1/8.wav\n",
            "Skipping already processed: /content/drive/MyDrive/sevenlumi_data/luminator_dataset_augmented/m4/50m/0_0_1_50m/mic1/4.wav\n",
            "Skipping already processed: /content/drive/MyDrive/sevenlumi_data/luminator_dataset_augmented/m4/50m/0_0_1_50m/mic1/9.wav\n",
            "Skipping already processed: /content/drive/MyDrive/sevenlumi_data/luminator_dataset_augmented/m4/50m/0_0_1_50m/mic1/1.wav\n",
            "Skipping already processed: /content/drive/MyDrive/sevenlumi_data/luminator_dataset_augmented/m4/50m/0_0_1_50m/mic1/7.wav\n",
            "Skipping already processed: /content/drive/MyDrive/sevenlumi_data/luminator_dataset_augmented/m4/50m/0_0_1_50m/mic1/10.wav\n",
            "Skipping already processed: /content/drive/MyDrive/sevenlumi_data/luminator_dataset_augmented/m4/50m/0_0_1_50m/mic1/2.wav\n",
            "Skipping already processed: /content/drive/MyDrive/sevenlumi_data/luminator_dataset_augmented/m4/50m/0_0_1_50m/mic1/6.wav\n",
            "Skipping already processed: /content/drive/MyDrive/sevenlumi_data/luminator_dataset_augmented/m4/50m/0_0_1_50m/mic1/5.wav\n",
            "Skipping already processed: /content/drive/MyDrive/sevenlumi_data/luminator_dataset_augmented/m4/50m/0_0_1_50m/mic1/13.wav\n",
            "Skipping already processed: /content/drive/MyDrive/sevenlumi_data/luminator_dataset_augmented/m4/50m/0_0_1_50m/mic1/11.wav\n"
          ]
        },
        {
          "output_type": "stream",
          "name": "stderr",
          "text": [
            "\r  0%|          | 0/13 [00:00<?, ?it/s]"
          ]
        },
        {
          "output_type": "stream",
          "name": "stdout",
          "text": [
            "Skipping already processed: /content/drive/MyDrive/sevenlumi_data/luminator_dataset_augmented/m4/50m/0_0_1_50m/mic2/3.wav\n",
            "Skipping already processed: /content/drive/MyDrive/sevenlumi_data/luminator_dataset_augmented/m4/50m/0_0_1_50m/mic2/12.wav\n",
            "Skipping already processed: /content/drive/MyDrive/sevenlumi_data/luminator_dataset_augmented/m4/50m/0_0_1_50m/mic2/8.wav\n",
            "Skipping already processed: /content/drive/MyDrive/sevenlumi_data/luminator_dataset_augmented/m4/50m/0_0_1_50m/mic2/4.wav\n",
            "Skipping already processed: /content/drive/MyDrive/sevenlumi_data/luminator_dataset_augmented/m4/50m/0_0_1_50m/mic2/9.wav\n"
          ]
        },
        {
          "output_type": "stream",
          "name": "stderr",
          "text": [
            "\r100%|██████████| 13/13 [00:00<00:00, 942.56it/s]\n"
          ]
        },
        {
          "output_type": "stream",
          "name": "stdout",
          "text": [
            "Skipping already processed: /content/drive/MyDrive/sevenlumi_data/luminator_dataset_augmented/m4/50m/0_0_1_50m/mic2/1.wav\n",
            "Skipping already processed: /content/drive/MyDrive/sevenlumi_data/luminator_dataset_augmented/m4/50m/0_0_1_50m/mic2/7.wav\n",
            "Skipping already processed: /content/drive/MyDrive/sevenlumi_data/luminator_dataset_augmented/m4/50m/0_0_1_50m/mic2/10.wav\n",
            "Skipping already processed: /content/drive/MyDrive/sevenlumi_data/luminator_dataset_augmented/m4/50m/0_0_1_50m/mic2/2.wav\n",
            "Skipping already processed: /content/drive/MyDrive/sevenlumi_data/luminator_dataset_augmented/m4/50m/0_0_1_50m/mic2/6.wav\n",
            "Skipping already processed: /content/drive/MyDrive/sevenlumi_data/luminator_dataset_augmented/m4/50m/0_0_1_50m/mic2/5.wav\n",
            "Skipping already processed: /content/drive/MyDrive/sevenlumi_data/luminator_dataset_augmented/m4/50m/0_0_1_50m/mic2/13.wav\n",
            "Skipping already processed: /content/drive/MyDrive/sevenlumi_data/luminator_dataset_augmented/m4/50m/0_0_1_50m/mic2/11.wav\n"
          ]
        },
        {
          "output_type": "stream",
          "name": "stderr",
          "text": [
            "100%|██████████| 13/13 [00:00<00:00, 1109.69it/s]\n"
          ]
        },
        {
          "output_type": "stream",
          "name": "stdout",
          "text": [
            "Skipping already processed: /content/drive/MyDrive/sevenlumi_data/luminator_dataset_augmented/m4/50m/0_0_1_50m/mic3/3.wav\n",
            "Skipping already processed: /content/drive/MyDrive/sevenlumi_data/luminator_dataset_augmented/m4/50m/0_0_1_50m/mic3/12.wav\n",
            "Skipping already processed: /content/drive/MyDrive/sevenlumi_data/luminator_dataset_augmented/m4/50m/0_0_1_50m/mic3/8.wav\n",
            "Skipping already processed: /content/drive/MyDrive/sevenlumi_data/luminator_dataset_augmented/m4/50m/0_0_1_50m/mic3/4.wav\n",
            "Skipping already processed: /content/drive/MyDrive/sevenlumi_data/luminator_dataset_augmented/m4/50m/0_0_1_50m/mic3/9.wav\n",
            "Skipping already processed: /content/drive/MyDrive/sevenlumi_data/luminator_dataset_augmented/m4/50m/0_0_1_50m/mic3/1.wav\n",
            "Skipping already processed: /content/drive/MyDrive/sevenlumi_data/luminator_dataset_augmented/m4/50m/0_0_1_50m/mic3/7.wav\n",
            "Skipping already processed: /content/drive/MyDrive/sevenlumi_data/luminator_dataset_augmented/m4/50m/0_0_1_50m/mic3/10.wav\n",
            "Skipping already processed: /content/drive/MyDrive/sevenlumi_data/luminator_dataset_augmented/m4/50m/0_0_1_50m/mic3/2.wav\n",
            "Skipping already processed: /content/drive/MyDrive/sevenlumi_data/luminator_dataset_augmented/m4/50m/0_0_1_50m/mic3/6.wav\n",
            "Skipping already processed: /content/drive/MyDrive/sevenlumi_data/luminator_dataset_augmented/m4/50m/0_0_1_50m/mic3/5.wav\n",
            "Skipping already processed: /content/drive/MyDrive/sevenlumi_data/luminator_dataset_augmented/m4/50m/0_0_1_50m/mic3/13.wav\n",
            "Skipping already processed: /content/drive/MyDrive/sevenlumi_data/luminator_dataset_augmented/m4/50m/0_0_1_50m/mic3/11.wav\n"
          ]
        },
        {
          "output_type": "stream",
          "name": "stderr",
          "text": [
            "\r  0%|          | 0/13 [00:00<?, ?it/s]"
          ]
        },
        {
          "output_type": "stream",
          "name": "stdout",
          "text": [
            "Skipping already processed: /content/drive/MyDrive/sevenlumi_data/luminator_dataset_augmented/m4/50m/0_0_1_50m/mic4/3.wav\n",
            "Skipping already processed: /content/drive/MyDrive/sevenlumi_data/luminator_dataset_augmented/m4/50m/0_0_1_50m/mic4/12.wav\n",
            "Skipping already processed: /content/drive/MyDrive/sevenlumi_data/luminator_dataset_augmented/m4/50m/0_0_1_50m/mic4/8.wav\n",
            "Skipping already processed: /content/drive/MyDrive/sevenlumi_data/luminator_dataset_augmented/m4/50m/0_0_1_50m/mic4/4.wav\n",
            "Skipping already processed: /content/drive/MyDrive/sevenlumi_data/luminator_dataset_augmented/m4/50m/0_0_1_50m/mic4/9.wav\n",
            "Skipping already processed: /content/drive/MyDrive/sevenlumi_data/luminator_dataset_augmented/m4/50m/0_0_1_50m/mic4/1.wav\n",
            "Skipping already processed: /content/drive/MyDrive/sevenlumi_data/luminator_dataset_augmented/m4/50m/0_0_1_50m/mic4/7.wav\n"
          ]
        },
        {
          "output_type": "stream",
          "name": "stderr",
          "text": [
            "\r100%|██████████| 13/13 [00:00<00:00, 1146.80it/s]\n"
          ]
        },
        {
          "output_type": "stream",
          "name": "stdout",
          "text": [
            "Skipping already processed: /content/drive/MyDrive/sevenlumi_data/luminator_dataset_augmented/m4/50m/0_0_1_50m/mic4/10.wav\n",
            "Skipping already processed: /content/drive/MyDrive/sevenlumi_data/luminator_dataset_augmented/m4/50m/0_0_1_50m/mic4/2.wav\n",
            "Skipping already processed: /content/drive/MyDrive/sevenlumi_data/luminator_dataset_augmented/m4/50m/0_0_1_50m/mic4/6.wav\n",
            "Skipping already processed: /content/drive/MyDrive/sevenlumi_data/luminator_dataset_augmented/m4/50m/0_0_1_50m/mic4/5.wav\n",
            "Skipping already processed: /content/drive/MyDrive/sevenlumi_data/luminator_dataset_augmented/m4/50m/0_0_1_50m/mic4/13.wav\n",
            "Skipping already processed: /content/drive/MyDrive/sevenlumi_data/luminator_dataset_augmented/m4/50m/0_0_1_50m/mic4/11.wav\n"
          ]
        },
        {
          "output_type": "stream",
          "name": "stderr",
          "text": [
            "0it [00:00, ?it/s]\n",
            "100%|██████████| 13/13 [00:00<00:00, 1279.86it/s]\n"
          ]
        },
        {
          "output_type": "stream",
          "name": "stdout",
          "text": [
            "Skipping already processed: /content/drive/MyDrive/sevenlumi_data/luminator_dataset_augmented/m4/50m/1_0_0_50m/mic1/3.wav\n",
            "Skipping already processed: /content/drive/MyDrive/sevenlumi_data/luminator_dataset_augmented/m4/50m/1_0_0_50m/mic1/2.wav\n",
            "Skipping already processed: /content/drive/MyDrive/sevenlumi_data/luminator_dataset_augmented/m4/50m/1_0_0_50m/mic1/1.wav\n",
            "Skipping already processed: /content/drive/MyDrive/sevenlumi_data/luminator_dataset_augmented/m4/50m/1_0_0_50m/mic1/4.wav\n",
            "Skipping already processed: /content/drive/MyDrive/sevenlumi_data/luminator_dataset_augmented/m4/50m/1_0_0_50m/mic1/5.wav\n",
            "Skipping already processed: /content/drive/MyDrive/sevenlumi_data/luminator_dataset_augmented/m4/50m/1_0_0_50m/mic1/10.wav\n",
            "Skipping already processed: /content/drive/MyDrive/sevenlumi_data/luminator_dataset_augmented/m4/50m/1_0_0_50m/mic1/12.wav\n",
            "Skipping already processed: /content/drive/MyDrive/sevenlumi_data/luminator_dataset_augmented/m4/50m/1_0_0_50m/mic1/11.wav\n",
            "Skipping already processed: /content/drive/MyDrive/sevenlumi_data/luminator_dataset_augmented/m4/50m/1_0_0_50m/mic1/9.wav\n",
            "Skipping already processed: /content/drive/MyDrive/sevenlumi_data/luminator_dataset_augmented/m4/50m/1_0_0_50m/mic1/7.wav\n",
            "Skipping already processed: /content/drive/MyDrive/sevenlumi_data/luminator_dataset_augmented/m4/50m/1_0_0_50m/mic1/6.wav\n",
            "Skipping already processed: /content/drive/MyDrive/sevenlumi_data/luminator_dataset_augmented/m4/50m/1_0_0_50m/mic1/13.wav\n",
            "Skipping already processed: /content/drive/MyDrive/sevenlumi_data/luminator_dataset_augmented/m4/50m/1_0_0_50m/mic1/8.wav\n"
          ]
        },
        {
          "output_type": "stream",
          "name": "stderr",
          "text": [
            "\r  0%|          | 0/13 [00:00<?, ?it/s]"
          ]
        },
        {
          "output_type": "stream",
          "name": "stdout",
          "text": [
            "Skipping already processed: /content/drive/MyDrive/sevenlumi_data/luminator_dataset_augmented/m4/50m/1_0_0_50m/mic2/3.wav\n",
            "Skipping already processed: /content/drive/MyDrive/sevenlumi_data/luminator_dataset_augmented/m4/50m/1_0_0_50m/mic2/2.wav\n",
            "Skipping already processed: /content/drive/MyDrive/sevenlumi_data/luminator_dataset_augmented/m4/50m/1_0_0_50m/mic2/1.wav\n"
          ]
        },
        {
          "output_type": "stream",
          "name": "stderr",
          "text": [
            "\r100%|██████████| 13/13 [00:00<00:00, 1210.75it/s]\n"
          ]
        },
        {
          "output_type": "stream",
          "name": "stdout",
          "text": [
            "Skipping already processed: /content/drive/MyDrive/sevenlumi_data/luminator_dataset_augmented/m4/50m/1_0_0_50m/mic2/4.wav\n",
            "Skipping already processed: /content/drive/MyDrive/sevenlumi_data/luminator_dataset_augmented/m4/50m/1_0_0_50m/mic2/5.wav\n",
            "Skipping already processed: /content/drive/MyDrive/sevenlumi_data/luminator_dataset_augmented/m4/50m/1_0_0_50m/mic2/10.wav\n",
            "Skipping already processed: /content/drive/MyDrive/sevenlumi_data/luminator_dataset_augmented/m4/50m/1_0_0_50m/mic2/12.wav\n",
            "Skipping already processed: /content/drive/MyDrive/sevenlumi_data/luminator_dataset_augmented/m4/50m/1_0_0_50m/mic2/11.wav\n",
            "Skipping already processed: /content/drive/MyDrive/sevenlumi_data/luminator_dataset_augmented/m4/50m/1_0_0_50m/mic2/9.wav\n",
            "Skipping already processed: /content/drive/MyDrive/sevenlumi_data/luminator_dataset_augmented/m4/50m/1_0_0_50m/mic2/7.wav\n",
            "Skipping already processed: /content/drive/MyDrive/sevenlumi_data/luminator_dataset_augmented/m4/50m/1_0_0_50m/mic2/6.wav\n",
            "Skipping already processed: /content/drive/MyDrive/sevenlumi_data/luminator_dataset_augmented/m4/50m/1_0_0_50m/mic2/13.wav\n",
            "Skipping already processed: /content/drive/MyDrive/sevenlumi_data/luminator_dataset_augmented/m4/50m/1_0_0_50m/mic2/8.wav\n"
          ]
        },
        {
          "output_type": "stream",
          "name": "stderr",
          "text": [
            "\r  0%|          | 0/13 [00:00<?, ?it/s]"
          ]
        },
        {
          "output_type": "stream",
          "name": "stdout",
          "text": [
            "Skipping already processed: /content/drive/MyDrive/sevenlumi_data/luminator_dataset_augmented/m4/50m/1_0_0_50m/mic3/3.wav\n",
            "Skipping already processed: /content/drive/MyDrive/sevenlumi_data/luminator_dataset_augmented/m4/50m/1_0_0_50m/mic3/2.wav\n",
            "Skipping already processed: /content/drive/MyDrive/sevenlumi_data/luminator_dataset_augmented/m4/50m/1_0_0_50m/mic3/1.wav\n",
            "Skipping already processed: /content/drive/MyDrive/sevenlumi_data/luminator_dataset_augmented/m4/50m/1_0_0_50m/mic3/4.wav\n"
          ]
        },
        {
          "output_type": "stream",
          "name": "stderr",
          "text": [
            "\r100%|██████████| 13/13 [00:00<00:00, 1224.92it/s]\n"
          ]
        },
        {
          "output_type": "stream",
          "name": "stdout",
          "text": [
            "Skipping already processed: /content/drive/MyDrive/sevenlumi_data/luminator_dataset_augmented/m4/50m/1_0_0_50m/mic3/5.wav\n",
            "Skipping already processed: /content/drive/MyDrive/sevenlumi_data/luminator_dataset_augmented/m4/50m/1_0_0_50m/mic3/10.wav\n",
            "Skipping already processed: /content/drive/MyDrive/sevenlumi_data/luminator_dataset_augmented/m4/50m/1_0_0_50m/mic3/12.wav\n",
            "Skipping already processed: /content/drive/MyDrive/sevenlumi_data/luminator_dataset_augmented/m4/50m/1_0_0_50m/mic3/11.wav\n",
            "Skipping already processed: /content/drive/MyDrive/sevenlumi_data/luminator_dataset_augmented/m4/50m/1_0_0_50m/mic3/9.wav\n",
            "Skipping already processed: /content/drive/MyDrive/sevenlumi_data/luminator_dataset_augmented/m4/50m/1_0_0_50m/mic3/7.wav\n",
            "Skipping already processed: /content/drive/MyDrive/sevenlumi_data/luminator_dataset_augmented/m4/50m/1_0_0_50m/mic3/6.wav\n",
            "Skipping already processed: /content/drive/MyDrive/sevenlumi_data/luminator_dataset_augmented/m4/50m/1_0_0_50m/mic3/13.wav\n",
            "Skipping already processed: /content/drive/MyDrive/sevenlumi_data/luminator_dataset_augmented/m4/50m/1_0_0_50m/mic3/8.wav\n"
          ]
        },
        {
          "output_type": "stream",
          "name": "stderr",
          "text": [
            "\r  0%|          | 0/13 [00:00<?, ?it/s]"
          ]
        },
        {
          "output_type": "stream",
          "name": "stdout",
          "text": [
            "Skipping already processed: /content/drive/MyDrive/sevenlumi_data/luminator_dataset_augmented/m4/50m/1_0_0_50m/mic4/3.wav\n",
            "Skipping already processed: /content/drive/MyDrive/sevenlumi_data/luminator_dataset_augmented/m4/50m/1_0_0_50m/mic4/2.wav\n"
          ]
        },
        {
          "output_type": "stream",
          "name": "stderr",
          "text": [
            "\r100%|██████████| 13/13 [00:00<00:00, 1225.66it/s]\n"
          ]
        },
        {
          "output_type": "stream",
          "name": "stdout",
          "text": [
            "Skipping already processed: /content/drive/MyDrive/sevenlumi_data/luminator_dataset_augmented/m4/50m/1_0_0_50m/mic4/1.wav\n",
            "Skipping already processed: /content/drive/MyDrive/sevenlumi_data/luminator_dataset_augmented/m4/50m/1_0_0_50m/mic4/4.wav\n",
            "Skipping already processed: /content/drive/MyDrive/sevenlumi_data/luminator_dataset_augmented/m4/50m/1_0_0_50m/mic4/5.wav\n",
            "Skipping already processed: /content/drive/MyDrive/sevenlumi_data/luminator_dataset_augmented/m4/50m/1_0_0_50m/mic4/10.wav\n",
            "Skipping already processed: /content/drive/MyDrive/sevenlumi_data/luminator_dataset_augmented/m4/50m/1_0_0_50m/mic4/12.wav\n",
            "Skipping already processed: /content/drive/MyDrive/sevenlumi_data/luminator_dataset_augmented/m4/50m/1_0_0_50m/mic4/11.wav\n",
            "Skipping already processed: /content/drive/MyDrive/sevenlumi_data/luminator_dataset_augmented/m4/50m/1_0_0_50m/mic4/9.wav\n",
            "Skipping already processed: /content/drive/MyDrive/sevenlumi_data/luminator_dataset_augmented/m4/50m/1_0_0_50m/mic4/7.wav\n",
            "Skipping already processed: /content/drive/MyDrive/sevenlumi_data/luminator_dataset_augmented/m4/50m/1_0_0_50m/mic4/6.wav\n",
            "Skipping already processed: /content/drive/MyDrive/sevenlumi_data/luminator_dataset_augmented/m4/50m/1_0_0_50m/mic4/13.wav\n",
            "Skipping already processed: /content/drive/MyDrive/sevenlumi_data/luminator_dataset_augmented/m4/50m/1_0_0_50m/mic4/8.wav\n"
          ]
        },
        {
          "output_type": "stream",
          "name": "stderr",
          "text": [
            "0it [00:00, ?it/s]\n",
            "  0%|          | 0/15 [00:00<?, ?it/s]"
          ]
        },
        {
          "output_type": "stream",
          "name": "stdout",
          "text": [
            "Skipping already processed: /content/drive/MyDrive/sevenlumi_data/luminator_dataset_augmented/m4/50m/-1_0_0_50m/mic1/3.wav\n",
            "Skipping already processed: /content/drive/MyDrive/sevenlumi_data/luminator_dataset_augmented/m4/50m/-1_0_0_50m/mic1/13.wav\n",
            "Skipping already processed: /content/drive/MyDrive/sevenlumi_data/luminator_dataset_augmented/m4/50m/-1_0_0_50m/mic1/11.wav\n",
            "Skipping already processed: /content/drive/MyDrive/sevenlumi_data/luminator_dataset_augmented/m4/50m/-1_0_0_50m/mic1/7.wav\n",
            "Skipping already processed: /content/drive/MyDrive/sevenlumi_data/luminator_dataset_augmented/m4/50m/-1_0_0_50m/mic1/4.wav\n",
            "Skipping already processed: /content/drive/MyDrive/sevenlumi_data/luminator_dataset_augmented/m4/50m/-1_0_0_50m/mic1/8.wav\n",
            "Skipping already processed: /content/drive/MyDrive/sevenlumi_data/luminator_dataset_augmented/m4/50m/-1_0_0_50m/mic1/15.wav\n"
          ]
        },
        {
          "output_type": "stream",
          "name": "stderr",
          "text": [
            "\r100%|██████████| 15/15 [00:00<00:00, 796.69it/s]\n"
          ]
        },
        {
          "output_type": "stream",
          "name": "stdout",
          "text": [
            "Skipping already processed: /content/drive/MyDrive/sevenlumi_data/luminator_dataset_augmented/m4/50m/-1_0_0_50m/mic1/1.wav\n",
            "Skipping already processed: /content/drive/MyDrive/sevenlumi_data/luminator_dataset_augmented/m4/50m/-1_0_0_50m/mic1/5.wav\n",
            "Skipping already processed: /content/drive/MyDrive/sevenlumi_data/luminator_dataset_augmented/m4/50m/-1_0_0_50m/mic1/9.wav\n",
            "Skipping already processed: /content/drive/MyDrive/sevenlumi_data/luminator_dataset_augmented/m4/50m/-1_0_0_50m/mic1/12.wav\n",
            "Skipping already processed: /content/drive/MyDrive/sevenlumi_data/luminator_dataset_augmented/m4/50m/-1_0_0_50m/mic1/6.wav\n",
            "Skipping already processed: /content/drive/MyDrive/sevenlumi_data/luminator_dataset_augmented/m4/50m/-1_0_0_50m/mic1/14.wav\n",
            "Skipping already processed: /content/drive/MyDrive/sevenlumi_data/luminator_dataset_augmented/m4/50m/-1_0_0_50m/mic1/2.wav\n",
            "Skipping already processed: /content/drive/MyDrive/sevenlumi_data/luminator_dataset_augmented/m4/50m/-1_0_0_50m/mic1/10.wav\n"
          ]
        },
        {
          "output_type": "stream",
          "name": "stderr",
          "text": [
            "\r  0%|          | 0/15 [00:00<?, ?it/s]"
          ]
        },
        {
          "output_type": "stream",
          "name": "stdout",
          "text": [
            "Skipping already processed: /content/drive/MyDrive/sevenlumi_data/luminator_dataset_augmented/m4/50m/-1_0_0_50m/mic2/3.wav\n",
            "Skipping already processed: /content/drive/MyDrive/sevenlumi_data/luminator_dataset_augmented/m4/50m/-1_0_0_50m/mic2/13.wav\n",
            "Skipping already processed: /content/drive/MyDrive/sevenlumi_data/luminator_dataset_augmented/m4/50m/-1_0_0_50m/mic2/11.wav\n",
            "Skipping already processed: /content/drive/MyDrive/sevenlumi_data/luminator_dataset_augmented/m4/50m/-1_0_0_50m/mic2/7.wav\n",
            "Skipping already processed: /content/drive/MyDrive/sevenlumi_data/luminator_dataset_augmented/m4/50m/-1_0_0_50m/mic2/4.wav\n",
            "Skipping already processed: /content/drive/MyDrive/sevenlumi_data/luminator_dataset_augmented/m4/50m/-1_0_0_50m/mic2/8.wav\n",
            "Skipping already processed: /content/drive/MyDrive/sevenlumi_data/luminator_dataset_augmented/m4/50m/-1_0_0_50m/mic2/15.wav\n",
            "Skipping already processed: /content/drive/MyDrive/sevenlumi_data/luminator_dataset_augmented/m4/50m/-1_0_0_50m/mic2/1.wav\n",
            "Skipping already processed: /content/drive/MyDrive/sevenlumi_data/luminator_dataset_augmented/m4/50m/-1_0_0_50m/mic2/5.wav\n",
            "Skipping already processed: /content/drive/MyDrive/sevenlumi_data/luminator_dataset_augmented/m4/50m/-1_0_0_50m/mic2/9.wav\n",
            "Skipping already processed: /content/drive/MyDrive/sevenlumi_data/luminator_dataset_augmented/m4/50m/-1_0_0_50m/mic2/12.wav\n",
            "Skipping already processed: /content/drive/MyDrive/sevenlumi_data/luminator_dataset_augmented/m4/50m/-1_0_0_50m/mic2/6.wav\n",
            "Skipping already processed: /content/drive/MyDrive/sevenlumi_data/luminator_dataset_augmented/m4/50m/-1_0_0_50m/mic2/14.wav\n"
          ]
        },
        {
          "output_type": "stream",
          "name": "stderr",
          "text": [
            "\r100%|██████████| 15/15 [00:00<00:00, 862.88it/s]\n"
          ]
        },
        {
          "output_type": "stream",
          "name": "stdout",
          "text": [
            "Skipping already processed: /content/drive/MyDrive/sevenlumi_data/luminator_dataset_augmented/m4/50m/-1_0_0_50m/mic2/2.wav\n",
            "Skipping already processed: /content/drive/MyDrive/sevenlumi_data/luminator_dataset_augmented/m4/50m/-1_0_0_50m/mic2/10.wav\n"
          ]
        },
        {
          "output_type": "stream",
          "name": "stderr",
          "text": [
            "100%|██████████| 15/15 [00:00<00:00, 946.13it/s]"
          ]
        },
        {
          "output_type": "stream",
          "name": "stdout",
          "text": [
            "Skipping already processed: /content/drive/MyDrive/sevenlumi_data/luminator_dataset_augmented/m4/50m/-1_0_0_50m/mic3/3.wav\n",
            "Skipping already processed: /content/drive/MyDrive/sevenlumi_data/luminator_dataset_augmented/m4/50m/-1_0_0_50m/mic3/13.wav\n",
            "Skipping already processed: /content/drive/MyDrive/sevenlumi_data/luminator_dataset_augmented/m4/50m/-1_0_0_50m/mic3/11.wav\n",
            "Skipping already processed: /content/drive/MyDrive/sevenlumi_data/luminator_dataset_augmented/m4/50m/-1_0_0_50m/mic3/7.wav\n",
            "Skipping already processed: /content/drive/MyDrive/sevenlumi_data/luminator_dataset_augmented/m4/50m/-1_0_0_50m/mic3/4.wav\n",
            "Skipping already processed: /content/drive/MyDrive/sevenlumi_data/luminator_dataset_augmented/m4/50m/-1_0_0_50m/mic3/8.wav\n",
            "Skipping already processed: /content/drive/MyDrive/sevenlumi_data/luminator_dataset_augmented/m4/50m/-1_0_0_50m/mic3/15.wav\n",
            "Skipping already processed: /content/drive/MyDrive/sevenlumi_data/luminator_dataset_augmented/m4/50m/-1_0_0_50m/mic3/1.wav\n",
            "Skipping already processed: /content/drive/MyDrive/sevenlumi_data/luminator_dataset_augmented/m4/50m/-1_0_0_50m/mic3/5.wav\n",
            "Skipping already processed: /content/drive/MyDrive/sevenlumi_data/luminator_dataset_augmented/m4/50m/-1_0_0_50m/mic3/9.wav\n",
            "Skipping already processed: /content/drive/MyDrive/sevenlumi_data/luminator_dataset_augmented/m4/50m/-1_0_0_50m/mic3/12.wav\n",
            "Skipping already processed: /content/drive/MyDrive/sevenlumi_data/luminator_dataset_augmented/m4/50m/-1_0_0_50m/mic3/6.wav\n",
            "Skipping already processed: /content/drive/MyDrive/sevenlumi_data/luminator_dataset_augmented/m4/50m/-1_0_0_50m/mic3/14.wav\n",
            "Skipping already processed: /content/drive/MyDrive/sevenlumi_data/luminator_dataset_augmented/m4/50m/-1_0_0_50m/mic3/2.wav\n",
            "Skipping already processed: /content/drive/MyDrive/sevenlumi_data/luminator_dataset_augmented/m4/50m/-1_0_0_50m/mic3/10.wav\n"
          ]
        },
        {
          "output_type": "stream",
          "name": "stderr",
          "text": [
            "\n",
            "100%|██████████| 15/15 [00:00<00:00, 1193.01it/s]\n"
          ]
        },
        {
          "output_type": "stream",
          "name": "stdout",
          "text": [
            "Skipping already processed: /content/drive/MyDrive/sevenlumi_data/luminator_dataset_augmented/m4/50m/-1_0_0_50m/mic4/3.wav\n",
            "Skipping already processed: /content/drive/MyDrive/sevenlumi_data/luminator_dataset_augmented/m4/50m/-1_0_0_50m/mic4/13.wav\n",
            "Skipping already processed: /content/drive/MyDrive/sevenlumi_data/luminator_dataset_augmented/m4/50m/-1_0_0_50m/mic4/11.wav\n",
            "Skipping already processed: /content/drive/MyDrive/sevenlumi_data/luminator_dataset_augmented/m4/50m/-1_0_0_50m/mic4/7.wav\n",
            "Skipping already processed: /content/drive/MyDrive/sevenlumi_data/luminator_dataset_augmented/m4/50m/-1_0_0_50m/mic4/4.wav\n",
            "Skipping already processed: /content/drive/MyDrive/sevenlumi_data/luminator_dataset_augmented/m4/50m/-1_0_0_50m/mic4/8.wav\n",
            "Skipping already processed: /content/drive/MyDrive/sevenlumi_data/luminator_dataset_augmented/m4/50m/-1_0_0_50m/mic4/15.wav\n",
            "Skipping already processed: /content/drive/MyDrive/sevenlumi_data/luminator_dataset_augmented/m4/50m/-1_0_0_50m/mic4/1.wav\n",
            "Skipping already processed: /content/drive/MyDrive/sevenlumi_data/luminator_dataset_augmented/m4/50m/-1_0_0_50m/mic4/5.wav\n",
            "Skipping already processed: /content/drive/MyDrive/sevenlumi_data/luminator_dataset_augmented/m4/50m/-1_0_0_50m/mic4/9.wav\n",
            "Skipping already processed: /content/drive/MyDrive/sevenlumi_data/luminator_dataset_augmented/m4/50m/-1_0_0_50m/mic4/12.wav\n",
            "Skipping already processed: /content/drive/MyDrive/sevenlumi_data/luminator_dataset_augmented/m4/50m/-1_0_0_50m/mic4/6.wav\n",
            "Skipping already processed: /content/drive/MyDrive/sevenlumi_data/luminator_dataset_augmented/m4/50m/-1_0_0_50m/mic4/14.wav\n",
            "Skipping already processed: /content/drive/MyDrive/sevenlumi_data/luminator_dataset_augmented/m4/50m/-1_0_0_50m/mic4/2.wav\n",
            "Skipping already processed: /content/drive/MyDrive/sevenlumi_data/luminator_dataset_augmented/m4/50m/-1_0_0_50m/mic4/10.wav\n"
          ]
        },
        {
          "output_type": "stream",
          "name": "stderr",
          "text": [
            "0it [00:00, ?it/s]\n",
            "  0%|          | 0/21 [00:00<?, ?it/s]"
          ]
        },
        {
          "output_type": "stream",
          "name": "stdout",
          "text": [
            "Skipping already processed: /content/drive/MyDrive/sevenlumi_data/luminator_dataset_augmented/m4/50m/0_0_-1_50m/mic1/3.wav\n",
            "Skipping already processed: /content/drive/MyDrive/sevenlumi_data/luminator_dataset_augmented/m4/50m/0_0_-1_50m/mic1/12.wav\n",
            "Skipping already processed: /content/drive/MyDrive/sevenlumi_data/luminator_dataset_augmented/m4/50m/0_0_-1_50m/mic1/8.wav\n",
            "Skipping already processed: /content/drive/MyDrive/sevenlumi_data/luminator_dataset_augmented/m4/50m/0_0_-1_50m/mic1/6.wav\n",
            "Skipping already processed: /content/drive/MyDrive/sevenlumi_data/luminator_dataset_augmented/m4/50m/0_0_-1_50m/mic1/5.wav\n",
            "Skipping already processed: /content/drive/MyDrive/sevenlumi_data/luminator_dataset_augmented/m4/50m/0_0_-1_50m/mic1/9.wav\n",
            "Skipping already processed: /content/drive/MyDrive/sevenlumi_data/luminator_dataset_augmented/m4/50m/0_0_-1_50m/mic1/4.wav\n",
            "Skipping already processed: /content/drive/MyDrive/sevenlumi_data/luminator_dataset_augmented/m4/50m/0_0_-1_50m/mic1/10.wav\n",
            "Skipping already processed: /content/drive/MyDrive/sevenlumi_data/luminator_dataset_augmented/m4/50m/0_0_-1_50m/mic1/7.wav\n",
            "Skipping already processed: /content/drive/MyDrive/sevenlumi_data/luminator_dataset_augmented/m4/50m/0_0_-1_50m/mic1/2.wav\n",
            "Skipping already processed: /content/drive/MyDrive/sevenlumi_data/luminator_dataset_augmented/m4/50m/0_0_-1_50m/mic1/11.wav\n",
            "Skipping already processed: /content/drive/MyDrive/sevenlumi_data/luminator_dataset_augmented/m4/50m/0_0_-1_50m/mic1/1.wav\n",
            "Skipping already processed: /content/drive/MyDrive/sevenlumi_data/luminator_dataset_augmented/m4/50m/0_0_-1_50m/mic1/13.wav\n"
          ]
        },
        {
          "output_type": "stream",
          "name": "stderr",
          "text": [
            "\r100%|██████████| 21/21 [00:00<00:00, 1164.64it/s]\n"
          ]
        },
        {
          "output_type": "stream",
          "name": "stdout",
          "text": [
            "Skipping already processed: /content/drive/MyDrive/sevenlumi_data/luminator_dataset_augmented/m4/50m/0_0_-1_50m/mic1/17.wav\n",
            "Skipping already processed: /content/drive/MyDrive/sevenlumi_data/luminator_dataset_augmented/m4/50m/0_0_-1_50m/mic1/21.wav\n",
            "Skipping already processed: /content/drive/MyDrive/sevenlumi_data/luminator_dataset_augmented/m4/50m/0_0_-1_50m/mic1/16.wav\n",
            "Skipping already processed: /content/drive/MyDrive/sevenlumi_data/luminator_dataset_augmented/m4/50m/0_0_-1_50m/mic1/14.wav\n",
            "Skipping already processed: /content/drive/MyDrive/sevenlumi_data/luminator_dataset_augmented/m4/50m/0_0_-1_50m/mic1/18.wav\n",
            "Skipping already processed: /content/drive/MyDrive/sevenlumi_data/luminator_dataset_augmented/m4/50m/0_0_-1_50m/mic1/19.wav\n",
            "Skipping already processed: /content/drive/MyDrive/sevenlumi_data/luminator_dataset_augmented/m4/50m/0_0_-1_50m/mic1/15.wav\n",
            "Skipping already processed: /content/drive/MyDrive/sevenlumi_data/luminator_dataset_augmented/m4/50m/0_0_-1_50m/mic1/20.wav\n"
          ]
        },
        {
          "output_type": "stream",
          "name": "stderr",
          "text": [
            "\r  0%|          | 0/21 [00:00<?, ?it/s]"
          ]
        },
        {
          "output_type": "stream",
          "name": "stdout",
          "text": [
            "Skipping already processed: /content/drive/MyDrive/sevenlumi_data/luminator_dataset_augmented/m4/50m/0_0_-1_50m/mic2/3.wav\n",
            "Skipping already processed: /content/drive/MyDrive/sevenlumi_data/luminator_dataset_augmented/m4/50m/0_0_-1_50m/mic2/12.wav\n",
            "Skipping already processed: /content/drive/MyDrive/sevenlumi_data/luminator_dataset_augmented/m4/50m/0_0_-1_50m/mic2/8.wav\n",
            "Skipping already processed: /content/drive/MyDrive/sevenlumi_data/luminator_dataset_augmented/m4/50m/0_0_-1_50m/mic2/6.wav\n",
            "Skipping already processed: /content/drive/MyDrive/sevenlumi_data/luminator_dataset_augmented/m4/50m/0_0_-1_50m/mic2/5.wav\n",
            "Skipping already processed: /content/drive/MyDrive/sevenlumi_data/luminator_dataset_augmented/m4/50m/0_0_-1_50m/mic2/9.wav\n",
            "Skipping already processed: /content/drive/MyDrive/sevenlumi_data/luminator_dataset_augmented/m4/50m/0_0_-1_50m/mic2/4.wav\n"
          ]
        },
        {
          "output_type": "stream",
          "name": "stderr",
          "text": [
            "\r100%|██████████| 21/21 [00:00<00:00, 1209.38it/s]\n"
          ]
        },
        {
          "output_type": "stream",
          "name": "stdout",
          "text": [
            "Skipping already processed: /content/drive/MyDrive/sevenlumi_data/luminator_dataset_augmented/m4/50m/0_0_-1_50m/mic2/10.wav\n",
            "Skipping already processed: /content/drive/MyDrive/sevenlumi_data/luminator_dataset_augmented/m4/50m/0_0_-1_50m/mic2/7.wav\n",
            "Skipping already processed: /content/drive/MyDrive/sevenlumi_data/luminator_dataset_augmented/m4/50m/0_0_-1_50m/mic2/2.wav\n",
            "Skipping already processed: /content/drive/MyDrive/sevenlumi_data/luminator_dataset_augmented/m4/50m/0_0_-1_50m/mic2/11.wav\n",
            "Skipping already processed: /content/drive/MyDrive/sevenlumi_data/luminator_dataset_augmented/m4/50m/0_0_-1_50m/mic2/1.wav\n",
            "Skipping already processed: /content/drive/MyDrive/sevenlumi_data/luminator_dataset_augmented/m4/50m/0_0_-1_50m/mic2/13.wav\n",
            "Skipping already processed: /content/drive/MyDrive/sevenlumi_data/luminator_dataset_augmented/m4/50m/0_0_-1_50m/mic2/17.wav\n",
            "Skipping already processed: /content/drive/MyDrive/sevenlumi_data/luminator_dataset_augmented/m4/50m/0_0_-1_50m/mic2/21.wav\n",
            "Skipping already processed: /content/drive/MyDrive/sevenlumi_data/luminator_dataset_augmented/m4/50m/0_0_-1_50m/mic2/16.wav\n",
            "Skipping already processed: /content/drive/MyDrive/sevenlumi_data/luminator_dataset_augmented/m4/50m/0_0_-1_50m/mic2/14.wav\n",
            "Skipping already processed: /content/drive/MyDrive/sevenlumi_data/luminator_dataset_augmented/m4/50m/0_0_-1_50m/mic2/18.wav\n",
            "Skipping already processed: /content/drive/MyDrive/sevenlumi_data/luminator_dataset_augmented/m4/50m/0_0_-1_50m/mic2/19.wav\n",
            "Skipping already processed: /content/drive/MyDrive/sevenlumi_data/luminator_dataset_augmented/m4/50m/0_0_-1_50m/mic2/15.wav\n",
            "Skipping already processed: /content/drive/MyDrive/sevenlumi_data/luminator_dataset_augmented/m4/50m/0_0_-1_50m/mic2/20.wav\n"
          ]
        },
        {
          "output_type": "stream",
          "name": "stderr",
          "text": [
            "\r  0%|          | 0/21 [00:00<?, ?it/s]"
          ]
        },
        {
          "output_type": "stream",
          "name": "stdout",
          "text": [
            "Skipping already processed: /content/drive/MyDrive/sevenlumi_data/luminator_dataset_augmented/m4/50m/0_0_-1_50m/mic3/3.wav\n",
            "Skipping already processed: /content/drive/MyDrive/sevenlumi_data/luminator_dataset_augmented/m4/50m/0_0_-1_50m/mic3/12.wav\n",
            "Skipping already processed: /content/drive/MyDrive/sevenlumi_data/luminator_dataset_augmented/m4/50m/0_0_-1_50m/mic3/8.wav\n",
            "Skipping already processed: /content/drive/MyDrive/sevenlumi_data/luminator_dataset_augmented/m4/50m/0_0_-1_50m/mic3/6.wav\n",
            "Skipping already processed: /content/drive/MyDrive/sevenlumi_data/luminator_dataset_augmented/m4/50m/0_0_-1_50m/mic3/5.wav\n",
            "Skipping already processed: /content/drive/MyDrive/sevenlumi_data/luminator_dataset_augmented/m4/50m/0_0_-1_50m/mic3/9.wav\n",
            "Skipping already processed: /content/drive/MyDrive/sevenlumi_data/luminator_dataset_augmented/m4/50m/0_0_-1_50m/mic3/4.wav\n",
            "Skipping already processed: /content/drive/MyDrive/sevenlumi_data/luminator_dataset_augmented/m4/50m/0_0_-1_50m/mic3/10.wav\n",
            "Skipping already processed: /content/drive/MyDrive/sevenlumi_data/luminator_dataset_augmented/m4/50m/0_0_-1_50m/mic3/7.wav\n",
            "Skipping already processed: /content/drive/MyDrive/sevenlumi_data/luminator_dataset_augmented/m4/50m/0_0_-1_50m/mic3/2.wav\n",
            "Skipping already processed: /content/drive/MyDrive/sevenlumi_data/luminator_dataset_augmented/m4/50m/0_0_-1_50m/mic3/11.wav\n",
            "Skipping already processed: /content/drive/MyDrive/sevenlumi_data/luminator_dataset_augmented/m4/50m/0_0_-1_50m/mic3/1.wav\n",
            "Skipping already processed: /content/drive/MyDrive/sevenlumi_data/luminator_dataset_augmented/m4/50m/0_0_-1_50m/mic3/13.wav\n",
            "Skipping already processed: /content/drive/MyDrive/sevenlumi_data/luminator_dataset_augmented/m4/50m/0_0_-1_50m/mic3/17.wav\n",
            "Skipping already processed: /content/drive/MyDrive/sevenlumi_data/luminator_dataset_augmented/m4/50m/0_0_-1_50m/mic3/21.wav\n",
            "Skipping already processed: /content/drive/MyDrive/sevenlumi_data/luminator_dataset_augmented/m4/50m/0_0_-1_50m/mic3/16.wav\n",
            "Skipping already processed: /content/drive/MyDrive/sevenlumi_data/luminator_dataset_augmented/m4/50m/0_0_-1_50m/mic3/14.wav\n",
            "Skipping already processed: /content/drive/MyDrive/sevenlumi_data/luminator_dataset_augmented/m4/50m/0_0_-1_50m/mic3/18.wav\n"
          ]
        },
        {
          "output_type": "stream",
          "name": "stderr",
          "text": [
            "\r100%|██████████| 21/21 [00:00<00:00, 1143.53it/s]\n"
          ]
        },
        {
          "output_type": "stream",
          "name": "stdout",
          "text": [
            "Skipping already processed: /content/drive/MyDrive/sevenlumi_data/luminator_dataset_augmented/m4/50m/0_0_-1_50m/mic3/19.wav\n",
            "Skipping already processed: /content/drive/MyDrive/sevenlumi_data/luminator_dataset_augmented/m4/50m/0_0_-1_50m/mic3/15.wav\n",
            "Skipping already processed: /content/drive/MyDrive/sevenlumi_data/luminator_dataset_augmented/m4/50m/0_0_-1_50m/mic3/20.wav\n"
          ]
        },
        {
          "output_type": "stream",
          "name": "stderr",
          "text": [
            "\r  0%|          | 0/21 [00:00<?, ?it/s]"
          ]
        },
        {
          "output_type": "stream",
          "name": "stdout",
          "text": [
            "Skipping already processed: /content/drive/MyDrive/sevenlumi_data/luminator_dataset_augmented/m4/50m/0_0_-1_50m/mic4/3.wav\n",
            "Skipping already processed: /content/drive/MyDrive/sevenlumi_data/luminator_dataset_augmented/m4/50m/0_0_-1_50m/mic4/12.wav\n",
            "Skipping already processed: /content/drive/MyDrive/sevenlumi_data/luminator_dataset_augmented/m4/50m/0_0_-1_50m/mic4/8.wav\n"
          ]
        },
        {
          "output_type": "stream",
          "name": "stderr",
          "text": [
            "100%|██████████| 21/21 [00:25<00:00,  1.23s/it]\n",
            "0it [00:00, ?it/s]\n",
            "0it [00:00, ?it/s]\n",
            "100%|██████████| 19/19 [00:21<00:00,  1.14s/it]\n",
            "100%|██████████| 19/19 [00:20<00:00,  1.08s/it]\n",
            "100%|██████████| 19/19 [00:22<00:00,  1.16s/it]\n",
            "100%|██████████| 19/19 [00:32<00:00,  1.73s/it]\n",
            "0it [00:00, ?it/s]\n",
            "100%|██████████| 18/18 [00:20<00:00,  1.16s/it]\n",
            "100%|██████████| 18/18 [00:19<00:00,  1.11s/it]\n",
            "100%|██████████| 18/18 [00:20<00:00,  1.16s/it]\n",
            "100%|██████████| 18/18 [00:21<00:00,  1.17s/it]\n",
            "0it [00:00, ?it/s]\n",
            "100%|██████████| 20/20 [00:24<00:00,  1.20s/it]\n",
            "100%|██████████| 20/20 [00:22<00:00,  1.14s/it]\n",
            "100%|██████████| 20/20 [00:23<00:00,  1.17s/it]\n",
            "100%|██████████| 20/20 [00:22<00:00,  1.15s/it]\n",
            "0it [00:00, ?it/s]\n",
            "100%|██████████| 18/18 [00:20<00:00,  1.12s/it]\n",
            "100%|██████████| 18/18 [00:21<00:00,  1.19s/it]\n",
            "100%|██████████| 18/18 [00:20<00:00,  1.14s/it]\n",
            "100%|██████████| 18/18 [00:21<00:00,  1.18s/it]\n",
            "0it [00:00, ?it/s]\n",
            "0it [00:00, ?it/s]\n",
            "100%|██████████| 11/11 [00:12<00:00,  1.14s/it]\n",
            "100%|██████████| 11/11 [00:13<00:00,  1.19s/it]\n",
            "100%|██████████| 11/11 [00:12<00:00,  1.17s/it]\n",
            "100%|██████████| 11/11 [00:12<00:00,  1.13s/it]\n",
            "0it [00:00, ?it/s]\n",
            "100%|██████████| 31/31 [00:36<00:00,  1.18s/it]\n",
            "100%|██████████| 31/31 [00:34<00:00,  1.11s/it]\n",
            "100%|██████████| 31/31 [00:34<00:00,  1.10s/it]\n",
            "100%|██████████| 31/31 [00:35<00:00,  1.13s/it]\n",
            "0it [00:00, ?it/s]\n",
            " 95%|█████████▌| 20/21 [00:23<00:01,  1.14s/it]/usr/local/lib/python3.11/dist-packages/librosa/core/pitch.py:103: UserWarning: Trying to estimate tuning from empty frequency set.\n",
            "  return pitch_tuning(\n",
            "100%|██████████| 21/21 [00:24<00:00,  1.16s/it]\n",
            "100%|██████████| 21/21 [00:24<00:00,  1.16s/it]\n",
            "100%|██████████| 21/21 [00:24<00:00,  1.15s/it]\n",
            "100%|██████████| 21/21 [00:23<00:00,  1.13s/it]\n",
            "0it [00:00, ?it/s]\n",
            "100%|██████████| 13/13 [00:14<00:00,  1.12s/it]\n",
            "100%|██████████| 13/13 [00:14<00:00,  1.14s/it]\n",
            "100%|██████████| 13/13 [00:14<00:00,  1.12s/it]\n",
            "100%|██████████| 13/13 [00:16<00:00,  1.27s/it]\n",
            "0it [00:00, ?it/s]\n",
            "0it [00:00, ?it/s]\n",
            "100%|██████████| 22/22 [00:24<00:00,  1.13s/it]\n",
            "100%|██████████| 22/22 [00:24<00:00,  1.13s/it]\n",
            "100%|██████████| 22/22 [00:24<00:00,  1.11s/it]\n",
            "100%|██████████| 22/22 [00:25<00:00,  1.14s/it]\n",
            "0it [00:00, ?it/s]\n",
            "100%|██████████| 20/20 [00:21<00:00,  1.10s/it]\n",
            "100%|██████████| 20/20 [00:22<00:00,  1.13s/it]\n",
            "100%|██████████| 20/20 [00:22<00:00,  1.13s/it]\n",
            "100%|██████████| 20/20 [00:23<00:00,  1.19s/it]\n",
            "0it [00:00, ?it/s]\n",
            "100%|██████████| 19/19 [00:21<00:00,  1.15s/it]\n",
            "100%|██████████| 19/19 [00:21<00:00,  1.15s/it]\n",
            "100%|██████████| 19/19 [00:30<00:00,  1.60s/it]\n",
            "100%|██████████| 19/19 [00:21<00:00,  1.16s/it]\n",
            "0it [00:00, ?it/s]\n",
            "100%|██████████| 17/17 [00:20<00:00,  1.18s/it]\n",
            "100%|██████████| 17/17 [00:19<00:00,  1.16s/it]\n",
            "100%|██████████| 17/17 [00:19<00:00,  1.12s/it]\n",
            "100%|██████████| 17/17 [00:19<00:00,  1.15s/it]\n",
            "0it [00:00, ?it/s]\n",
            "0it [00:00, ?it/s]\n",
            "100%|██████████| 41/41 [00:47<00:00,  1.16s/it]\n",
            "100%|██████████| 41/41 [00:46<00:00,  1.13s/it]\n",
            "100%|██████████| 41/41 [00:47<00:00,  1.15s/it]\n",
            "100%|██████████| 41/41 [00:45<00:00,  1.12s/it]\n",
            "0it [00:00, ?it/s]\n",
            "0it [00:00, ?it/s]\n",
            "100%|██████████| 21/21 [00:24<00:00,  1.17s/it]\n",
            "100%|██████████| 21/21 [00:23<00:00,  1.14s/it]\n",
            "100%|██████████| 21/21 [00:24<00:00,  1.15s/it]\n",
            "100%|██████████| 21/21 [00:24<00:00,  1.19s/it]\n",
            "0it [00:00, ?it/s]\n",
            "100%|██████████| 23/23 [00:25<00:00,  1.10s/it]\n",
            "100%|██████████| 23/23 [00:25<00:00,  1.12s/it]\n",
            "100%|██████████| 23/23 [00:25<00:00,  1.11s/it]\n",
            "100%|██████████| 23/23 [00:25<00:00,  1.10s/it]\n",
            "0it [00:00, ?it/s]\n",
            "100%|██████████| 20/20 [00:21<00:00,  1.08s/it]\n",
            "100%|██████████| 20/20 [00:22<00:00,  1.12s/it]\n",
            "100%|██████████| 20/20 [00:23<00:00,  1.17s/it]\n",
            "100%|██████████| 20/20 [00:22<00:00,  1.10s/it]\n",
            "0it [00:00, ?it/s]\n",
            "100%|██████████| 19/19 [00:22<00:00,  1.17s/it]\n",
            "100%|██████████| 19/19 [00:21<00:00,  1.11s/it]\n",
            "100%|██████████| 19/19 [00:20<00:00,  1.10s/it]\n",
            "100%|██████████| 19/19 [00:21<00:00,  1.12s/it]\n"
          ]
        }
      ]
    },
    {
      "cell_type": "code",
      "source": [
        "import os\n",
        "import librosa\n",
        "import numpy as np\n",
        "import pandas as pd\n",
        "from tqdm import tqdm\n",
        "\n",
        "dataset_path = \"/content/drive/MyDrive/sevenlumi_data/luminator_dataset_augmented\"\n",
        "csv_output_path = \"/content/drive/MyDrive/sevenlumi_data/features.csv\"\n",
        "\n",
        "features_list = []\n",
        "\n",
        "def extract_features(y, sr):\n",
        "    zcr = np.mean(librosa.feature.zero_crossing_rate(y)[0])\n",
        "    ste = np.sum(y ** 2)\n",
        "    rms = np.mean(librosa.feature.rms(y=y)[0])\n",
        "    spec_centroid = np.mean(librosa.feature.spectral_centroid(y=y, sr=sr)[0])\n",
        "    rolloff = np.mean(librosa.feature.spectral_rolloff(y=y, sr=sr)[0])\n",
        "    flux = np.mean(librosa.onset.onset_strength(y=y, sr=sr))\n",
        "    mfccs = librosa.feature.mfcc(y=y, sr=sr, n_mfcc=5)\n",
        "    mfccs_mean = [np.mean(mfcc) for mfcc in mfccs]\n",
        "    chroma = librosa.feature.chroma_stft(y=y, sr=sr)\n",
        "    chroma_mean = [np.mean(c) for c in chroma[:4]]\n",
        "    peak_amp = np.max(np.abs(y))\n",
        "    return [zcr, ste, rms, spec_centroid, rolloff, flux] + mfccs_mean + chroma_mean + [peak_amp]\n",
        "\n",
        "for root, dirs, files in os.walk(dataset_path):\n",
        "    for file in tqdm(files):\n",
        "        if file.endswith(\".wav\"):\n",
        "            file_path = os.path.join(root, file)\n",
        "            parts = root.split(os.sep)\n",
        "            if len(parts) >= 5:\n",
        "                gun_type = parts[-4]\n",
        "                distance = parts[-3]\n",
        "                position = parts[-2]\n",
        "                mic = parts[-1]\n",
        "\n",
        "                mic_delays = {\"mic1\": 0.0, \"mic2\": 0.3, \"mic3\": 0.6, \"mic4\": 0.9}\n",
        "                mic_delay = mic_delays.get(mic, 0.0)\n",
        "\n",
        "                x, y_coord, z, _ = position.split('_')\n",
        "                x, y_coord, z = int(x), int(y_coord), int(z)\n",
        "            else:\n",
        "                continue\n",
        "\n",
        "            try:\n",
        "                y, sr = librosa.load(file_path, sr=None)\n",
        "                features = extract_features(y, sr)\n",
        "                features += [gun_type, distance, x, y_coord, z, mic, mic_delay]\n",
        "                features_list.append(features)\n",
        "            except Exception as e:\n",
        "                print(f\"Error processing {file_path}: {e}\")\n",
        "\n",
        "# Define columns\n",
        "columns = [\n",
        "    \"Zero_Crossing_Rate\", \"Short_Time_Energy\", \"RMS_Energy\", \"Spectral_Centroid\",\n",
        "    \"Spectral_RollOff\", \"Spectral_Flux\", \"MFCC_1\", \"MFCC_2\", \"MFCC_3\", \"MFCC_4\",\n",
        "    \"MFCC_5\", \"Chroma_1\", \"Chroma_2\", \"Chroma_3\", \"Chroma_4\", \"Peak_Amplitude\",\n",
        "    \"Gun_Type\", \"Distance\", \"X\", \"Y\", \"Z\", \"Mic\", \"Arrival_Time_Difference\"\n",
        "]\n",
        "\n",
        "# Save the features to CSV\n",
        "df = pd.DataFrame(features_list, columns=columns)\n",
        "df.to_csv(csv_output_path, index=False)\n",
        "\n",
        "print(f\"✅ CSV saved at: {csv_output_path}\")\n"
      ],
      "metadata": {
        "colab": {
          "base_uri": "https://localhost:8080/"
        },
        "id": "9UYMyQjIeOiU",
        "outputId": "0f0316f2-de9e-4afa-b2db-5c6551e0f621"
      },
      "execution_count": 3,
      "outputs": [
        {
          "output_type": "stream",
          "name": "stderr",
          "text": [
            "0it [00:00, ?it/s]\n",
            "0it [00:00, ?it/s]\n",
            "0it [00:00, ?it/s]\n",
            "0it [00:00, ?it/s]\n",
            "100%|██████████| 19/19 [00:04<00:00,  3.89it/s]\n",
            "100%|██████████| 19/19 [00:02<00:00,  8.04it/s]\n",
            "100%|██████████| 19/19 [00:02<00:00,  8.06it/s]\n",
            "100%|██████████| 19/19 [00:03<00:00,  4.92it/s]\n",
            "0it [00:00, ?it/s]\n",
            "100%|██████████| 25/25 [00:05<00:00,  4.48it/s]\n",
            "100%|██████████| 25/25 [00:03<00:00,  8.30it/s]\n",
            "100%|██████████| 25/25 [00:03<00:00,  8.27it/s]\n",
            "100%|██████████| 25/25 [00:03<00:00,  7.72it/s]\n",
            "0it [00:00, ?it/s]\n",
            "100%|██████████| 18/18 [00:04<00:00,  3.93it/s]\n",
            "100%|██████████| 18/18 [00:02<00:00,  7.61it/s]\n",
            "100%|██████████| 18/18 [00:04<00:00,  4.12it/s]\n",
            "100%|██████████| 18/18 [00:02<00:00,  6.75it/s]\n",
            "0it [00:00, ?it/s]\n",
            "100%|██████████| 25/25 [00:04<00:00,  5.46it/s]\n",
            "100%|██████████| 25/25 [00:03<00:00,  6.88it/s]\n",
            "100%|██████████| 25/25 [00:02<00:00,  8.97it/s]\n",
            "100%|██████████| 25/25 [00:02<00:00,  8.76it/s]\n",
            "0it [00:00, ?it/s]\n",
            "0it [00:00, ?it/s]\n",
            "100%|██████████| 16/16 [00:01<00:00,  8.57it/s]\n",
            "100%|██████████| 16/16 [00:03<00:00,  4.23it/s]\n",
            "100%|██████████| 16/16 [00:02<00:00,  6.44it/s]\n",
            "100%|██████████| 16/16 [00:01<00:00,  8.51it/s]\n",
            "0it [00:00, ?it/s]\n",
            "100%|██████████| 14/14 [00:01<00:00,  9.00it/s]\n",
            "100%|██████████| 14/14 [00:01<00:00,  8.21it/s]\n",
            "100%|██████████| 14/14 [00:01<00:00,  8.02it/s]\n",
            "100%|██████████| 14/14 [00:01<00:00,  8.26it/s]\n",
            "0it [00:00, ?it/s]\n",
            "100%|██████████| 10/10 [00:02<00:00,  4.90it/s]\n",
            "100%|██████████| 10/10 [00:02<00:00,  3.80it/s]\n",
            "100%|██████████| 10/10 [00:01<00:00,  6.89it/s]\n",
            "100%|██████████| 10/10 [00:01<00:00,  8.40it/s]\n",
            "0it [00:00, ?it/s]\n",
            "100%|██████████| 19/19 [00:02<00:00,  8.83it/s]\n",
            "100%|██████████| 19/19 [00:02<00:00,  8.49it/s]\n",
            "100%|██████████| 19/19 [00:02<00:00,  8.69it/s]\n",
            "100%|██████████| 19/19 [00:03<00:00,  5.81it/s]\n",
            "0it [00:00, ?it/s]\n",
            "0it [00:00, ?it/s]\n",
            "100%|██████████| 24/24 [00:04<00:00,  5.52it/s]\n",
            "100%|██████████| 24/24 [00:02<00:00,  8.47it/s]\n",
            "100%|██████████| 24/24 [00:02<00:00,  8.60it/s]\n",
            "100%|██████████| 24/24 [00:02<00:00,  8.24it/s]\n",
            "0it [00:00, ?it/s]\n",
            "100%|██████████| 19/19 [00:04<00:00,  4.09it/s]\n",
            "100%|██████████| 19/19 [00:02<00:00,  8.52it/s]\n",
            "100%|██████████| 19/19 [00:02<00:00,  8.71it/s]\n",
            "100%|██████████| 19/19 [00:02<00:00,  8.37it/s]\n",
            "0it [00:00, ?it/s]\n",
            "100%|██████████| 27/27 [00:03<00:00,  8.33it/s]\n",
            "100%|██████████| 27/27 [00:05<00:00,  4.72it/s]\n",
            "100%|██████████| 27/27 [00:03<00:00,  8.49it/s]\n",
            "100%|██████████| 27/27 [00:03<00:00,  8.36it/s]\n",
            "0it [00:00, ?it/s]\n",
            "100%|██████████| 20/20 [00:02<00:00,  8.72it/s]\n",
            "100%|██████████| 20/20 [00:05<00:00,  3.95it/s]\n",
            "100%|██████████| 20/20 [00:02<00:00,  8.74it/s]\n",
            "100%|██████████| 20/20 [00:02<00:00,  8.72it/s]\n",
            "0it [00:00, ?it/s]\n",
            "0it [00:00, ?it/s]\n",
            "100%|██████████| 10/10 [00:01<00:00,  8.85it/s]\n",
            "100%|██████████| 10/10 [00:01<00:00,  9.20it/s]\n",
            "100%|██████████| 10/10 [00:01<00:00,  8.97it/s]\n",
            "100%|██████████| 10/10 [00:01<00:00,  9.56it/s]\n",
            "0it [00:00, ?it/s]\n",
            "100%|██████████| 15/15 [00:02<00:00,  5.98it/s]\n",
            "100%|██████████| 15/15 [00:03<00:00,  4.45it/s]\n",
            "100%|██████████| 15/15 [00:01<00:00,  9.01it/s]\n",
            "100%|██████████| 15/15 [00:01<00:00,  9.19it/s]\n",
            "0it [00:00, ?it/s]\n",
            "100%|██████████| 18/18 [00:02<00:00,  8.93it/s]\n",
            "100%|██████████| 18/18 [00:02<00:00,  8.98it/s]\n",
            "100%|██████████| 18/18 [00:02<00:00,  8.93it/s]\n",
            "100%|██████████| 18/18 [00:03<00:00,  4.70it/s]\n",
            "0it [00:00, ?it/s]\n",
            "100%|██████████| 12/12 [00:02<00:00,  5.86it/s]\n",
            "100%|██████████| 12/12 [00:01<00:00,  8.86it/s]\n",
            "100%|██████████| 12/12 [00:01<00:00,  7.67it/s]\n",
            "100%|██████████| 12/12 [00:01<00:00,  9.29it/s]\n",
            "0it [00:00, ?it/s]\n",
            "0it [00:00, ?it/s]\n",
            "100%|██████████| 12/12 [00:01<00:00,  8.76it/s]\n",
            "100%|██████████| 12/12 [00:01<00:00,  8.83it/s]\n",
            "100%|██████████| 12/12 [00:01<00:00,  8.57it/s]\n",
            "100%|██████████| 12/12 [00:01<00:00,  6.35it/s]\n",
            "0it [00:00, ?it/s]\n",
            "100%|██████████| 17/17 [00:03<00:00,  4.26it/s]\n",
            "100%|██████████| 17/17 [00:01<00:00,  8.61it/s]\n",
            "100%|██████████| 17/17 [00:01<00:00,  8.89it/s]\n",
            "100%|██████████| 17/17 [00:01<00:00,  9.10it/s]\n",
            "0it [00:00, ?it/s]\n",
            "100%|██████████| 13/13 [00:01<00:00,  8.44it/s]\n",
            "100%|██████████| 13/13 [00:01<00:00,  8.54it/s]\n",
            "100%|██████████| 13/13 [00:01<00:00,  6.63it/s]\n",
            "100%|██████████| 13/13 [00:03<00:00,  3.90it/s]\n",
            "0it [00:00, ?it/s]\n",
            "100%|██████████| 16/16 [00:01<00:00,  8.03it/s]\n",
            "100%|██████████| 16/16 [00:01<00:00,  9.05it/s]\n",
            "100%|██████████| 16/16 [00:01<00:00,  8.93it/s]\n",
            "100%|██████████| 16/16 [00:01<00:00,  8.90it/s]\n",
            "0it [00:00, ?it/s]\n",
            "0it [00:00, ?it/s]\n",
            "100%|██████████| 25/25 [00:04<00:00,  5.41it/s]\n",
            "100%|██████████| 25/25 [00:05<00:00,  4.91it/s]\n",
            "100%|██████████| 25/25 [00:03<00:00,  6.76it/s]\n",
            "100%|██████████| 25/25 [00:03<00:00,  6.83it/s]\n",
            "0it [00:00, ?it/s]\n",
            "0it [00:00, ?it/s]\n",
            "0it [00:00, ?it/s]\n",
            "100%|██████████| 19/19 [00:05<00:00,  3.76it/s]\n",
            "100%|██████████| 19/19 [00:02<00:00,  7.50it/s]\n",
            "100%|██████████| 19/19 [00:02<00:00,  7.48it/s]\n",
            "100%|██████████| 19/19 [00:02<00:00,  7.45it/s]\n",
            "0it [00:00, ?it/s]\n",
            "100%|██████████| 19/19 [00:02<00:00,  7.64it/s]\n",
            "100%|██████████| 19/19 [00:04<00:00,  4.00it/s]\n",
            "100%|██████████| 19/19 [00:02<00:00,  8.09it/s]\n",
            "100%|██████████| 19/19 [00:02<00:00,  7.90it/s]\n",
            "0it [00:00, ?it/s]\n",
            "100%|██████████| 17/17 [00:02<00:00,  8.03it/s]\n",
            "100%|██████████| 17/17 [00:02<00:00,  8.14it/s]\n",
            "100%|██████████| 17/17 [00:03<00:00,  5.25it/s]\n",
            "100%|██████████| 17/17 [00:03<00:00,  4.87it/s]\n",
            "0it [00:00, ?it/s]\n",
            "100%|██████████| 20/20 [00:02<00:00,  7.99it/s]\n",
            "100%|██████████| 20/20 [00:02<00:00,  7.93it/s]\n",
            "100%|██████████| 20/20 [00:02<00:00,  7.91it/s]\n",
            "100%|██████████| 20/20 [00:03<00:00,  5.11it/s]\n",
            "0it [00:00, ?it/s]\n",
            "0it [00:00, ?it/s]\n",
            "100%|██████████| 22/22 [00:03<00:00,  5.63it/s]\n",
            "100%|██████████| 22/22 [00:02<00:00,  8.15it/s]\n",
            "100%|██████████| 22/22 [00:02<00:00,  8.19it/s]\n",
            "100%|██████████| 22/22 [00:02<00:00,  8.19it/s]\n",
            "0it [00:00, ?it/s]\n",
            "100%|██████████| 19/19 [00:04<00:00,  3.97it/s]\n",
            "100%|██████████| 19/19 [00:02<00:00,  8.27it/s]\n",
            "100%|██████████| 19/19 [00:02<00:00,  8.41it/s]\n",
            "100%|██████████| 19/19 [00:02<00:00,  8.37it/s]\n",
            "0it [00:00, ?it/s]\n",
            "100%|██████████| 20/20 [00:02<00:00,  8.38it/s]\n",
            "100%|██████████| 20/20 [00:04<00:00,  4.29it/s]\n",
            "100%|██████████| 20/20 [00:02<00:00,  7.65it/s]\n",
            "100%|██████████| 20/20 [00:02<00:00,  8.34it/s]\n",
            "0it [00:00, ?it/s]\n",
            "100%|██████████| 17/17 [00:02<00:00,  7.91it/s]\n",
            "100%|██████████| 17/17 [00:02<00:00,  7.98it/s]\n",
            "100%|██████████| 17/17 [00:02<00:00,  5.69it/s]\n",
            "100%|██████████| 17/17 [00:03<00:00,  4.57it/s]\n",
            "0it [00:00, ?it/s]\n",
            "0it [00:00, ?it/s]\n",
            "100%|██████████| 21/21 [00:02<00:00,  7.40it/s]\n",
            "100%|██████████| 21/21 [00:02<00:00,  7.28it/s]\n",
            "100%|██████████| 21/21 [00:02<00:00,  7.54it/s]\n",
            "100%|██████████| 21/21 [00:04<00:00,  4.26it/s]\n",
            "0it [00:00, ?it/s]\n",
            "100%|██████████| 21/21 [00:03<00:00,  6.82it/s]\n",
            "100%|██████████| 21/21 [00:02<00:00,  7.57it/s]\n",
            "100%|██████████| 21/21 [00:02<00:00,  7.72it/s]\n",
            "100%|██████████| 21/21 [00:03<00:00,  6.26it/s]\n",
            "0it [00:00, ?it/s]\n",
            "100%|██████████| 17/17 [00:04<00:00,  3.95it/s]\n",
            "100%|██████████| 17/17 [00:02<00:00,  7.02it/s]\n",
            "100%|██████████| 17/17 [00:02<00:00,  7.82it/s]\n",
            "100%|██████████| 17/17 [00:02<00:00,  7.88it/s]\n",
            "0it [00:00, ?it/s]\n",
            "100%|██████████| 21/21 [00:02<00:00,  8.10it/s]\n",
            "100%|██████████| 21/21 [00:05<00:00,  4.06it/s]\n",
            "100%|██████████| 21/21 [00:02<00:00,  8.19it/s]\n",
            "100%|██████████| 21/21 [00:02<00:00,  7.94it/s]\n",
            "0it [00:00, ?it/s]\n",
            "0it [00:00, ?it/s]\n",
            "100%|██████████| 21/21 [00:02<00:00,  8.04it/s]\n",
            "100%|██████████| 21/21 [00:03<00:00,  5.81it/s]\n",
            "100%|██████████| 21/21 [00:04<00:00,  5.01it/s]\n",
            "100%|██████████| 21/21 [00:02<00:00,  7.87it/s]\n",
            "0it [00:00, ?it/s]\n",
            "100%|██████████| 17/17 [00:02<00:00,  8.03it/s]\n",
            "100%|██████████| 17/17 [00:02<00:00,  8.19it/s]\n",
            "100%|██████████| 17/17 [00:02<00:00,  6.68it/s]\n",
            "100%|██████████| 17/17 [00:04<00:00,  4.21it/s]\n",
            "0it [00:00, ?it/s]\n",
            "100%|██████████| 26/26 [00:03<00:00,  7.75it/s]\n",
            "100%|██████████| 26/26 [00:03<00:00,  7.75it/s]\n",
            "100%|██████████| 26/26 [00:03<00:00,  7.07it/s]\n",
            "100%|██████████| 26/26 [00:05<00:00,  4.77it/s]\n",
            "0it [00:00, ?it/s]\n",
            "100%|██████████| 22/22 [00:02<00:00,  7.77it/s]\n",
            "100%|██████████| 22/22 [00:02<00:00,  7.77it/s]\n",
            "100%|██████████| 22/22 [00:02<00:00,  7.80it/s]\n",
            "100%|██████████| 22/22 [00:05<00:00,  4.00it/s]\n",
            "0it [00:00, ?it/s]\n",
            "0it [00:00, ?it/s]\n",
            "100%|██████████| 20/20 [00:02<00:00,  7.71it/s]\n",
            "100%|██████████| 20/20 [00:02<00:00,  7.55it/s]\n",
            "100%|██████████| 20/20 [00:02<00:00,  7.65it/s]\n",
            "100%|██████████| 20/20 [00:03<00:00,  5.40it/s]\n",
            "0it [00:00, ?it/s]\n",
            "100%|██████████| 19/19 [00:03<00:00,  5.10it/s]\n",
            "100%|██████████| 19/19 [00:02<00:00,  8.13it/s]\n",
            "100%|██████████| 19/19 [00:02<00:00,  8.20it/s]\n",
            "100%|██████████| 19/19 [00:02<00:00,  7.83it/s]\n",
            "0it [00:00, ?it/s]\n",
            "100%|██████████| 19/19 [00:03<00:00,  5.61it/s]\n",
            "100%|██████████| 19/19 [00:04<00:00,  4.56it/s]\n",
            "100%|██████████| 19/19 [00:02<00:00,  7.78it/s]\n",
            "100%|██████████| 19/19 [00:02<00:00,  7.70it/s]\n",
            "0it [00:00, ?it/s]\n",
            "100%|██████████| 21/21 [00:02<00:00,  7.60it/s]\n",
            "100%|██████████| 21/21 [00:04<00:00,  4.52it/s]\n",
            "100%|██████████| 21/21 [00:03<00:00,  6.60it/s]\n",
            "100%|██████████| 21/21 [00:02<00:00,  7.65it/s]\n",
            "0it [00:00, ?it/s]\n",
            "0it [00:00, ?it/s]\n",
            "100%|██████████| 33/33 [00:04<00:00,  7.37it/s]\n",
            "100%|██████████| 33/33 [00:06<00:00,  4.82it/s]\n",
            "100%|██████████| 33/33 [00:04<00:00,  7.42it/s]\n",
            "100%|██████████| 33/33 [00:04<00:00,  6.89it/s]\n",
            "0it [00:00, ?it/s]\n",
            "0it [00:00, ?it/s]\n",
            "0it [00:00, ?it/s]\n",
            "100%|██████████| 13/13 [00:03<00:00,  3.56it/s]\n",
            "100%|██████████| 13/13 [00:01<00:00,  6.98it/s]\n",
            "100%|██████████| 13/13 [00:01<00:00,  7.44it/s]\n",
            "100%|██████████| 13/13 [00:01<00:00,  7.42it/s]\n",
            "0it [00:00, ?it/s]\n",
            "100%|██████████| 13/13 [00:01<00:00,  7.29it/s]\n",
            "100%|██████████| 13/13 [00:01<00:00,  7.07it/s]\n",
            "100%|██████████| 13/13 [00:02<00:00,  5.06it/s]\n",
            "100%|██████████| 13/13 [00:03<00:00,  3.83it/s]\n",
            "0it [00:00, ?it/s]\n",
            "100%|██████████| 15/15 [00:02<00:00,  7.20it/s]\n",
            "100%|██████████| 15/15 [00:02<00:00,  7.48it/s]\n",
            "100%|██████████| 15/15 [00:01<00:00,  7.54it/s]\n",
            "100%|██████████| 15/15 [00:02<00:00,  7.48it/s]\n",
            "0it [00:00, ?it/s]\n",
            "100%|██████████| 21/21 [00:03<00:00,  5.71it/s]\n",
            "100%|██████████| 21/21 [00:04<00:00,  5.20it/s]\n",
            "100%|██████████| 21/21 [00:02<00:00,  7.91it/s]\n",
            "100%|██████████| 21/21 [00:02<00:00,  7.81it/s]\n",
            "0it [00:00, ?it/s]\n",
            "0it [00:00, ?it/s]\n",
            "100%|██████████| 19/19 [00:02<00:00,  7.54it/s]\n",
            "100%|██████████| 19/19 [00:05<00:00,  3.78it/s]\n",
            "100%|██████████| 19/19 [00:02<00:00,  7.68it/s]\n",
            "100%|██████████| 19/19 [00:02<00:00,  7.50it/s]\n",
            "0it [00:00, ?it/s]\n",
            "100%|██████████| 18/18 [00:02<00:00,  7.92it/s]\n",
            "100%|██████████| 18/18 [00:02<00:00,  7.43it/s]\n",
            "100%|██████████| 18/18 [00:04<00:00,  3.69it/s]\n",
            "100%|██████████| 18/18 [00:02<00:00,  7.60it/s]\n",
            "0it [00:00, ?it/s]\n",
            "100%|██████████| 20/20 [00:02<00:00,  7.55it/s]\n",
            "100%|██████████| 20/20 [00:02<00:00,  7.35it/s]\n",
            "100%|██████████| 20/20 [00:03<00:00,  6.39it/s]\n",
            "100%|██████████| 20/20 [00:04<00:00,  4.09it/s]\n",
            "0it [00:00, ?it/s]\n",
            "100%|██████████| 18/18 [00:02<00:00,  7.00it/s]\n",
            "100%|██████████| 18/18 [00:02<00:00,  7.38it/s]\n",
            "100%|██████████| 18/18 [00:02<00:00,  7.18it/s]\n",
            "100%|██████████| 18/18 [00:03<00:00,  4.81it/s]\n",
            "0it [00:00, ?it/s]\n",
            "0it [00:00, ?it/s]\n",
            "100%|██████████| 11/11 [00:02<00:00,  4.07it/s]\n",
            "100%|██████████| 11/11 [00:01<00:00,  7.06it/s]\n",
            "100%|██████████| 11/11 [00:01<00:00,  7.16it/s]\n",
            "100%|██████████| 11/11 [00:01<00:00,  6.96it/s]\n",
            "0it [00:00, ?it/s]\n",
            "100%|██████████| 31/31 [00:04<00:00,  7.44it/s]\n",
            "100%|██████████| 31/31 [00:06<00:00,  4.73it/s]\n",
            "100%|██████████| 31/31 [00:04<00:00,  7.63it/s]\n",
            "100%|██████████| 31/31 [00:04<00:00,  7.66it/s]\n",
            "0it [00:00, ?it/s]\n",
            "100%|██████████| 21/21 [00:05<00:00,  3.76it/s]\n",
            "100%|██████████| 21/21 [00:03<00:00,  6.69it/s]\n",
            "100%|██████████| 21/21 [00:03<00:00,  6.73it/s]\n",
            "100%|██████████| 21/21 [00:03<00:00,  6.70it/s]\n",
            "0it [00:00, ?it/s]\n",
            "100%|██████████| 13/13 [00:03<00:00,  3.98it/s]\n",
            "100%|██████████| 13/13 [00:02<00:00,  4.80it/s]\n",
            "100%|██████████| 13/13 [00:01<00:00,  7.29it/s]\n",
            "100%|██████████| 13/13 [00:01<00:00,  7.20it/s]\n",
            "0it [00:00, ?it/s]\n",
            "0it [00:00, ?it/s]\n",
            "100%|██████████| 22/22 [00:03<00:00,  7.14it/s]\n",
            "100%|██████████| 22/22 [00:03<00:00,  5.64it/s]\n",
            "100%|██████████| 22/22 [00:04<00:00,  4.80it/s]\n",
            "100%|██████████| 22/22 [00:03<00:00,  7.31it/s]\n",
            "0it [00:00, ?it/s]\n",
            "100%|██████████| 20/20 [00:02<00:00,  7.85it/s]\n",
            "100%|██████████| 20/20 [00:07<00:00,  2.59it/s]\n",
            "100%|██████████| 20/20 [00:03<00:00,  5.94it/s]\n",
            "100%|██████████| 20/20 [00:02<00:00,  7.41it/s]\n",
            "0it [00:00, ?it/s]\n",
            "100%|██████████| 19/19 [00:02<00:00,  7.33it/s]\n",
            "100%|██████████| 19/19 [00:02<00:00,  7.43it/s]\n",
            "100%|██████████| 19/19 [00:04<00:00,  3.86it/s]\n",
            "100%|██████████| 19/19 [00:02<00:00,  7.62it/s]\n",
            "0it [00:00, ?it/s]\n",
            "100%|██████████| 17/17 [00:02<00:00,  6.94it/s]\n",
            "100%|██████████| 17/17 [00:02<00:00,  7.19it/s]\n",
            "100%|██████████| 17/17 [00:02<00:00,  7.13it/s]\n",
            "100%|██████████| 17/17 [00:04<00:00,  3.41it/s]\n",
            "0it [00:00, ?it/s]\n",
            "0it [00:00, ?it/s]\n",
            "100%|██████████| 41/41 [00:05<00:00,  6.96it/s]\n",
            "100%|██████████| 41/41 [00:07<00:00,  5.15it/s]\n",
            "100%|██████████| 41/41 [00:06<00:00,  6.50it/s]\n",
            "100%|██████████| 41/41 [00:07<00:00,  5.50it/s]\n",
            "0it [00:00, ?it/s]\n",
            "0it [00:00, ?it/s]\n",
            "100%|██████████| 21/21 [00:03<00:00,  5.51it/s]\n",
            "100%|██████████| 21/21 [00:03<00:00,  6.94it/s]\n",
            "100%|██████████| 21/21 [00:03<00:00,  6.98it/s]\n",
            "100%|██████████| 21/21 [00:04<00:00,  5.00it/s]\n",
            "0it [00:00, ?it/s]\n",
            "100%|██████████| 23/23 [00:04<00:00,  5.40it/s]\n",
            "100%|██████████| 23/23 [00:03<00:00,  7.35it/s]\n",
            "100%|██████████| 23/23 [00:03<00:00,  7.37it/s]\n",
            "100%|██████████| 23/23 [00:04<00:00,  4.74it/s]\n",
            "0it [00:00, ?it/s]\n",
            "100%|██████████| 20/20 [00:03<00:00,  5.37it/s]\n",
            "100%|██████████| 20/20 [00:02<00:00,  6.95it/s]\n",
            "100%|██████████| 20/20 [00:02<00:00,  6.87it/s]\n",
            "100%|██████████| 20/20 [00:03<00:00,  5.41it/s]\n",
            "0it [00:00, ?it/s]\n",
            "100%|██████████| 19/19 [00:04<00:00,  4.44it/s]\n",
            "100%|██████████| 19/19 [00:02<00:00,  6.94it/s]\n",
            "100%|██████████| 19/19 [00:02<00:00,  6.85it/s]\n",
            "100%|██████████| 19/19 [00:02<00:00,  7.02it/s]\n"
          ]
        },
        {
          "output_type": "stream",
          "name": "stdout",
          "text": [
            "✅ CSV saved at: /content/drive/MyDrive/sevenlumi_data/features.csv\n"
          ]
        }
      ]
    },
    {
      "cell_type": "code",
      "source": [
        "import pandas as pd\n",
        "\n",
        "csv_output_path = \"/content/drive/MyDrive/sevenlumi_data/features.csv\"\n",
        "\n",
        "# Check if the CSV file exists and then load and display it\n",
        "try:\n",
        "    df = pd.read_csv(csv_output_path)\n",
        "    print(\"✅ CSV loaded successfully!\")\n",
        "    print(df.head())  # Show the first few rows\n",
        "except FileNotFoundError:\n",
        "    print(\"❌ CSV file not found at the specified path.\")\n"
      ],
      "metadata": {
        "colab": {
          "base_uri": "https://localhost:8080/"
        },
        "id": "3pxx0NtjuBlx",
        "outputId": "d3c5cf48-9e53-4585-fa53-b551effdeb76"
      },
      "execution_count": 4,
      "outputs": [
        {
          "output_type": "stream",
          "name": "stdout",
          "text": [
            "✅ CSV loaded successfully!\n",
            "   Zero_Crossing_Rate  Short_Time_Energy  RMS_Energy  Spectral_Centroid  \\\n",
            "0            0.054821          14.849542    0.002813        1988.674180   \n",
            "1            0.035410          15.071291    0.004083        1363.876230   \n",
            "2            0.056951          39.743680    0.004909        1969.171155   \n",
            "3            0.039497          22.373720    0.005530        1432.087656   \n",
            "4            0.037510           0.229044    0.000990        1699.481072   \n",
            "\n",
            "   Spectral_RollOff  Spectral_Flux    MFCC_1     MFCC_2     MFCC_3     MFCC_4  \\\n",
            "0       3142.732858       0.982967 -564.2160  140.38754  -1.901647  -9.874741   \n",
            "1       2127.584104       0.941592 -551.0821  159.92686  26.958770  13.030758   \n",
            "2       3164.563143       0.950631 -527.8832  122.47716  -0.817194   1.105029   \n",
            "3       2361.629207       0.971032 -514.2828  168.61864  11.448666   6.660443   \n",
            "4       2786.505513       1.138498 -650.2500  197.85033 -20.281986  21.935234   \n",
            "\n",
            "   ...  Chroma_3  Chroma_4  Peak_Amplitude  Gun_Type  Distance  X  Y  Z   Mic  \\\n",
            "0  ...  0.620152  0.607687        0.285934       m24      600m  0  0  1  mic1   \n",
            "1  ...  0.566065  0.553714        0.302963       m24      600m  0  0  1  mic1   \n",
            "2  ...  0.568458  0.560537        0.502991       m24      600m  0  0  1  mic1   \n",
            "3  ...  0.512788  0.508036        0.347336       m24      600m  0  0  1  mic1   \n",
            "4  ...  0.554871  0.593695        0.020584       m24      600m  0  0  1  mic1   \n",
            "\n",
            "   Arrival_Time_Difference  \n",
            "0                      0.0  \n",
            "1                      0.0  \n",
            "2                      0.0  \n",
            "3                      0.0  \n",
            "4                      0.0  \n",
            "\n",
            "[5 rows x 23 columns]\n"
          ]
        }
      ]
    }
  ]
}